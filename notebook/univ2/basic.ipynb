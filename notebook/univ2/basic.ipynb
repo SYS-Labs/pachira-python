{
 "cells": [
  {
   "cell_type": "code",
   "execution_count": 91,
   "id": "a148351b-799c-4ed4-a599-a3d58b02368d",
   "metadata": {},
   "outputs": [],
   "source": [
    "import os\n",
    "import time\n",
    "\n",
    "from web3 import HTTPProvider, Web3\n",
    "\n",
    "from eth_defi.abi import get_contract\n",
    "from eth_defi.chain import install_chain_middleware\n",
    "from eth_defi.event_reader.filter import Filter\n",
    "from eth_defi.event_reader.reader import read_events, LogResult\n",
    "from eth_defi.event_reader.reorganisation_monitor import JSONRPCReorganisationMonitor"
   ]
  },
  {
   "cell_type": "code",
   "execution_count": 123,
   "id": "7d19f260-8c5e-48d9-9f4d-b4042a077351",
   "metadata": {},
   "outputs": [],
   "source": [
    "from eth_defi.abi import get_contract"
   ]
  },
  {
   "cell_type": "code",
   "execution_count": 92,
   "id": "180933f3-ff43-408e-9923-dbae1dbad49c",
   "metadata": {},
   "outputs": [],
   "source": [
    "json_rpc_url = os.environ.get(\"JSON_RPC_POLYGON\", \"https://polygon-rpc.com\")\n",
    "web3 = Web3(HTTPProvider(json_rpc_url))\n",
    "web3.middleware_onion.clear()\n",
    "install_chain_middleware(web3)\n",
    "\n",
    "# Get contracts\n",
    "Pair = get_contract(web3, \"sushi/UniswapV2Pair.json\")\n",
    "filter = Filter.create_filter(address=None, event_types=[Pair.events.Swap])  # Listen events from any smart contract"
   ]
  },
  {
   "cell_type": "code",
   "execution_count": 93,
   "id": "1587f11b-1491-4360-94e1-47c76bc91516",
   "metadata": {},
   "outputs": [],
   "source": [
    "reorg_mon = JSONRPCReorganisationMonitor(web3, check_depth=3)\n",
    "# Get the headers of last 5 blocks before starting\n",
    "reorg_mon.load_initial_block_headers(block_count=5)\n",
    "processed_events = set()\n",
    "latest_block = reorg_mon.get_last_block_live()\n",
    "chain_reorg_resolution = reorg_mon.update_chain()\n",
    "start, end = chain_reorg_resolution.get_read_range()"
   ]
  },
  {
   "cell_type": "code",
   "execution_count": 94,
   "id": "3a65b330-0bb9-4b2a-82a5-9976ac48d1e3",
   "metadata": {},
   "outputs": [],
   "source": [
    "start = start - 10"
   ]
  },
  {
   "cell_type": "code",
   "execution_count": 86,
   "id": "d7ff28ff-f764-4525-ad66-0c05b8e57a16",
   "metadata": {},
   "outputs": [],
   "source": [
    "from eth_defi.event_reader.conversion import decode_data, convert_uint256_hex_string_to_address, convert_uint256_bytes_to_address, convert_int256_bytes_to_int"
   ]
  },
  {
   "cell_type": "code",
   "execution_count": 95,
   "id": "757f7ca1-2e4f-427d-a497-7d9dd42d8838",
   "metadata": {},
   "outputs": [
    {
     "name": "stdout",
     "output_type": "stream",
     "text": [
      "Swap at block:60,234,711 tx:0xbe23aac214c4c4311f8345606cafcddb28e686fb85ee5f4c0b5899d4bfb6c261 pair:0x0000000000000000000000000000000000000000\n",
      "Swap at block:60,234,711 tx:0x89e3346f92261ea682ce3d334ca975d13e33fdd174b5520429573e20af9faa74 pair:0x0000000000000000000000000000000000000000\n",
      "Swap at block:60,234,713 tx:0x5efbfa4d428146d2e7050b6a7633d9ae9867e1a8522a2a943bb5ea2717a8512b pair:0x00000000000000000000000000000000046a6775\n",
      "Swap at block:60,234,715 tx:0xdf20bdb3fd334dd0aae5ceeb9b3496218244e0b905cc6ce988d8ebf78ddbad45 pair:0x000000000000000000000000000000000362b9Ae\n",
      "Swap at block:60,234,716 tx:0x0cba3b767c0dc84c77fa46b6a9138b06c59426da5c6a45e1b0311cc9922e0ace pair:0x0000000000000000000000000000000000000000\n",
      "Swap at block:60,234,716 tx:0xe9938c4498896409c78fe5d5c8d2fcf17a64801587db7e58ba9a8363c41c9a30 pair:0x00000000000000000000000028F72DB0F216A7E5\n",
      "Swap at block:60,234,716 tx:0xe9938c4498896409c78fe5d5c8d2fcf17a64801587db7e58ba9a8363c41c9a30 pair:0x00000000000000000000000083fc4C26045b3157\n",
      "Swap at block:60,234,716 tx:0x24c270d5a921ac0993e7270c9fef73cebfecb6265bb0e6c5cbede40f1cfa1519 pair:0x00000000000000000000000098F1589f86627A30\n",
      "Swap at block:60,234,716 tx:0x23ec8864019a5a16b632d930a2913bc164d1d6820aca5454eb71382c08a524ce pair:0x0000000000000000000000000000000000000000\n",
      "Swap at block:60,234,716 tx:0x23ec8864019a5a16b632d930a2913bc164d1d6820aca5454eb71382c08a524ce pair:0x0000000000000000000000000000000000000000\n",
      "Swap at block:60,234,717 tx:0x10b5e3ad1ac26701c56a993820c454d3c9d697b24e31c072e924233d8a438707 pair:0x0000000000000000000000000000000000000000\n",
      "Swap at block:60,234,717 tx:0x10b5e3ad1ac26701c56a993820c454d3c9d697b24e31c072e924233d8a438707 pair:0x0000000000000000000000000000000000000000\n",
      "Swap at block:60,234,717 tx:0x10b5e3ad1ac26701c56a993820c454d3c9d697b24e31c072e924233d8a438707 pair:0x0000000000000000000000000000000000000000\n",
      "Swap at block:60,234,717 tx:0x03fad1c5f83f4b7d3381ad53872f33ccd237106006d245099eec32ca6270b969 pair:0x0000000000000000000000000000000000000000\n",
      "Swap at block:60,234,718 tx:0x6c4052507fd2459356796ac0a852c4862ff623eb8d55236941e8c563dac7b879 pair:0x0000000000000000000000000000000000000000\n",
      "Swap at block:60,234,718 tx:0x6c4052507fd2459356796ac0a852c4862ff623eb8d55236941e8c563dac7b879 pair:0x0000000000000000000000000000000000000000\n",
      "Swap at block:60,234,718 tx:0x10335aaa5eab41a4b81b7c4f99755b3f570acae0e46c7aa7c5827f01a24cf044 pair:0x000000000000000000000000C1189Ea6867bf5A8\n",
      "Swap at block:60,234,718 tx:0xd21676286c317e2b831d19b86860f55a6f1fad512e683daed4bcc64a57682805 pair:0x0000000000000000000000000000000000000000\n",
      "Swap at block:60,234,719 tx:0x35fa778f4ce201a2ed33b0b202ba49703e21a457e4a5084b075ddf76ed57556e pair:0x0000000000000000000000000000000000000000\n",
      "Swap at block:60,234,719 tx:0xa95e0f3e73c32dc2eae8e80d82a7b63b25784ae8c6c9d570a1fa46a128da06ff pair:0x0000000000000000000000000000000000C25e59\n",
      "Swap at block:60,234,720 tx:0x23118c37b05fa4b7c7d50a6d6e50ade6ccaf4163df189423e1bb4bd34e77e62d pair:0x00000000000000000000000029A2241aF62C0000\n",
      ".\n"
     ]
    }
   ],
   "source": [
    "events = []\n",
    "\n",
    "evt: LogResult\n",
    "for evt in read_events(\n",
    "            web3,\n",
    "            start_block=start,\n",
    "            end_block=end,\n",
    "            filter=filter,\n",
    "):\n",
    "    events.append(evt)\n",
    "    # How to uniquely identify EVM logs\n",
    "    key = evt[\"blockHash\"] + evt[\"transactionHash\"] + evt[\"logIndex\"]\n",
    "\n",
    "    arguments = decode_data(evt[\"data\"])\n",
    "    topics = evt[\"topics\"]\n",
    "    token0 = convert_uint256_hex_string_to_address(topics[1])\n",
    "    token1 = convert_uint256_hex_string_to_address(topics[2])\n",
    "    pair_address = convert_uint256_bytes_to_address(arguments[0])\n",
    "    pair_id = convert_int256_bytes_to_int(arguments[1])\n",
    "    \n",
    "    # The reader may cause duplicate events as the chain tip reorganises\n",
    "    if key not in processed_events:\n",
    "        print(f\"Swap at block:{evt['blockNumber']:,} tx:{evt['transactionHash']} pair:{pair_address}\")\n",
    "        processed_events.add(key)\n",
    "else:\n",
    "    print(\".\")"
   ]
  },
  {
   "cell_type": "code",
   "execution_count": 122,
   "id": "e0790f66-caf4-47ef-a309-8e4f20a85660",
   "metadata": {},
   "outputs": [
    {
     "data": {
      "text/plain": [
       "{'chain': 'polygon',\n",
       " 'address': '0x78fd833ec4464d3d6d470e5853dbfc2de0ca6f5b',\n",
       " 'tx_hash': '0x5efbfa4d428146d2e7050b6a7633d9ae9867e1a8522a2a943bb5ea2717a8512b',\n",
       " 'blk_num': 60234713,\n",
       " 'timestamp': 1722887835,\n",
       " 'event_type': web3._utils.datatypes.Swap,\n",
       " 'event_details': {'token0': '0x8308a7D7655C2ae21632eD3dd6F55f509E7dfDb9',\n",
       "  'token1': '0xE2971f917dDC66677668a4b0d14a27Fd569133f7',\n",
       "  'amount0In': 74082165,\n",
       "  'amount1Out': 13502000000000000000000}}"
      ]
     },
     "execution_count": 122,
     "metadata": {},
     "output_type": "execute_result"
    }
   ],
   "source": [
    "evt = events[2]\n",
    "\n",
    "arguments = decode_data(evt[\"data\"])\n",
    "topics = evt[\"topics\"]\n",
    "\n",
    "event = {}\n",
    "event['chain'] = 'polygon'\n",
    "event['address'] = evt[\"address\"]\n",
    "event['tx_hash'] = evt[\"transactionHash\"]\n",
    "event['blk_num'] = evt[\"blockNumber\"]\n",
    "event['timestamp'] = evt[\"timestamp\"]\n",
    "event['event_type'] = evt[\"event\"]\n",
    "event['event_details'] = {}\n",
    "event['event_details']['token0'] = convert_uint256_hex_string_to_address(topics[1])\n",
    "event['event_details']['token1'] = convert_uint256_hex_string_to_address(topics[2])\n",
    "event['event_details']['amount0In'] = convert_int256_bytes_to_int(arguments[0]) \n",
    "event['event_details']['amount1Out'] = convert_int256_bytes_to_int(arguments[3]) \n",
    "\n",
    "event"
   ]
  }
 ],
 "metadata": {
  "kernelspec": {
   "display_name": "Python 3 (ipykernel)",
   "language": "python",
   "name": "python3"
  },
  "language_info": {
   "codemirror_mode": {
    "name": "ipython",
    "version": 3
   },
   "file_extension": ".py",
   "mimetype": "text/x-python",
   "name": "python",
   "nbconvert_exporter": "python",
   "pygments_lexer": "ipython3",
   "version": "3.10.0rc2"
  }
 },
 "nbformat": 4,
 "nbformat_minor": 5
}
