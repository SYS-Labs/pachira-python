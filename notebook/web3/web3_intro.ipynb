{
 "cells": [
  {
   "cell_type": "markdown",
   "id": "85aef0bf-001c-48b9-9024-598cffaa7afe",
   "metadata": {},
   "source": [
    "### Web3 Research\n",
    "* https://web3py.readthedocs.io/en/stable/quickstart.html\n",
    "* https://blog.logrocket.com/web3-py-tutorial-guide-ethereum-blockchain-development-with-python/\n",
    "* https://www.synacktiv.com/en/publications/evm-unravelled-recovering-abi-from-bytecode"
   ]
  },
  {
   "cell_type": "code",
   "execution_count": 1,
   "id": "f9bf32c5-4e5d-4f77-a27e-d700c4ec0218",
   "metadata": {},
   "outputs": [],
   "source": [
    "from web3 import Web3\n",
    "import json"
   ]
  },
  {
   "cell_type": "code",
   "execution_count": 2,
   "id": "6b40fa8c-3f74-43af-996a-f7b9a9f82ae3",
   "metadata": {},
   "outputs": [],
   "source": [
    "infura_url='https://mainnet.infura.io/v3/29547b52f77647b68da777e3ecc06811'\n",
    "w3 = Web3(Web3.HTTPProvider(infura_url))"
   ]
  },
  {
   "cell_type": "code",
   "execution_count": 3,
   "id": "c4efc9a0-a9f0-4fa3-836d-2208664abf6b",
   "metadata": {},
   "outputs": [
    {
     "data": {
      "text/plain": [
       "AttributeDict({'difficulty': 735512610763,\n",
       " 'extraData': HexBytes('0x476574682f76312e302e302f6c696e75782f676f312e342e32'),\n",
       " 'gasLimit': 5000,\n",
       " 'gasUsed': 0,\n",
       " 'hash': HexBytes('0x767c2bfb3bdee3f78676c1285cd757bcd5d8c272cef2eb30d9733800a78c0b6d'),\n",
       " 'logsBloom': HexBytes('0x00000000000000000000000000000000000000000000000000000000000000000000000000000000000000000000000000000000000000000000000000000000000000000000000000000000000000000000000000000000000000000000000000000000000000000000000000000000000000000000000000000000000000000000000000000000000000000000000000000000000000000000000000000000000000000000000000000000000000000000000000000000000000000000000000000000000000000000000000000000000000000000000000000000000000000000000000000000000000000000000000000000000000000000000000000000'),\n",
       " 'miner': '0xad5C1768e5974C231b2148169da064e61910f31a',\n",
       " 'mixHash': HexBytes('0x31d9ec7e3855aeba37fd92aa1639845e70b360a60f77f12eff530429ef8cfcba'),\n",
       " 'nonce': HexBytes('0x549f882c5f356f85'),\n",
       " 'number': 12345,\n",
       " 'parentHash': HexBytes('0x4b3c1d7e65a507b62734feca1ee9f27a5379e318bd52ae62de7ba67dbeac66a3'),\n",
       " 'receiptsRoot': HexBytes('0x56e81f171bcc55a6ff8345e692c0f86e5b48e01b996cadc001622fb5e363b421'),\n",
       " 'sha3Uncles': HexBytes('0x1dcc4de8dec75d7aab85b567b6ccd41ad312451b948a7413f0a142fd40d49347'),\n",
       " 'size': 539,\n",
       " 'stateRoot': HexBytes('0xca495e22ed6b88c61714d129dbc8c94f5bf966ac581c09a57c0a72d0e55e7286'),\n",
       " 'timestamp': 1438367030,\n",
       " 'totalDifficulty': 3862140487204603,\n",
       " 'transactions': [],\n",
       " 'transactionsRoot': HexBytes('0x56e81f171bcc55a6ff8345e692c0f86e5b48e01b996cadc001622fb5e363b421'),\n",
       " 'uncles': []})"
      ]
     },
     "execution_count": 3,
     "metadata": {},
     "output_type": "execute_result"
    }
   ],
   "source": [
    "w3.eth.get_block(12345)"
   ]
  },
  {
   "cell_type": "code",
   "execution_count": 4,
   "id": "d9d38b9e-9dbe-4558-b831-cf6499752abe",
   "metadata": {},
   "outputs": [
    {
     "data": {
      "text/plain": [
       "AttributeDict({'baseFeePerGas': 9148326034,\n",
       " 'blobGasUsed': '0xc0000',\n",
       " 'difficulty': 0,\n",
       " 'excessBlobGas': '0x0',\n",
       " 'extraData': HexBytes('0x546974616e2028746974616e6275696c6465722e78797a29'),\n",
       " 'gasLimit': 30000000,\n",
       " 'gasUsed': 19861104,\n",
       " 'hash': HexBytes('0xc87c3633a359794f8728219d70521c1ac47bd06ba9ca32e4ad7a0ff3c5e61c99'),\n",
       " 'logsBloom': HexBytes('0xbe23e832f9e4e12557c393d4c45f59a678694b566a39ebfecfeb20d476331fc3905dbfa5837887757a541f024efbef99ce2fc96eca73a974f5a72941973ff701372a44f9c2863e7b794644cbfc4ceaeccab83194d6753ff272604677eefc10d4179fa407cf6eb665e52c97ff60649e4bb06f8e598c59f45e9e005dd42d6f6dae6839affcb699c6cde5eff868bbfcb87c48c77971c7b5031be7ac4c6502bca33a7aab4d1fd350600adf0d5ad77da87def06fd5fa0abbf9b2d976520ce38be62db3d9b852b4d538b909990969f9f6b5b85edee3793bf0ea75a6f1cf4de2b90eb371efcedfc76a0e42dbc15168dc45004068939baa93b6fa7ccd89dd81e5fab5c7e'),\n",
       " 'miner': '0x4838B106FCe9647Bdf1E7877BF73cE8B0BAD5f97',\n",
       " 'mixHash': HexBytes('0x6cb18902e28af284cd5f327381f0ead98d8ccadc2597cdb1d5505d0457a40fa2'),\n",
       " 'nonce': HexBytes('0x0000000000000000'),\n",
       " 'number': 20429163,\n",
       " 'parentBeaconBlockRoot': '0x942386320a7d9c839ce7a16cc2dba45665b6747a4376eeb5e7044333858d12a3',\n",
       " 'parentHash': HexBytes('0x2e6adb757ebcaf0e4b7aa17075912d5c6b1bdcc69e0ad2e92f97d35d9738ca4c'),\n",
       " 'receiptsRoot': HexBytes('0x2d70c7d97a22165bc3afefa31dd2caf2ad10f8f361053837c3691021672771d5'),\n",
       " 'sha3Uncles': HexBytes('0x1dcc4de8dec75d7aab85b567b6ccd41ad312451b948a7413f0a142fd40d49347'),\n",
       " 'size': 78521,\n",
       " 'stateRoot': HexBytes('0x95c274efa08deeb5bc10cedca2287b4fcedf64fe0752cfc77d687377efd94f89'),\n",
       " 'timestamp': 1722460655,\n",
       " 'totalDifficulty': 58750003716598352816469,\n",
       " 'transactions': [HexBytes('0x53917a25fc224efff369fd6cbec5449d69b9dad1007264967b27c30188b59554'),\n",
       "  HexBytes('0xa9b8afd803ab8af47199948b681cde5e08ecfbd8696372c6c5ea51a8cf3cc999'),\n",
       "  HexBytes('0xdc835de5f6153908cdeceb15e0c565587e64cd5b7d45aa6401f291503e52d7f5'),\n",
       "  HexBytes('0x3201e0ef48c92d66b18d08eba044ba902891f7186a4c2eb288c64ab5936ac9d3'),\n",
       "  HexBytes('0x7ec6c9463c0beee719e819decfd0a0275cd60b22fc02ff688675a22547c5adf8'),\n",
       "  HexBytes('0x7a3e9d11a69aaf7dea7a25689fd5f3d8bafc9f1005e8df8e7b7d2954cad614bb'),\n",
       "  HexBytes('0xd463b7c03810db9af4f3e51298a26666fd26ba1ae0c3995518d4344e20976c3c'),\n",
       "  HexBytes('0x1d945da6b6ec4bbc44a48dc7e4d615da9971125003723edbe7216508cb37df0b'),\n",
       "  HexBytes('0x58267a091782b13c1a881c7fd2d09f17bb255bf0b6d3ae865613510c950405c2'),\n",
       "  HexBytes('0x72421a1463be60f682700fb76b5de0a90fae7395105d70914b893653b3e289c0'),\n",
       "  HexBytes('0xd474f891ef81e29d7b742cb75afa7a1f260256c0ed82c451169fbfad33974633'),\n",
       "  HexBytes('0xfb9c90a21cc5ffcb4e061f2ddfd82c43fd1ec61c4fb7ed671a13c97db43559a1'),\n",
       "  HexBytes('0x1ae636d6b09f93d94a2adf8f1298d8ebbba04905ef57493b527d2b6f561f8a2a'),\n",
       "  HexBytes('0xf40c64ba2600932b05a7cd9626c84402d4bfa004b2fb5d61f263b3f2151736a5'),\n",
       "  HexBytes('0x24add4c0343f7002e86976f12753d4615f5fb56ab0c7ef8d0d8f1c472d44cfbd'),\n",
       "  HexBytes('0x5958393b7d3eb78188dca4195ff47dc2fab7d22c546d58cc01d7ee488154dd62'),\n",
       "  HexBytes('0xec88c1b9c7c4abde85bd314f348b4394a5a84031de2fe9c0ef4f56d6a5bc9840'),\n",
       "  HexBytes('0xb7bda51b862c8334992e3b687442adcd1ac6e9fa3aebae3073d4fb60ae255c57'),\n",
       "  HexBytes('0x2bd855ce8e63db42613c32ea596d21a7bcf0440df6d7ba6809de8f0532ecb4b8'),\n",
       "  HexBytes('0xa99ad33d9db1d1d46a695ba50faab26027096be82a995b4aa5c1b3f5b682b76e'),\n",
       "  HexBytes('0x4a7c18140ae49721a4fb55e67d0ccf48533ecfb2b77b2ba413438c776c80cc19'),\n",
       "  HexBytes('0x2d4dd78154ff10a5b7402d91c93e5b4390f4ee7b62d3bf22a091d1605bb1729c'),\n",
       "  HexBytes('0xca75f237603644c8375701fee57f9e331e6a3cf92e3f47e2299da279c216bc75'),\n",
       "  HexBytes('0x31f6acaf81593f14d946ae021192c494a8a29bbd44bc4c5091591d244da29585'),\n",
       "  HexBytes('0x9d846f7239a15eed2f829bdcca6d9605303db650e7141fdea5df4220904de22b'),\n",
       "  HexBytes('0x280d55d3af33e34ca4f2d03bd9ac40e975bc293c13563deb0866439f90575850'),\n",
       "  HexBytes('0x4146cbb7a512725069bd8d2e7f23f335cfa1e6c22129a43671ad01cbb869ee81'),\n",
       "  HexBytes('0x0f01f28eb7a6d4d7b3279b7ec6105886f95b224a9f9613a5a29008432eb0b0c3'),\n",
       "  HexBytes('0x7b35a35c2037153ce65fbd8cb46368e73e61f1defe6b649afc4f26a584379ccd'),\n",
       "  HexBytes('0x4c02126fe1494cda90d50def219539867cb60681ca991692cb830093ef17c193'),\n",
       "  HexBytes('0x64fcad2c62e81339a8799403ebad81fa063f6b50a22adb8ec67edde6431f3c80'),\n",
       "  HexBytes('0x1b5fcc92fa40e58640c9b215d6daaf6562fd41a5e5d6f70f7d0f07777a274c1a'),\n",
       "  HexBytes('0x705fffab71eb399e6f002ba039df3f1f0f65f7f6325aa4c69b92983368b042b1'),\n",
       "  HexBytes('0xac27a5912461a02aa2f34e9d7437dc267f97ac2baea9be433d00c7632fdf2af5'),\n",
       "  HexBytes('0x84c93557ceea95687d8a74ed74cc44928f84c3054c4a93ae9c116d2e2501c4de'),\n",
       "  HexBytes('0x3f2c7419764ffacb0b05e7ed25831aaa1b2938974a7c10a1d4d984bad4abee3f'),\n",
       "  HexBytes('0xc0cfddf49282110425ac61c40a0787405bcbf440dee9e89ce60e2b47cec0d422'),\n",
       "  HexBytes('0x2328a89bf81c17a438eab1a7d4933e631b7eee2feac13a746964c007df6453c5'),\n",
       "  HexBytes('0xc9f4cdf3f2b4ce55e7ee2bf0d149152d5efe92aa48278fd3653c951cab74cc00'),\n",
       "  HexBytes('0x1c1d06817c2900c981e2b8c9c89b13200eeb2b5ece7dbc1d0508231657804603'),\n",
       "  HexBytes('0x67cea003e7685bcdd6064abaa721d730e2d213786967525a9c3014e9b3555c51'),\n",
       "  HexBytes('0x7dd25ce7ca29584ac9ddced773b1baaaf0a99e40f77199415e93b8ccd8738f53'),\n",
       "  HexBytes('0xd4bcc2b489648a28dd4c75c568a659ca2349ee3df5de0a9d1b3238fc24c0a605'),\n",
       "  HexBytes('0x9a7d9ea82142cd6f14f0c80e91fc55929e0980475ec0c9f4489923a71755ec19'),\n",
       "  HexBytes('0x004bc7ad365bb23c996963110d8070d15df56229a42ae004641ea12f7c117824'),\n",
       "  HexBytes('0x773f1d64d3f22a95777313873307cceb4ecb8fabc682696047f31823bdbf4ae8'),\n",
       "  HexBytes('0x55f6f67afcde885c4c7bf4bdaa236d6ed96fb581c1ae5fb8dd47819d1b70816e'),\n",
       "  HexBytes('0xf6e07641a77d7b13b61a9bf66a7b8d9f3d612218b45f8c64ec0d0649a1f34b19'),\n",
       "  HexBytes('0xfcaaa1bbe44c89e2fe02226570a1eea830385bf9267cfde0d2222f982d0c0ca8'),\n",
       "  HexBytes('0xabfed44f2e4a882a38272ca6944106b3c48179680c6c220479511dd868067106'),\n",
       "  HexBytes('0xf6022474469d9dc21064bdef1ea85c213f38fe0930a1bda6b9e3170e46aad9be'),\n",
       "  HexBytes('0xdb8a49ffceed03892278a400a169e43c5db5d9043e50ade8e38c474276728ed7'),\n",
       "  HexBytes('0xd93cc99bee4510d584461790a3ae81bb922cb7a08c0ecdefcffa33e6afd1e707'),\n",
       "  HexBytes('0x06162beff549441cfaffcee04c55c8f42eec4a43910e26fa63c4b3b670455266'),\n",
       "  HexBytes('0x21b5c424a9f720602afd52ab70ac6bcaf35c7a2b5b90893ff52789ce8c921be5'),\n",
       "  HexBytes('0xb15b0c9a2f595642d1148c24f27b3fb724d3d55a68612ab8c481f739a0655a74'),\n",
       "  HexBytes('0xb78f616cfc4e93ba68fa6269c255b04f9babb342d6d3878bed62ab5afa9f8815'),\n",
       "  HexBytes('0x198edcc5c3a79c99679216bad7361e52a8ee5645f26e3e3cfa148d56780d67f0'),\n",
       "  HexBytes('0x578f15c40dfe0db78ab8783070f03ad7de852937c0d64e3e76ff0f2062bd8791'),\n",
       "  HexBytes('0x7db5c207cf77ad9daef507f1ab8d5e519277cf1d477728e7cbb9079f4e29e116'),\n",
       "  HexBytes('0xa80a7d035925a6f4c8b5f527c77e05d84f9ef9ec2614400d7ed75c30d96cda6c'),\n",
       "  HexBytes('0x72d5bb58a009dd839640f9a1b01ddf1cf63231c7b45946863b019074a0c08abf'),\n",
       "  HexBytes('0x1bbf73941d8e931a61cfc2cf80849a91f587794126747f7dadcf699fa855f0c3'),\n",
       "  HexBytes('0xa45ffa404ff787399c90aefb49d97ae509004b5c9261182b4c6588c5793c6a9b'),\n",
       "  HexBytes('0x8122849e20af3de7765a0c6e6e80a72c3869c4e8b43b9a204c9a54e6b7a2dd0a'),\n",
       "  HexBytes('0x3c16bfbd0dde532e9abd8b69ed6905beb414e9d2c82f0b011a27a9928694c251'),\n",
       "  HexBytes('0x34df1febfc456f080a304a086484477f686e30c710433503c9b7aae8032cec8d'),\n",
       "  HexBytes('0x76a9eafd1c33011109eb12a07096c7b72a7c65d5574d905f369240d3b587f90b'),\n",
       "  HexBytes('0xcd1038f68acbf372b8d2959c5991237341737f1fec360b8682a31a2c921cb4d0'),\n",
       "  HexBytes('0x4604c08a4b1af58d7114adb0c9ce0955d4ed45bb67d1a7949f63d22fd0650fc7'),\n",
       "  HexBytes('0xb1d116c774db87999683717ae9870cfe31e6234b162481a21778afa058d8c144'),\n",
       "  HexBytes('0x6d4c33cd5f932d945f64f614f166b056c919828ca5bbe9322fa61793e61e0483'),\n",
       "  HexBytes('0x3fb6c226a7453fa86e1739e1163728f5e90b14a6d3ac87a1becb39d2636b2255'),\n",
       "  HexBytes('0x8238426c244c29acd4c4767bed83e5655c49cd21ed7aca8560ff5665a911ea0e'),\n",
       "  HexBytes('0x0cc2e3bfc22af3f06df1fcb260b4367eb8e7716466cf86dfce790719beb0f009'),\n",
       "  HexBytes('0x1269e48c1b9fdd00ece1a51e34b48760f917af60ad02ed2265d3a1d3da20b304'),\n",
       "  HexBytes('0x0e099d72587eeada6f0eb1daed0411f35a7e3a87703d2b43cfbfde1f84358564'),\n",
       "  HexBytes('0xa1d17efea4ec53e770f7dc1b9b6c2a40110c14602e9a005b421fa13487894045'),\n",
       "  HexBytes('0x84bc8a7c3659da0e46e8765a40d80bd38e97a4d9224ded472d041168b88900ac'),\n",
       "  HexBytes('0x7fe01d2cc18b8051d993a4cdfba7d4a8bf7cb5fc024639ee5b7a97440970fc8a'),\n",
       "  HexBytes('0x1b0f371cc30242300cf9fe9eb1ddbc06dea799f2b89329738500079fde0a56c7'),\n",
       "  HexBytes('0x7eb4cd12318ed59a76b6486079009c089308c5410287562b346f09b34c7954c9'),\n",
       "  HexBytes('0x14285c2cbafd49756dd7aa2846678694f658a564b096f403599d2b779484685a'),\n",
       "  HexBytes('0xac85f50f1e8d8cf655aa027c86ed0c9217b5d4b9683583c75aa4e48fea9fdaa0'),\n",
       "  HexBytes('0xf38e09e859a878c7e5bcdf4644615ae6a51c8b8941a8a7e604cda1ae128ef456'),\n",
       "  HexBytes('0x0a6077f0f1a4e7dc311fde8570da1955c23c9289981977cacd0a3ed193fe5d9a'),\n",
       "  HexBytes('0xef452e65fa8bb5737715a34e7a19a32a161e7ebf01ab75f925c2979d05fcf95f'),\n",
       "  HexBytes('0xd11e8b11e3cb26164a3d46a3bb0b8388d4c763922af74c2f3c0f9197cb27cea3'),\n",
       "  HexBytes('0x046e6efb837be83c4f66d43d67eff57005a0c5a69c2826b9eff59da7be379d48'),\n",
       "  HexBytes('0xfbb66a52711f1d01d3b803774492b43ce9e3d74653ec3be0230c8de5910036be'),\n",
       "  HexBytes('0x09b454b2cf4cfe8c1ff4b5610e53b1365327df485c99cf80b28d47f44f67ff7b'),\n",
       "  HexBytes('0xac544de0d60f0a145a4f5dbf2fefd3b71186cc90d030de161a0f90d64752a29a'),\n",
       "  HexBytes('0x3822a1b758baa3e6cd9f04095eeaad11e70decdc3385c0f4d79865c8a3f738cd'),\n",
       "  HexBytes('0x6150d55f7cd207602c9557eafd1519dc22dd3ad1f6b88c942fa4ccf8c536b84e'),\n",
       "  HexBytes('0xbe657d1121f91549f2c1dfa03218f02326085152175c552024aaf609811cd262'),\n",
       "  HexBytes('0x0407e7b9c058b14e3b6fd6a85bb162945798f9f5a040b7390c9e8c6f84045878'),\n",
       "  HexBytes('0x0275639a687d316fd24be7d4f2279280c74752662c81c482cfcc08ce0d8b53f6'),\n",
       "  HexBytes('0x36d4cf7e16a4bb9d9d52f576f565cf041a21930573f9ec91c97230c01ecd0222'),\n",
       "  HexBytes('0x6ea5bf57419657e6c1fa39d55115899ffd93c7c69e69037fc6c81060a8212a2d'),\n",
       "  HexBytes('0x71e4ff2ae4524e1738577d25109b4e727d48fc508cae0007ea3dc5ee701c1d32'),\n",
       "  HexBytes('0x60b538010c01d3e62b9f6f40c98e8b0e1229ce918b05c7935d98dfad79cfb4cb'),\n",
       "  HexBytes('0x7d472cf48edbf6dc47ee547c1d24619f503c893505012c216f395451e61b4911'),\n",
       "  HexBytes('0x6bf607663d0a6bffe6f60000f3c17582c1179fbd5e45e504430b25e7d9008ad4'),\n",
       "  HexBytes('0xd4f13b55eab124e4c7ca8384ed9a2fdd6bc5493ebad0fd2e5aa9dcabf67e7379'),\n",
       "  HexBytes('0x16604170efa3259a72a057ed87147abbf61c88f9bd51ecf2d492674ee0b35081'),\n",
       "  HexBytes('0x3cb53456540256dc6b429b6517bba5bdab26e2290f1f6838da20e0954155d602'),\n",
       "  HexBytes('0x0562a96561683d288eec9b242312eef61d8725c52dbaeee2199928b1de821c0d'),\n",
       "  HexBytes('0xfec8c6fb44b8989a8a402992b82a6893229a85f3e41672add8ab89112d0aa34b'),\n",
       "  HexBytes('0xeb056b8d840dd7136d98f0269b097fb5c9923fe1d5aaeea2a6211344abec2f12'),\n",
       "  HexBytes('0x8dded55ec298f864a75a6f558cb12cf1c4f28e8562d3339462dcade9a70d0d95'),\n",
       "  HexBytes('0x8fcdc466e80465a81b6c6896b2484a30d94ed6fb6dd3810df574d9a6e09cc8d8'),\n",
       "  HexBytes('0x6df5d0bd351f2264107bb548ebc0e6f25fa28bd27786036e099d875c1399705e'),\n",
       "  HexBytes('0xc58463a938a2b7acc7d0460489e114e3a6e575407652a976c7e76bebcff4ec2f'),\n",
       "  HexBytes('0x44e0ca701f36587172dc5a91fb67e2844081f88b5a72e31e6d959f37c1b1b3b5'),\n",
       "  HexBytes('0xef16e9a4ca51a4c85d2d27140edaeebe3468d5ba41c3be27a684450542723b76'),\n",
       "  HexBytes('0xb1f685acd1a5a1c3d7ca06e1c3609f1660b9c58e60f5e8bb6a1009e07c884b9f'),\n",
       "  HexBytes('0xc76975a5373f2adb7ab8fa2e1fa57df039a41c4d78274bd8da71cafc547d5721'),\n",
       "  HexBytes('0xb4b1723d7944d27da4f4084aaa34356959cd171b8c23a16db705c08fe1827899'),\n",
       "  HexBytes('0xe8c60d43bd5f958274c7f2816e4f720459163254f501874a1a0294109bfa370f'),\n",
       "  HexBytes('0x45800d9a7906d9bb4bd80ee5e46a48f523b9c2037e1464fba301417510827c84'),\n",
       "  HexBytes('0x2ff4d31445f2d5033b5b3c8bc69fbcc5cc1a8ed0e9c539c39ca25a687e2eb4e7'),\n",
       "  HexBytes('0x0705cf52ccbfbcfe18ca6fcc09a3dd69cfe07b6dd99afead1b20bef6ff7347ff'),\n",
       "  HexBytes('0xd2284b3a2f625f0008ef703eb6b1d9dc266495a741b6d1ec53436ef58b7c5626'),\n",
       "  HexBytes('0x603676c11e70d2b8d3ff54404f96659953e4aea174eb2c76c5b9133ab7616a39'),\n",
       "  HexBytes('0x36a809f0a1467755e58e0989a5189dd4333f59ea86be01abe2b7a60fab5e506a'),\n",
       "  HexBytes('0x8e8ebcdc4562699ac61ea4b2648f184125a49417c4f442fb1cb8add289b87ac5'),\n",
       "  HexBytes('0xf47f74532eb4d41175e59d292a561e0279fe407c401ac1a31ec8ede87982c359'),\n",
       "  HexBytes('0x85975ccbca117e35b962f6ddac110e8ab00a3e329acf07df533dec5693c1f6c3'),\n",
       "  HexBytes('0xeb0d9c384754a83eda558e8ba28539998f03563b3f36e94c62391b7e07f18adb'),\n",
       "  HexBytes('0x90062bb2c3468f447cea5c53fa68ba9a98462d3d0197bfa9de4140f83c7ef529'),\n",
       "  HexBytes('0x2d02c20b972e5b504f0b5bf1807197530509be5b8eff5fcd627ca0f089233457'),\n",
       "  HexBytes('0xaebeaf7c1557a891f16b1555a91cc2ef3ee69bd5fee1016a9a88335b33eea4e2'),\n",
       "  HexBytes('0xd7f29c1bf75de064a04701186d449a40927020f3bd158515424c58c3e93fb84b'),\n",
       "  HexBytes('0x094d8751731c4400a5bd6c32d6c945db61af4bb2bb6c2086b63eb27f5eb93c28'),\n",
       "  HexBytes('0x83e49f439a3af94bdc70aa5f53e94daea82c855f0451bf51f1fbf1f9d9f80d5d'),\n",
       "  HexBytes('0xe294e7611c5a87ec25536a711f7529c5f8c55e32413a8467682bcc65d8df9f2f'),\n",
       "  HexBytes('0x0e68c02782c6681352bdd67d3e28b05e4639d736a585c57d65c3b74973f47393'),\n",
       "  HexBytes('0x45b61df729d34e7287349cacc783a1bbc6bc2e477f0701f3b7907e2342189eb4'),\n",
       "  HexBytes('0x07566482a3697cca8bb646ccbde65c2327f8c77c429aa599d288bf2f428de8b0'),\n",
       "  HexBytes('0xdb250d70a57bd8716764630d78db71426844cfa651c1daab81eb2913fa5ff014'),\n",
       "  HexBytes('0x9878686f29ab51fb56162f8a622fee4d4ebbff2cb356cfa04e970991fefa287b'),\n",
       "  HexBytes('0xad23874f10a810fcff6d6975e93e645e3a62582fa12b3e655fb5a7479163f265'),\n",
       "  HexBytes('0x35bcba67491bf4b1759fe680711c55f7965dbfa32ffa371a19b8c5cce232ba69'),\n",
       "  HexBytes('0xb581cfc17f3263e53d769850ab464202e3ee2f1ff3d6c202df2a514c9584fded'),\n",
       "  HexBytes('0xd6211276d1fb1a6d2544d037dbf3afc6492c5cff9f9b22d7b97b857f98a05bca'),\n",
       "  HexBytes('0xdec48f37e798dc1b0a9c5c12aec13aa4a1417df87001975ad73d976093d16dcf'),\n",
       "  HexBytes('0xd7ffb020caacdd95f077f71609df865d452c8519eba61544a29bdbb54665345c'),\n",
       "  HexBytes('0xc5c9cc7e375b7bc93e3773cf61a63c727d7db7a7d6ed2582a8b41fc083e7b6d4'),\n",
       "  HexBytes('0x3ab20e793240ee52e4f87acf9b60fab8a24a480e33b65bb9bb8cc055ef2a3d8d'),\n",
       "  HexBytes('0xa7018c6b9272bcac72a7dff48c22396197f7416b07b266d6a9770cd041af414f'),\n",
       "  HexBytes('0x114e241a6e5df0a4a93b0648715d2d8b4f4f8945a5e080ca2ceaa0afaa341e8a'),\n",
       "  HexBytes('0x254e368a039bdfa7f9858f367cd95635d7d4ea397dabc1d2af56b7111765c994'),\n",
       "  HexBytes('0x5746b817523589a7a99890d7e8fb1d169e26d2912fef95772185c94d52e0c4a6')],\n",
       " 'transactionsRoot': HexBytes('0x8a8a467876c5e35134e45fa2cab4f9a3e77cd8272292b1eb3b2ec5d29e6028e6'),\n",
       " 'uncles': [],\n",
       " 'withdrawals': [AttributeDict({'address': '0x6BAdb3Dc91F232D53AB8e9BAb78822EC7F05cF86',\n",
       "   'amount': 18677134,\n",
       "   'index': 54307227,\n",
       "   'validatorIndex': 1357173}),\n",
       "  AttributeDict({'address': '0x6BAdb3Dc91F232D53AB8e9BAb78822EC7F05cF86',\n",
       "   'amount': 18667372,\n",
       "   'index': 54307228,\n",
       "   'validatorIndex': 1357174}),\n",
       "  AttributeDict({'address': '0x6BAdb3Dc91F232D53AB8e9BAb78822EC7F05cF86',\n",
       "   'amount': 18597202,\n",
       "   'index': 54307229,\n",
       "   'validatorIndex': 1357175}),\n",
       "  AttributeDict({'address': '0x6BAdb3Dc91F232D53AB8e9BAb78822EC7F05cF86',\n",
       "   'amount': 18637615,\n",
       "   'index': 54307230,\n",
       "   'validatorIndex': 1357176}),\n",
       "  AttributeDict({'address': '0x6BAdb3Dc91F232D53AB8e9BAb78822EC7F05cF86',\n",
       "   'amount': 18711047,\n",
       "   'index': 54307231,\n",
       "   'validatorIndex': 1357177}),\n",
       "  AttributeDict({'address': '0x80F05Fe8428986D690A42097891e9512eE653109',\n",
       "   'amount': 18679795,\n",
       "   'index': 54307232,\n",
       "   'validatorIndex': 1357178}),\n",
       "  AttributeDict({'address': '0x03E543052f41799de45D97F801f61688240AE7c1',\n",
       "   'amount': 18742640,\n",
       "   'index': 54307233,\n",
       "   'validatorIndex': 1357179}),\n",
       "  AttributeDict({'address': '0x6BAdb3Dc91F232D53AB8e9BAb78822EC7F05cF86',\n",
       "   'amount': 18686431,\n",
       "   'index': 54307234,\n",
       "   'validatorIndex': 1357180}),\n",
       "  AttributeDict({'address': '0x6BAdb3Dc91F232D53AB8e9BAb78822EC7F05cF86',\n",
       "   'amount': 18699635,\n",
       "   'index': 54307235,\n",
       "   'validatorIndex': 1357181}),\n",
       "  AttributeDict({'address': '0x6BAdb3Dc91F232D53AB8e9BAb78822EC7F05cF86',\n",
       "   'amount': 18666482,\n",
       "   'index': 54307236,\n",
       "   'validatorIndex': 1357182}),\n",
       "  AttributeDict({'address': '0x6BAdb3Dc91F232D53AB8e9BAb78822EC7F05cF86',\n",
       "   'amount': 18714192,\n",
       "   'index': 54307237,\n",
       "   'validatorIndex': 1357183}),\n",
       "  AttributeDict({'address': '0x6BAdb3Dc91F232D53AB8e9BAb78822EC7F05cF86',\n",
       "   'amount': 18726198,\n",
       "   'index': 54307238,\n",
       "   'validatorIndex': 1357184}),\n",
       "  AttributeDict({'address': '0x6BAdb3Dc91F232D53AB8e9BAb78822EC7F05cF86',\n",
       "   'amount': 18741218,\n",
       "   'index': 54307239,\n",
       "   'validatorIndex': 1357185}),\n",
       "  AttributeDict({'address': '0x6BAdb3Dc91F232D53AB8e9BAb78822EC7F05cF86',\n",
       "   'amount': 18593192,\n",
       "   'index': 54307240,\n",
       "   'validatorIndex': 1357186}),\n",
       "  AttributeDict({'address': '0x6BAdb3Dc91F232D53AB8e9BAb78822EC7F05cF86',\n",
       "   'amount': 18672830,\n",
       "   'index': 54307241,\n",
       "   'validatorIndex': 1357187}),\n",
       "  AttributeDict({'address': '0x6BAdb3Dc91F232D53AB8e9BAb78822EC7F05cF86',\n",
       "   'amount': 18641218,\n",
       "   'index': 54307242,\n",
       "   'validatorIndex': 1357188})],\n",
       " 'withdrawalsRoot': HexBytes('0xfaee172a967ed595adc157ce25b74e1a3c24f06f6ad915c3f9f54904831103d6')})"
      ]
     },
     "execution_count": 4,
     "metadata": {},
     "output_type": "execute_result"
    }
   ],
   "source": [
    "w3.eth.get_block('latest')"
   ]
  },
  {
   "cell_type": "code",
   "execution_count": 5,
   "id": "c28556a9-0cff-4114-a2b7-161f08bea151",
   "metadata": {},
   "outputs": [
    {
     "data": {
      "text/plain": [
       "58976245287997571"
      ]
     },
     "execution_count": 5,
     "metadata": {},
     "output_type": "execute_result"
    }
   ],
   "source": [
    "eth_address='0x7F4482619D5113388D61766e77D62b7D096D9bbE'\n",
    "w3.eth.get_balance(eth_address)"
   ]
  },
  {
   "cell_type": "code",
   "execution_count": null,
   "id": "54af64e8-12dc-4233-b868-6a114b417869",
   "metadata": {},
   "outputs": [],
   "source": []
  },
  {
   "cell_type": "markdown",
   "id": "7093402e-7613-45f7-abcf-4df79bbe9b7e",
   "metadata": {},
   "source": [
    "Retrieve contract ABI\n",
    "* https://etherscan.io/address/0xd665ce6Ef8AdA72B1CF946A6a71508bDD6D2EE04#code"
   ]
  },
  {
   "cell_type": "code",
   "execution_count": 6,
   "id": "d2626f84-15c3-4d9b-9e30-6b17d0c497e9",
   "metadata": {},
   "outputs": [
    {
     "name": "stdout",
     "output_type": "stream",
     "text": [
      "1000000000000000000000\n"
     ]
    }
   ],
   "source": [
    "address = '0xd665ce6Ef8AdA72B1CF946A6a71508bDD6D2EE04'\n",
    "abi = '[{\"inputs\":[],\"stateMutability\":\"nonpayable\",\"type\":\"constructor\"},{\"anonymous\":false,\"inputs\":[{\"indexed\":true,\"internalType\":\"address\",\"name\":\"owner\",\"type\":\"address\"},{\"indexed\":true,\"internalType\":\"address\",\"name\":\"spender\",\"type\":\"address\"},{\"indexed\":false,\"internalType\":\"uint256\",\"name\":\"value\",\"type\":\"uint256\"}],\"name\":\"Approval\",\"type\":\"event\"},{\"anonymous\":false,\"inputs\":[{\"indexed\":false,\"internalType\":\"uint256\",\"name\":\"_maxTxAmount\",\"type\":\"uint256\"}],\"name\":\"MaxTxAmountUpdated\",\"type\":\"event\"},{\"anonymous\":false,\"inputs\":[{\"indexed\":true,\"internalType\":\"address\",\"name\":\"previousOwner\",\"type\":\"address\"},{\"indexed\":true,\"internalType\":\"address\",\"name\":\"newOwner\",\"type\":\"address\"}],\"name\":\"OwnershipTransferred\",\"type\":\"event\"},{\"anonymous\":false,\"inputs\":[{\"indexed\":true,\"internalType\":\"address\",\"name\":\"from\",\"type\":\"address\"},{\"indexed\":true,\"internalType\":\"address\",\"name\":\"to\",\"type\":\"address\"},{\"indexed\":false,\"internalType\":\"uint256\",\"name\":\"value\",\"type\":\"uint256\"}],\"name\":\"Transfer\",\"type\":\"event\"},{\"inputs\":[{\"internalType\":\"address\",\"name\":\"owner\",\"type\":\"address\"},{\"internalType\":\"address\",\"name\":\"spender\",\"type\":\"address\"}],\"name\":\"allowance\",\"outputs\":[{\"internalType\":\"uint256\",\"name\":\"\",\"type\":\"uint256\"}],\"stateMutability\":\"view\",\"type\":\"function\"},{\"inputs\":[{\"internalType\":\"address\",\"name\":\"spender\",\"type\":\"address\"},{\"internalType\":\"uint256\",\"name\":\"amount\",\"type\":\"uint256\"}],\"name\":\"approve\",\"outputs\":[{\"internalType\":\"bool\",\"name\":\"\",\"type\":\"bool\"}],\"stateMutability\":\"nonpayable\",\"type\":\"function\"},{\"inputs\":[{\"internalType\":\"address\",\"name\":\"account\",\"type\":\"address\"}],\"name\":\"balanceOf\",\"outputs\":[{\"internalType\":\"uint256\",\"name\":\"\",\"type\":\"uint256\"}],\"stateMutability\":\"view\",\"type\":\"function\"},{\"inputs\":[],\"name\":\"decimals\",\"outputs\":[{\"internalType\":\"uint8\",\"name\":\"\",\"type\":\"uint8\"}],\"stateMutability\":\"pure\",\"type\":\"function\"},{\"inputs\":[{\"internalType\":\"address\",\"name\":\"notbot\",\"type\":\"address\"}],\"name\":\"delBot\",\"outputs\":[],\"stateMutability\":\"nonpayable\",\"type\":\"function\"},{\"inputs\":[],\"name\":\"manualsend\",\"outputs\":[],\"stateMutability\":\"nonpayable\",\"type\":\"function\"},{\"inputs\":[],\"name\":\"manualswap\",\"outputs\":[],\"stateMutability\":\"nonpayable\",\"type\":\"function\"},{\"inputs\":[],\"name\":\"name\",\"outputs\":[{\"internalType\":\"string\",\"name\":\"\",\"type\":\"string\"}],\"stateMutability\":\"pure\",\"type\":\"function\"},{\"inputs\":[],\"name\":\"openTrading\",\"outputs\":[],\"stateMutability\":\"nonpayable\",\"type\":\"function\"},{\"inputs\":[],\"name\":\"owner\",\"outputs\":[{\"internalType\":\"address\",\"name\":\"\",\"type\":\"address\"}],\"stateMutability\":\"view\",\"type\":\"function\"},{\"inputs\":[],\"name\":\"removeStrictTxLimit\",\"outputs\":[],\"stateMutability\":\"nonpayable\",\"type\":\"function\"},{\"inputs\":[],\"name\":\"renounceOwnership\",\"outputs\":[],\"stateMutability\":\"nonpayable\",\"type\":\"function\"},{\"inputs\":[{\"internalType\":\"address[]\",\"name\":\"bots_\",\"type\":\"address[]\"}],\"name\":\"setBots\",\"outputs\":[],\"stateMutability\":\"nonpayable\",\"type\":\"function\"},{\"inputs\":[{\"internalType\":\"bool\",\"name\":\"onoff\",\"type\":\"bool\"}],\"name\":\"setCooldownEnabled\",\"outputs\":[],\"stateMutability\":\"nonpayable\",\"type\":\"function\"},{\"inputs\":[],\"name\":\"symbol\",\"outputs\":[{\"internalType\":\"string\",\"name\":\"\",\"type\":\"string\"}],\"stateMutability\":\"pure\",\"type\":\"function\"},{\"inputs\":[],\"name\":\"totalSupply\",\"outputs\":[{\"internalType\":\"uint256\",\"name\":\"\",\"type\":\"uint256\"}],\"stateMutability\":\"pure\",\"type\":\"function\"},{\"inputs\":[{\"internalType\":\"address\",\"name\":\"recipient\",\"type\":\"address\"},{\"internalType\":\"uint256\",\"name\":\"amount\",\"type\":\"uint256\"}],\"name\":\"transfer\",\"outputs\":[{\"internalType\":\"bool\",\"name\":\"\",\"type\":\"bool\"}],\"stateMutability\":\"nonpayable\",\"type\":\"function\"},{\"inputs\":[{\"internalType\":\"address\",\"name\":\"sender\",\"type\":\"address\"},{\"internalType\":\"address\",\"name\":\"recipient\",\"type\":\"address\"},{\"internalType\":\"uint256\",\"name\":\"amount\",\"type\":\"uint256\"}],\"name\":\"transferFrom\",\"outputs\":[{\"internalType\":\"bool\",\"name\":\"\",\"type\":\"bool\"}],\"stateMutability\":\"nonpayable\",\"type\":\"function\"},{\"stateMutability\":\"payable\",\"type\":\"receive\"}]'\n",
    "\n",
    "contract_instance = w3.eth.contract(address=address, abi=abi)\n",
    "res = contract_instance.functions.totalSupply().call()\n",
    "print(res)"
   ]
  },
  {
   "cell_type": "code",
   "execution_count": 7,
   "id": "57d15375-4559-4633-b026-2ad87185c94c",
   "metadata": {},
   "outputs": [
    {
     "name": "stdout",
     "output_type": "stream",
     "text": [
      "SHIBACHU\n"
     ]
    }
   ],
   "source": [
    "symbol = contract_instance.functions.symbol().call()\n",
    "print(symbol)"
   ]
  },
  {
   "cell_type": "code",
   "execution_count": 8,
   "id": "2562dbd5-a248-44c7-89c8-a0ac1b39481e",
   "metadata": {},
   "outputs": [
    {
     "data": {
      "text/plain": [
       "(AttributeDict({'args': AttributeDict({'from': '0xd665ce6Ef8AdA72B1CF946A6a71508bDD6D2EE04',\n",
       "   'to': '0x7067D17B75852acACff051C7046767333683cbc5',\n",
       "   'value': 37902872436093283037}),\n",
       "  'event': 'Transfer',\n",
       "  'logIndex': 104,\n",
       "  'transactionIndex': 74,\n",
       "  'transactionHash': HexBytes('0x734fe59647b938ffdd5edde1e8f48b818ea563ae5e04953bcf1681a9e1e0d862'),\n",
       "  'address': '0xd665ce6Ef8AdA72B1CF946A6a71508bDD6D2EE04',\n",
       "  'blockHash': HexBytes('0xbd1ab7b6ce6b2549216bf4a40e7ee51f273ea05ad96822a0de090740b285f708'),\n",
       "  'blockNumber': 16283690}),\n",
       " AttributeDict({'args': AttributeDict({'from': '0x568b47030B2Bff3e49fBfc7F1ec5e270DE0A28a6',\n",
       "   'to': '0x000000000000000000000000000000000000dEaD',\n",
       "   'value': 5944013264247833020}),\n",
       "  'event': 'Transfer',\n",
       "  'logIndex': 110,\n",
       "  'transactionIndex': 74,\n",
       "  'transactionHash': HexBytes('0x734fe59647b938ffdd5edde1e8f48b818ea563ae5e04953bcf1681a9e1e0d862'),\n",
       "  'address': '0xd665ce6Ef8AdA72B1CF946A6a71508bDD6D2EE04',\n",
       "  'blockHash': HexBytes('0xbd1ab7b6ce6b2549216bf4a40e7ee51f273ea05ad96822a0de090740b285f708'),\n",
       "  'blockNumber': 16283690}))"
      ]
     },
     "execution_count": 8,
     "metadata": {},
     "output_type": "execute_result"
    }
   ],
   "source": [
    "blk_num = 16283690\n",
    "contract_instance.events.Transfer().get_logs(fromBlock=blk_num)"
   ]
  },
  {
   "cell_type": "code",
   "execution_count": null,
   "id": "fee4dbc1-ab25-44be-b10a-f22508093b84",
   "metadata": {},
   "outputs": [],
   "source": [
    "#dir(contract_instance.events)"
   ]
  },
  {
   "cell_type": "code",
   "execution_count": 9,
   "id": "6a9d03fa-7919-4f50-9ea4-9bce89819662",
   "metadata": {},
   "outputs": [
    {
     "ename": "NameError",
     "evalue": "name 'last_blk_number' is not defined",
     "output_type": "error",
     "traceback": [
      "\u001b[0;31m---------------------------------------------------------------------------\u001b[0m",
      "\u001b[0;31mNameError\u001b[0m                                 Traceback (most recent call last)",
      "Cell \u001b[0;32mIn[9], line 2\u001b[0m\n\u001b[1;32m      1\u001b[0m n_blocks \u001b[38;5;241m=\u001b[39m \u001b[38;5;241m100\u001b[39m\n\u001b[0;32m----> 2\u001b[0m \u001b[38;5;28;01mfor\u001b[39;00m blk_num \u001b[38;5;129;01min\u001b[39;00m \u001b[38;5;28mrange\u001b[39m(\u001b[43mlast_blk_number\u001b[49m,last_blk_number\u001b[38;5;241m-\u001b[39mn_blocks,\u001b[38;5;241m-\u001b[39m\u001b[38;5;241m1\u001b[39m):\n\u001b[1;32m      3\u001b[0m     logs \u001b[38;5;241m=\u001b[39m contract_instance\u001b[38;5;241m.\u001b[39mevents\u001b[38;5;241m.\u001b[39mTransfer()\u001b[38;5;241m.\u001b[39mget_logs(fromBlock\u001b[38;5;241m=\u001b[39mblk_num)\n\u001b[1;32m      4\u001b[0m     \u001b[38;5;28mprint\u001b[39m(\u001b[38;5;124mf\u001b[39m\u001b[38;5;124m'\u001b[39m\u001b[38;5;124mBlock number: \u001b[39m\u001b[38;5;132;01m{\u001b[39;00mblk_num\u001b[38;5;132;01m}\u001b[39;00m\u001b[38;5;124m, log: \u001b[39m\u001b[38;5;132;01m{\u001b[39;00mlogs\u001b[38;5;132;01m}\u001b[39;00m\u001b[38;5;124m'\u001b[39m)\n",
      "\u001b[0;31mNameError\u001b[0m: name 'last_blk_number' is not defined"
     ]
    }
   ],
   "source": [
    "n_blocks = 100\n",
    "for blk_num in range(last_blk_number,last_blk_number-n_blocks,-1):\n",
    "    logs = contract_instance.events.Transfer().get_logs(fromBlock=blk_num)\n",
    "    print(f'Block number: {blk_num}, log: {logs}')"
   ]
  },
  {
   "cell_type": "code",
   "execution_count": null,
   "id": "7aedb4cb-9518-46fe-8108-0440d7c98710",
   "metadata": {},
   "outputs": [],
   "source": [
    "events = contract_instance.events.Transfer"
   ]
  },
  {
   "cell_type": "code",
   "execution_count": null,
   "id": "93165414-18da-4f97-bc6f-231c8fcdbc5f",
   "metadata": {},
   "outputs": [],
   "source": [
    "events"
   ]
  },
  {
   "cell_type": "code",
   "execution_count": null,
   "id": "58fed57c-fe42-4560-97fd-c7b254a9b91b",
   "metadata": {},
   "outputs": [],
   "source": [
    "WETH_ADDRESS = '0xC02aaA39b223FE8D0A0e5C4F27eAD9083C756Cc2'\n",
    "\n",
    "block = w3.eth.get_block('latest')\n",
    "for tx_hash in block.transactions:\n",
    "    tx = w3.eth.get_transaction(tx_hash)\n",
    "    if tx['to'] == WETH_ADDRESS:\n",
    "        print(f'Found interaction with WETH contract! {tx}')"
   ]
  },
  {
   "cell_type": "code",
   "execution_count": null,
   "id": "f24a1f08-90e0-4be2-9ec8-f47b6b07e469",
   "metadata": {},
   "outputs": [],
   "source": [
    "tx_hash = block.transactions[1]\n",
    "tx = w3.eth.get_transaction(tx_hash)\n",
    "tx"
   ]
  }
 ],
 "metadata": {
  "kernelspec": {
   "display_name": "Python 3 (ipykernel)",
   "language": "python",
   "name": "python3"
  },
  "language_info": {
   "codemirror_mode": {
    "name": "ipython",
    "version": 3
   },
   "file_extension": ".py",
   "mimetype": "text/x-python",
   "name": "python",
   "nbconvert_exporter": "python",
   "pygments_lexer": "ipython3",
   "version": "3.10.0rc2"
  }
 },
 "nbformat": 4,
 "nbformat_minor": 5
}
