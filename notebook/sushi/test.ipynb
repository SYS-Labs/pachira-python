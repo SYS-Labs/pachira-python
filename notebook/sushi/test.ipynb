{
 "cells": [
  {
   "cell_type": "code",
   "execution_count": 1,
   "id": "44b62425-ab67-4ee7-92d0-164f73403fb9",
   "metadata": {},
   "outputs": [],
   "source": [
    "import os\n",
    "import time\n",
    "from web3 import HTTPProvider, Web3\n",
    "from pachira import *"
   ]
  },
  {
   "cell_type": "code",
   "execution_count": 2,
   "id": "abf50091-b943-4a71-9e0d-a3f60e0a6a03",
   "metadata": {},
   "outputs": [],
   "source": [
    "json_rpc_url = os.environ.get(\"JSON_RPC_POLYGON\", \"https://polygon-rpc.com\")\n",
    "web3 = Web3(HTTPProvider(json_rpc_url))\n",
    "web3.middleware_onion.clear()"
   ]
  },
  {
   "cell_type": "code",
   "execution_count": 3,
   "id": "c061726b-c060-4a73-8842-ccf7bdaff170",
   "metadata": {},
   "outputs": [],
   "source": [
    "# Get contracts\n",
    "Pair = ABI().get_contract(web3, \"sushi/UniswapV2Pair.json\")\n",
    "filter = Filter.create_filter(address=None, event_types=[Pair.events.Swap])  # Listen events from any smart contract"
   ]
  },
  {
   "cell_type": "code",
   "execution_count": 4,
   "id": "ca261079-3b76-41b3-8e76-35e7147e20bf",
   "metadata": {},
   "outputs": [],
   "source": [
    "reorg_mon = JSONRPCReorganisationMonitor(web3, check_depth=3)\n",
    "reorg_mon.load_initial_block_headers(block_count=5)\n",
    "processed_events = set()\n",
    "latest_block = reorg_mon.get_last_block_live()\n",
    "chain_reorg_resolution = reorg_mon.update_chain()\n",
    "start, end = chain_reorg_resolution.get_read_range()"
   ]
  },
  {
   "cell_type": "code",
   "execution_count": 5,
   "id": "24a43955-e4c3-4f5b-b932-6f2461c1c746",
   "metadata": {},
   "outputs": [],
   "source": [
    "start = start - 10"
   ]
  },
  {
   "cell_type": "code",
   "execution_count": 6,
   "id": "e7fc539a-7482-4285-98d2-aa9fda72517c",
   "metadata": {},
   "outputs": [
    {
     "name": "stdout",
     "output_type": "stream",
     "text": [
      "Swap at block:60,276,549 tx:0x4eae59c2ae99786a6b50b07b7e5112d7d85bb32859063ec984448712682fcb17\n",
      "Swap at block:60,276,550 tx:0x0dccc717e99c571a1510fd237d34c78929b5a0bf86f6ff16486e53624febda45\n",
      "Swap at block:60,276,550 tx:0xabc79c42200690cddb15d32fe541ecbe2fb3ee95b509494cba96eb512d95fb4f\n",
      "Swap at block:60,276,552 tx:0x6d9e801b96f84c0677263116de1002cea8e4472a4b0a66f3f7b5c04f8a7be491\n",
      "Swap at block:60,276,553 tx:0x37e2da03daf49e37794a02a19a4c75e888cef742ead59259b5159358b81eedb6\n",
      "Swap at block:60,276,553 tx:0xc9c9b410e078dfd8b0ba0c2e1013d96109895d3519c86b04505517b37f4769e9\n",
      "Swap at block:60,276,557 tx:0x2b4ba477215cda7a1486193de1372986533f540c882618a9349f046282fbef82\n",
      "Swap at block:60,276,557 tx:0x2b4ba477215cda7a1486193de1372986533f540c882618a9349f046282fbef82\n",
      "Swap at block:60,276,558 tx:0xea2833994e6a6743989996c82a6e6ed12b418cee31fc6cbb4de2c0ae9fc17fe0\n",
      ".\n"
     ]
    }
   ],
   "source": [
    "events = {}\n",
    "\n",
    "evt: LogResult\n",
    "for index, evt in enumerate(ReadEvents().apply(\n",
    "            web3,\n",
    "            start_block=start,\n",
    "            end_block=end,\n",
    "            filter=filter,\n",
    ")):\n",
    "    \n",
    "    # How to uniquely identify EVM logs\n",
    "    key = evt[\"blockHash\"] + evt[\"transactionHash\"] + evt[\"logIndex\"]\n",
    "    topics = evt[\"topics\"]\n",
    "    arguments = Conversion().decode_data(evt[\"data\"])\n",
    "\n",
    "    event = {}\n",
    "    event['chain'] = 'polygon'\n",
    "    event['address'] = evt[\"address\"]\n",
    "    event['tx_hash'] = evt[\"transactionHash\"]\n",
    "    event['blk_num'] = evt[\"blockNumber\"]\n",
    "    event['timestamp'] = evt[\"timestamp\"]\n",
    "    event['event_type'] = evt[\"event\"]\n",
    "    event['event_details'] = {}\n",
    "    event['event_details']['token0'] = Conversion().convert_uint256_hex_string_to_address(topics[1])\n",
    "    event['event_details']['token1'] = Conversion().convert_uint256_hex_string_to_address(topics[2])\n",
    "    event['event_details']['amount0In'] = Conversion().convert_int256_bytes_to_int(arguments[0]) \n",
    "    event['event_details']['amount1Out'] = Conversion().convert_int256_bytes_to_int(arguments[3])  \n",
    "    \n",
    "    events[index] = event\n",
    "    if key not in processed_events:\n",
    "        print(f\"Swap at block:{evt['blockNumber']:,} tx:{evt['transactionHash']}\")\n",
    "        processed_events.add(key)\n",
    "else:\n",
    "    print(\".\")\n"
   ]
  },
  {
   "cell_type": "code",
   "execution_count": 8,
   "id": "422ce20b-6cc5-41fc-b7ca-dae83a995096",
   "metadata": {},
   "outputs": [
    {
     "data": {
      "text/plain": [
       "{0: {'chain': 'polygon',\n",
       "  'address': '0xbc0b623bd202b5ffd6c9aa403140b32304fdb9cf',\n",
       "  'tx_hash': '0x4eae59c2ae99786a6b50b07b7e5112d7d85bb32859063ec984448712682fcb17',\n",
       "  'blk_num': 60276549,\n",
       "  'timestamp': 1722980450,\n",
       "  'event_type': web3._utils.datatypes.Swap,\n",
       "  'event_details': {'token0': '0xa5E0829CaCEd8fFDD4De3c43696c57F7D7A678ff',\n",
       "   'token1': '0xa5E0829CaCEd8fFDD4De3c43696c57F7D7A678ff',\n",
       "   'amount0In': 0,\n",
       "   'amount1Out': 0}},\n",
       " 1: {'chain': 'polygon',\n",
       "  'address': '0x882df4b0fb50a229c3b4124eb18c759911485bfb',\n",
       "  'tx_hash': '0x0dccc717e99c571a1510fd237d34c78929b5a0bf86f6ff16486e53624febda45',\n",
       "  'blk_num': 60276550,\n",
       "  'timestamp': 1722980452,\n",
       "  'event_type': web3._utils.datatypes.Swap,\n",
       "  'event_details': {'token0': '0xa5E0829CaCEd8fFDD4De3c43696c57F7D7A678ff',\n",
       "   'token1': '0x07Ff4e06865de4934409Aa6eCea503b08Cc1C78d',\n",
       "   'amount0In': 41962566527442920000,\n",
       "   'amount1Out': 1475398416}},\n",
       " 2: {'chain': 'polygon',\n",
       "  'address': '0x1a6f6af2864b1f059a2e070140e373d6e3aaa2a1',\n",
       "  'tx_hash': '0xabc79c42200690cddb15d32fe541ecbe2fb3ee95b509494cba96eb512d95fb4f',\n",
       "  'blk_num': 60276550,\n",
       "  'timestamp': 1722980452,\n",
       "  'event_type': web3._utils.datatypes.Swap,\n",
       "  'event_details': {'token0': '0x1111111254EEB25477B68fb85Ed929f73A960582',\n",
       "   'token1': '0xc590175E458b83680867AFD273527Ff58f74c02b',\n",
       "   'amount0In': 10000000000000000000000,\n",
       "   'amount1Out': 11357050}},\n",
       " 3: {'chain': 'polygon',\n",
       "  'address': '0xd32f3139a214034a0f9777c87ee0a064c1ff6ae2',\n",
       "  'tx_hash': '0x6d9e801b96f84c0677263116de1002cea8e4472a4b0a66f3f7b5c04f8a7be491',\n",
       "  'blk_num': 60276552,\n",
       "  'timestamp': 1722980456,\n",
       "  'event_type': web3._utils.datatypes.Swap,\n",
       "  'event_details': {'token0': '0xC0788A3aD43d79aa53B09c2EaCc313A787d1d607',\n",
       "   'token1': '0x13A404Cee395c9dF01a056eE595bfd6657fE79eD',\n",
       "   'amount0In': 167086874159045098447,\n",
       "   'amount1Out': 68720609825851114875}},\n",
       " 4: {'chain': 'polygon',\n",
       "  'address': '0xd32f3139a214034a0f9777c87ee0a064c1ff6ae2',\n",
       "  'tx_hash': '0x37e2da03daf49e37794a02a19a4c75e888cef742ead59259b5159358b81eedb6',\n",
       "  'blk_num': 60276553,\n",
       "  'timestamp': 1722980458,\n",
       "  'event_type': web3._utils.datatypes.Swap,\n",
       "  'event_details': {'token0': '0x18ac8E2CcAA6d722c3cCc03098Be232470AA3620',\n",
       "   'token1': '0x18ac8E2CcAA6d722c3cCc03098Be232470AA3620',\n",
       "   'amount0In': 0,\n",
       "   'amount1Out': 0}},\n",
       " 5: {'chain': 'polygon',\n",
       "  'address': '0x7e2eaa9514c7a56b4d556ff0d1009cb9c7f2b89d',\n",
       "  'tx_hash': '0xc9c9b410e078dfd8b0ba0c2e1013d96109895d3519c86b04505517b37f4769e9',\n",
       "  'blk_num': 60276553,\n",
       "  'timestamp': 1722980458,\n",
       "  'event_type': web3._utils.datatypes.Swap,\n",
       "  'event_details': {'token0': '0x8308a7D7655C2ae21632eD3dd6F55f509E7dfDb9',\n",
       "   'token1': '0xA0006e2F7973678E60A2E445ab8353ABAd6854D5',\n",
       "   'amount0In': 0,\n",
       "   'amount1Out': 0}},\n",
       " 6: {'chain': 'polygon',\n",
       "  'address': '0xe43ab6540c0929ef29d216a34ab1f0eacc5c3825',\n",
       "  'tx_hash': '0x2b4ba477215cda7a1486193de1372986533f540c882618a9349f046282fbef82',\n",
       "  'blk_num': 60276557,\n",
       "  'timestamp': 1722980466,\n",
       "  'event_type': web3._utils.datatypes.Swap,\n",
       "  'event_details': {'token0': '0xa5E0829CaCEd8fFDD4De3c43696c57F7D7A678ff',\n",
       "   'token1': '0x7eFA658fE34b5694358E9DEEf2EAC7334BB9A874',\n",
       "   'amount0In': 0,\n",
       "   'amount1Out': 0}},\n",
       " 7: {'chain': 'polygon',\n",
       "  'address': '0x7efa658fe34b5694358e9deef2eac7334bb9a874',\n",
       "  'tx_hash': '0x2b4ba477215cda7a1486193de1372986533f540c882618a9349f046282fbef82',\n",
       "  'blk_num': 60276557,\n",
       "  'timestamp': 1722980466,\n",
       "  'event_type': web3._utils.datatypes.Swap,\n",
       "  'event_details': {'token0': '0xa5E0829CaCEd8fFDD4De3c43696c57F7D7A678ff',\n",
       "   'token1': '0x19fD3EE3aB1C8112922939c8163306CF6668d323',\n",
       "   'amount0In': 3021309,\n",
       "   'amount1Out': 10630784529365107280}},\n",
       " 8: {'chain': 'polygon',\n",
       "  'address': '0xe43ab6540c0929ef29d216a34ab1f0eacc5c3825',\n",
       "  'tx_hash': '0xea2833994e6a6743989996c82a6e6ed12b418cee31fc6cbb4de2c0ae9fc17fe0',\n",
       "  'blk_num': 60276558,\n",
       "  'timestamp': 1722980468,\n",
       "  'event_type': web3._utils.datatypes.Swap,\n",
       "  'event_details': {'token0': '0x37af74b8096A6fd85bc4A36653a60B8D673BaEFc',\n",
       "   'token1': '0x3cf7A3399439e3C10E2ea7e01272B54A66A04BA6',\n",
       "   'amount0In': 310812,\n",
       "   'amount1Out': 312005}}}"
      ]
     },
     "execution_count": 8,
     "metadata": {},
     "output_type": "execute_result"
    }
   ],
   "source": [
    "events"
   ]
  }
 ],
 "metadata": {
  "kernelspec": {
   "display_name": "Python 3 (ipykernel)",
   "language": "python",
   "name": "python3"
  },
  "language_info": {
   "codemirror_mode": {
    "name": "ipython",
    "version": 3
   },
   "file_extension": ".py",
   "mimetype": "text/x-python",
   "name": "python",
   "nbconvert_exporter": "python",
   "pygments_lexer": "ipython3",
   "version": "3.10.0rc2"
  }
 },
 "nbformat": 4,
 "nbformat_minor": 5
}
