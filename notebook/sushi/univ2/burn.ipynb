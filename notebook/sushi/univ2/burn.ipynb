{
 "cells": [
  {
   "cell_type": "code",
   "execution_count": 1,
   "id": "44b62425-ab67-4ee7-92d0-164f73403fb9",
   "metadata": {},
   "outputs": [],
   "source": [
    "import os\n",
    "import time\n",
    "import math\n",
    "import pandas as pd\n",
    "from web3 import HTTPProvider, Web3\n",
    "from pachira import *"
   ]
  },
  {
   "cell_type": "code",
   "execution_count": null,
   "id": "abf50091-b943-4a71-9e0d-a3f60e0a6a03",
   "metadata": {},
   "outputs": [],
   "source": [
    "chain = Net.POLYGON\n",
    "platform = Platform.SUSHI\n",
    "contract = JSONContract.UniswapV2Pair\n",
    "\n",
    "json_rpc_url = os.environ.get(RPC.get_key(chain), RPC.get_rpc(chain))\n",
    "web3 = Web3(HTTPProvider(json_rpc_url))\n",
    "web3.middleware_onion.clear()"
   ]
  },
  {
   "cell_type": "code",
   "execution_count": null,
   "id": "c061726b-c060-4a73-8842-ccf7bdaff170",
   "metadata": {},
   "outputs": [],
   "source": [
    "# Get contracts\n",
    "abi_path = platform + '/' + contract + '.json'\n",
    "Pair = ABILoading().get_contract(web3, abi_path)\n",
    "burn_filt = Filter.create_filter(address=None, event_types=[Pair.events.Burn])  # Listen events from any smart contract"
   ]
  },
  {
   "cell_type": "code",
   "execution_count": null,
   "id": "ca261079-3b76-41b3-8e76-35e7147e20bf",
   "metadata": {},
   "outputs": [],
   "source": [
    "reorg_mon = JSONRPCReorganisationMonitor(web3, check_depth=3)\n",
    "reorg_mon.load_initial_block_headers(block_count=5)\n",
    "processed_events = set()\n",
    "latest_block = reorg_mon.get_last_block_live()\n",
    "chain_reorg_resolution = reorg_mon.update_chain()\n",
    "start, end = chain_reorg_resolution.get_read_range()"
   ]
  },
  {
   "cell_type": "code",
   "execution_count": null,
   "id": "24a43955-e4c3-4f5b-b932-6f2461c1c746",
   "metadata": {},
   "outputs": [],
   "source": [
    "start = start - 1000"
   ]
  },
  {
   "cell_type": "code",
   "execution_count": null,
   "id": "3f785d0f-c3e3-4e09-84ad-8d80a137b484",
   "metadata": {},
   "outputs": [],
   "source": [
    "rEvents = ReadEvents().apply(web3, start_block=start, end_block=end, filter=burn_filt)"
   ]
  },
  {
   "cell_type": "code",
   "execution_count": null,
   "id": "e7fc539a-7482-4285-98d2-aa9fda72517c",
   "metadata": {},
   "outputs": [],
   "source": [
    "events = {}\n",
    "evt: LogResult\n",
    "for k, evt in enumerate(rEvents):\n",
    "    # How to uniquely identify EVM logs\n",
    "    key = evt[\"blockHash\"] + evt[\"transactionHash\"] + evt[\"logIndex\"]\n",
    "    topics = evt[\"topics\"]\n",
    "    arguments = Conversion().decode_data(evt[\"data\"])\n",
    "\n",
    "    event = {}\n",
    "    event['chain'] = chain\n",
    "    event['contract'] = contract.lower()\n",
    "    event['type'] = evt[\"event\"].event_name.lower()\n",
    "    event['platform'] = platform\n",
    "    event['address'] = evt[\"address\"]\n",
    "    event['tx_hash'] = evt[\"transactionHash\"]\n",
    "    event['blk_num'] = evt[\"blockNumber\"]\n",
    "    event['timestamp'] = evt[\"timestamp\"]\n",
    "    event['details'] = {}\n",
    "    event['details']['web3_type'] = evt[\"event\"]\n",
    "    event['details']['token0'] = Conversion().convert_uint256_hex_string_to_address(topics[1])\n",
    "    event['details']['token1'] = Conversion().convert_uint256_hex_string_to_address(topics[2])\n",
    "\n",
    "    if(len(arguments) >= 1):\n",
    "        event['details']['amount0'] = Conversion().convert_int256_bytes_to_int(arguments[0])\n",
    "    else:\n",
    "        event['details']['amount0'] = math.nan\n",
    "\n",
    "    if(len(arguments) >= 2):\n",
    "        event['details']['amount1'] = Conversion().convert_int256_bytes_to_int(arguments[1])\n",
    "    else:\n",
    "        event['details']['amount1'] = math.nan    \n",
    "     \n",
    "    events[k] = event\n",
    "    if key not in processed_events:\n",
    "        print(f\"Transfer at block:{evt['blockNumber']:,} tx:{evt['transactionHash']}\")\n",
    "        processed_events.add(key)\n",
    "else:\n",
    "    print(\".\")\n"
   ]
  },
  {
   "cell_type": "code",
   "execution_count": null,
   "id": "5d039a5b-9e17-4795-ac10-808d1fc32cbb",
   "metadata": {},
   "outputs": [],
   "source": [
    "df_events = pd.DataFrame.from_dict(events, orient='index') \n",
    "df_events"
   ]
  }
 ],
 "metadata": {
  "kernelspec": {
   "display_name": "Python 3 (ipykernel)",
   "language": "python",
   "name": "python3"
  },
  "language_info": {
   "codemirror_mode": {
    "name": "ipython",
    "version": 3
   },
   "file_extension": ".py",
   "mimetype": "text/x-python",
   "name": "python",
   "nbconvert_exporter": "python",
   "pygments_lexer": "ipython3",
   "version": "3.10.0rc2"
  }
 },
 "nbformat": 4,
 "nbformat_minor": 5
}
