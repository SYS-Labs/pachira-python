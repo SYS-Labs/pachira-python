{
 "cells": [
  {
   "cell_type": "code",
   "execution_count": 21,
   "id": "44b62425-ab67-4ee7-92d0-164f73403fb9",
   "metadata": {},
   "outputs": [],
   "source": [
    "import os\n",
    "import time\n",
    "import pandas as pd\n",
    "from web3 import HTTPProvider, Web3\n",
    "from pachira import *"
   ]
  },
  {
   "cell_type": "code",
   "execution_count": 22,
   "id": "abf50091-b943-4a71-9e0d-a3f60e0a6a03",
   "metadata": {},
   "outputs": [],
   "source": [
    "chain = Net.POLYGON\n",
    "platform = Platform.SUSHI\n",
    "contract = JSONContract.UniswapV2Pair\n",
    "\n",
    "json_rpc_url = os.environ.get(RPC.get_key(chain), RPC.get_rpc(chain))\n",
    "web3 = Web3(HTTPProvider(json_rpc_url))\n",
    "web3.middleware_onion.clear()"
   ]
  },
  {
   "cell_type": "code",
   "execution_count": 23,
   "id": "c061726b-c060-4a73-8842-ccf7bdaff170",
   "metadata": {},
   "outputs": [],
   "source": [
    "# Get contracts\n",
    "abi_path = platform + '/' + contract + '.json'\n",
    "Pair = ABILoading().get_contract(web3, abi_path)\n",
    "swap_filt = Filter.create_filter(address=None, event_types=[Pair.events.Swap])  # Listen events from any smart contract"
   ]
  },
  {
   "cell_type": "code",
   "execution_count": 25,
   "id": "0102eb04-49bd-40fe-b26f-676686a5c7e8",
   "metadata": {},
   "outputs": [],
   "source": [
    "#ABILoading().get_abi_by_filename(abi_path)"
   ]
  },
  {
   "cell_type": "code",
   "execution_count": 5,
   "id": "ca261079-3b76-41b3-8e76-35e7147e20bf",
   "metadata": {},
   "outputs": [],
   "source": [
    "reorg_mon = JSONRPCReorganisationMonitor(web3, check_depth=3)\n",
    "reorg_mon.load_initial_block_headers(block_count=5)\n",
    "processed_events = set()\n",
    "latest_block = reorg_mon.get_last_block_live()\n",
    "chain_reorg_resolution = reorg_mon.update_chain()\n",
    "start, end = chain_reorg_resolution.get_read_range()"
   ]
  },
  {
   "cell_type": "code",
   "execution_count": 6,
   "id": "24a43955-e4c3-4f5b-b932-6f2461c1c746",
   "metadata": {},
   "outputs": [],
   "source": [
    "start = start - 10"
   ]
  },
  {
   "cell_type": "code",
   "execution_count": 7,
   "id": "3f785d0f-c3e3-4e09-84ad-8d80a137b484",
   "metadata": {},
   "outputs": [],
   "source": [
    "rEvents = ReadEvents().apply(web3, start_block=start, end_block=end, filter=swap_filt)"
   ]
  },
  {
   "cell_type": "code",
   "execution_count": 8,
   "id": "e7fc539a-7482-4285-98d2-aa9fda72517c",
   "metadata": {},
   "outputs": [
    {
     "name": "stdout",
     "output_type": "stream",
     "text": [
      "Swap at block:60,837,691 tx:0xd79754317a6dc99931b457377743e126bfc68b06fcabf3482028c0de9380767f\n",
      "Swap at block:60,837,697 tx:0xa8225f0ec90fffabfd023736aa96359a965b08357eaaba8db2be011cf43034a5\n",
      "Swap at block:60,837,700 tx:0x6f0da99f786825c95847590d2535d47bbbf17c5d7321f6b06eac51550245a03e\n",
      ".\n"
     ]
    }
   ],
   "source": [
    "events = {}\n",
    "evt: LogResult\n",
    "for k, evt in enumerate(rEvents):\n",
    "    # How to uniquely identify EVM logs\n",
    "    key = evt[\"blockHash\"] + evt[\"transactionHash\"] + evt[\"logIndex\"]\n",
    "    topics = evt[\"topics\"]\n",
    "    arguments = Conversion().decode_data(evt[\"data\"])\n",
    "\n",
    "    event = {}\n",
    "    event['chain'] = chain\n",
    "    event['contract'] = contract.lower()\n",
    "    event['type'] = evt[\"event\"].event_name.lower()\n",
    "    event['platform'] = platform\n",
    "    event['address'] = evt[\"address\"]\n",
    "    event['tx_hash'] = evt[\"transactionHash\"]\n",
    "    event['blk_num'] = evt[\"blockNumber\"]\n",
    "    event['timestamp'] = evt[\"timestamp\"]\n",
    "    event['details'] = {}\n",
    "    event['details']['web3_type'] = evt[\"event\"]\n",
    "    event['details']['token0'] = Conversion().convert_uint256_hex_string_to_address(topics[1])\n",
    "    event['details']['token1'] = Conversion().convert_uint256_hex_string_to_address(topics[2])\n",
    "    event['details']['amount0In'] = Conversion().convert_int256_bytes_to_int(arguments[0]) \n",
    "    event['details']['amount1Out'] = Conversion().convert_int256_bytes_to_int(arguments[3])  \n",
    "    \n",
    "    events[k] = event\n",
    "    if key not in processed_events:\n",
    "        print(f\"Swap at block:{evt['blockNumber']:,} tx:{evt['transactionHash']}\")\n",
    "        processed_events.add(key)\n",
    "else:\n",
    "    print(\".\")\n"
   ]
  },
  {
   "cell_type": "code",
   "execution_count": 9,
   "id": "5d039a5b-9e17-4795-ac10-808d1fc32cbb",
   "metadata": {},
   "outputs": [
    {
     "data": {
      "text/html": [
       "<div>\n",
       "<style scoped>\n",
       "    .dataframe tbody tr th:only-of-type {\n",
       "        vertical-align: middle;\n",
       "    }\n",
       "\n",
       "    .dataframe tbody tr th {\n",
       "        vertical-align: top;\n",
       "    }\n",
       "\n",
       "    .dataframe thead th {\n",
       "        text-align: right;\n",
       "    }\n",
       "</style>\n",
       "<table border=\"1\" class=\"dataframe\">\n",
       "  <thead>\n",
       "    <tr style=\"text-align: right;\">\n",
       "      <th></th>\n",
       "      <th>chain</th>\n",
       "      <th>contract</th>\n",
       "      <th>type</th>\n",
       "      <th>platform</th>\n",
       "      <th>address</th>\n",
       "      <th>tx_hash</th>\n",
       "      <th>blk_num</th>\n",
       "      <th>timestamp</th>\n",
       "      <th>details</th>\n",
       "    </tr>\n",
       "  </thead>\n",
       "  <tbody>\n",
       "    <tr>\n",
       "      <th>0</th>\n",
       "      <td>polygon</td>\n",
       "      <td>uniswapv2pair</td>\n",
       "      <td>swap</td>\n",
       "      <td>sushi</td>\n",
       "      <td>0x882df4b0fb50a229c3b4124eb18c759911485bfb</td>\n",
       "      <td>0xd79754317a6dc99931b457377743e126bfc68b06fcab...</td>\n",
       "      <td>60837691</td>\n",
       "      <td>1724194664</td>\n",
       "      <td>{'web3_type': &lt;class 'web3._utils.datatypes.Sw...</td>\n",
       "    </tr>\n",
       "    <tr>\n",
       "      <th>1</th>\n",
       "      <td>polygon</td>\n",
       "      <td>uniswapv2pair</td>\n",
       "      <td>swap</td>\n",
       "      <td>sushi</td>\n",
       "      <td>0xc84f479bf220e38ba3bd0262049bad47aaa673ee</td>\n",
       "      <td>0xa8225f0ec90fffabfd023736aa96359a965b08357eaa...</td>\n",
       "      <td>60837697</td>\n",
       "      <td>1724194678</td>\n",
       "      <td>{'web3_type': &lt;class 'web3._utils.datatypes.Sw...</td>\n",
       "    </tr>\n",
       "    <tr>\n",
       "      <th>2</th>\n",
       "      <td>polygon</td>\n",
       "      <td>uniswapv2pair</td>\n",
       "      <td>swap</td>\n",
       "      <td>sushi</td>\n",
       "      <td>0x019011032a7ac3a87ee885b6c08467ac46ad11cd</td>\n",
       "      <td>0x6f0da99f786825c95847590d2535d47bbbf17c5d7321...</td>\n",
       "      <td>60837700</td>\n",
       "      <td>1724194684</td>\n",
       "      <td>{'web3_type': &lt;class 'web3._utils.datatypes.Sw...</td>\n",
       "    </tr>\n",
       "  </tbody>\n",
       "</table>\n",
       "</div>"
      ],
      "text/plain": [
       "     chain       contract  type platform  \\\n",
       "0  polygon  uniswapv2pair  swap    sushi   \n",
       "1  polygon  uniswapv2pair  swap    sushi   \n",
       "2  polygon  uniswapv2pair  swap    sushi   \n",
       "\n",
       "                                      address  \\\n",
       "0  0x882df4b0fb50a229c3b4124eb18c759911485bfb   \n",
       "1  0xc84f479bf220e38ba3bd0262049bad47aaa673ee   \n",
       "2  0x019011032a7ac3a87ee885b6c08467ac46ad11cd   \n",
       "\n",
       "                                             tx_hash   blk_num   timestamp  \\\n",
       "0  0xd79754317a6dc99931b457377743e126bfc68b06fcab...  60837691  1724194664   \n",
       "1  0xa8225f0ec90fffabfd023736aa96359a965b08357eaa...  60837697  1724194678   \n",
       "2  0x6f0da99f786825c95847590d2535d47bbbf17c5d7321...  60837700  1724194684   \n",
       "\n",
       "                                             details  \n",
       "0  {'web3_type': <class 'web3._utils.datatypes.Sw...  \n",
       "1  {'web3_type': <class 'web3._utils.datatypes.Sw...  \n",
       "2  {'web3_type': <class 'web3._utils.datatypes.Sw...  "
      ]
     },
     "execution_count": 9,
     "metadata": {},
     "output_type": "execute_result"
    }
   ],
   "source": [
    "df_events = pd.DataFrame.from_dict(events, orient='index') \n",
    "df_events"
   ]
  },
  {
   "cell_type": "code",
   "execution_count": 10,
   "id": "422ce20b-6cc5-41fc-b7ca-dae83a995096",
   "metadata": {},
   "outputs": [
    {
     "data": {
      "text/plain": [
       "{0: {'chain': 'polygon',\n",
       "  'contract': 'uniswapv2pair',\n",
       "  'type': 'swap',\n",
       "  'platform': 'sushi',\n",
       "  'address': '0x882df4b0fb50a229c3b4124eb18c759911485bfb',\n",
       "  'tx_hash': '0xd79754317a6dc99931b457377743e126bfc68b06fcabf3482028c0de9380767f',\n",
       "  'blk_num': 60837691,\n",
       "  'timestamp': 1724194664,\n",
       "  'details': {'web3_type': web3._utils.datatypes.Swap,\n",
       "   'token0': '0xa5E0829CaCEd8fFDD4De3c43696c57F7D7A678ff',\n",
       "   'token1': '0x07Ff4e06865de4934409Aa6eCea503b08Cc1C78d',\n",
       "   'amount0In': 4653060900965215000,\n",
       "   'amount1Out': 148515235}},\n",
       " 1: {'chain': 'polygon',\n",
       "  'contract': 'uniswapv2pair',\n",
       "  'type': 'swap',\n",
       "  'platform': 'sushi',\n",
       "  'address': '0xc84f479bf220e38ba3bd0262049bad47aaa673ee',\n",
       "  'tx_hash': '0xa8225f0ec90fffabfd023736aa96359a965b08357eaaba8db2be011cf43034a5',\n",
       "  'blk_num': 60837697,\n",
       "  'timestamp': 1724194678,\n",
       "  'details': {'web3_type': web3._utils.datatypes.Swap,\n",
       "   'token0': '0xAcc8e414ceeCF0BBF438f6c4B7417Ca59dcF7E47',\n",
       "   'token1': '0xAcc8e414ceeCF0BBF438f6c4B7417Ca59dcF7E47',\n",
       "   'amount0In': 0,\n",
       "   'amount1Out': 0}},\n",
       " 2: {'chain': 'polygon',\n",
       "  'contract': 'uniswapv2pair',\n",
       "  'type': 'swap',\n",
       "  'platform': 'sushi',\n",
       "  'address': '0x019011032a7ac3a87ee885b6c08467ac46ad11cd',\n",
       "  'tx_hash': '0x6f0da99f786825c95847590d2535d47bbbf17c5d7321f6b06eac51550245a03e',\n",
       "  'blk_num': 60837700,\n",
       "  'timestamp': 1724194684,\n",
       "  'details': {'web3_type': web3._utils.datatypes.Swap,\n",
       "   'token0': '0xDEF171Fe48CF0115B1d80b88dc8eAB59176FEe57',\n",
       "   'token1': '0xDEF171Fe48CF0115B1d80b88dc8eAB59176FEe57',\n",
       "   'amount0In': 0,\n",
       "   'amount1Out': 0}}}"
      ]
     },
     "execution_count": 10,
     "metadata": {},
     "output_type": "execute_result"
    }
   ],
   "source": [
    "events"
   ]
  }
 ],
 "metadata": {
  "kernelspec": {
   "display_name": "Python 3 (ipykernel)",
   "language": "python",
   "name": "python3"
  },
  "language_info": {
   "codemirror_mode": {
    "name": "ipython",
    "version": 3
   },
   "file_extension": ".py",
   "mimetype": "text/x-python",
   "name": "python",
   "nbconvert_exporter": "python",
   "pygments_lexer": "ipython3",
   "version": "3.10.0rc2"
  }
 },
 "nbformat": 4,
 "nbformat_minor": 5
}
