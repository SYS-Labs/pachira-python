{
 "cells": [
  {
   "cell_type": "markdown",
   "id": "50460427-9e32-4701-af56-605a1be5faab",
   "metadata": {},
   "source": [
    "## Cull Oracle TX\n",
    "* See [0x90bc3e68ba8393a3bf2d79309365089975341a43](https://polygonscan.com/address/0x90bc3e68ba8393a3bf2d79309365089975341a43) for contract on polygon explorer"
   ]
  },
  {
   "cell_type": "code",
   "execution_count": 2,
   "id": "eeefcf0e-ca61-472d-a4e9-c613c6e7a70a",
   "metadata": {},
   "outputs": [],
   "source": [
    "import os\n",
    "import time\n",
    "import pandas as pd\n",
    "from web3 import HTTPProvider, Web3\n",
    "from datetime import datetime\n",
    "from pachira import *"
   ]
  },
  {
   "cell_type": "code",
   "execution_count": 3,
   "id": "bcd5523b-0d6b-4e3e-a7cf-540eff3d87de",
   "metadata": {},
   "outputs": [],
   "source": [
    "POLY_POOL_CONTRACT = '0x90bc3e68ba8393a3bf2d79309365089975341a43'"
   ]
  },
  {
   "cell_type": "code",
   "execution_count": 4,
   "id": "21ae04f3-15a2-4027-b7e0-0992db25c3c4",
   "metadata": {},
   "outputs": [],
   "source": [
    "chain = Net.POLYGON\n",
    "platform = Platform.SUSHI\n",
    "contract = JSONContract.UniswapV2Pair\n",
    "\n",
    "json_rpc_url = os.environ.get(RPC.get_key(chain), RPC.get_rpc(chain))\n",
    "web3 = Web3(HTTPProvider(json_rpc_url))\n",
    "web3.middleware_onion.clear()"
   ]
  },
  {
   "cell_type": "code",
   "execution_count": 12,
   "id": "dd526601-4db0-425e-93d8-9dfff66dee7a",
   "metadata": {},
   "outputs": [],
   "source": [
    "# Get contracts\n",
    "abi_path = platform + '/' + contract + '.json'\n",
    "Pair = ABILoad().get_contract(web3, abi_path)\n",
    "sync_filt = Filter.create_filter(address=None, event_types=[Pair.events.Sync])  # Listen events from any smart contract"
   ]
  },
  {
   "cell_type": "code",
   "execution_count": 19,
   "id": "4ee7265e-f764-4c95-9a3f-ee5b40cc118a",
   "metadata": {},
   "outputs": [],
   "source": [
    "reorg_mon = JSONRPCReorganizationMonitor(web3, check_depth=3)\n",
    "reorg_mon.load_initial_block_headers(block_count=5)\n",
    "processed_events = set()\n",
    "latest_block = reorg_mon.get_last_block_live()\n",
    "chain_reorg_resolution = reorg_mon.update_chain()\n",
    "start, end = chain_reorg_resolution.get_read_range()"
   ]
  },
  {
   "cell_type": "code",
   "execution_count": 20,
   "id": "f094eec3-63b2-4ef0-996b-062b45aa6388",
   "metadata": {},
   "outputs": [],
   "source": [
    "start = start - 100"
   ]
  },
  {
   "cell_type": "code",
   "execution_count": 21,
   "id": "3da6734f-2a72-4008-97cc-915f15155f54",
   "metadata": {},
   "outputs": [],
   "source": [
    "rOracleEvents = ReadEvents().apply(web3, start_block=start, end_block=end, filter=sync_filt)"
   ]
  },
  {
   "cell_type": "code",
   "execution_count": 22,
   "id": "961b0d06-f74f-4f5c-9037-fa9ff2aeda69",
   "metadata": {},
   "outputs": [
    {
     "name": "stdout",
     "output_type": "stream",
     "text": [
      "Sync at block:65,328,645 tx:0x5387c065a129f7e18ddec49cfccfadf52c4c1a1196e58c5a8d8283da3e05a993\n",
      ".\n"
     ]
    }
   ],
   "source": [
    "events = {}\n",
    "evt: LogResult\n",
    "for k, evt in enumerate(rOracleEvents):\n",
    "    # How to uniquely identify EVM logs\n",
    "    key = evt[\"blockHash\"] + evt[\"transactionHash\"] + evt[\"logIndex\"]\n",
    "    topics = evt[\"topics\"]\n",
    "    arguments = Conversion().decode_data(evt[\"data\"])\n",
    "    pair: PairDetails = FetchPairDetails().apply(web3, evt['address'])\n",
    "\n",
    "    amt0 = Conversion().convert_int256_bytes_to_int(arguments[0]) \n",
    "    amt1 = Conversion().convert_int256_bytes_to_int(arguments[1])  \n",
    "    amt0_human = amt0/(10**pair.token0.decimals)\n",
    "    amt1_human = amt1/(10**pair.token1.decimals)    \n",
    "\n",
    "    event = {}\n",
    "    event['chain'] = chain\n",
    "    event['contract'] = contract.lower()\n",
    "    event['type'] = evt[\"event\"].event_name.lower()\n",
    "    event['platform'] = platform\n",
    "    event['address'] = evt[\"address\"]\n",
    "    event['tx_hash'] = evt[\"transactionHash\"]\n",
    "    event['blk_num'] = evt[\"blockNumber\"]\n",
    "    event['timestamp'] = evt[\"timestamp\"]\n",
    "    event['details'] = {}\n",
    "    event['details']['web3_type'] = evt['event']\n",
    "    event['details']['token0'] = pair.token0.address\n",
    "    event['details']['token1'] = pair.token1.address\n",
    "    event['details']['token0_symbol'] = pair.token0.symbol\n",
    "    event['details']['token1_symbol'] = pair.token1.symbol \n",
    "    event['details']['token0_decimal'] = pair.token0.decimals\n",
    "    event['details']['token1_decimal'] = pair.token1.decimals        \n",
    "    event['details']['amount0'] = amt0\n",
    "    event['details']['amount1'] = amt1\n",
    "    event['details']['price'] = amt1_human/amt0_human\n",
    "    \n",
    "    events[k] = event\n",
    "    if key not in processed_events and event['address'] == POLY_POOL_CONTRACT:\n",
    "        print(f\"Sync at block:{evt['blockNumber']:,} tx:{evt['transactionHash']}\")\n",
    "        processed_events.add(key)\n",
    "else:\n",
    "    print(\".\")"
   ]
  },
  {
   "cell_type": "code",
   "execution_count": 24,
   "id": "b8925e5f-d7af-4d1e-bf49-0dd19dfb7f55",
   "metadata": {},
   "outputs": [],
   "source": [
    "df_events = pd.DataFrame.from_dict(events, orient='index') \n",
    "df_events = df_events[df_events['address'].values == POLY_POOL_CONTRACT]\n",
    "df_events.sort_values(by=[\"blk_num\"], ascending=[False], inplace=True)\n",
    "df_events.reset_index(drop=True, inplace=True)"
   ]
  },
  {
   "cell_type": "code",
   "execution_count": 28,
   "id": "438f8eb6-82a3-458c-9eae-b9e88e5144f5",
   "metadata": {},
   "outputs": [
    {
     "data": {
      "text/html": [
       "<div>\n",
       "<style scoped>\n",
       "    .dataframe tbody tr th:only-of-type {\n",
       "        vertical-align: middle;\n",
       "    }\n",
       "\n",
       "    .dataframe tbody tr th {\n",
       "        vertical-align: top;\n",
       "    }\n",
       "\n",
       "    .dataframe thead th {\n",
       "        text-align: right;\n",
       "    }\n",
       "</style>\n",
       "<table border=\"1\" class=\"dataframe\">\n",
       "  <thead>\n",
       "    <tr style=\"text-align: right;\">\n",
       "      <th></th>\n",
       "      <th>chain</th>\n",
       "      <th>contract</th>\n",
       "      <th>type</th>\n",
       "      <th>platform</th>\n",
       "      <th>address</th>\n",
       "      <th>tx_hash</th>\n",
       "      <th>blk_num</th>\n",
       "      <th>timestamp</th>\n",
       "      <th>details</th>\n",
       "    </tr>\n",
       "  </thead>\n",
       "  <tbody>\n",
       "    <tr>\n",
       "      <th>0</th>\n",
       "      <td>polygon</td>\n",
       "      <td>uniswapv2pair</td>\n",
       "      <td>sync</td>\n",
       "      <td>sushi</td>\n",
       "      <td>0x90bc3e68ba8393a3bf2d79309365089975341a43</td>\n",
       "      <td>0x5387c065a129f7e18ddec49cfccfadf52c4c1a1196e5...</td>\n",
       "      <td>65328645</td>\n",
       "      <td>1733871028</td>\n",
       "      <td>{'web3_type': &lt;class 'web3._utils.datatypes.Sy...</td>\n",
       "    </tr>\n",
       "  </tbody>\n",
       "</table>\n",
       "</div>"
      ],
      "text/plain": [
       "     chain       contract  type platform  \\\n",
       "0  polygon  uniswapv2pair  sync    sushi   \n",
       "\n",
       "                                      address  \\\n",
       "0  0x90bc3e68ba8393a3bf2d79309365089975341a43   \n",
       "\n",
       "                                             tx_hash   blk_num   timestamp  \\\n",
       "0  0x5387c065a129f7e18ddec49cfccfadf52c4c1a1196e5...  65328645  1733871028   \n",
       "\n",
       "                                             details  \n",
       "0  {'web3_type': <class 'web3._utils.datatypes.Sy...  "
      ]
     },
     "execution_count": 28,
     "metadata": {},
     "output_type": "execute_result"
    }
   ],
   "source": [
    "df_events"
   ]
  },
  {
   "cell_type": "code",
   "execution_count": 29,
   "id": "246f55da-8a9c-4a60-97bf-01bfa6fc9e50",
   "metadata": {},
   "outputs": [
    {
     "data": {
      "text/plain": [
       "{0: {'chain': 'polygon',\n",
       "  'contract': 'uniswapv2pair',\n",
       "  'type': 'sync',\n",
       "  'platform': 'sushi',\n",
       "  'address': '0x90bc3e68ba8393a3bf2d79309365089975341a43',\n",
       "  'tx_hash': '0x5387c065a129f7e18ddec49cfccfadf52c4c1a1196e58c5a8d8283da3e05a993',\n",
       "  'blk_num': 65328645,\n",
       "  'timestamp': 1733871028,\n",
       "  'details': {'web3_type': web3._utils.datatypes.Sync,\n",
       "   'token0': '0x7ceB23fD6bC0adD59E62ac25578270cFf1b9f619',\n",
       "   'token1': '0xD6DF932A45C0f255f85145f286eA0b292B21C90B',\n",
       "   'token0_symbol': 'WETH',\n",
       "   'token1_symbol': 'AAVE',\n",
       "   'token0_decimal': 18,\n",
       "   'token1_decimal': 18,\n",
       "   'amount0': 18395342747844443471,\n",
       "   'amount1': 245833192469072045843,\n",
       "   'price': 13.36388214336907}}}"
      ]
     },
     "execution_count": 29,
     "metadata": {},
     "output_type": "execute_result"
    }
   ],
   "source": [
    "pd.DataFrame.to_dict(df_events, orient='index') "
   ]
  }
 ],
 "metadata": {
  "kernelspec": {
   "display_name": "Python 3 (ipykernel)",
   "language": "python",
   "name": "python3"
  },
  "language_info": {
   "codemirror_mode": {
    "name": "ipython",
    "version": 3
   },
   "file_extension": ".py",
   "mimetype": "text/x-python",
   "name": "python",
   "nbconvert_exporter": "python",
   "pygments_lexer": "ipython3",
   "version": "3.10.0rc2"
  }
 },
 "nbformat": 4,
 "nbformat_minor": 5
}
