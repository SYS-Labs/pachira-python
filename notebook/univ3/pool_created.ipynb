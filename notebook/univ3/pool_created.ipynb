{
 "cells": [
  {
   "cell_type": "code",
   "execution_count": 1,
   "id": "44b62425-ab67-4ee7-92d0-164f73403fb9",
   "metadata": {},
   "outputs": [],
   "source": [
    "import os\n",
    "import time\n",
    "import pandas as pd\n",
    "from web3 import HTTPProvider, Web3\n",
    "from pachira import *"
   ]
  },
  {
   "cell_type": "code",
   "execution_count": 2,
   "id": "6189529d-59c5-4eda-9077-b3b19838c4b7",
   "metadata": {},
   "outputs": [],
   "source": [
    "def direction(val):\n",
    "    val1 = Conversion().convert_int256_bytes_to_int(val, signed=False) \n",
    "    val2 = Conversion().convert_int256_bytes_to_int(val, signed=True)\n",
    "    return val1 != val2"
   ]
  },
  {
   "cell_type": "code",
   "execution_count": 3,
   "id": "abf50091-b943-4a71-9e0d-a3f60e0a6a03",
   "metadata": {},
   "outputs": [],
   "source": [
    "chain = Net.POLYGON\n",
    "platform = Platform.UNIV3\n",
    "contract = JSONContract.UniswapV3Factory\n",
    "\n",
    "json_rpc_url = os.environ.get(RPC.get_key(chain), RPC.get_rpc(chain))\n",
    "web3 = Web3(HTTPProvider(json_rpc_url))\n",
    "web3.middleware_onion.clear()"
   ]
  },
  {
   "cell_type": "code",
   "execution_count": 4,
   "id": "c061726b-c060-4a73-8842-ccf7bdaff170",
   "metadata": {},
   "outputs": [],
   "source": [
    "# Get contracts\n",
    "abi_path = platform + '/' + contract + '.json'\n",
    "Pair = ABILoading().get_contract(web3, abi_path)\n",
    "pool_created_filt = Filter.create_filter(address=None, event_types=[Pair.events.PoolCreated])  # Listen events from any smart contract"
   ]
  },
  {
   "cell_type": "code",
   "execution_count": 5,
   "id": "ca261079-3b76-41b3-8e76-35e7147e20bf",
   "metadata": {},
   "outputs": [],
   "source": [
    "reorg_mon = JSONRPCReorganizationMonitor(web3, check_depth=3)\n",
    "reorg_mon.load_initial_block_headers(block_count=5)\n",
    "processed_events = set()\n",
    "latest_block = reorg_mon.get_last_block_live()\n",
    "chain_reorg_resolution = reorg_mon.update_chain()\n",
    "start, end = chain_reorg_resolution.get_read_range()"
   ]
  },
  {
   "cell_type": "code",
   "execution_count": 6,
   "id": "24a43955-e4c3-4f5b-b932-6f2461c1c746",
   "metadata": {},
   "outputs": [],
   "source": [
    "start = start - 10000"
   ]
  },
  {
   "cell_type": "code",
   "execution_count": 7,
   "id": "3f785d0f-c3e3-4e09-84ad-8d80a137b484",
   "metadata": {},
   "outputs": [],
   "source": [
    "rEvents = ReadEvents().apply(web3, start_block=start, end_block=end, filter=pool_created_filt)"
   ]
  },
  {
   "cell_type": "code",
   "execution_count": 8,
   "id": "e7fc539a-7482-4285-98d2-aa9fda72517c",
   "metadata": {},
   "outputs": [
    {
     "name": "stdout",
     "output_type": "stream",
     "text": [
      "Swap at block:60,948,620 tx:0x6acee33d42fc0595ea62abfacb8fbe7a3a699f485043a0f36cb8554cf50c68fa\n",
      "Swap at block:60,950,236 tx:0x3e93aa13efd799428438be83adf86ad7103eef633455ac0b6b909912847df122\n",
      "Swap at block:60,950,295 tx:0x8241af9c54fb3028937e52eb4423659da44fc89f1d1746542f08b9b779d7d80e\n",
      "Swap at block:60,954,068 tx:0xbe47cf804cc7adfa632ffe1a0f9005bd20e277e6a79e4d22c5e237fe7224529e\n",
      ".\n"
     ]
    }
   ],
   "source": [
    "events = {}\n",
    "evt: LogResult\n",
    "for k, evt in enumerate(rEvents):\n",
    "    # How to uniquely identify EVM logs\n",
    "    key = evt[\"blockHash\"] + evt[\"transactionHash\"] + evt[\"logIndex\"]\n",
    "    event_signature, token0, token1, fee = evt[\"topics\"]\n",
    "    args = Conversion().decode_data(evt[\"data\"])\n",
    "\n",
    "    token0_address = Conversion().convert_uint256_string_to_address(token0)\n",
    "    token1_address = Conversion().convert_uint256_string_to_address(token1)\n",
    "    token0 = Token().fetch_erc20_details(web3, token0_address, raise_on_error=False)\n",
    "    token1 = Token().fetch_erc20_details(web3, token1_address, raise_on_error=False)\n",
    "    \n",
    "    event = {}\n",
    "    event['chain'] = chain\n",
    "    event['contract'] = contract.lower()\n",
    "    event['type'] = evt[\"event\"].event_name.lower()\n",
    "    event['platform'] = platform\n",
    "    event['address'] = evt[\"address\"]\n",
    "    event['tx_hash'] = evt[\"transactionHash\"]\n",
    "    event['blk_num'] = evt[\"blockNumber\"]\n",
    "    event['timestamp'] = evt[\"timestamp\"]\n",
    "    event['details'] = {}\n",
    "    event['details']['web3_type'] = evt[\"event\"]\n",
    "    event['details']['token0'] = token0_address\n",
    "    event['details']['token1'] = token1_address\n",
    "    event['details']['token0_symbol'] = token0.symbol\n",
    "    event['details']['token1_symbol'] = token1.symbol  \n",
    "    event['details']['fee'] = Conversion().convert_uint256_string_to_int(fee) \n",
    " \n",
    "    events[k] = event\n",
    "    if key not in processed_events:\n",
    "        print(f\"Swap at block:{evt['blockNumber']:,} tx:{evt['transactionHash']}\")\n",
    "        processed_events.add(key)\n",
    "else:\n",
    "    print(\".\")\n"
   ]
  },
  {
   "cell_type": "code",
   "execution_count": 9,
   "id": "5d039a5b-9e17-4795-ac10-808d1fc32cbb",
   "metadata": {},
   "outputs": [
    {
     "data": {
      "text/html": [
       "<div>\n",
       "<style scoped>\n",
       "    .dataframe tbody tr th:only-of-type {\n",
       "        vertical-align: middle;\n",
       "    }\n",
       "\n",
       "    .dataframe tbody tr th {\n",
       "        vertical-align: top;\n",
       "    }\n",
       "\n",
       "    .dataframe thead th {\n",
       "        text-align: right;\n",
       "    }\n",
       "</style>\n",
       "<table border=\"1\" class=\"dataframe\">\n",
       "  <thead>\n",
       "    <tr style=\"text-align: right;\">\n",
       "      <th></th>\n",
       "      <th>chain</th>\n",
       "      <th>contract</th>\n",
       "      <th>type</th>\n",
       "      <th>platform</th>\n",
       "      <th>address</th>\n",
       "      <th>tx_hash</th>\n",
       "      <th>blk_num</th>\n",
       "      <th>timestamp</th>\n",
       "      <th>details</th>\n",
       "    </tr>\n",
       "  </thead>\n",
       "  <tbody>\n",
       "    <tr>\n",
       "      <th>0</th>\n",
       "      <td>polygon</td>\n",
       "      <td>uniswapv3factory</td>\n",
       "      <td>poolcreated</td>\n",
       "      <td>uniswap_v3</td>\n",
       "      <td>0x1f98431c8ad98523631ae4a59f267346ea31f984</td>\n",
       "      <td>0x6acee33d42fc0595ea62abfacb8fbe7a3a699f485043...</td>\n",
       "      <td>60948620</td>\n",
       "      <td>1724431786</td>\n",
       "      <td>{'web3_type': &lt;class 'web3._utils.datatypes.Po...</td>\n",
       "    </tr>\n",
       "    <tr>\n",
       "      <th>1</th>\n",
       "      <td>polygon</td>\n",
       "      <td>uniswapv3factory</td>\n",
       "      <td>poolcreated</td>\n",
       "      <td>uniswap_v3</td>\n",
       "      <td>0x1f98431c8ad98523631ae4a59f267346ea31f984</td>\n",
       "      <td>0x3e93aa13efd799428438be83adf86ad7103eef633455...</td>\n",
       "      <td>60950236</td>\n",
       "      <td>1724435346</td>\n",
       "      <td>{'web3_type': &lt;class 'web3._utils.datatypes.Po...</td>\n",
       "    </tr>\n",
       "    <tr>\n",
       "      <th>2</th>\n",
       "      <td>polygon</td>\n",
       "      <td>uniswapv3factory</td>\n",
       "      <td>poolcreated</td>\n",
       "      <td>uniswap_v3</td>\n",
       "      <td>0x1f98431c8ad98523631ae4a59f267346ea31f984</td>\n",
       "      <td>0x8241af9c54fb3028937e52eb4423659da44fc89f1d17...</td>\n",
       "      <td>60950295</td>\n",
       "      <td>1724435472</td>\n",
       "      <td>{'web3_type': &lt;class 'web3._utils.datatypes.Po...</td>\n",
       "    </tr>\n",
       "    <tr>\n",
       "      <th>3</th>\n",
       "      <td>polygon</td>\n",
       "      <td>uniswapv3factory</td>\n",
       "      <td>poolcreated</td>\n",
       "      <td>uniswap_v3</td>\n",
       "      <td>0x1f98431c8ad98523631ae4a59f267346ea31f984</td>\n",
       "      <td>0xbe47cf804cc7adfa632ffe1a0f9005bd20e277e6a79e...</td>\n",
       "      <td>60954068</td>\n",
       "      <td>1724443621</td>\n",
       "      <td>{'web3_type': &lt;class 'web3._utils.datatypes.Po...</td>\n",
       "    </tr>\n",
       "  </tbody>\n",
       "</table>\n",
       "</div>"
      ],
      "text/plain": [
       "     chain          contract         type    platform  \\\n",
       "0  polygon  uniswapv3factory  poolcreated  uniswap_v3   \n",
       "1  polygon  uniswapv3factory  poolcreated  uniswap_v3   \n",
       "2  polygon  uniswapv3factory  poolcreated  uniswap_v3   \n",
       "3  polygon  uniswapv3factory  poolcreated  uniswap_v3   \n",
       "\n",
       "                                      address  \\\n",
       "0  0x1f98431c8ad98523631ae4a59f267346ea31f984   \n",
       "1  0x1f98431c8ad98523631ae4a59f267346ea31f984   \n",
       "2  0x1f98431c8ad98523631ae4a59f267346ea31f984   \n",
       "3  0x1f98431c8ad98523631ae4a59f267346ea31f984   \n",
       "\n",
       "                                             tx_hash   blk_num   timestamp  \\\n",
       "0  0x6acee33d42fc0595ea62abfacb8fbe7a3a699f485043...  60948620  1724431786   \n",
       "1  0x3e93aa13efd799428438be83adf86ad7103eef633455...  60950236  1724435346   \n",
       "2  0x8241af9c54fb3028937e52eb4423659da44fc89f1d17...  60950295  1724435472   \n",
       "3  0xbe47cf804cc7adfa632ffe1a0f9005bd20e277e6a79e...  60954068  1724443621   \n",
       "\n",
       "                                             details  \n",
       "0  {'web3_type': <class 'web3._utils.datatypes.Po...  \n",
       "1  {'web3_type': <class 'web3._utils.datatypes.Po...  \n",
       "2  {'web3_type': <class 'web3._utils.datatypes.Po...  \n",
       "3  {'web3_type': <class 'web3._utils.datatypes.Po...  "
      ]
     },
     "execution_count": 9,
     "metadata": {},
     "output_type": "execute_result"
    }
   ],
   "source": [
    "df_events = pd.DataFrame.from_dict(events, orient='index') \n",
    "df_events"
   ]
  },
  {
   "cell_type": "code",
   "execution_count": 10,
   "id": "422ce20b-6cc5-41fc-b7ca-dae83a995096",
   "metadata": {},
   "outputs": [
    {
     "data": {
      "text/plain": [
       "{0: {'chain': 'polygon',\n",
       "  'contract': 'uniswapv3factory',\n",
       "  'type': 'poolcreated',\n",
       "  'platform': 'uniswap_v3',\n",
       "  'address': '0x1f98431c8ad98523631ae4a59f267346ea31f984',\n",
       "  'tx_hash': '0x6acee33d42fc0595ea62abfacb8fbe7a3a699f485043a0f36cb8554cf50c68fa',\n",
       "  'blk_num': 60948620,\n",
       "  'timestamp': 1724431786,\n",
       "  'details': {'web3_type': web3._utils.datatypes.PoolCreated,\n",
       "   'token0': '0x3c499c542cEF5E3811e1192ce70d8cC03d5c3359',\n",
       "   'token1': '0x81f74cFc4BB3ceC49aF904B9c3e457826b308059',\n",
       "   'token0_symbol': 'USDC',\n",
       "   'token1_symbol': 'brett',\n",
       "   'fee': 3000}},\n",
       " 1: {'chain': 'polygon',\n",
       "  'contract': 'uniswapv3factory',\n",
       "  'type': 'poolcreated',\n",
       "  'platform': 'uniswap_v3',\n",
       "  'address': '0x1f98431c8ad98523631ae4a59f267346ea31f984',\n",
       "  'tx_hash': '0x3e93aa13efd799428438be83adf86ad7103eef633455ac0b6b909912847df122',\n",
       "  'blk_num': 60950236,\n",
       "  'timestamp': 1724435346,\n",
       "  'details': {'web3_type': web3._utils.datatypes.PoolCreated,\n",
       "   'token0': '0x6169A15C32678E3eD0Be1A60679BEc1914AeeC7e',\n",
       "   'token1': '0xc2132D05D31c914a87C6611C10748AEb04B58e8F',\n",
       "   'token0_symbol': 'GLDM',\n",
       "   'token1_symbol': 'USDT',\n",
       "   'fee': 500}},\n",
       " 2: {'chain': 'polygon',\n",
       "  'contract': 'uniswapv3factory',\n",
       "  'type': 'poolcreated',\n",
       "  'platform': 'uniswap_v3',\n",
       "  'address': '0x1f98431c8ad98523631ae4a59f267346ea31f984',\n",
       "  'tx_hash': '0x8241af9c54fb3028937e52eb4423659da44fc89f1d1746542f08b9b779d7d80e',\n",
       "  'blk_num': 60950295,\n",
       "  'timestamp': 1724435472,\n",
       "  'details': {'web3_type': web3._utils.datatypes.PoolCreated,\n",
       "   'token0': '0x7ceB23fD6bC0adD59E62ac25578270cFf1b9f619',\n",
       "   'token1': '0x98330A4a5732D6328469f0073Ec4824b9212C2E2',\n",
       "   'token0_symbol': 'WETH',\n",
       "   'token1_symbol': 'dog',\n",
       "   'fee': 3000}},\n",
       " 3: {'chain': 'polygon',\n",
       "  'contract': 'uniswapv3factory',\n",
       "  'type': 'poolcreated',\n",
       "  'platform': 'uniswap_v3',\n",
       "  'address': '0x1f98431c8ad98523631ae4a59f267346ea31f984',\n",
       "  'tx_hash': '0xbe47cf804cc7adfa632ffe1a0f9005bd20e277e6a79e4d22c5e237fe7224529e',\n",
       "  'blk_num': 60954068,\n",
       "  'timestamp': 1724443621,\n",
       "  'details': {'web3_type': web3._utils.datatypes.PoolCreated,\n",
       "   'token0': '0x2791Bca1f2de4661ED88A30C99A7a9449Aa84174',\n",
       "   'token1': '0x91f3B9366801C1fCa6184C3bD99d5Ab0C43A9033',\n",
       "   'token0_symbol': 'USDC',\n",
       "   'token1_symbol': 'ICNX',\n",
       "   'fee': 10000}}}"
      ]
     },
     "execution_count": 10,
     "metadata": {},
     "output_type": "execute_result"
    }
   ],
   "source": [
    "events"
   ]
  }
 ],
 "metadata": {
  "kernelspec": {
   "display_name": "Python 3 (ipykernel)",
   "language": "python",
   "name": "python3"
  },
  "language_info": {
   "codemirror_mode": {
    "name": "ipython",
    "version": 3
   },
   "file_extension": ".py",
   "mimetype": "text/x-python",
   "name": "python",
   "nbconvert_exporter": "python",
   "pygments_lexer": "ipython3",
   "version": "3.10.0rc2"
  }
 },
 "nbformat": 4,
 "nbformat_minor": 5
}
