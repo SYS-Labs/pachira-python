{
 "cells": [
  {
   "cell_type": "markdown",
   "id": "c4173a7d-5b84-4585-b9d9-7f5d28061e8e",
   "metadata": {},
   "source": [
    "* https://web3py.readthedocs.io/en/stable/quickstart.html#local-providers\n",
    "* https://web3py.readthedocs.io/en/stable/examples.html#getting-the-latest-block\n",
    "* https://stackoverflow.com/questions/77149484/how-can-i-generate-the-abi-of-my-smart-contract-locally-with-foundry-forge\n",
    "* https://book.getfoundry.sh/reference/forge/forge-inspect"
   ]
  },
  {
   "cell_type": "markdown",
   "id": "2afa8a40-554d-4b78-85b6-0ab77d868922",
   "metadata": {},
   "source": [
    "### Build\n",
    "$ forge build\n",
    "\n",
    "### Local Deployment\n",
    "##### 1. Start local node\n",
    "$ anvil\n",
    "\n",
    "##### 2. Deploy\n",
    "$ forge script script/MintableRCStudy.s.sol --rpc-url http://127.0.0.1:8545 --broadcast \n",
    "\n",
    "##### 3. Mint\n",
    "$ forge script script/AddLiquidity.s.sol --rpc-url http://127.0.0.1:8545 --broadcast \n",
    "\n",
    "##### 4. Capture ABI\n",
    "$ forge inspect --pretty script/AddLiquidity.s.sol:AddLiquidityScript abi \n",
    "\n",
    "$ forge inspect script/AddLiquidity.s.sol:AddLiquidityScript abi > configs/AddLiquidityScript.json\n",
    "\n",
    "$ forge inspect script/MintableRCStudy.s.sol:MintableRCStudyScript abi > configs/MintableRCStudyScript.json"
   ]
  },
  {
   "cell_type": "code",
   "execution_count": 1,
   "id": "385ba944-3543-41d7-98ee-687cfe78266c",
   "metadata": {},
   "outputs": [],
   "source": [
    "def concat_str(str0, max_len = None):\n",
    "    max_len = 40 if max_len == None else max_len\n",
    "    str0 = \"\".join([str0, \" \"])\n",
    "    str_len = len(str0)\n",
    "    return str0.ljust(max_len, ' ')\n",
    "\n",
    "def str_output(in0, in1, max_len = None):    \n",
    "    print_str_list = [concat_str(in0, max_len), str(in1)]    \n",
    "    return ''.join(print_str_list)\n",
    "\n",
    "def call_fn(contract, str_fn):\n",
    "    attr = getattr(contract.functions, str_fn)\n",
    "    return attr().call()"
   ]
  },
  {
   "cell_type": "code",
   "execution_count": 2,
   "id": "c89ad002-22b9-4a5c-972b-e84d7873e5f5",
   "metadata": {},
   "outputs": [],
   "source": [
    "from web3 import Web3\n",
    "import json\n",
    "from pachira import *"
   ]
  },
  {
   "cell_type": "code",
   "execution_count": 3,
   "id": "fce446c2-117a-42d4-8895-a8737c1628c5",
   "metadata": {},
   "outputs": [
    {
     "data": {
      "text/plain": [
       "{'basePool': '0x387E3656De052275554f8D8B78C4B1a9B088345C',\n",
       " 'indexedPool': '0x5FC8d32690cc91D4c39d9d3abcBD16989F875707',\n",
       " 'rc': '0xfAEFac1C9e8AF3a030857C4e61066f0a510253AF',\n",
       " 'study': '0x0165878A594ca255338adfa4d48449f69242Eb8F',\n",
       " 'subjectToken': '0x9fE46736679d2D9a65F0992F2272dE9f3c7fa6e0'}"
      ]
     },
     "execution_count": 3,
     "metadata": {},
     "output_type": "execute_result"
    }
   ],
   "source": [
    "test_net_addresses_path = '/Users/ian_moore/repos/indexeddefi/script/deployments/TestnetStage1-addresses.json'\n",
    "\n",
    "f = open(test_net_addresses_path)\n",
    "test_net_addresses = json.load(f)\n",
    "test_net_addresses"
   ]
  },
  {
   "cell_type": "markdown",
   "id": "bbf1447c-4101-44e1-8f26-97edd34f6b84",
   "metadata": {},
   "source": [
    "#### Connect locally"
   ]
  },
  {
   "cell_type": "code",
   "execution_count": 4,
   "id": "8e129eae-7108-42dc-a6ed-c1d9eb426ce7",
   "metadata": {},
   "outputs": [
    {
     "data": {
      "text/plain": [
       "True"
      ]
     },
     "execution_count": 4,
     "metadata": {},
     "output_type": "execute_result"
    }
   ],
   "source": [
    "w3 = Web3(Web3.HTTPProvider('http://127.0.0.1:8545'))\n",
    "w3.is_connected()"
   ]
  },
  {
   "cell_type": "markdown",
   "id": "c8029809-804a-4bf2-9eac-e1c9b96c370c",
   "metadata": {},
   "source": [
    "#### Test: get arbitrary block"
   ]
  },
  {
   "cell_type": "code",
   "execution_count": 5,
   "id": "5b37b5df-a0a1-4981-8077-0072e2f90bbf",
   "metadata": {},
   "outputs": [
    {
     "data": {
      "text/plain": [
       "AttributeDict({'hash': HexBytes('0xb45d3cd7663c39b5378fa112c76724fa862c4163cdc1c52a5332f8b8f5014046'),\n",
       " 'parentHash': HexBytes('0xa47c3730f2ee91ea947160f8d9c4f9d987bc1007289b5045451a9499ecc33b3f'),\n",
       " 'sha3Uncles': HexBytes('0x1dcc4de8dec75d7aab85b567b6ccd41ad312451b948a7413f0a142fd40d49347'),\n",
       " 'miner': '0x0000000000000000000000000000000000000000',\n",
       " 'stateRoot': HexBytes('0xe508dbfaa714a462304723852c7f92dbda9bbd82bd05d72d569aafaa70cd3408'),\n",
       " 'transactionsRoot': HexBytes('0x9e54733bfc556d3b8a82b14188cd167a61076168129b71a2cc2b22245535f9a4'),\n",
       " 'receiptsRoot': HexBytes('0x2e0baf6013ca05214714aaec7a1a4953a5de10d4c60e3193fe22e1e1263c212a'),\n",
       " 'logsBloom': HexBytes('0x00000000000000000000000000000000000000000000000000000000000000000000000000000000000000000000000000000000000000000000000000000000000000000000000000000000000000000000000000000000000000000000000000000000000000000000000000000000000000000000000000000000000000000000000000000000000000000000000000000000000000000000000000000000000000000000000000000000000000000000000000000000000000000000000000000000000000000000000000000000000000000000000000000000000000000000000000000000000000000000000000000000000000000000000000000000'),\n",
       " 'difficulty': 0,\n",
       " 'number': 6,\n",
       " 'gasLimit': 30000000,\n",
       " 'gasUsed': 25825,\n",
       " 'timestamp': 1724189442,\n",
       " 'totalDifficulty': 0,\n",
       " 'extraData': HexBytes('0x'),\n",
       " 'mixHash': HexBytes('0x0000000000000000000000000000000000000000000000000000000000000000'),\n",
       " 'nonce': HexBytes('0x0000000000000000'),\n",
       " 'baseFeePerGas': 593976813,\n",
       " 'blobGasUsed': '0x0',\n",
       " 'excessBlobGas': '0x0',\n",
       " 'uncles': [],\n",
       " 'transactions': [HexBytes('0xeb21b8193c13bc71f434b7a628be7b7b9e42f724ec86136b6600a4071f024295')],\n",
       " 'size': 698})"
      ]
     },
     "execution_count": 5,
     "metadata": {},
     "output_type": "execute_result"
    }
   ],
   "source": [
    "block = w3.eth.get_block(6)\n",
    "block"
   ]
  },
  {
   "cell_type": "markdown",
   "id": "9ca4aa77-753f-446d-a636-21cbee177ce0",
   "metadata": {},
   "source": [
    "#### Test: pull tx data from block"
   ]
  },
  {
   "cell_type": "code",
   "execution_count": 6,
   "id": "5e4faf5d-d983-47b9-8047-350872a8e6c9",
   "metadata": {},
   "outputs": [
    {
     "data": {
      "text/plain": [
       "AttributeDict({'hash': HexBytes('0xeb21b8193c13bc71f434b7a628be7b7b9e42f724ec86136b6600a4071f024295'),\n",
       " 'nonce': 10,\n",
       " 'blockHash': HexBytes('0xb45d3cd7663c39b5378fa112c76724fa862c4163cdc1c52a5332f8b8f5014046'),\n",
       " 'blockNumber': 6,\n",
       " 'transactionIndex': 0,\n",
       " 'from': '0xf39Fd6e51aad88F6F4ce6aB8827279cffFb92266',\n",
       " 'to': '0x9fE46736679d2D9a65F0992F2272dE9f3c7fa6e0',\n",
       " 'value': 0,\n",
       " 'gasPrice': 593976814,\n",
       " 'gas': 37768,\n",
       " 'maxFeePerGas': 2000000001,\n",
       " 'maxPriorityFeePerGas': 1,\n",
       " 'input': HexBytes('0x558a7297000000000000000000000000f39fd6e51aad88f6f4ce6ab8827279cfffb922660000000000000000000000000000000000000000000000000000000000000001'),\n",
       " 'r': HexBytes('0xfaef5c1a4564ebbe7d15d6b3340c5017f09358ade45af5d5b8cf6da407fa504e'),\n",
       " 's': HexBytes('0x5805bb328e189509e0002198c7337d27a22679f51a5a4fb392a6134e547069bb'),\n",
       " 'v': 0,\n",
       " 'yParity': 0,\n",
       " 'chainId': 31337,\n",
       " 'accessList': [],\n",
       " 'type': 2})"
      ]
     },
     "execution_count": 6,
     "metadata": {},
     "output_type": "execute_result"
    }
   ],
   "source": [
    "tx_hash = block.transactions[0]\n",
    "tx = w3.eth.get_transaction(tx_hash)\n",
    "tx"
   ]
  },
  {
   "cell_type": "code",
   "execution_count": 7,
   "id": "fd0d3198-4233-4e7f-857c-e6c7a33cacda",
   "metadata": {},
   "outputs": [
    {
     "data": {
      "text/plain": [
       "9999986660039956458266"
      ]
     },
     "execution_count": 7,
     "metadata": {},
     "output_type": "execute_result"
    }
   ],
   "source": [
    "w3.eth.get_balance(tx['from'])"
   ]
  },
  {
   "cell_type": "markdown",
   "id": "79dac268-0b3e-4540-a6a4-a602d618da81",
   "metadata": {},
   "source": [
    "#### Test: pull tx receipt "
   ]
  },
  {
   "cell_type": "code",
   "execution_count": 8,
   "id": "f00449e2-2061-47f3-bd77-834debea571b",
   "metadata": {},
   "outputs": [
    {
     "data": {
      "text/plain": [
       "AttributeDict({'type': 2,\n",
       " 'status': 1,\n",
       " 'cumulativeGasUsed': 25825,\n",
       " 'logs': [],\n",
       " 'logsBloom': HexBytes('0x00000000000000000000000000000000000000000000000000000000000000000000000000000000000000000000000000000000000000000000000000000000000000000000000000000000000000000000000000000000000000000000000000000000000000000000000000000000000000000000000000000000000000000000000000000000000000000000000000000000000000000000000000000000000000000000000000000000000000000000000000000000000000000000000000000000000000000000000000000000000000000000000000000000000000000000000000000000000000000000000000000000000000000000000000000000'),\n",
       " 'transactionHash': HexBytes('0xeb21b8193c13bc71f434b7a628be7b7b9e42f724ec86136b6600a4071f024295'),\n",
       " 'transactionIndex': 0,\n",
       " 'blockHash': HexBytes('0xb45d3cd7663c39b5378fa112c76724fa862c4163cdc1c52a5332f8b8f5014046'),\n",
       " 'blockNumber': 6,\n",
       " 'gasUsed': 25825,\n",
       " 'effectiveGasPrice': 593976814,\n",
       " 'blobGasPrice': '0x1',\n",
       " 'from': '0xf39Fd6e51aad88F6F4ce6aB8827279cffFb92266',\n",
       " 'to': '0x9fE46736679d2D9a65F0992F2272dE9f3c7fa6e0',\n",
       " 'contractAddress': None,\n",
       " 'root': '0xe508dbfaa714a462304723852c7f92dbda9bbd82bd05d72d569aafaa70cd3408'})"
      ]
     },
     "execution_count": 8,
     "metadata": {},
     "output_type": "execute_result"
    }
   ],
   "source": [
    "receipt = w3.eth.get_transaction_receipt(tx['hash'])\n",
    "receipt"
   ]
  },
  {
   "cell_type": "markdown",
   "id": "05912d90-297c-40f2-96f5-49eb9da9d0a6",
   "metadata": {},
   "source": [
    "#### Test: decode log data"
   ]
  },
  {
   "cell_type": "code",
   "execution_count": 9,
   "id": "e9d7ad5c-172b-46d1-a44b-0d1773a63474",
   "metadata": {},
   "outputs": [],
   "source": [
    "log_data = receipt['logsBloom']\n",
    "args = Conversion().decode_data(log_data.hex())\n",
    "topics = receipt['logs']"
   ]
  },
  {
   "cell_type": "markdown",
   "id": "6f37fc87-995d-4ec3-b133-7a5bd828815b",
   "metadata": {},
   "source": [
    "## Study base pool data"
   ]
  },
  {
   "cell_type": "code",
   "execution_count": 10,
   "id": "261b5bf0-7357-4a61-9cc2-e7ea641befe4",
   "metadata": {},
   "outputs": [],
   "source": [
    "deploy_tx_path = '/Users/ian_moore/repos/indexeddefi/broadcast/TestnetStage1Deploy.s.sol/31337/run-latest.json'\n",
    "deposit_tx_path = '/Users/ian_moore/repos/indexeddefi/broadcast/TestnetStage1Deposit.s.sol/31337/run-latest.json'\n",
    "f = open(deploy_tx_path)\n",
    "tx_data = json.load(f)"
   ]
  },
  {
   "cell_type": "markdown",
   "id": "70f23b4f-4050-4747-9fe5-4e4cc0279201",
   "metadata": {},
   "source": [
    "#### Get base pool address"
   ]
  },
  {
   "cell_type": "code",
   "execution_count": 18,
   "id": "2f356fa1-18ef-415e-b12e-401dfebb51ee",
   "metadata": {},
   "outputs": [],
   "source": [
    "index_pool_addr = test_net_addresses['indexedPool']"
   ]
  },
  {
   "cell_type": "markdown",
   "id": "10c8ad3b-8be1-4d7b-918f-2a8f658909f0",
   "metadata": {},
   "source": [
    "#### Get base pool ABI data"
   ]
  },
  {
   "cell_type": "code",
   "execution_count": 21,
   "id": "80c94de7-151c-4d41-b7bc-5c434feeafac",
   "metadata": {},
   "outputs": [],
   "source": [
    "index_pool_abi_path = '/Users/ian_moore/repos/indexeddefi/out/UniV2IndexedYieldLinearExitPool.sol/UniV2IndexedYieldLinearExitPool.json'\n",
    "f = open(index_pool_abi_path)\n",
    "index_pool_abi_data = json.load(f)"
   ]
  },
  {
   "cell_type": "markdown",
   "id": "5ded1f4f-104d-458a-9c4b-4d1c345668ff",
   "metadata": {},
   "source": [
    "#### Pull all view functions"
   ]
  },
  {
   "cell_type": "code",
   "execution_count": 22,
   "id": "0860f3bd-31f2-4236-853a-c6e74115e549",
   "metadata": {},
   "outputs": [
    {
     "name": "stdout",
     "output_type": "stream",
     "text": [
      "[1] View function: basePool(), inputs: []\n",
      "[2] View function: basePoolLocalBal(), inputs: []\n",
      "[3] View function: getTokensIn(), inputs: []\n",
      "[4] View function: getTokensOut(), inputs: []\n",
      "[5] View function: token0(), inputs: []\n",
      "[6] View function: token1(), inputs: []\n",
      "[7] View function: totalSupply(), inputs: []\n",
      "[8] View function: yieldToken(), inputs: []\n"
     ]
    }
   ],
   "source": [
    "view_fns = []; c = 0\n",
    "for k, record in enumerate(index_pool_abi_data['abi']):\n",
    "    if(record['type'] == 'function' and len(record['inputs']) == 0 and record['stateMutability'] == 'view'):\n",
    "        c+=1\n",
    "        print(f\"[{c}] View function: {record['name']}(), inputs: {record['inputs']}\")\n",
    "        view_fns.append(record['name'])"
   ]
  },
  {
   "cell_type": "markdown",
   "id": "d0f9b48b-94df-4e6e-8362-61ddfc368b5d",
   "metadata": {},
   "source": [
    "#### Connect to base pool"
   ]
  },
  {
   "cell_type": "code",
   "execution_count": 26,
   "id": "d7ed3d07-704d-4f80-b527-c32fdc94e1d3",
   "metadata": {},
   "outputs": [],
   "source": [
    "index_pool_abi = json.dumps(base_pool_abi_data['abi'])\n",
    "index_pool_contract = w3.eth.contract(address=index_pool_addr, abi=index_pool_abi)"
   ]
  },
  {
   "cell_type": "markdown",
   "id": "56ea9480-b841-42c6-a103-efa0b2be3e13",
   "metadata": {},
   "source": [
    "#### Test: view function calls"
   ]
  },
  {
   "cell_type": "code",
   "execution_count": 25,
   "id": "dad9715b-89e0-40e2-a4fc-acbb87713dd6",
   "metadata": {},
   "outputs": [
    {
     "name": "stdout",
     "output_type": "stream",
     "text": [
      "------------------------------------------------------------\n",
      "--- View functions: UniV2IndexedYieldLinearExitPool.sol  ---\n",
      "------------------------------------------------------------\n",
      "[0]  basePool()                         0x387E3656De052275554f8D8B78C4B1a9B088345C\n",
      "[1]  basePoolLocalBal()                 99999999999999999999023\n",
      "[2]  getTokensIn()                      ['0x387E3656De052275554f8D8B78C4B1a9B088345C', '0xfAEFac1C9e8AF3a030857C4e61066f0a510253AF', '0x0000000000000000000000000000000000000000']\n",
      "[3]  getTokensOut()                     ['0x387E3656De052275554f8D8B78C4B1a9B088345C', '0xfAEFac1C9e8AF3a030857C4e61066f0a510253AF', '0x0000000000000000000000000000000000000000']\n",
      "[4]  token0()                           0x9fE46736679d2D9a65F0992F2272dE9f3c7fa6e0\n",
      "[5]  token1()                           0xfAEFac1C9e8AF3a030857C4e61066f0a510253AF\n",
      "[6]  totalSupply()                      199999999999999999998023\n",
      "[7]  yieldToken()                       0x387E3656De052275554f8D8B78C4B1a9B088345C\n"
     ]
    }
   ],
   "source": [
    "print('------------------------------------------------------------')\n",
    "print('--- View functions: UniV2IndexedYieldLinearExitPool.sol  ---')\n",
    "print('------------------------------------------------------------')\n",
    "for k, fn_str in enumerate(view_fns) :\n",
    "    try:\n",
    "        fn_res = call_fn(index_pool_contract, fn_str)\n",
    "        fn_str = str_output(f'[{k}]', fn_str+'()', max_len = 5)\n",
    "        print(str_output(fn_str, fn_res))\n",
    "    except ValueError:\n",
    "        print('function call error')"
   ]
  }
 ],
 "metadata": {
  "kernelspec": {
   "display_name": "Python 3 (ipykernel)",
   "language": "python",
   "name": "python3"
  },
  "language_info": {
   "codemirror_mode": {
    "name": "ipython",
    "version": 3
   },
   "file_extension": ".py",
   "mimetype": "text/x-python",
   "name": "python",
   "nbconvert_exporter": "python",
   "pygments_lexer": "ipython3",
   "version": "3.10.0rc2"
  }
 },
 "nbformat": 4,
 "nbformat_minor": 5
}
