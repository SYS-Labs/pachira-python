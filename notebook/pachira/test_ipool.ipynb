{
 "cells": [
  {
   "cell_type": "markdown",
   "id": "89ccf41a-f0c8-4ebd-87a5-9dd99989971a",
   "metadata": {},
   "source": [
    "## Design for Pachira contracts"
   ]
  },
  {
   "cell_type": "code",
   "execution_count": 1,
   "id": "f3056849-5667-4823-ab48-6cf7a7f8d382",
   "metadata": {},
   "outputs": [],
   "source": [
    "import os\n",
    "import json\n",
    "import subprocess\n",
    "from termcolor import colored\n",
    "from pprint import pprint\n",
    "from uniswappy import *\n",
    "from pachira import *"
   ]
  },
  {
   "cell_type": "code",
   "execution_count": 2,
   "id": "22907aa4-7226-4351-8bc2-310da62413bc",
   "metadata": {},
   "outputs": [],
   "source": [
    "user_nm = 'user_machine_check'\n",
    "tkn0_amount = 1000000000000000000000000\n",
    "tkn1_amount = 1000000000000000000000000\n",
    "token0Addr = '0x01'\n",
    "token1Addr = '0x02'\n",
    "basePoolAddr = '0x05'"
   ]
  },
  {
   "cell_type": "code",
   "execution_count": 3,
   "id": "e9f7e59d-1219-4b1a-a1f7-b5b0055ae973",
   "metadata": {},
   "outputs": [
    {
     "name": "stdout",
     "output_type": "stream",
     "text": [
      "Exchange TKN0-TKN1 (LP)\n",
      "Reserves: TKN0 = 1000000000000000000000000, TKN1 = 1000000000000000000000000\n",
      "Liquidity: 1000000000000000000000000 \n",
      "\n",
      "Exchange TKN0-iTKN1 (LP1)\n",
      "Reserves: TKN0 = 0, iTKN1 = 0\n",
      "Liquidity: 0 \n",
      "\n",
      "Exchange iTKN0-TKN1 (LP2)\n",
      "Reserves: iTKN0 = 0, TKN1 = 0\n",
      "Liquidity: 0 \n",
      "\n",
      "Exchange iTKN0-iTKN1 (LP3)\n",
      "Reserves: iTKN0 = 0, iTKN1 = 0\n",
      "Liquidity: 0 \n",
      "\n"
     ]
    }
   ],
   "source": [
    "tkn0 = ERC20(\"TKN0\",token0Addr)\n",
    "tkn1 = ERC20(\"TKN1\", token1Addr)\n",
    "exchg_data = UniswapExchangeData(tkn0 = tkn0, tkn1 = tkn1, symbol=\"LP\", address=\"0x011\", precision = UniswapExchangeData.TYPE_GWEI)\n",
    "\n",
    "factory = UniswapFactory(\"Base pool factory\", basePoolAddr)\n",
    "base_lp = factory.deploy(exchg_data)\n",
    "Join().apply(base_lp, user_nm, tkn0_amount, tkn1_amount)\n",
    "base_lp.summary()\n",
    "\n",
    "tkn2 = ERC20(\"TKN0\", \"0x09\")\n",
    "itkn1 = IndexERC20(\"iTKN1\", \"0x09\", tkn1, base_lp)\n",
    "exchg_data1 = UniswapExchangeData(tkn0 = tkn2, tkn1 = itkn1, symbol=\"LP1\", address=\"0x012\", precision = UniswapExchangeData.TYPE_GWEI)\n",
    "child1_lp = factory.deploy(exchg_data1)\n",
    "child1_lp.summary()\n",
    "\n",
    "tkn3 = ERC20(\"TKN1\", \"0x09\")\n",
    "itkn2 = IndexERC20(\"iTKN0\", \"0x09\", tkn1, base_lp)\n",
    "exchg_data2 = UniswapExchangeData(tkn0 = itkn2, tkn1 = tkn3, symbol=\"LP2\", address=\"0x012\", precision = UniswapExchangeData.TYPE_GWEI)\n",
    "child2_lp = factory.deploy(exchg_data2)\n",
    "child2_lp.summary()\n",
    "\n",
    "itkn3 = IndexERC20(\"iTKN0\", \"0x09\", tkn0, base_lp)\n",
    "itkn4 = IndexERC20(\"iTKN1\", \"0x09\", tkn1, base_lp)\n",
    "exchg_data3 = UniswapExchangeData(tkn0 = itkn3, tkn1 = itkn4, symbol=\"LP3\", address=\"0x012\", precision = UniswapExchangeData.TYPE_GWEI)\n",
    "child3_lp = factory.deploy(exchg_data3)\n",
    "child3_lp.summary()"
   ]
  },
  {
   "cell_type": "code",
   "execution_count": 4,
   "id": "f1eeddf9-bf3b-4f89-abe2-09ad42bbc5ae",
   "metadata": {},
   "outputs": [],
   "source": [
    "SETUP_amt = TokenDeltaModel(1000000)\n",
    "SWAP_amt = TokenDeltaModel(10000)\n",
    "\n",
    "lp0 = PachiraV1Exchange(base_lp)\n",
    "lp1 = PachiraV1Exchange(child1_lp)\n",
    "lp2 = PachiraV1Exchange(child2_lp)\n",
    "lp3 = PachiraV1Exchange(child3_lp)"
   ]
  },
  {
   "cell_type": "markdown",
   "id": "4175aa19-5d06-4b1d-b6d7-69e462c166cf",
   "metadata": {},
   "source": [
    "### Tree Setup"
   ]
  },
  {
   "cell_type": "code",
   "execution_count": 5,
   "id": "c26ec351-c3c7-4aa6-a6fa-629f6086610b",
   "metadata": {},
   "outputs": [
    {
     "name": "stdout",
     "output_type": "stream",
     "text": [
      "Exchange TKN0-TKN1 (LP)\n",
      "Reserves: TKN0 = 1000000000000000000000000, TKN1 = 1000000000000000000000000\n",
      "Liquidity: 1000000000000000000000000 \n",
      "\n",
      "Exchange TKN0-iTKN1 (LP1)\n",
      "Reserves: TKN0 = 0, iTKN1 = 0\n",
      "Liquidity: 0 \n",
      "\n",
      "Exchange iTKN0-TKN1 (LP2)\n",
      "Reserves: iTKN0 = 0, TKN1 = 0\n",
      "Liquidity: 0 \n",
      "\n",
      "Exchange iTKN0-iTKN1 (LP3)\n",
      "Reserves: iTKN0 = 0, iTKN1 = 0\n",
      "Liquidity: 0 \n",
      "\n"
     ]
    }
   ],
   "source": [
    "tree_base = TreeNode(lp0)\n",
    "deploy_child = DeployChildNode(tree_base)\n",
    "\n",
    "child1 = deploy_child.apply(lp1)\n",
    "child2 = deploy_child.apply(lp2)\n",
    "child3 = deploy_child.apply(lp3)\n",
    "\n",
    "tree_base.summary()"
   ]
  },
  {
   "cell_type": "code",
   "execution_count": 6,
   "id": "60faa388-3ebb-46c7-8604-578973693829",
   "metadata": {},
   "outputs": [
    {
     "name": "stdout",
     "output_type": "stream",
     "text": [
      "Exchange TKN0-TKN1 (LP)\n",
      "Reserves: TKN0 = 1135980169336610896787041, TKN1 = 1135980169336610896787042\n",
      "Liquidity: 1135766048344955643506048 \n",
      "\n",
      "Exchange TKN0-iTKN1 (LP1)\n",
      "Reserves: TKN0 = 67990084668305450000000, iTKN1 = 33385829156646829177177\n",
      "Liquidity: 47643523705557281673259 \n",
      "\n",
      "Exchange iTKN0-TKN1 (LP2)\n",
      "Reserves: iTKN0 = 34500442745123638706319, TKN1 = 67990084668305450000000\n",
      "Liquidity: 48432303510518480190568 \n",
      "\n",
      "Exchange iTKN0-iTKN1 (LP3)\n",
      "Reserves: iTKN0 = 33939888221592587811277, iTKN1 = 33939888221592587811275\n",
      "Liquidity: 33939888221592587811275 \n",
      "\n"
     ]
    }
   ],
   "source": [
    "amount_in = UniV3Helper().dec2gwei(SETUP_amt.delta())\n",
    "\n",
    "yield_amt1 = deploy_child.init_liquidity(child1, tkn0, user_nm, amount_in)\n",
    "yield_amt2 = deploy_child.init_liquidity(child2, tkn1, user_nm, amount_in)\n",
    "yield_amt31 = deploy_child.init_liquidity(child3, tkn0, user_nm, amount_in//2)\n",
    "yield_amt32 = deploy_child.init_liquidity(child3, tkn1, user_nm, amount_in//2)\n",
    "\n",
    "tree_base.summary()"
   ]
  },
  {
   "cell_type": "markdown",
   "id": "d8e5e00b-7924-40b3-b906-70dd252b453e",
   "metadata": {},
   "source": [
    "### TreePair: Base-in TreeYield-out"
   ]
  },
  {
   "cell_type": "code",
   "execution_count": 7,
   "id": "758b40a4-2f88-40e8-b5fa-98594b798a83",
   "metadata": {},
   "outputs": [],
   "source": [
    "tPair = TreePair(tree_base)\n",
    "child_node = child1"
   ]
  },
  {
   "cell_type": "code",
   "execution_count": 8,
   "id": "829e3e10-1650-4534-a20b-a6448bd99fc2",
   "metadata": {},
   "outputs": [
    {
     "name": "stdout",
     "output_type": "stream",
     "text": [
      "Exchange TKN0-TKN1 (LP)\n",
      "Reserves: TKN0 = 1135980169336610896787041, TKN1 = 1135980169336610896787042\n",
      "Liquidity: 1135766048344955643506048 \n",
      "\n",
      "Exchange TKN0-iTKN1 (LP1)\n",
      "Reserves: TKN0 = 67990084668305450000000, iTKN1 = 33385829156646829177177\n",
      "Liquidity: 47643523705557281673259 \n",
      "\n",
      "Exchange TKN0-TKN1 (LP)\n",
      "Reserves: TKN0 = 1135980169336610896787041, TKN1 = 1139684927162436108531687\n",
      "Liquidity: 1137613790609891817250741 \n",
      "\n",
      "Exchange TKN0-iTKN1 (LP1)\n",
      "Reserves: TKN0 = 67990084668305450000000, iTKN1 = 35233571421583002871415\n",
      "Liquidity: 48942233756034578986772 \n",
      "\n"
     ]
    }
   ],
   "source": [
    "amount_base_in = UniV3Helper().dec2gwei(SWAP_amt.delta())\n",
    "recipient = user_nm\n",
    "token_in = tkn1\n",
    "token_out = child_node.lp.base_lp\n",
    "\n",
    "child_node.parent.summary()\n",
    "child_node.summary()\n",
    "\n",
    "tree_yield = tPair.basein_tree_yieldout(child_node, token_in, token_out, recipient, amount_base_in)\n",
    "\n",
    "child_node.parent.summary()\n",
    "child_node.summary()"
   ]
  },
  {
   "cell_type": "markdown",
   "id": "b814e61f-ebbd-48a8-a5a4-5334cdad75e8",
   "metadata": {},
   "source": [
    "### TreePair: TreeYield-in Base-out"
   ]
  },
  {
   "cell_type": "code",
   "execution_count": 9,
   "id": "f7324ee5-88e5-44d2-a2b4-d109805a2af3",
   "metadata": {},
   "outputs": [
    {
     "name": "stdout",
     "output_type": "stream",
     "text": [
      "Exchange TKN0-TKN1 (LP)\n",
      "Reserves: TKN0 = 1135980169336610896787041, TKN1 = 1139684927162436108531687\n",
      "Liquidity: 1137613790609891817250741 \n",
      "\n",
      "Exchange TKN0-iTKN1 (LP1)\n",
      "Reserves: TKN0 = 67990084668305450000000, iTKN1 = 35233571421583002871415\n",
      "Liquidity: 48942233756034578986772 \n",
      "\n",
      "Exchange TKN0-TKN1 (LP)\n",
      "Reserves: TKN0 = 1135980169336610896787041, TKN1 = 1136001890552881281818639\n",
      "Liquidity: 1135771372237933303652277 \n",
      "\n",
      "Exchange TKN0-iTKN1 (LP1)\n",
      "Reserves: TKN0 = 67990084668305450000000, iTKN1 = 33391153049624489607925\n",
      "Liquidity: 47643523705557282141972 \n",
      "\n"
     ]
    }
   ],
   "source": [
    "amount_yield_in = tree_yield\n",
    "recipient = user_nm\n",
    "token_in = child_node.lp.base_lp\n",
    "token_out = tkn1\n",
    "\n",
    "child_node.parent.summary()\n",
    "child_node.summary()\n",
    "\n",
    "base_amt_out = tPair.tree_yieldin_baseout(child_node, token_in, token_out, recipient, amount_yield_in)\n",
    "\n",
    "child_node.parent.summary()\n",
    "child_node.summary()"
   ]
  },
  {
   "cell_type": "markdown",
   "id": "1203f120-2daa-4f45-a944-0e06f0195b2d",
   "metadata": {},
   "source": [
    "### Swaps on Tree"
   ]
  },
  {
   "cell_type": "code",
   "execution_count": 10,
   "id": "d5851107-d166-4583-9cb1-cd7d6cf6da64",
   "metadata": {},
   "outputs": [],
   "source": [
    "tree_in = tree_base\n",
    "\n",
    "mm_lp = tree_in.lp\n",
    "children = list(tree_base.child.values())\n",
    "mm_lp1 = tree_in.child[children[0].name].lp\n",
    "mm_lp2 = tree_in.child[children[1].name].lp\n",
    "mm_lp3 = tree_in.child[children[2].name].lp\n",
    "\n",
    "amount_in = UniV3Helper().dec2gwei(SWAP_amt.delta())\n",
    "amount_out = mm_lp.exchangein_basein_baseout(tkn0, tkn1, amount_in, user_nm)\n",
    "\n",
    "amount_in = UniV3Helper().dec2gwei(SWAP_amt.delta())\n",
    "amount_out = mm_lp1.exchangein_basein_baseout(tkn0, itkn1, amount_in, user_nm)\n",
    "\n",
    "amount_in = UniV3Helper().dec2gwei(SWAP_amt.delta())\n",
    "amount_out = mm_lp2.exchangein_basein_baseout(itkn2, tkn3, amount_in, user_nm)\n",
    "\n",
    "amount_in = UniV3Helper().dec2gwei(SWAP_amt.delta())\n",
    "amount_out = mm_lp3.exchangein_basein_baseout(itkn4, itkn3, amount_in, user_nm)"
   ]
  },
  {
   "cell_type": "markdown",
   "id": "63247d9a-8247-4d1d-b2eb-78ee17a19861",
   "metadata": {},
   "source": [
    "### Final Tree State"
   ]
  },
  {
   "cell_type": "code",
   "execution_count": 11,
   "id": "26fe7e6c-bc3d-422c-bc29-b045085900a5",
   "metadata": {},
   "outputs": [
    {
     "name": "stdout",
     "output_type": "stream",
     "text": [
      "Exchange TKN0-TKN1 (LP)\n",
      "Reserves: TKN0 = 1138208248683855333787041, TKN1 = 1133784788483663969354012\n",
      "Liquidity: 1135771372237933303652277 \n",
      "\n",
      "Exchange TKN0-iTKN1 (LP1)\n",
      "Reserves: TKN0 = 68164620924830665200000, iTKN1 = 33305910477910569658076\n",
      "Liquidity: 47643523705557282141972 \n",
      "\n",
      "Exchange iTKN0-TKN1 (LP2)\n",
      "Reserves: iTKN0 = 35307618436580634006319, TKN1 = 66440304223409718270201\n",
      "Liquidity: 48432303510518480190568 \n",
      "\n",
      "Exchange iTKN0-iTKN1 (LP3)\n",
      "Reserves: iTKN0 = 30026994600057529654415, iTKN1 = 38375989211835055811275\n",
      "Liquidity: 33939888221592587811275 \n",
      "\n"
     ]
    }
   ],
   "source": [
    "tree_base.summary()"
   ]
  }
 ],
 "metadata": {
  "kernelspec": {
   "display_name": "Python 3 (ipykernel)",
   "language": "python",
   "name": "python3"
  },
  "language_info": {
   "codemirror_mode": {
    "name": "ipython",
    "version": 3
   },
   "file_extension": ".py",
   "mimetype": "text/x-python",
   "name": "python",
   "nbconvert_exporter": "python",
   "pygments_lexer": "ipython3",
   "version": "3.10.0rc2"
  }
 },
 "nbformat": 4,
 "nbformat_minor": 5
}
