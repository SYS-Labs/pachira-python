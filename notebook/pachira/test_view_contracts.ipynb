{
 "cells": [
  {
   "cell_type": "code",
   "execution_count": 1,
   "id": "284def84-2131-4931-ba56-f6a204aa9b71",
   "metadata": {},
   "outputs": [],
   "source": [
    "import json\n",
    "from pachira import *"
   ]
  },
  {
   "cell_type": "code",
   "execution_count": 2,
   "id": "c9599911-6751-470b-96e4-ae676b37f270",
   "metadata": {},
   "outputs": [],
   "source": [
    "test_net_addresses_path = '/Users/ian_moore/repos/indexeddefi/script/deployments/TestnetStage1-addresses.json'\n",
    "\n",
    "f = open(test_net_addresses_path)\n",
    "test_net_addresses = json.load(f)\n",
    "base_pool_addr = test_net_addresses['basePool']\n",
    "index_pool_addr = test_net_addresses['indexedPool']\n",
    "study_addr = test_net_addresses['study']"
   ]
  },
  {
   "cell_type": "markdown",
   "id": "f8bd2161-0cd2-40cf-97e3-83645ae54a13",
   "metadata": {},
   "source": [
    "### Connect to network"
   ]
  },
  {
   "cell_type": "code",
   "execution_count": 3,
   "id": "91e3e0da-929b-41c7-b7f1-f0c8b18f4db5",
   "metadata": {},
   "outputs": [],
   "source": [
    "connect = ConnectW3(Net.LOCALHOST)\n",
    "connect.apply()"
   ]
  },
  {
   "cell_type": "markdown",
   "id": "a1c1d913-a1cd-4b64-baf4-0567ef5fbc66",
   "metadata": {},
   "source": [
    "### View IUniswapV2Pair"
   ]
  },
  {
   "cell_type": "code",
   "execution_count": 4,
   "id": "75fcf4f3-8031-490a-bbfa-53f38feb7352",
   "metadata": {},
   "outputs": [
    {
     "data": {
      "text/plain": [
       "{'DOMAIN_SEPARATOR': b'\\xc8\\xe6A\\xd2\\x99\\t\\x0fHP\\xe3\\xbdFW\\xf0Ut\\x8e\\xa3o\\xe0=\\xf7\\xed\\xe1VN|\\x9e\\xf5f\\xacz',\n",
       " 'decimals': 18,\n",
       " 'factory': '0xe7f1725E7734CE288F8367e1Bb143E90bb3F0512',\n",
       " 'getReserves': [100000000000000000000050,\n",
       "  100000000000000000000049,\n",
       "  1725038422],\n",
       " 'kLast': 0,\n",
       " 'name': 'MockUniV2 Pari of fWGas/TRC1',\n",
       " 'price0CumulativeLast': 145384312038975173598853897218162688,\n",
       " 'price1CumulativeLast': 145384312038975173598853897218162688,\n",
       " 'symbol': 'fWGas/TRC1',\n",
       " 'token0': '0x9fE46736679d2D9a65F0992F2272dE9f3c7fa6e0',\n",
       " 'token1': '0xfAEFac1C9e8AF3a030857C4e61066f0a510253AF',\n",
       " 'totalSupply': 100000000000000000000023}"
      ]
     },
     "execution_count": 4,
     "metadata": {},
     "output_type": "execute_result"
    }
   ],
   "source": [
    "abi = ABILoading(Platform.PACHIRA, JSONContract.IUniswapV2Pair)\n",
    "vContract = ViewContract(connect, abi)\n",
    "view_fns_res = vContract.apply(base_pool_addr)\n",
    "view_fns_res"
   ]
  },
  {
   "cell_type": "markdown",
   "id": "0c654aea-098d-46f5-86e8-3ae6eb1b35ec",
   "metadata": {},
   "source": [
    "### View UniV2IndexedYieldLinearExitPool"
   ]
  },
  {
   "cell_type": "code",
   "execution_count": 5,
   "id": "4dd3e676-be22-4612-b855-4822805339a6",
   "metadata": {},
   "outputs": [
    {
     "data": {
      "text/plain": [
       "{'basePool': '0x387E3656De052275554f8D8B78C4B1a9B088345C',\n",
       " 'basePoolLocalBal': 99999999999999999999023,\n",
       " 'getTokensIn': ['0x387E3656De052275554f8D8B78C4B1a9B088345C',\n",
       "  '0xfAEFac1C9e8AF3a030857C4e61066f0a510253AF',\n",
       "  '0x0000000000000000000000000000000000000000'],\n",
       " 'getTokensOut': ['0x387E3656De052275554f8D8B78C4B1a9B088345C',\n",
       "  '0xfAEFac1C9e8AF3a030857C4e61066f0a510253AF',\n",
       "  '0x0000000000000000000000000000000000000000'],\n",
       " 'token0': '0x9fE46736679d2D9a65F0992F2272dE9f3c7fa6e0',\n",
       " 'token1': '0xfAEFac1C9e8AF3a030857C4e61066f0a510253AF',\n",
       " 'totalSupply': 199999999999999999998023,\n",
       " 'yieldToken': '0x387E3656De052275554f8D8B78C4B1a9B088345C'}"
      ]
     },
     "execution_count": 5,
     "metadata": {},
     "output_type": "execute_result"
    }
   ],
   "source": [
    "abi = ABILoading(Platform.PACHIRA, JSONContract.UniV2IndexedYieldLinearExitPool)\n",
    "vContract = ViewContract(connect, abi)\n",
    "view_fns_res = vContract.apply(index_pool_addr)\n",
    "view_fns_res"
   ]
  },
  {
   "cell_type": "markdown",
   "id": "f528e481-19f0-4ed6-865e-58c47fa5f1c4",
   "metadata": {},
   "source": [
    "### View MintableRCIndexedYieldLinearExitPoolStudy"
   ]
  },
  {
   "cell_type": "code",
   "execution_count": 6,
   "id": "603b0905-6154-4769-aa87-09bb2804b8dc",
   "metadata": {},
   "outputs": [
    {
     "data": {
      "text/plain": [
       "{'DETF_NFT_TOKEN_ID': 0,\n",
       " 'basePool': '0x387E3656De052275554f8D8B78C4B1a9B088345C',\n",
       " 'lockEnd': 1727630392,\n",
       " 'lockPeriod': 2592000,\n",
       " 'name': '',\n",
       " 'owner': '0xf39Fd6e51aad88F6F4ce6aB8827279cffFb92266',\n",
       " 'proposedOwner': '0x0000000000000000000000000000000000000000',\n",
       " 'rc': '0xfAEFac1C9e8AF3a030857C4e61066f0a510253AF',\n",
       " 'subject': '0x9fE46736679d2D9a65F0992F2272dE9f3c7fa6e0',\n",
       " 'symbol': '',\n",
       " 'withdrawEnabled': False}"
      ]
     },
     "execution_count": 6,
     "metadata": {},
     "output_type": "execute_result"
    }
   ],
   "source": [
    "abi = ABILoading(Platform.PACHIRA, JSONContract.MintableRCIndexedYieldLinearExitPoolStudy)\n",
    "vContract = ViewContract(connect, abi)\n",
    "view_fns_res = vContract.apply(study_addr)\n",
    "view_fns_res"
   ]
  }
 ],
 "metadata": {
  "kernelspec": {
   "display_name": "Python 3 (ipykernel)",
   "language": "python",
   "name": "python3"
  },
  "language_info": {
   "codemirror_mode": {
    "name": "ipython",
    "version": 3
   },
   "file_extension": ".py",
   "mimetype": "text/x-python",
   "name": "python",
   "nbconvert_exporter": "python",
   "pygments_lexer": "ipython3",
   "version": "3.10.0rc2"
  }
 },
 "nbformat": 4,
 "nbformat_minor": 5
}
