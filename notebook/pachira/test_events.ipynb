{
 "cells": [
  {
   "cell_type": "code",
   "execution_count": 1,
   "id": "7bf3fbfa-49d5-4bae-a0c3-e4164dfd4f1b",
   "metadata": {},
   "outputs": [],
   "source": [
    "import json\n",
    "import pandas as pd\n",
    "from pachira import *"
   ]
  },
  {
   "cell_type": "code",
   "execution_count": 2,
   "id": "b7f4f9b9-1353-4e3b-895f-c863fb438f48",
   "metadata": {},
   "outputs": [
    {
     "data": {
      "text/plain": [
       "{'basePool': '0x387E3656De052275554f8D8B78C4B1a9B088345C',\n",
       " 'indexedPool': '0x5FC8d32690cc91D4c39d9d3abcBD16989F875707',\n",
       " 'rc': '0xfAEFac1C9e8AF3a030857C4e61066f0a510253AF',\n",
       " 'study': '0x0165878A594ca255338adfa4d48449f69242Eb8F',\n",
       " 'subjectToken': '0x9fE46736679d2D9a65F0992F2272dE9f3c7fa6e0'}"
      ]
     },
     "execution_count": 2,
     "metadata": {},
     "output_type": "execute_result"
    }
   ],
   "source": [
    "test_net_addresses_path = '/Users/ian_moore/repos/indexeddefi/script/deployments/TestnetStage1-addresses.json'\n",
    "\n",
    "f = open(test_net_addresses_path)\n",
    "test_net_addresses = json.load(f)\n",
    "test_net_addresses"
   ]
  },
  {
   "cell_type": "code",
   "execution_count": 3,
   "id": "53636ca5-c8e9-4129-af54-f6022d3f01c1",
   "metadata": {},
   "outputs": [],
   "source": [
    "connect = ConnectW3(Net.LOCALHOST)\n",
    "connect.apply()"
   ]
  },
  {
   "cell_type": "code",
   "execution_count": 4,
   "id": "2f3c9984-9351-47eb-9b86-094972835919",
   "metadata": {},
   "outputs": [],
   "source": [
    "abi = ABILoading(Platform.PACHIRA, JSONContract.IUniswapV2Pair)"
   ]
  },
  {
   "cell_type": "code",
   "execution_count": 5,
   "id": "d7d4b088-6326-437d-8af8-497f865c612d",
   "metadata": {},
   "outputs": [
    {
     "name": "stdout",
     "output_type": "stream",
     "text": [
      "Swap at block:5 tx:0x5b6bb5937981e4642696449ed6ca25474bf87dfe8d3f2717995fb70c0d7a6249\n",
      "Swap at block:8 tx:0x76aeaf583f2c49302f7cd820314a9396f837e3198ef3683ca34516538d3d6a09\n",
      ".\n"
     ]
    }
   ],
   "source": [
    "rEvents = RetrieveEvents(connect, abi)\n",
    "dict_events = rEvents.apply(EventType.MINT)"
   ]
  },
  {
   "cell_type": "code",
   "execution_count": 6,
   "id": "2f4841ce-1ed7-4eb2-825b-b14ebbff7d2d",
   "metadata": {},
   "outputs": [
    {
     "data": {
      "text/html": [
       "<div>\n",
       "<style scoped>\n",
       "    .dataframe tbody tr th:only-of-type {\n",
       "        vertical-align: middle;\n",
       "    }\n",
       "\n",
       "    .dataframe tbody tr th {\n",
       "        vertical-align: top;\n",
       "    }\n",
       "\n",
       "    .dataframe thead th {\n",
       "        text-align: right;\n",
       "    }\n",
       "</style>\n",
       "<table border=\"1\" class=\"dataframe\">\n",
       "  <thead>\n",
       "    <tr style=\"text-align: right;\">\n",
       "      <th></th>\n",
       "      <th>chain</th>\n",
       "      <th>contract</th>\n",
       "      <th>type</th>\n",
       "      <th>platform</th>\n",
       "      <th>address</th>\n",
       "      <th>tx_hash</th>\n",
       "      <th>blk_num</th>\n",
       "      <th>timestamp</th>\n",
       "      <th>details</th>\n",
       "    </tr>\n",
       "  </thead>\n",
       "  <tbody>\n",
       "    <tr>\n",
       "      <th>0</th>\n",
       "      <td>localhost</td>\n",
       "      <td>iuniswapv2pair</td>\n",
       "      <td>mint</td>\n",
       "      <td>pachira</td>\n",
       "      <td>0x387e3656de052275554f8d8b78c4b1a9b088345c</td>\n",
       "      <td>0x5b6bb5937981e4642696449ed6ca25474bf87dfe8d3f...</td>\n",
       "      <td>5</td>\n",
       "      <td>1724189441</td>\n",
       "      <td>{'web3_type': &lt;class 'web3._utils.datatypes.Mi...</td>\n",
       "    </tr>\n",
       "    <tr>\n",
       "      <th>1</th>\n",
       "      <td>localhost</td>\n",
       "      <td>iuniswapv2pair</td>\n",
       "      <td>mint</td>\n",
       "      <td>pachira</td>\n",
       "      <td>0x387e3656de052275554f8d8b78c4b1a9b088345c</td>\n",
       "      <td>0x76aeaf583f2c49302f7cd820314a9396f837e3198ef3...</td>\n",
       "      <td>8</td>\n",
       "      <td>1724189494</td>\n",
       "      <td>{'web3_type': &lt;class 'web3._utils.datatypes.Mi...</td>\n",
       "    </tr>\n",
       "  </tbody>\n",
       "</table>\n",
       "</div>"
      ],
      "text/plain": [
       "       chain        contract  type platform  \\\n",
       "0  localhost  iuniswapv2pair  mint  pachira   \n",
       "1  localhost  iuniswapv2pair  mint  pachira   \n",
       "\n",
       "                                      address  \\\n",
       "0  0x387e3656de052275554f8d8b78c4b1a9b088345c   \n",
       "1  0x387e3656de052275554f8d8b78c4b1a9b088345c   \n",
       "\n",
       "                                             tx_hash  blk_num   timestamp  \\\n",
       "0  0x5b6bb5937981e4642696449ed6ca25474bf87dfe8d3f...        5  1724189441   \n",
       "1  0x76aeaf583f2c49302f7cd820314a9396f837e3198ef3...        8  1724189494   \n",
       "\n",
       "                                             details  \n",
       "0  {'web3_type': <class 'web3._utils.datatypes.Mi...  \n",
       "1  {'web3_type': <class 'web3._utils.datatypes.Mi...  "
      ]
     },
     "execution_count": 6,
     "metadata": {},
     "output_type": "execute_result"
    }
   ],
   "source": [
    "df_events = pd.DataFrame.from_dict(dict_events, orient='index') \n",
    "df_events"
   ]
  },
  {
   "cell_type": "code",
   "execution_count": 7,
   "id": "0f143094-a014-4984-af82-95cb73a55097",
   "metadata": {},
   "outputs": [
    {
     "data": {
      "text/plain": [
       "{0: {'chain': 'localhost',\n",
       "  'contract': 'iuniswapv2pair',\n",
       "  'type': 'mint',\n",
       "  'platform': 'pachira',\n",
       "  'address': '0x387e3656de052275554f8d8b78c4b1a9b088345c',\n",
       "  'tx_hash': '0x5b6bb5937981e4642696449ed6ca25474bf87dfe8d3f2717995fb70c0d7a6249',\n",
       "  'blk_num': 5,\n",
       "  'timestamp': 1724189441,\n",
       "  'details': {'web3_type': web3._utils.datatypes.Mint,\n",
       "   'token0': '0x088Ba56A560dfF690a1C6feF26394F4C03821c4f',\n",
       "   'token1': '0x0165878A594ca255338adfa4d48449f69242Eb8F',\n",
       "   'amount0In': 100000000000000000000000,\n",
       "   'amount1Out': 100000000000000000000000}},\n",
       " 1: {'chain': 'localhost',\n",
       "  'contract': 'iuniswapv2pair',\n",
       "  'type': 'mint',\n",
       "  'platform': 'pachira',\n",
       "  'address': '0x387e3656de052275554f8d8b78c4b1a9b088345c',\n",
       "  'tx_hash': '0x76aeaf583f2c49302f7cd820314a9396f837e3198ef3683ca34516538d3d6a09',\n",
       "  'blk_num': 8,\n",
       "  'timestamp': 1724189494,\n",
       "  'details': {'web3_type': web3._utils.datatypes.Mint,\n",
       "   'token0': '0x088Ba56A560dfF690a1C6feF26394F4C03821c4f',\n",
       "   'token1': '0x0165878A594ca255338adfa4d48449f69242Eb8F',\n",
       "   'amount0In': 25,\n",
       "   'amount1Out': 24}}}"
      ]
     },
     "execution_count": 7,
     "metadata": {},
     "output_type": "execute_result"
    }
   ],
   "source": [
    "dict_events"
   ]
  }
 ],
 "metadata": {
  "kernelspec": {
   "display_name": "Python 3 (ipykernel)",
   "language": "python",
   "name": "python3"
  },
  "language_info": {
   "codemirror_mode": {
    "name": "ipython",
    "version": 3
   },
   "file_extension": ".py",
   "mimetype": "text/x-python",
   "name": "python",
   "nbconvert_exporter": "python",
   "pygments_lexer": "ipython3",
   "version": "3.10.0rc2"
  }
 },
 "nbformat": 4,
 "nbformat_minor": 5
}
