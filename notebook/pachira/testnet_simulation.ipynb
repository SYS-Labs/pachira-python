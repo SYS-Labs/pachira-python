{
 "cells": [
  {
   "cell_type": "markdown",
   "id": "51689ef4-a6ab-42e6-bc3d-2f59d2dd7325",
   "metadata": {},
   "source": [
    "## Pachira TestNet Simulations"
   ]
  },
  {
   "cell_type": "code",
   "execution_count": 18,
   "id": "5b06712d-8d05-49b7-a04b-f5d8dc1b10dd",
   "metadata": {},
   "outputs": [
    {
     "data": {
      "text/plain": [
       "'/Users/ian_moore/repos'"
      ]
     },
     "execution_count": 18,
     "metadata": {},
     "output_type": "execute_result"
    }
   ],
   "source": [
    "import os\n",
    "import json\n",
    "import subprocess\n",
    "from termcolor import colored\n",
    "from pprint import pprint\n",
    "from uniswappy import *\n",
    "base_dir =  os.getcwd().replace(\"pachira-python/notebook/pachira\",\"\")\n",
    "os.chdir(base_dir)\n",
    "base_dir"
   ]
  },
  {
   "cell_type": "markdown",
   "id": "cf13accd-b2ff-48a6-89df-3d750225ddd7",
   "metadata": {},
   "source": [
    "### Test shell params #1\n",
    "* forge script script/demo/SimTestNetDeployPools.s.sol --rpc-url http://127.0.0.1:8545 --broadcast "
   ]
  },
  {
   "cell_type": "code",
   "execution_count": 19,
   "id": "bf28deef-8679-4351-ba14-181aecfce99d",
   "metadata": {},
   "outputs": [],
   "source": [
    "script_path = 'script/demo/SimTestNetDeployPools.s.sol'\n",
    "rpc_url = 'http://127.0.0.1:8545'\n",
    "test_contract_dir = '/pachira/' \n",
    "output_dir = '/pachira/test/output/'"
   ]
  },
  {
   "cell_type": "code",
   "execution_count": 20,
   "id": "9c38c8f4-b7c9-4ab2-9d79-c86633753834",
   "metadata": {},
   "outputs": [
    {
     "data": {
      "text/plain": [
       "0"
      ]
     },
     "execution_count": 20,
     "metadata": {},
     "output_type": "execute_result"
    }
   ],
   "source": [
    "# run contract\n",
    "shell_cmd = ['forge', 'script', '--silent', script_path, \n",
    "             '--rpc-url', rpc_url, '--broadcast']\n",
    "\n",
    "test_directory = base_dir+test_contract_dir\n",
    "p = subprocess.Popen(shell_cmd, cwd=test_directory)\n",
    "p.wait()"
   ]
  },
  {
   "cell_type": "markdown",
   "id": "9a9b8759-dc83-48a0-be19-e1a04e8228b8",
   "metadata": {},
   "source": [
    "### Test shell params #2\n",
    "* forge script script/demo/SimTestNetTransact.s.sol 1243000 --sig 'run(uint256)' --rpc-url http://127.0.0.1:8545 --broadcast "
   ]
  },
  {
   "cell_type": "code",
   "execution_count": 21,
   "id": "6f45e420-545e-4207-ab42-4042b130df96",
   "metadata": {},
   "outputs": [],
   "source": [
    "script_path = 'script/demo/SimTestNetTransact.s.sol'\n",
    "agrVar1 = 1243000\n",
    "rpc_url = 'http://127.0.0.1:8545'\n",
    "test_contract_dir = '/pachira/' \n",
    "output_dir = '/pachira/test/output/'"
   ]
  },
  {
   "cell_type": "code",
   "execution_count": 22,
   "id": "d83aa00c-cfdd-48bb-bbd3-801eae718dca",
   "metadata": {},
   "outputs": [
    {
     "name": "stdout",
     "output_type": "stream",
     "text": [
      "No files changed, compilation skipped\n",
      "Script ran successfully.\n",
      "\n",
      "== Logs ==\n",
      "  parentPoolAddr = 0x2e3A8497A2f985199cFa4bcc46dcA451C778983D\n",
      "  iParentPoolAddr = 0x682B8e3d9d6FBcFdc80AbBbE618ef80Eab2505fb\n",
      "  tkn0Addr = 0x132F7D9033b28B08cbc520e1cfD83c6dA3abfA36\n",
      "  tkn1Addr = 0xb0D8f577690e1dA647DaADd2e358912773D71999\n",
      "  reserve0 = 1000000000000000000000000\n",
      "  reserve1 = 1000000000000000000000000\n",
      "  token0Bal = 584000000000000000000\n",
      "  saleAmt1 = 584000000000000000000\n",
      "  amountOutQuote1 = 581909184541119302368\n",
      "  amountOut1 = 581909184541119302368\n",
      "  saleAmt2 = 581909184541119302368\n",
      "  amountOutQuote2 = 290644357464934299192\n",
      "  amountOut2 = 290644357464934299192\n",
      "  agrVar1 = 1243000\n",
      "\n",
      "## Setting up 1 EVM.\n",
      "\n",
      "==========================\n",
      "\n",
      "Chain 1\n",
      "\n",
      "Estimated gas price: 0.10015934 gwei\n",
      "\n",
      "Estimated total gas used for script: 472034\n",
      "\n",
      "Estimated amount required: 0.00004727861389756 ETH\n",
      "\n",
      "==========================\n",
      "\n",
      "\n",
      "==========================\n",
      "\n",
      "ONCHAIN EXECUTION COMPLETE & SUCCESSFUL.\n",
      "\n",
      "Transactions saved to: /Users/ian_moore/repos/pachira/broadcast/SimTestNetTransact.s.sol/1/run-latest.json\n",
      "\n",
      "Sensitive values saved to: /Users/ian_moore/repos/pachira/cache_forge/SimTestNetTransact.s.sol/1/run-latest.json\n",
      "\n"
     ]
    },
    {
     "data": {
      "text/plain": [
       "0"
      ]
     },
     "execution_count": 22,
     "metadata": {},
     "output_type": "execute_result"
    }
   ],
   "source": [
    "# run contract\n",
    "shell_cmd = ['forge', 'script',\n",
    "             script_path, str(agrVar1), '--sig', 'run(uint256)',\n",
    "             '--rpc-url', rpc_url, '--broadcast']\n",
    "\n",
    "test_directory = base_dir+test_contract_dir\n",
    "p = subprocess.Popen(shell_cmd, cwd=test_directory)\n",
    "p.wait()"
   ]
  }
 ],
 "metadata": {
  "kernelspec": {
   "display_name": "Python 3 (ipykernel)",
   "language": "python",
   "name": "python3"
  },
  "language_info": {
   "codemirror_mode": {
    "name": "ipython",
    "version": 3
   },
   "file_extension": ".py",
   "mimetype": "text/x-python",
   "name": "python",
   "nbconvert_exporter": "python",
   "pygments_lexer": "ipython3",
   "version": "3.10.0rc2"
  }
 },
 "nbformat": 4,
 "nbformat_minor": 5
}
