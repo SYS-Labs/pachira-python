{
 "cells": [
  {
   "cell_type": "markdown",
   "id": "51689ef4-a6ab-42e6-bc3d-2f59d2dd7325",
   "metadata": {},
   "source": [
    "## Pachira TestNet Simulations"
   ]
  },
  {
   "cell_type": "code",
   "execution_count": 1,
   "id": "5b06712d-8d05-49b7-a04b-f5d8dc1b10dd",
   "metadata": {},
   "outputs": [
    {
     "data": {
      "text/plain": [
       "'/Users/ian_moore/repos/'"
      ]
     },
     "execution_count": 1,
     "metadata": {},
     "output_type": "execute_result"
    }
   ],
   "source": [
    "import os\n",
    "import json\n",
    "import subprocess\n",
    "from termcolor import colored\n",
    "from pprint import pprint\n",
    "import time\n",
    "from uniswappy import *\n",
    "base_dir =  os.getcwd().replace(\"pachira-python/notebook/pachira\",\"\")\n",
    "os.chdir(base_dir)\n",
    "base_dir"
   ]
  },
  {
   "cell_type": "markdown",
   "id": "cf13accd-b2ff-48a6-89df-3d750225ddd7",
   "metadata": {},
   "source": [
    "### Test shell params #1\n",
    "* forge script script/demo/SimTestNetDeployPools.s.sol --rpc-url http://127.0.0.1:8545 --broadcast "
   ]
  },
  {
   "cell_type": "code",
   "execution_count": 2,
   "id": "bf28deef-8679-4351-ba14-181aecfce99d",
   "metadata": {},
   "outputs": [],
   "source": [
    "script_path = 'script/demo/SimTestNetDeployPools.s.sol'\n",
    "rpc_url = 'http://127.0.0.1:8545'\n",
    "test_contract_dir = '/pachira/' \n",
    "output_dir = '/pachira/test/output/'"
   ]
  },
  {
   "cell_type": "code",
   "execution_count": 3,
   "id": "9c38c8f4-b7c9-4ab2-9d79-c86633753834",
   "metadata": {},
   "outputs": [
    {
     "name": "stdout",
     "output_type": "stream",
     "text": [
      "No files changed, compilation skipped\n",
      "EIP-3855 is not supported in one or more of the RPCs used.\n",
      "Unsupported Chain IDs: 31337.\n",
      "Contracts deployed with a Solidity version equal or higher than 0.8.20 might not work properly.\n",
      "For more information, please see https://eips.ethereum.org/EIPS/eip-3855\n",
      "Script ran successfully.\n",
      "\n",
      "## Setting up 1 EVM.\n",
      "\n",
      "==========================\n",
      "\n",
      "Chain 31337\n",
      "\n",
      "Estimated gas price: 0.000000015 gwei\n",
      "\n",
      "Estimated total gas used for script: 17209583\n",
      "\n",
      "Estimated amount required: 0.000000000258143745 ETH\n",
      "\n",
      "==========================\n",
      "\n",
      "\n",
      "==========================\n",
      "\n",
      "ONCHAIN EXECUTION COMPLETE & SUCCESSFUL.\n",
      "\n",
      "Transactions saved to: /Users/ian_moore/repos/pachira/broadcast/SimTestNetDeployPools.s.sol/31337/run-latest.json\n",
      "\n",
      "Sensitive values saved to: /Users/ian_moore/repos/pachira/cache_forge/SimTestNetDeployPools.s.sol/31337/run-latest.json\n",
      "\n"
     ]
    },
    {
     "data": {
      "text/plain": [
       "0"
      ]
     },
     "execution_count": 3,
     "metadata": {},
     "output_type": "execute_result"
    }
   ],
   "source": [
    "# run contract\n",
    "shell_cmd = ['forge', 'script', script_path, \n",
    "             '--ignored-error-codes', '2072', \n",
    "             '--ignored-error-codes', '6321', \n",
    "             '--ignored-error-codes', '5667', \n",
    "             '--ignored-error-codes', '5574', \n",
    "             '--rpc-url', rpc_url, '--broadcast']\n",
    "\n",
    "test_directory = base_dir+test_contract_dir\n",
    "p = subprocess.Popen(shell_cmd, cwd=test_directory)\n",
    "p.wait()"
   ]
  },
  {
   "cell_type": "markdown",
   "id": "825f147a-b1a9-4da6-a05d-b282ed57611c",
   "metadata": {},
   "source": [
    "### Test shell params #2\n",
    "* forge script script/demo/SimTestNetDeployTree.s.sol --rpc-url http://127.0.0.1:8545 --broadcast "
   ]
  },
  {
   "cell_type": "code",
   "execution_count": 4,
   "id": "79f1a344-52e9-4285-a97e-92b839155dee",
   "metadata": {},
   "outputs": [],
   "source": [
    "script_path = 'script/demo/SimTestNetDeployTree.s.sol'"
   ]
  },
  {
   "cell_type": "code",
   "execution_count": 5,
   "id": "4e146965-1707-40b2-af1c-311b1acffa2b",
   "metadata": {},
   "outputs": [
    {
     "name": "stdout",
     "output_type": "stream",
     "text": [
      "No files changed, compilation skipped\n",
      "EIP-3855 is not supported in one or more of the RPCs used.\n",
      "Unsupported Chain IDs: 31337.\n",
      "Contracts deployed with a Solidity version equal or higher than 0.8.20 might not work properly.\n",
      "For more information, please see https://eips.ethereum.org/EIPS/eip-3855\n",
      "Script ran successfully.\n",
      "\n",
      "== Logs ==\n",
      "  parentPoolAddr = 0x277E4510BeDec7C81826d7bdD075C55a2Aa8866A\n",
      "  iParentPoolAddr = 0x682B8e3d9d6FBcFdc80AbBbE618ef80Eab2505fb\n",
      "  tkn0Addr = 0x37e2156B0d78098F06F8075a18d7E3a09483048e\n",
      "  tkn1Addr = 0x1556526A6B64840116Ec4815e20C4e9C552A008a\n",
      "  mintedLiquidity = 206312503095994964275\n",
      "\n",
      "## Setting up 1 EVM.\n",
      "\n",
      "==========================\n",
      "\n",
      "Chain 31337\n",
      "\n",
      "Estimated gas price: 0.000000015 gwei\n",
      "\n",
      "Estimated total gas used for script: 434695\n",
      "\n",
      "Estimated amount required: 0.000000000006520425 ETH\n",
      "\n",
      "==========================\n",
      "\n",
      "\n",
      "==========================\n",
      "\n",
      "ONCHAIN EXECUTION COMPLETE & SUCCESSFUL.\n",
      "\n",
      "Transactions saved to: /Users/ian_moore/repos/pachira/broadcast/SimTestNetDeployTree.s.sol/31337/run-latest.json\n",
      "\n",
      "Sensitive values saved to: /Users/ian_moore/repos/pachira/cache_forge/SimTestNetDeployTree.s.sol/31337/run-latest.json\n",
      "\n"
     ]
    },
    {
     "data": {
      "text/plain": [
       "0"
      ]
     },
     "execution_count": 5,
     "metadata": {},
     "output_type": "execute_result"
    }
   ],
   "source": [
    "# sleep\n",
    "time.sleep(2)\n",
    "\n",
    "# run contract\n",
    "shell_cmd = ['forge', 'script', script_path, \n",
    "             '--ignored-error-codes', '2072', \n",
    "             '--ignored-error-codes', '6321', \n",
    "             '--ignored-error-codes', '5667', \n",
    "             '--ignored-error-codes', '5574', \n",
    "             '--rpc-url', rpc_url, '--broadcast']\n",
    "\n",
    "test_directory = base_dir+test_contract_dir\n",
    "p = subprocess.Popen(shell_cmd, cwd=test_directory)\n",
    "p.wait()"
   ]
  },
  {
   "cell_type": "markdown",
   "id": "9a9b8759-dc83-48a0-be19-e1a04e8228b8",
   "metadata": {},
   "source": [
    "### Test shell params #2\n",
    "* forge script script/demo/SimTestNetTransact.s.sol 1243000 --sig 'run(uint256)' --rpc-url http://127.0.0.1:8545 --broadcast "
   ]
  },
  {
   "cell_type": "code",
   "execution_count": 6,
   "id": "6f45e420-545e-4207-ab42-4042b130df96",
   "metadata": {},
   "outputs": [],
   "source": [
    "script_path = 'script/demo/SimTestNetTransact.s.sol'\n",
    "agrVar1 = 1243000\n",
    "rpc_url = 'http://127.0.0.1:8545'\n",
    "test_contract_dir = '/pachira/' \n",
    "output_dir = '/pachira/test/output/'"
   ]
  },
  {
   "cell_type": "code",
   "execution_count": 7,
   "id": "d83aa00c-cfdd-48bb-bbd3-801eae718dca",
   "metadata": {},
   "outputs": [
    {
     "data": {
      "text/plain": [
       "0"
      ]
     },
     "execution_count": 7,
     "metadata": {},
     "output_type": "execute_result"
    }
   ],
   "source": [
    "# run contract\n",
    "shell_cmd = ['forge', 'script',  '--silent', \n",
    "             script_path, str(agrVar1), '--sig', 'run(uint256)',\n",
    "             '--rpc-url', rpc_url, '--broadcast']\n",
    "\n",
    "test_directory = base_dir+test_contract_dir\n",
    "p = subprocess.Popen(shell_cmd, cwd=test_directory)\n",
    "p.wait()"
   ]
  }
 ],
 "metadata": {
  "kernelspec": {
   "display_name": "Python 3 (ipykernel)",
   "language": "python",
   "name": "python3"
  },
  "language_info": {
   "codemirror_mode": {
    "name": "ipython",
    "version": 3
   },
   "file_extension": ".py",
   "mimetype": "text/x-python",
   "name": "python",
   "nbconvert_exporter": "python",
   "pygments_lexer": "ipython3",
   "version": "3.10.0rc2"
  }
 },
 "nbformat": 4,
 "nbformat_minor": 5
}
