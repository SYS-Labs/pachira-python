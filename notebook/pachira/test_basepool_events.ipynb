{
 "cells": [
  {
   "cell_type": "code",
   "execution_count": 1,
   "id": "7bf3fbfa-49d5-4bae-a0c3-e4164dfd4f1b",
   "metadata": {},
   "outputs": [],
   "source": [
    "import json\n",
    "from pathlib import Path\n",
    "from pachira import *"
   ]
  },
  {
   "cell_type": "code",
   "execution_count": 2,
   "id": "b7f4f9b9-1353-4e3b-895f-c863fb438f48",
   "metadata": {},
   "outputs": [],
   "source": [
    "test_net_addresses_path = '/Users/ian_moore/repos/indexeddefi/script/deployments/TestnetStage1-addresses.json'\n",
    "\n",
    "f = open(test_net_addresses_path)\n",
    "test_net_addresses = json.load(f)\n",
    "base_pool_addr = test_net_addresses['basePool']"
   ]
  },
  {
   "cell_type": "code",
   "execution_count": 3,
   "id": "53636ca5-c8e9-4129-af54-f6022d3f01c1",
   "metadata": {},
   "outputs": [],
   "source": [
    "connect = ConnectW3(Net.LOCALHOST)\n",
    "connect.apply()"
   ]
  },
  {
   "cell_type": "code",
   "execution_count": 4,
   "id": "f4a0b20a-9461-44d9-bae1-c86108031b9d",
   "metadata": {},
   "outputs": [],
   "source": [
    "abi = ABILoading(Platform.PACHIRA, JSONContract.IUniswapV2Pair)"
   ]
  },
  {
   "cell_type": "markdown",
   "id": "0121d563-ef8d-4a3b-b5fc-64ed6e6e8736",
   "metadata": {},
   "source": [
    "### (1) Extract Mint Events"
   ]
  },
  {
   "cell_type": "code",
   "execution_count": 5,
   "id": "d7d4b088-6326-437d-8af8-497f865c612d",
   "metadata": {},
   "outputs": [
    {
     "name": "stdout",
     "output_type": "stream",
     "text": [
      "mint at block:7 tx:0x5b6bb5937981e4642696449ed6ca25474bf87dfe8d3f2717995fb70c0d7a6249\n",
      "mint at block:10 tx:0x6f8ba7bb4edf22845a7fe915a36d9310e85a155f162dd2a383d90f4a71606044\n",
      ".\n"
     ]
    }
   ],
   "source": [
    "rEvents = RetrieveEvents(connect, abi)\n",
    "dict_events = rEvents.apply(EventType.MINT, base_pool_addr)"
   ]
  },
  {
   "cell_type": "code",
   "execution_count": 6,
   "id": "2f4841ce-1ed7-4eb2-825b-b14ebbff7d2d",
   "metadata": {},
   "outputs": [
    {
     "data": {
      "text/html": [
       "<div>\n",
       "<style scoped>\n",
       "    .dataframe tbody tr th:only-of-type {\n",
       "        vertical-align: middle;\n",
       "    }\n",
       "\n",
       "    .dataframe tbody tr th {\n",
       "        vertical-align: top;\n",
       "    }\n",
       "\n",
       "    .dataframe thead th {\n",
       "        text-align: right;\n",
       "    }\n",
       "</style>\n",
       "<table border=\"1\" class=\"dataframe\">\n",
       "  <thead>\n",
       "    <tr style=\"text-align: right;\">\n",
       "      <th></th>\n",
       "      <th>chain</th>\n",
       "      <th>contract</th>\n",
       "      <th>type</th>\n",
       "      <th>platform</th>\n",
       "      <th>address</th>\n",
       "      <th>tx_hash</th>\n",
       "      <th>blk_num</th>\n",
       "      <th>timestamp</th>\n",
       "      <th>details</th>\n",
       "    </tr>\n",
       "  </thead>\n",
       "  <tbody>\n",
       "    <tr>\n",
       "      <th>0</th>\n",
       "      <td>localhost</td>\n",
       "      <td>iuniswapv2pair</td>\n",
       "      <td>mint</td>\n",
       "      <td>pachira</td>\n",
       "      <td>0x387e3656de052275554f8d8b78c4b1a9b088345c</td>\n",
       "      <td>0x5b6bb5937981e4642696449ed6ca25474bf87dfe8d3f...</td>\n",
       "      <td>7</td>\n",
       "      <td>1725038394</td>\n",
       "      <td>{'web3_type': &lt;class 'web3._utils.datatypes.Mi...</td>\n",
       "    </tr>\n",
       "    <tr>\n",
       "      <th>1</th>\n",
       "      <td>localhost</td>\n",
       "      <td>iuniswapv2pair</td>\n",
       "      <td>mint</td>\n",
       "      <td>pachira</td>\n",
       "      <td>0x387e3656de052275554f8d8b78c4b1a9b088345c</td>\n",
       "      <td>0x6f8ba7bb4edf22845a7fe915a36d9310e85a155f162d...</td>\n",
       "      <td>10</td>\n",
       "      <td>1725038422</td>\n",
       "      <td>{'web3_type': &lt;class 'web3._utils.datatypes.Mi...</td>\n",
       "    </tr>\n",
       "  </tbody>\n",
       "</table>\n",
       "</div>"
      ],
      "text/plain": [
       "       chain        contract  type platform  \\\n",
       "0  localhost  iuniswapv2pair  mint  pachira   \n",
       "1  localhost  iuniswapv2pair  mint  pachira   \n",
       "\n",
       "                                      address  \\\n",
       "0  0x387e3656de052275554f8d8b78c4b1a9b088345c   \n",
       "1  0x387e3656de052275554f8d8b78c4b1a9b088345c   \n",
       "\n",
       "                                             tx_hash  blk_num   timestamp  \\\n",
       "0  0x5b6bb5937981e4642696449ed6ca25474bf87dfe8d3f...        7  1725038394   \n",
       "1  0x6f8ba7bb4edf22845a7fe915a36d9310e85a155f162d...       10  1725038422   \n",
       "\n",
       "                                             details  \n",
       "0  {'web3_type': <class 'web3._utils.datatypes.Mi...  \n",
       "1  {'web3_type': <class 'web3._utils.datatypes.Mi...  "
      ]
     },
     "execution_count": 6,
     "metadata": {},
     "output_type": "execute_result"
    }
   ],
   "source": [
    "df_events = rEvents.to_dataframe(dict_events)\n",
    "df_events"
   ]
  },
  {
   "cell_type": "markdown",
   "id": "34f422e1-8131-4aff-8c2d-64d8d6fbe109",
   "metadata": {},
   "source": [
    "### (2) Extract Swap Events"
   ]
  },
  {
   "cell_type": "code",
   "execution_count": 7,
   "id": "389a9ba1-3b10-403d-8d77-8c42ec404ee7",
   "metadata": {},
   "outputs": [
    {
     "name": "stdout",
     "output_type": "stream",
     "text": [
      "swap at block:10 tx:0x6f8ba7bb4edf22845a7fe915a36d9310e85a155f162dd2a383d90f4a71606044\n",
      ".\n"
     ]
    }
   ],
   "source": [
    "rEvents = RetrieveEvents(connect, abi)\n",
    "dict_events = rEvents.apply(EventType.SWAP, base_pool_addr)"
   ]
  },
  {
   "cell_type": "code",
   "execution_count": 8,
   "id": "c9b8a7b4-bba1-4d6b-85f6-85a6506182f4",
   "metadata": {},
   "outputs": [
    {
     "data": {
      "text/html": [
       "<div>\n",
       "<style scoped>\n",
       "    .dataframe tbody tr th:only-of-type {\n",
       "        vertical-align: middle;\n",
       "    }\n",
       "\n",
       "    .dataframe tbody tr th {\n",
       "        vertical-align: top;\n",
       "    }\n",
       "\n",
       "    .dataframe thead th {\n",
       "        text-align: right;\n",
       "    }\n",
       "</style>\n",
       "<table border=\"1\" class=\"dataframe\">\n",
       "  <thead>\n",
       "    <tr style=\"text-align: right;\">\n",
       "      <th></th>\n",
       "      <th>chain</th>\n",
       "      <th>contract</th>\n",
       "      <th>type</th>\n",
       "      <th>platform</th>\n",
       "      <th>address</th>\n",
       "      <th>tx_hash</th>\n",
       "      <th>blk_num</th>\n",
       "      <th>timestamp</th>\n",
       "      <th>details</th>\n",
       "    </tr>\n",
       "  </thead>\n",
       "  <tbody>\n",
       "    <tr>\n",
       "      <th>0</th>\n",
       "      <td>localhost</td>\n",
       "      <td>iuniswapv2pair</td>\n",
       "      <td>swap</td>\n",
       "      <td>pachira</td>\n",
       "      <td>0x387e3656de052275554f8d8b78c4b1a9b088345c</td>\n",
       "      <td>0x6f8ba7bb4edf22845a7fe915a36d9310e85a155f162d...</td>\n",
       "      <td>10</td>\n",
       "      <td>1725038422</td>\n",
       "      <td>{'web3_type': &lt;class 'web3._utils.datatypes.Sw...</td>\n",
       "    </tr>\n",
       "  </tbody>\n",
       "</table>\n",
       "</div>"
      ],
      "text/plain": [
       "       chain        contract  type platform  \\\n",
       "0  localhost  iuniswapv2pair  swap  pachira   \n",
       "\n",
       "                                      address  \\\n",
       "0  0x387e3656de052275554f8d8b78c4b1a9b088345c   \n",
       "\n",
       "                                             tx_hash  blk_num   timestamp  \\\n",
       "0  0x6f8ba7bb4edf22845a7fe915a36d9310e85a155f162d...       10  1725038422   \n",
       "\n",
       "                                             details  \n",
       "0  {'web3_type': <class 'web3._utils.datatypes.Sw...  "
      ]
     },
     "execution_count": 8,
     "metadata": {},
     "output_type": "execute_result"
    }
   ],
   "source": [
    "df_events = rEvents.to_dataframe(dict_events)\n",
    "df_events"
   ]
  },
  {
   "cell_type": "markdown",
   "id": "a8e6ee69-54d8-43c1-bd16-5962af04913a",
   "metadata": {},
   "source": [
    "### (3) Extract Burn Events"
   ]
  },
  {
   "cell_type": "code",
   "execution_count": 9,
   "id": "18f12d13-18c7-4899-9d0b-91c7958a52c4",
   "metadata": {},
   "outputs": [
    {
     "name": "stdout",
     "output_type": "stream",
     "text": [
      ".\n"
     ]
    }
   ],
   "source": [
    "rEvents = RetrieveEvents(connect, abi)\n",
    "dict_events = rEvents.apply(EventType.BURN, base_pool_addr)"
   ]
  },
  {
   "cell_type": "code",
   "execution_count": 10,
   "id": "ceef053a-2b32-4167-94c5-f870f16edc96",
   "metadata": {},
   "outputs": [
    {
     "data": {
      "text/html": [
       "<div>\n",
       "<style scoped>\n",
       "    .dataframe tbody tr th:only-of-type {\n",
       "        vertical-align: middle;\n",
       "    }\n",
       "\n",
       "    .dataframe tbody tr th {\n",
       "        vertical-align: top;\n",
       "    }\n",
       "\n",
       "    .dataframe thead th {\n",
       "        text-align: right;\n",
       "    }\n",
       "</style>\n",
       "<table border=\"1\" class=\"dataframe\">\n",
       "  <thead>\n",
       "    <tr style=\"text-align: right;\">\n",
       "      <th></th>\n",
       "    </tr>\n",
       "  </thead>\n",
       "  <tbody>\n",
       "  </tbody>\n",
       "</table>\n",
       "</div>"
      ],
      "text/plain": [
       "Empty DataFrame\n",
       "Columns: []\n",
       "Index: []"
      ]
     },
     "execution_count": 10,
     "metadata": {},
     "output_type": "execute_result"
    }
   ],
   "source": [
    "df_events = rEvents.to_dataframe(dict_events)\n",
    "df_events"
   ]
  },
  {
   "cell_type": "markdown",
   "id": "5fcd6318-d737-42da-9144-7f0349bc7d1b",
   "metadata": {},
   "source": [
    "### (4) Extract Sync Events (Price Oracle)"
   ]
  },
  {
   "cell_type": "code",
   "execution_count": 11,
   "id": "c9bc7b14-ff26-465a-a060-2f8273975e36",
   "metadata": {},
   "outputs": [
    {
     "name": "stdout",
     "output_type": "stream",
     "text": [
      "sync at block:7 tx:0x5b6bb5937981e4642696449ed6ca25474bf87dfe8d3f2717995fb70c0d7a6249\n",
      "sync at block:10 tx:0x6f8ba7bb4edf22845a7fe915a36d9310e85a155f162dd2a383d90f4a71606044\n",
      "sync at block:10 tx:0x6f8ba7bb4edf22845a7fe915a36d9310e85a155f162dd2a383d90f4a71606044\n",
      "sync at block:10 tx:0x6f8ba7bb4edf22845a7fe915a36d9310e85a155f162dd2a383d90f4a71606044\n",
      ".\n"
     ]
    }
   ],
   "source": [
    "rEvents = RetrieveEvents(connect, abi)\n",
    "dict_events = rEvents.apply(EventType.SYNC, base_pool_addr)"
   ]
  },
  {
   "cell_type": "code",
   "execution_count": 12,
   "id": "45833e67-133f-4b3c-9835-083fdba85ffa",
   "metadata": {},
   "outputs": [
    {
     "data": {
      "text/html": [
       "<div>\n",
       "<style scoped>\n",
       "    .dataframe tbody tr th:only-of-type {\n",
       "        vertical-align: middle;\n",
       "    }\n",
       "\n",
       "    .dataframe tbody tr th {\n",
       "        vertical-align: top;\n",
       "    }\n",
       "\n",
       "    .dataframe thead th {\n",
       "        text-align: right;\n",
       "    }\n",
       "</style>\n",
       "<table border=\"1\" class=\"dataframe\">\n",
       "  <thead>\n",
       "    <tr style=\"text-align: right;\">\n",
       "      <th></th>\n",
       "      <th>chain</th>\n",
       "      <th>contract</th>\n",
       "      <th>type</th>\n",
       "      <th>platform</th>\n",
       "      <th>address</th>\n",
       "      <th>tx_hash</th>\n",
       "      <th>blk_num</th>\n",
       "      <th>timestamp</th>\n",
       "      <th>details</th>\n",
       "    </tr>\n",
       "  </thead>\n",
       "  <tbody>\n",
       "    <tr>\n",
       "      <th>0</th>\n",
       "      <td>localhost</td>\n",
       "      <td>iuniswapv2pair</td>\n",
       "      <td>sync</td>\n",
       "      <td>pachira</td>\n",
       "      <td>0x387e3656de052275554f8d8b78c4b1a9b088345c</td>\n",
       "      <td>0x5b6bb5937981e4642696449ed6ca25474bf87dfe8d3f...</td>\n",
       "      <td>7</td>\n",
       "      <td>1725038394</td>\n",
       "      <td>{'web3_type': &lt;class 'web3._utils.datatypes.Sy...</td>\n",
       "    </tr>\n",
       "    <tr>\n",
       "      <th>1</th>\n",
       "      <td>localhost</td>\n",
       "      <td>iuniswapv2pair</td>\n",
       "      <td>sync</td>\n",
       "      <td>pachira</td>\n",
       "      <td>0x387e3656de052275554f8d8b78c4b1a9b088345c</td>\n",
       "      <td>0x6f8ba7bb4edf22845a7fe915a36d9310e85a155f162d...</td>\n",
       "      <td>10</td>\n",
       "      <td>1725038422</td>\n",
       "      <td>{'web3_type': &lt;class 'web3._utils.datatypes.Sy...</td>\n",
       "    </tr>\n",
       "    <tr>\n",
       "      <th>2</th>\n",
       "      <td>localhost</td>\n",
       "      <td>iuniswapv2pair</td>\n",
       "      <td>sync</td>\n",
       "      <td>pachira</td>\n",
       "      <td>0x387e3656de052275554f8d8b78c4b1a9b088345c</td>\n",
       "      <td>0x6f8ba7bb4edf22845a7fe915a36d9310e85a155f162d...</td>\n",
       "      <td>10</td>\n",
       "      <td>1725038422</td>\n",
       "      <td>{'web3_type': &lt;class 'web3._utils.datatypes.Sy...</td>\n",
       "    </tr>\n",
       "    <tr>\n",
       "      <th>3</th>\n",
       "      <td>localhost</td>\n",
       "      <td>iuniswapv2pair</td>\n",
       "      <td>sync</td>\n",
       "      <td>pachira</td>\n",
       "      <td>0x387e3656de052275554f8d8b78c4b1a9b088345c</td>\n",
       "      <td>0x6f8ba7bb4edf22845a7fe915a36d9310e85a155f162d...</td>\n",
       "      <td>10</td>\n",
       "      <td>1725038422</td>\n",
       "      <td>{'web3_type': &lt;class 'web3._utils.datatypes.Sy...</td>\n",
       "    </tr>\n",
       "  </tbody>\n",
       "</table>\n",
       "</div>"
      ],
      "text/plain": [
       "       chain        contract  type platform  \\\n",
       "0  localhost  iuniswapv2pair  sync  pachira   \n",
       "1  localhost  iuniswapv2pair  sync  pachira   \n",
       "2  localhost  iuniswapv2pair  sync  pachira   \n",
       "3  localhost  iuniswapv2pair  sync  pachira   \n",
       "\n",
       "                                      address  \\\n",
       "0  0x387e3656de052275554f8d8b78c4b1a9b088345c   \n",
       "1  0x387e3656de052275554f8d8b78c4b1a9b088345c   \n",
       "2  0x387e3656de052275554f8d8b78c4b1a9b088345c   \n",
       "3  0x387e3656de052275554f8d8b78c4b1a9b088345c   \n",
       "\n",
       "                                             tx_hash  blk_num   timestamp  \\\n",
       "0  0x5b6bb5937981e4642696449ed6ca25474bf87dfe8d3f...        7  1725038394   \n",
       "1  0x6f8ba7bb4edf22845a7fe915a36d9310e85a155f162d...       10  1725038422   \n",
       "2  0x6f8ba7bb4edf22845a7fe915a36d9310e85a155f162d...       10  1725038422   \n",
       "3  0x6f8ba7bb4edf22845a7fe915a36d9310e85a155f162d...       10  1725038422   \n",
       "\n",
       "                                             details  \n",
       "0  {'web3_type': <class 'web3._utils.datatypes.Sy...  \n",
       "1  {'web3_type': <class 'web3._utils.datatypes.Sy...  \n",
       "2  {'web3_type': <class 'web3._utils.datatypes.Sy...  \n",
       "3  {'web3_type': <class 'web3._utils.datatypes.Sy...  "
      ]
     },
     "execution_count": 12,
     "metadata": {},
     "output_type": "execute_result"
    }
   ],
   "source": [
    "df_events = rEvents.to_dataframe(dict_events)\n",
    "df_events"
   ]
  },
  {
   "cell_type": "markdown",
   "id": "40faf498-9763-4b6b-be27-9e1d3729973f",
   "metadata": {},
   "source": [
    "### (5) Extract Transfer Events"
   ]
  },
  {
   "cell_type": "code",
   "execution_count": 13,
   "id": "f21eb1fe-6107-45b5-a5bd-ef64d6109710",
   "metadata": {},
   "outputs": [
    {
     "name": "stdout",
     "output_type": "stream",
     "text": [
      "transfer at block:5 tx:0xb8297fbe177f1c7fb28f0b9023b56734ada6cd26ce44799b20a01a42c6b34d91\n",
      "transfer at block:7 tx:0x5b6bb5937981e4642696449ed6ca25474bf87dfe8d3f2717995fb70c0d7a6249\n",
      "transfer at block:7 tx:0x5b6bb5937981e4642696449ed6ca25474bf87dfe8d3f2717995fb70c0d7a6249\n",
      "transfer at block:10 tx:0x6f8ba7bb4edf22845a7fe915a36d9310e85a155f162dd2a383d90f4a71606044\n",
      "transfer at block:10 tx:0x6f8ba7bb4edf22845a7fe915a36d9310e85a155f162dd2a383d90f4a71606044\n",
      "transfer at block:10 tx:0x6f8ba7bb4edf22845a7fe915a36d9310e85a155f162dd2a383d90f4a71606044\n",
      "transfer at block:10 tx:0x6f8ba7bb4edf22845a7fe915a36d9310e85a155f162dd2a383d90f4a71606044\n",
      "transfer at block:10 tx:0x6f8ba7bb4edf22845a7fe915a36d9310e85a155f162dd2a383d90f4a71606044\n",
      "transfer at block:10 tx:0x6f8ba7bb4edf22845a7fe915a36d9310e85a155f162dd2a383d90f4a71606044\n",
      ".\n"
     ]
    }
   ],
   "source": [
    "rEvents = RetrieveEvents(connect, abi)\n",
    "dict_events = rEvents.apply(EventType.TRANSFER, base_pool_addr)"
   ]
  },
  {
   "cell_type": "code",
   "execution_count": 14,
   "id": "886d5dda-7d6f-4ba6-90dd-66f9b880fdc6",
   "metadata": {},
   "outputs": [
    {
     "data": {
      "text/html": [
       "<div>\n",
       "<style scoped>\n",
       "    .dataframe tbody tr th:only-of-type {\n",
       "        vertical-align: middle;\n",
       "    }\n",
       "\n",
       "    .dataframe tbody tr th {\n",
       "        vertical-align: top;\n",
       "    }\n",
       "\n",
       "    .dataframe thead th {\n",
       "        text-align: right;\n",
       "    }\n",
       "</style>\n",
       "<table border=\"1\" class=\"dataframe\">\n",
       "  <thead>\n",
       "    <tr style=\"text-align: right;\">\n",
       "      <th></th>\n",
       "      <th>chain</th>\n",
       "      <th>contract</th>\n",
       "      <th>type</th>\n",
       "      <th>platform</th>\n",
       "      <th>address</th>\n",
       "      <th>tx_hash</th>\n",
       "      <th>blk_num</th>\n",
       "      <th>timestamp</th>\n",
       "      <th>details</th>\n",
       "    </tr>\n",
       "  </thead>\n",
       "  <tbody>\n",
       "    <tr>\n",
       "      <th>0</th>\n",
       "      <td>localhost</td>\n",
       "      <td>iuniswapv2pair</td>\n",
       "      <td>transfer</td>\n",
       "      <td>pachira</td>\n",
       "      <td>0x0165878a594ca255338adfa4d48449f69242eb8f</td>\n",
       "      <td>0xb8297fbe177f1c7fb28f0b9023b56734ada6cd26ce44...</td>\n",
       "      <td>5</td>\n",
       "      <td>1725038392</td>\n",
       "      <td>{'web3_type': &lt;class 'web3._utils.datatypes.Tr...</td>\n",
       "    </tr>\n",
       "    <tr>\n",
       "      <th>1</th>\n",
       "      <td>localhost</td>\n",
       "      <td>iuniswapv2pair</td>\n",
       "      <td>transfer</td>\n",
       "      <td>pachira</td>\n",
       "      <td>0x387e3656de052275554f8d8b78c4b1a9b088345c</td>\n",
       "      <td>0x5b6bb5937981e4642696449ed6ca25474bf87dfe8d3f...</td>\n",
       "      <td>7</td>\n",
       "      <td>1725038394</td>\n",
       "      <td>{'web3_type': &lt;class 'web3._utils.datatypes.Tr...</td>\n",
       "    </tr>\n",
       "    <tr>\n",
       "      <th>2</th>\n",
       "      <td>localhost</td>\n",
       "      <td>iuniswapv2pair</td>\n",
       "      <td>transfer</td>\n",
       "      <td>pachira</td>\n",
       "      <td>0x0165878a594ca255338adfa4d48449f69242eb8f</td>\n",
       "      <td>0x5b6bb5937981e4642696449ed6ca25474bf87dfe8d3f...</td>\n",
       "      <td>7</td>\n",
       "      <td>1725038394</td>\n",
       "      <td>{'web3_type': &lt;class 'web3._utils.datatypes.Tr...</td>\n",
       "    </tr>\n",
       "    <tr>\n",
       "      <th>3</th>\n",
       "      <td>localhost</td>\n",
       "      <td>iuniswapv2pair</td>\n",
       "      <td>transfer</td>\n",
       "      <td>pachira</td>\n",
       "      <td>0x9fe46736679d2d9a65f0992f2272de9f3c7fa6e0</td>\n",
       "      <td>0x6f8ba7bb4edf22845a7fe915a36d9310e85a155f162d...</td>\n",
       "      <td>10</td>\n",
       "      <td>1725038422</td>\n",
       "      <td>{'web3_type': &lt;class 'web3._utils.datatypes.Tr...</td>\n",
       "    </tr>\n",
       "    <tr>\n",
       "      <th>4</th>\n",
       "      <td>localhost</td>\n",
       "      <td>iuniswapv2pair</td>\n",
       "      <td>transfer</td>\n",
       "      <td>pachira</td>\n",
       "      <td>0xfaefac1c9e8af3a030857c4e61066f0a510253af</td>\n",
       "      <td>0x6f8ba7bb4edf22845a7fe915a36d9310e85a155f162d...</td>\n",
       "      <td>10</td>\n",
       "      <td>1725038422</td>\n",
       "      <td>{'web3_type': &lt;class 'web3._utils.datatypes.Tr...</td>\n",
       "    </tr>\n",
       "    <tr>\n",
       "      <th>5</th>\n",
       "      <td>localhost</td>\n",
       "      <td>iuniswapv2pair</td>\n",
       "      <td>transfer</td>\n",
       "      <td>pachira</td>\n",
       "      <td>0x9fe46736679d2d9a65f0992f2272de9f3c7fa6e0</td>\n",
       "      <td>0x6f8ba7bb4edf22845a7fe915a36d9310e85a155f162d...</td>\n",
       "      <td>10</td>\n",
       "      <td>1725038422</td>\n",
       "      <td>{'web3_type': &lt;class 'web3._utils.datatypes.Tr...</td>\n",
       "    </tr>\n",
       "    <tr>\n",
       "      <th>6</th>\n",
       "      <td>localhost</td>\n",
       "      <td>iuniswapv2pair</td>\n",
       "      <td>transfer</td>\n",
       "      <td>pachira</td>\n",
       "      <td>0xfaefac1c9e8af3a030857c4e61066f0a510253af</td>\n",
       "      <td>0x6f8ba7bb4edf22845a7fe915a36d9310e85a155f162d...</td>\n",
       "      <td>10</td>\n",
       "      <td>1725038422</td>\n",
       "      <td>{'web3_type': &lt;class 'web3._utils.datatypes.Tr...</td>\n",
       "    </tr>\n",
       "    <tr>\n",
       "      <th>7</th>\n",
       "      <td>localhost</td>\n",
       "      <td>iuniswapv2pair</td>\n",
       "      <td>transfer</td>\n",
       "      <td>pachira</td>\n",
       "      <td>0x387e3656de052275554f8d8b78c4b1a9b088345c</td>\n",
       "      <td>0x6f8ba7bb4edf22845a7fe915a36d9310e85a155f162d...</td>\n",
       "      <td>10</td>\n",
       "      <td>1725038422</td>\n",
       "      <td>{'web3_type': &lt;class 'web3._utils.datatypes.Tr...</td>\n",
       "    </tr>\n",
       "    <tr>\n",
       "      <th>8</th>\n",
       "      <td>localhost</td>\n",
       "      <td>iuniswapv2pair</td>\n",
       "      <td>transfer</td>\n",
       "      <td>pachira</td>\n",
       "      <td>0x0165878a594ca255338adfa4d48449f69242eb8f</td>\n",
       "      <td>0x6f8ba7bb4edf22845a7fe915a36d9310e85a155f162d...</td>\n",
       "      <td>10</td>\n",
       "      <td>1725038422</td>\n",
       "      <td>{'web3_type': &lt;class 'web3._utils.datatypes.Tr...</td>\n",
       "    </tr>\n",
       "  </tbody>\n",
       "</table>\n",
       "</div>"
      ],
      "text/plain": [
       "       chain        contract      type platform  \\\n",
       "0  localhost  iuniswapv2pair  transfer  pachira   \n",
       "1  localhost  iuniswapv2pair  transfer  pachira   \n",
       "2  localhost  iuniswapv2pair  transfer  pachira   \n",
       "3  localhost  iuniswapv2pair  transfer  pachira   \n",
       "4  localhost  iuniswapv2pair  transfer  pachira   \n",
       "5  localhost  iuniswapv2pair  transfer  pachira   \n",
       "6  localhost  iuniswapv2pair  transfer  pachira   \n",
       "7  localhost  iuniswapv2pair  transfer  pachira   \n",
       "8  localhost  iuniswapv2pair  transfer  pachira   \n",
       "\n",
       "                                      address  \\\n",
       "0  0x0165878a594ca255338adfa4d48449f69242eb8f   \n",
       "1  0x387e3656de052275554f8d8b78c4b1a9b088345c   \n",
       "2  0x0165878a594ca255338adfa4d48449f69242eb8f   \n",
       "3  0x9fe46736679d2d9a65f0992f2272de9f3c7fa6e0   \n",
       "4  0xfaefac1c9e8af3a030857c4e61066f0a510253af   \n",
       "5  0x9fe46736679d2d9a65f0992f2272de9f3c7fa6e0   \n",
       "6  0xfaefac1c9e8af3a030857c4e61066f0a510253af   \n",
       "7  0x387e3656de052275554f8d8b78c4b1a9b088345c   \n",
       "8  0x0165878a594ca255338adfa4d48449f69242eb8f   \n",
       "\n",
       "                                             tx_hash  blk_num   timestamp  \\\n",
       "0  0xb8297fbe177f1c7fb28f0b9023b56734ada6cd26ce44...        5  1725038392   \n",
       "1  0x5b6bb5937981e4642696449ed6ca25474bf87dfe8d3f...        7  1725038394   \n",
       "2  0x5b6bb5937981e4642696449ed6ca25474bf87dfe8d3f...        7  1725038394   \n",
       "3  0x6f8ba7bb4edf22845a7fe915a36d9310e85a155f162d...       10  1725038422   \n",
       "4  0x6f8ba7bb4edf22845a7fe915a36d9310e85a155f162d...       10  1725038422   \n",
       "5  0x6f8ba7bb4edf22845a7fe915a36d9310e85a155f162d...       10  1725038422   \n",
       "6  0x6f8ba7bb4edf22845a7fe915a36d9310e85a155f162d...       10  1725038422   \n",
       "7  0x6f8ba7bb4edf22845a7fe915a36d9310e85a155f162d...       10  1725038422   \n",
       "8  0x6f8ba7bb4edf22845a7fe915a36d9310e85a155f162d...       10  1725038422   \n",
       "\n",
       "                                             details  \n",
       "0  {'web3_type': <class 'web3._utils.datatypes.Tr...  \n",
       "1  {'web3_type': <class 'web3._utils.datatypes.Tr...  \n",
       "2  {'web3_type': <class 'web3._utils.datatypes.Tr...  \n",
       "3  {'web3_type': <class 'web3._utils.datatypes.Tr...  \n",
       "4  {'web3_type': <class 'web3._utils.datatypes.Tr...  \n",
       "5  {'web3_type': <class 'web3._utils.datatypes.Tr...  \n",
       "6  {'web3_type': <class 'web3._utils.datatypes.Tr...  \n",
       "7  {'web3_type': <class 'web3._utils.datatypes.Tr...  \n",
       "8  {'web3_type': <class 'web3._utils.datatypes.Tr...  "
      ]
     },
     "execution_count": 14,
     "metadata": {},
     "output_type": "execute_result"
    }
   ],
   "source": [
    "df_events = rEvents.to_dataframe(dict_events)\n",
    "df_events"
   ]
  }
 ],
 "metadata": {
  "kernelspec": {
   "display_name": "Python 3 (ipykernel)",
   "language": "python",
   "name": "python3"
  },
  "language_info": {
   "codemirror_mode": {
    "name": "ipython",
    "version": 3
   },
   "file_extension": ".py",
   "mimetype": "text/x-python",
   "name": "python",
   "nbconvert_exporter": "python",
   "pygments_lexer": "ipython3",
   "version": "3.10.0rc2"
  }
 },
 "nbformat": 4,
 "nbformat_minor": 5
}
