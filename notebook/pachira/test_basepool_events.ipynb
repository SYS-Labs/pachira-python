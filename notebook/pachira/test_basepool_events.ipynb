{
 "cells": [
  {
   "cell_type": "markdown",
   "id": "9e58e37a-b7ee-42b7-8141-ab93fd0d467a",
   "metadata": {},
   "source": [
    "## Basepool Events\n",
    "- Pull basepool events from LTP\n",
    "- To run locally, download [notebook](https://github.com/SYS-Labs/pachira-python/blob/main/notebook/pachira/test_basepool_events.ipynb) from [SYS-Labs repos](https://github.com/SYS-Labs/pachira-python)"
   ]
  },
  {
   "cell_type": "code",
   "execution_count": 1,
   "id": "7bf3fbfa-49d5-4bae-a0c3-e4164dfd4f1b",
   "metadata": {},
   "outputs": [],
   "source": [
    "import json\n",
    "from pachira import *"
   ]
  },
  {
   "cell_type": "code",
   "execution_count": 16,
   "id": "b7f4f9b9-1353-4e3b-895f-c863fb438f48",
   "metadata": {},
   "outputs": [],
   "source": [
    "test_net_addresses_path = '/Users/ian_moore/repos/indexeddefi/script/deployments/TestnetStage1-addresses.json'\n",
    "\n",
    "f = open(test_net_addresses_path)\n",
    "test_net_addresses = json.load(f)\n",
    "base_pool_addr = test_net_addresses['basePool']"
   ]
  },
  {
   "cell_type": "code",
   "execution_count": 17,
   "id": "53636ca5-c8e9-4129-af54-f6022d3f01c1",
   "metadata": {},
   "outputs": [],
   "source": [
    "connect = ConnectW3(Net.LOCALHOST)\n",
    "connect.apply()"
   ]
  },
  {
   "cell_type": "code",
   "execution_count": 18,
   "id": "f4a0b20a-9461-44d9-bae1-c86108031b9d",
   "metadata": {},
   "outputs": [],
   "source": [
    "abi = ABILoad(Platform.PACHIRA, JSONContract.IUniswapV2Pair)"
   ]
  },
  {
   "cell_type": "markdown",
   "id": "0121d563-ef8d-4a3b-b5fc-64ed6e6e8736",
   "metadata": {},
   "source": [
    "### (1) Extract Mint Events"
   ]
  },
  {
   "cell_type": "code",
   "execution_count": 19,
   "id": "d7d4b088-6326-437d-8af8-497f865c612d",
   "metadata": {},
   "outputs": [
    {
     "name": "stdout",
     "output_type": "stream",
     "text": [
      "mint at block:12 tx:0x67588af893ef2038dad0fe27e3f958a4afe73fdd98461bccaca1ec89c91429d0\n",
      "mint at block:13 tx:0x45e596e2e640708903cd5ff5e795c2568d0953fe861e4dd4bcebfc208f7c0e06\n",
      ".\n"
     ]
    }
   ],
   "source": [
    "rEvents = RetrieveEvents(connect, abi)\n",
    "dict_events = rEvents.apply(EventType.MINT, base_pool_addr)"
   ]
  },
  {
   "cell_type": "code",
   "execution_count": 20,
   "id": "1d98542f-819b-4ace-8019-45e23799d1fe",
   "metadata": {},
   "outputs": [
    {
     "data": {
      "text/plain": [
       "{0: {'chain': 'localhost',\n",
       "  'contract': 'iuniswapv2pair',\n",
       "  'type': 'mint',\n",
       "  'platform': 'pachira',\n",
       "  'address': '0x1c58afe919203fb3ab5dee129ad16da6b19fc2b6',\n",
       "  'tx_hash': '0x67588af893ef2038dad0fe27e3f958a4afe73fdd98461bccaca1ec89c91429d0',\n",
       "  'blk_num': 12,\n",
       "  'timestamp': 1729200125,\n",
       "  'details': {'web3_type': web3._utils.datatypes.Mint,\n",
       "   'token0': '0x088Ba56A560dfF690a1C6feF26394F4C03821c4f',\n",
       "   'token1': '0x0165878A594ca255338adfa4d48449f69242Eb8F',\n",
       "   'amount0In': 100000000000000000000000,\n",
       "   'amount1Out': 100000000000000000000000}},\n",
       " 1: {'chain': 'localhost',\n",
       "  'contract': 'iuniswapv2pair',\n",
       "  'type': 'mint',\n",
       "  'platform': 'pachira',\n",
       "  'address': '0x1c58afe919203fb3ab5dee129ad16da6b19fc2b6',\n",
       "  'tx_hash': '0x45e596e2e640708903cd5ff5e795c2568d0953fe861e4dd4bcebfc208f7c0e06',\n",
       "  'blk_num': 13,\n",
       "  'timestamp': 1729200145,\n",
       "  'details': {'web3_type': web3._utils.datatypes.Mint,\n",
       "   'token0': '0x088Ba56A560dfF690a1C6feF26394F4C03821c4f',\n",
       "   'token1': '0x0165878A594ca255338adfa4d48449f69242Eb8F',\n",
       "   'amount0In': 24,\n",
       "   'amount1Out': 25}}}"
      ]
     },
     "execution_count": 20,
     "metadata": {},
     "output_type": "execute_result"
    }
   ],
   "source": [
    "dict_events"
   ]
  },
  {
   "cell_type": "code",
   "execution_count": 21,
   "id": "2f4841ce-1ed7-4eb2-825b-b14ebbff7d2d",
   "metadata": {},
   "outputs": [
    {
     "data": {
      "text/html": [
       "<div>\n",
       "<style scoped>\n",
       "    .dataframe tbody tr th:only-of-type {\n",
       "        vertical-align: middle;\n",
       "    }\n",
       "\n",
       "    .dataframe tbody tr th {\n",
       "        vertical-align: top;\n",
       "    }\n",
       "\n",
       "    .dataframe thead th {\n",
       "        text-align: right;\n",
       "    }\n",
       "</style>\n",
       "<table border=\"1\" class=\"dataframe\">\n",
       "  <thead>\n",
       "    <tr style=\"text-align: right;\">\n",
       "      <th></th>\n",
       "      <th>chain</th>\n",
       "      <th>contract</th>\n",
       "      <th>type</th>\n",
       "      <th>platform</th>\n",
       "      <th>address</th>\n",
       "      <th>tx_hash</th>\n",
       "      <th>blk_num</th>\n",
       "      <th>timestamp</th>\n",
       "      <th>details</th>\n",
       "    </tr>\n",
       "  </thead>\n",
       "  <tbody>\n",
       "    <tr>\n",
       "      <th>0</th>\n",
       "      <td>localhost</td>\n",
       "      <td>iuniswapv2pair</td>\n",
       "      <td>mint</td>\n",
       "      <td>pachira</td>\n",
       "      <td>0x1c58afe919203fb3ab5dee129ad16da6b19fc2b6</td>\n",
       "      <td>0x67588af893ef2038dad0fe27e3f958a4afe73fdd9846...</td>\n",
       "      <td>12</td>\n",
       "      <td>1729200125</td>\n",
       "      <td>{'web3_type': &lt;class 'web3._utils.datatypes.Mi...</td>\n",
       "    </tr>\n",
       "    <tr>\n",
       "      <th>1</th>\n",
       "      <td>localhost</td>\n",
       "      <td>iuniswapv2pair</td>\n",
       "      <td>mint</td>\n",
       "      <td>pachira</td>\n",
       "      <td>0x1c58afe919203fb3ab5dee129ad16da6b19fc2b6</td>\n",
       "      <td>0x45e596e2e640708903cd5ff5e795c2568d0953fe861e...</td>\n",
       "      <td>13</td>\n",
       "      <td>1729200145</td>\n",
       "      <td>{'web3_type': &lt;class 'web3._utils.datatypes.Mi...</td>\n",
       "    </tr>\n",
       "  </tbody>\n",
       "</table>\n",
       "</div>"
      ],
      "text/plain": [
       "       chain        contract  type platform  \\\n",
       "0  localhost  iuniswapv2pair  mint  pachira   \n",
       "1  localhost  iuniswapv2pair  mint  pachira   \n",
       "\n",
       "                                      address  \\\n",
       "0  0x1c58afe919203fb3ab5dee129ad16da6b19fc2b6   \n",
       "1  0x1c58afe919203fb3ab5dee129ad16da6b19fc2b6   \n",
       "\n",
       "                                             tx_hash  blk_num   timestamp  \\\n",
       "0  0x67588af893ef2038dad0fe27e3f958a4afe73fdd9846...       12  1729200125   \n",
       "1  0x45e596e2e640708903cd5ff5e795c2568d0953fe861e...       13  1729200145   \n",
       "\n",
       "                                             details  \n",
       "0  {'web3_type': <class 'web3._utils.datatypes.Mi...  \n",
       "1  {'web3_type': <class 'web3._utils.datatypes.Mi...  "
      ]
     },
     "execution_count": 21,
     "metadata": {},
     "output_type": "execute_result"
    }
   ],
   "source": [
    "df_events = rEvents.to_dataframe(dict_events)\n",
    "df_events"
   ]
  },
  {
   "cell_type": "markdown",
   "id": "34f422e1-8131-4aff-8c2d-64d8d6fbe109",
   "metadata": {},
   "source": [
    "### (2) Extract Swap Events"
   ]
  },
  {
   "cell_type": "code",
   "execution_count": 22,
   "id": "389a9ba1-3b10-403d-8d77-8c42ec404ee7",
   "metadata": {},
   "outputs": [
    {
     "name": "stdout",
     "output_type": "stream",
     "text": [
      "swap at block:13 tx:0x45e596e2e640708903cd5ff5e795c2568d0953fe861e4dd4bcebfc208f7c0e06\n",
      ".\n"
     ]
    }
   ],
   "source": [
    "rEvents = RetrieveEvents(connect, abi)\n",
    "dict_events = rEvents.apply(EventType.SWAP, base_pool_addr)"
   ]
  },
  {
   "cell_type": "code",
   "execution_count": 23,
   "id": "c9b8a7b4-bba1-4d6b-85f6-85a6506182f4",
   "metadata": {},
   "outputs": [
    {
     "data": {
      "text/html": [
       "<div>\n",
       "<style scoped>\n",
       "    .dataframe tbody tr th:only-of-type {\n",
       "        vertical-align: middle;\n",
       "    }\n",
       "\n",
       "    .dataframe tbody tr th {\n",
       "        vertical-align: top;\n",
       "    }\n",
       "\n",
       "    .dataframe thead th {\n",
       "        text-align: right;\n",
       "    }\n",
       "</style>\n",
       "<table border=\"1\" class=\"dataframe\">\n",
       "  <thead>\n",
       "    <tr style=\"text-align: right;\">\n",
       "      <th></th>\n",
       "      <th>chain</th>\n",
       "      <th>contract</th>\n",
       "      <th>type</th>\n",
       "      <th>platform</th>\n",
       "      <th>address</th>\n",
       "      <th>tx_hash</th>\n",
       "      <th>blk_num</th>\n",
       "      <th>timestamp</th>\n",
       "      <th>details</th>\n",
       "    </tr>\n",
       "  </thead>\n",
       "  <tbody>\n",
       "    <tr>\n",
       "      <th>0</th>\n",
       "      <td>localhost</td>\n",
       "      <td>iuniswapv2pair</td>\n",
       "      <td>swap</td>\n",
       "      <td>pachira</td>\n",
       "      <td>0x1c58afe919203fb3ab5dee129ad16da6b19fc2b6</td>\n",
       "      <td>0x45e596e2e640708903cd5ff5e795c2568d0953fe861e...</td>\n",
       "      <td>13</td>\n",
       "      <td>1729200145</td>\n",
       "      <td>{'web3_type': &lt;class 'web3._utils.datatypes.Sw...</td>\n",
       "    </tr>\n",
       "  </tbody>\n",
       "</table>\n",
       "</div>"
      ],
      "text/plain": [
       "       chain        contract  type platform  \\\n",
       "0  localhost  iuniswapv2pair  swap  pachira   \n",
       "\n",
       "                                      address  \\\n",
       "0  0x1c58afe919203fb3ab5dee129ad16da6b19fc2b6   \n",
       "\n",
       "                                             tx_hash  blk_num   timestamp  \\\n",
       "0  0x45e596e2e640708903cd5ff5e795c2568d0953fe861e...       13  1729200145   \n",
       "\n",
       "                                             details  \n",
       "0  {'web3_type': <class 'web3._utils.datatypes.Sw...  "
      ]
     },
     "execution_count": 23,
     "metadata": {},
     "output_type": "execute_result"
    }
   ],
   "source": [
    "df_events = rEvents.to_dataframe(dict_events)\n",
    "df_events"
   ]
  },
  {
   "cell_type": "markdown",
   "id": "a8e6ee69-54d8-43c1-bd16-5962af04913a",
   "metadata": {},
   "source": [
    "### (3) Extract Burn Events"
   ]
  },
  {
   "cell_type": "code",
   "execution_count": 24,
   "id": "18f12d13-18c7-4899-9d0b-91c7958a52c4",
   "metadata": {},
   "outputs": [
    {
     "name": "stdout",
     "output_type": "stream",
     "text": [
      ".\n"
     ]
    }
   ],
   "source": [
    "rEvents = RetrieveEvents(connect, abi)\n",
    "dict_events = rEvents.apply(EventType.BURN, base_pool_addr)"
   ]
  },
  {
   "cell_type": "code",
   "execution_count": 25,
   "id": "ceef053a-2b32-4167-94c5-f870f16edc96",
   "metadata": {},
   "outputs": [
    {
     "data": {
      "text/html": [
       "<div>\n",
       "<style scoped>\n",
       "    .dataframe tbody tr th:only-of-type {\n",
       "        vertical-align: middle;\n",
       "    }\n",
       "\n",
       "    .dataframe tbody tr th {\n",
       "        vertical-align: top;\n",
       "    }\n",
       "\n",
       "    .dataframe thead th {\n",
       "        text-align: right;\n",
       "    }\n",
       "</style>\n",
       "<table border=\"1\" class=\"dataframe\">\n",
       "  <thead>\n",
       "    <tr style=\"text-align: right;\">\n",
       "      <th></th>\n",
       "    </tr>\n",
       "  </thead>\n",
       "  <tbody>\n",
       "  </tbody>\n",
       "</table>\n",
       "</div>"
      ],
      "text/plain": [
       "Empty DataFrame\n",
       "Columns: []\n",
       "Index: []"
      ]
     },
     "execution_count": 25,
     "metadata": {},
     "output_type": "execute_result"
    }
   ],
   "source": [
    "df_events = rEvents.to_dataframe(dict_events)\n",
    "df_events"
   ]
  },
  {
   "cell_type": "markdown",
   "id": "5fcd6318-d737-42da-9144-7f0349bc7d1b",
   "metadata": {},
   "source": [
    "### (4) Extract Sync Events (Price Oracle)"
   ]
  },
  {
   "cell_type": "code",
   "execution_count": 26,
   "id": "c9bc7b14-ff26-465a-a060-2f8273975e36",
   "metadata": {},
   "outputs": [
    {
     "name": "stdout",
     "output_type": "stream",
     "text": [
      "sync at block:12 tx:0x67588af893ef2038dad0fe27e3f958a4afe73fdd98461bccaca1ec89c91429d0\n",
      "sync at block:13 tx:0x45e596e2e640708903cd5ff5e795c2568d0953fe861e4dd4bcebfc208f7c0e06\n",
      "sync at block:13 tx:0x45e596e2e640708903cd5ff5e795c2568d0953fe861e4dd4bcebfc208f7c0e06\n",
      "sync at block:13 tx:0x45e596e2e640708903cd5ff5e795c2568d0953fe861e4dd4bcebfc208f7c0e06\n",
      ".\n"
     ]
    }
   ],
   "source": [
    "rEvents = RetrieveEvents(connect, abi)\n",
    "dict_events = rEvents.apply(EventType.SYNC, base_pool_addr)"
   ]
  },
  {
   "cell_type": "code",
   "execution_count": 13,
   "id": "45833e67-133f-4b3c-9835-083fdba85ffa",
   "metadata": {},
   "outputs": [
    {
     "data": {
      "text/html": [
       "<div>\n",
       "<style scoped>\n",
       "    .dataframe tbody tr th:only-of-type {\n",
       "        vertical-align: middle;\n",
       "    }\n",
       "\n",
       "    .dataframe tbody tr th {\n",
       "        vertical-align: top;\n",
       "    }\n",
       "\n",
       "    .dataframe thead th {\n",
       "        text-align: right;\n",
       "    }\n",
       "</style>\n",
       "<table border=\"1\" class=\"dataframe\">\n",
       "  <thead>\n",
       "    <tr style=\"text-align: right;\">\n",
       "      <th></th>\n",
       "      <th>chain</th>\n",
       "      <th>contract</th>\n",
       "      <th>type</th>\n",
       "      <th>platform</th>\n",
       "      <th>address</th>\n",
       "      <th>tx_hash</th>\n",
       "      <th>blk_num</th>\n",
       "      <th>timestamp</th>\n",
       "      <th>details</th>\n",
       "    </tr>\n",
       "  </thead>\n",
       "  <tbody>\n",
       "    <tr>\n",
       "      <th>0</th>\n",
       "      <td>localhost</td>\n",
       "      <td>iuniswapv2pair</td>\n",
       "      <td>sync</td>\n",
       "      <td>pachira</td>\n",
       "      <td>0x1c58afe919203fb3ab5dee129ad16da6b19fc2b6</td>\n",
       "      <td>0x67588af893ef2038dad0fe27e3f958a4afe73fdd9846...</td>\n",
       "      <td>12</td>\n",
       "      <td>1729200125</td>\n",
       "      <td>{'web3_type': &lt;class 'web3._utils.datatypes.Sy...</td>\n",
       "    </tr>\n",
       "    <tr>\n",
       "      <th>1</th>\n",
       "      <td>localhost</td>\n",
       "      <td>iuniswapv2pair</td>\n",
       "      <td>sync</td>\n",
       "      <td>pachira</td>\n",
       "      <td>0x1c58afe919203fb3ab5dee129ad16da6b19fc2b6</td>\n",
       "      <td>0x45e596e2e640708903cd5ff5e795c2568d0953fe861e...</td>\n",
       "      <td>13</td>\n",
       "      <td>1729200145</td>\n",
       "      <td>{'web3_type': &lt;class 'web3._utils.datatypes.Sy...</td>\n",
       "    </tr>\n",
       "    <tr>\n",
       "      <th>2</th>\n",
       "      <td>localhost</td>\n",
       "      <td>iuniswapv2pair</td>\n",
       "      <td>sync</td>\n",
       "      <td>pachira</td>\n",
       "      <td>0x1c58afe919203fb3ab5dee129ad16da6b19fc2b6</td>\n",
       "      <td>0x45e596e2e640708903cd5ff5e795c2568d0953fe861e...</td>\n",
       "      <td>13</td>\n",
       "      <td>1729200145</td>\n",
       "      <td>{'web3_type': &lt;class 'web3._utils.datatypes.Sy...</td>\n",
       "    </tr>\n",
       "    <tr>\n",
       "      <th>3</th>\n",
       "      <td>localhost</td>\n",
       "      <td>iuniswapv2pair</td>\n",
       "      <td>sync</td>\n",
       "      <td>pachira</td>\n",
       "      <td>0x1c58afe919203fb3ab5dee129ad16da6b19fc2b6</td>\n",
       "      <td>0x45e596e2e640708903cd5ff5e795c2568d0953fe861e...</td>\n",
       "      <td>13</td>\n",
       "      <td>1729200145</td>\n",
       "      <td>{'web3_type': &lt;class 'web3._utils.datatypes.Sy...</td>\n",
       "    </tr>\n",
       "  </tbody>\n",
       "</table>\n",
       "</div>"
      ],
      "text/plain": [
       "       chain        contract  type platform  \\\n",
       "0  localhost  iuniswapv2pair  sync  pachira   \n",
       "1  localhost  iuniswapv2pair  sync  pachira   \n",
       "2  localhost  iuniswapv2pair  sync  pachira   \n",
       "3  localhost  iuniswapv2pair  sync  pachira   \n",
       "\n",
       "                                      address  \\\n",
       "0  0x1c58afe919203fb3ab5dee129ad16da6b19fc2b6   \n",
       "1  0x1c58afe919203fb3ab5dee129ad16da6b19fc2b6   \n",
       "2  0x1c58afe919203fb3ab5dee129ad16da6b19fc2b6   \n",
       "3  0x1c58afe919203fb3ab5dee129ad16da6b19fc2b6   \n",
       "\n",
       "                                             tx_hash  blk_num   timestamp  \\\n",
       "0  0x67588af893ef2038dad0fe27e3f958a4afe73fdd9846...       12  1729200125   \n",
       "1  0x45e596e2e640708903cd5ff5e795c2568d0953fe861e...       13  1729200145   \n",
       "2  0x45e596e2e640708903cd5ff5e795c2568d0953fe861e...       13  1729200145   \n",
       "3  0x45e596e2e640708903cd5ff5e795c2568d0953fe861e...       13  1729200145   \n",
       "\n",
       "                                             details  \n",
       "0  {'web3_type': <class 'web3._utils.datatypes.Sy...  \n",
       "1  {'web3_type': <class 'web3._utils.datatypes.Sy...  \n",
       "2  {'web3_type': <class 'web3._utils.datatypes.Sy...  \n",
       "3  {'web3_type': <class 'web3._utils.datatypes.Sy...  "
      ]
     },
     "execution_count": 13,
     "metadata": {},
     "output_type": "execute_result"
    }
   ],
   "source": [
    "df_events = rEvents.to_dataframe(dict_events)\n",
    "df_events"
   ]
  },
  {
   "cell_type": "markdown",
   "id": "40faf498-9763-4b6b-be27-9e1d3729973f",
   "metadata": {},
   "source": [
    "### (5) Extract Transfer Events"
   ]
  },
  {
   "cell_type": "code",
   "execution_count": 14,
   "id": "f21eb1fe-6107-45b5-a5bd-ef64d6109710",
   "metadata": {},
   "outputs": [
    {
     "name": "stdout",
     "output_type": "stream",
     "text": [
      "transfer at block:5 tx:0x642b0c9d4930ace6bbdd58aeff6f4373433838e4f993606599e9cc842849424a\n",
      "transfer at block:6 tx:0x5671c24e76e03e8c2e91582073024ca89c0f9971e5ca972292c8f048586c6b61\n",
      "transfer at block:12 tx:0x67588af893ef2038dad0fe27e3f958a4afe73fdd98461bccaca1ec89c91429d0\n",
      "transfer at block:13 tx:0x45e596e2e640708903cd5ff5e795c2568d0953fe861e4dd4bcebfc208f7c0e06\n",
      "transfer at block:13 tx:0x45e596e2e640708903cd5ff5e795c2568d0953fe861e4dd4bcebfc208f7c0e06\n",
      "transfer at block:13 tx:0x45e596e2e640708903cd5ff5e795c2568d0953fe861e4dd4bcebfc208f7c0e06\n",
      "transfer at block:13 tx:0x45e596e2e640708903cd5ff5e795c2568d0953fe861e4dd4bcebfc208f7c0e06\n",
      "transfer at block:13 tx:0x45e596e2e640708903cd5ff5e795c2568d0953fe861e4dd4bcebfc208f7c0e06\n",
      ".\n"
     ]
    }
   ],
   "source": [
    "rEvents = RetrieveEvents(connect, abi)\n",
    "dict_events = rEvents.apply(EventType.TRANSFER, base_pool_addr)"
   ]
  },
  {
   "cell_type": "code",
   "execution_count": 15,
   "id": "886d5dda-7d6f-4ba6-90dd-66f9b880fdc6",
   "metadata": {},
   "outputs": [
    {
     "data": {
      "text/html": [
       "<div>\n",
       "<style scoped>\n",
       "    .dataframe tbody tr th:only-of-type {\n",
       "        vertical-align: middle;\n",
       "    }\n",
       "\n",
       "    .dataframe tbody tr th {\n",
       "        vertical-align: top;\n",
       "    }\n",
       "\n",
       "    .dataframe thead th {\n",
       "        text-align: right;\n",
       "    }\n",
       "</style>\n",
       "<table border=\"1\" class=\"dataframe\">\n",
       "  <thead>\n",
       "    <tr style=\"text-align: right;\">\n",
       "      <th></th>\n",
       "      <th>chain</th>\n",
       "      <th>contract</th>\n",
       "      <th>type</th>\n",
       "      <th>platform</th>\n",
       "      <th>address</th>\n",
       "      <th>tx_hash</th>\n",
       "      <th>blk_num</th>\n",
       "      <th>timestamp</th>\n",
       "      <th>details</th>\n",
       "    </tr>\n",
       "  </thead>\n",
       "  <tbody>\n",
       "    <tr>\n",
       "      <th>0</th>\n",
       "      <td>localhost</td>\n",
       "      <td>iuniswapv2pair</td>\n",
       "      <td>transfer</td>\n",
       "      <td>pachira</td>\n",
       "      <td>0x8464135c8f25da09e49bc8782676a84730c318bc</td>\n",
       "      <td>0x642b0c9d4930ace6bbdd58aeff6f4373433838e4f993...</td>\n",
       "      <td>5</td>\n",
       "      <td>1729200102</td>\n",
       "      <td>{'web3_type': &lt;class 'web3._utils.datatypes.Tr...</td>\n",
       "    </tr>\n",
       "    <tr>\n",
       "      <th>1</th>\n",
       "      <td>localhost</td>\n",
       "      <td>iuniswapv2pair</td>\n",
       "      <td>transfer</td>\n",
       "      <td>pachira</td>\n",
       "      <td>0x8464135c8f25da09e49bc8782676a84730c318bc</td>\n",
       "      <td>0x5671c24e76e03e8c2e91582073024ca89c0f9971e5ca...</td>\n",
       "      <td>6</td>\n",
       "      <td>1729200103</td>\n",
       "      <td>{'web3_type': &lt;class 'web3._utils.datatypes.Tr...</td>\n",
       "    </tr>\n",
       "    <tr>\n",
       "      <th>2</th>\n",
       "      <td>localhost</td>\n",
       "      <td>iuniswapv2pair</td>\n",
       "      <td>transfer</td>\n",
       "      <td>pachira</td>\n",
       "      <td>0x1c58afe919203fb3ab5dee129ad16da6b19fc2b6</td>\n",
       "      <td>0x67588af893ef2038dad0fe27e3f958a4afe73fdd9846...</td>\n",
       "      <td>12</td>\n",
       "      <td>1729200125</td>\n",
       "      <td>{'web3_type': &lt;class 'web3._utils.datatypes.Tr...</td>\n",
       "    </tr>\n",
       "    <tr>\n",
       "      <th>3</th>\n",
       "      <td>localhost</td>\n",
       "      <td>iuniswapv2pair</td>\n",
       "      <td>transfer</td>\n",
       "      <td>pachira</td>\n",
       "      <td>0x9fe46736679d2d9a65f0992f2272de9f3c7fa6e0</td>\n",
       "      <td>0x45e596e2e640708903cd5ff5e795c2568d0953fe861e...</td>\n",
       "      <td>13</td>\n",
       "      <td>1729200145</td>\n",
       "      <td>{'web3_type': &lt;class 'web3._utils.datatypes.Tr...</td>\n",
       "    </tr>\n",
       "    <tr>\n",
       "      <th>4</th>\n",
       "      <td>localhost</td>\n",
       "      <td>iuniswapv2pair</td>\n",
       "      <td>transfer</td>\n",
       "      <td>pachira</td>\n",
       "      <td>0x9c2e73ad904cdea9f5e45cc1636e5ecf3c7f83d1</td>\n",
       "      <td>0x45e596e2e640708903cd5ff5e795c2568d0953fe861e...</td>\n",
       "      <td>13</td>\n",
       "      <td>1729200145</td>\n",
       "      <td>{'web3_type': &lt;class 'web3._utils.datatypes.Tr...</td>\n",
       "    </tr>\n",
       "    <tr>\n",
       "      <th>5</th>\n",
       "      <td>localhost</td>\n",
       "      <td>iuniswapv2pair</td>\n",
       "      <td>transfer</td>\n",
       "      <td>pachira</td>\n",
       "      <td>0x9fe46736679d2d9a65f0992f2272de9f3c7fa6e0</td>\n",
       "      <td>0x45e596e2e640708903cd5ff5e795c2568d0953fe861e...</td>\n",
       "      <td>13</td>\n",
       "      <td>1729200145</td>\n",
       "      <td>{'web3_type': &lt;class 'web3._utils.datatypes.Tr...</td>\n",
       "    </tr>\n",
       "    <tr>\n",
       "      <th>6</th>\n",
       "      <td>localhost</td>\n",
       "      <td>iuniswapv2pair</td>\n",
       "      <td>transfer</td>\n",
       "      <td>pachira</td>\n",
       "      <td>0x9c2e73ad904cdea9f5e45cc1636e5ecf3c7f83d1</td>\n",
       "      <td>0x45e596e2e640708903cd5ff5e795c2568d0953fe861e...</td>\n",
       "      <td>13</td>\n",
       "      <td>1729200145</td>\n",
       "      <td>{'web3_type': &lt;class 'web3._utils.datatypes.Tr...</td>\n",
       "    </tr>\n",
       "    <tr>\n",
       "      <th>7</th>\n",
       "      <td>localhost</td>\n",
       "      <td>iuniswapv2pair</td>\n",
       "      <td>transfer</td>\n",
       "      <td>pachira</td>\n",
       "      <td>0x1c58afe919203fb3ab5dee129ad16da6b19fc2b6</td>\n",
       "      <td>0x45e596e2e640708903cd5ff5e795c2568d0953fe861e...</td>\n",
       "      <td>13</td>\n",
       "      <td>1729200145</td>\n",
       "      <td>{'web3_type': &lt;class 'web3._utils.datatypes.Tr...</td>\n",
       "    </tr>\n",
       "  </tbody>\n",
       "</table>\n",
       "</div>"
      ],
      "text/plain": [
       "       chain        contract      type platform  \\\n",
       "0  localhost  iuniswapv2pair  transfer  pachira   \n",
       "1  localhost  iuniswapv2pair  transfer  pachira   \n",
       "2  localhost  iuniswapv2pair  transfer  pachira   \n",
       "3  localhost  iuniswapv2pair  transfer  pachira   \n",
       "4  localhost  iuniswapv2pair  transfer  pachira   \n",
       "5  localhost  iuniswapv2pair  transfer  pachira   \n",
       "6  localhost  iuniswapv2pair  transfer  pachira   \n",
       "7  localhost  iuniswapv2pair  transfer  pachira   \n",
       "\n",
       "                                      address  \\\n",
       "0  0x8464135c8f25da09e49bc8782676a84730c318bc   \n",
       "1  0x8464135c8f25da09e49bc8782676a84730c318bc   \n",
       "2  0x1c58afe919203fb3ab5dee129ad16da6b19fc2b6   \n",
       "3  0x9fe46736679d2d9a65f0992f2272de9f3c7fa6e0   \n",
       "4  0x9c2e73ad904cdea9f5e45cc1636e5ecf3c7f83d1   \n",
       "5  0x9fe46736679d2d9a65f0992f2272de9f3c7fa6e0   \n",
       "6  0x9c2e73ad904cdea9f5e45cc1636e5ecf3c7f83d1   \n",
       "7  0x1c58afe919203fb3ab5dee129ad16da6b19fc2b6   \n",
       "\n",
       "                                             tx_hash  blk_num   timestamp  \\\n",
       "0  0x642b0c9d4930ace6bbdd58aeff6f4373433838e4f993...        5  1729200102   \n",
       "1  0x5671c24e76e03e8c2e91582073024ca89c0f9971e5ca...        6  1729200103   \n",
       "2  0x67588af893ef2038dad0fe27e3f958a4afe73fdd9846...       12  1729200125   \n",
       "3  0x45e596e2e640708903cd5ff5e795c2568d0953fe861e...       13  1729200145   \n",
       "4  0x45e596e2e640708903cd5ff5e795c2568d0953fe861e...       13  1729200145   \n",
       "5  0x45e596e2e640708903cd5ff5e795c2568d0953fe861e...       13  1729200145   \n",
       "6  0x45e596e2e640708903cd5ff5e795c2568d0953fe861e...       13  1729200145   \n",
       "7  0x45e596e2e640708903cd5ff5e795c2568d0953fe861e...       13  1729200145   \n",
       "\n",
       "                                             details  \n",
       "0  {'web3_type': <class 'web3._utils.datatypes.Tr...  \n",
       "1  {'web3_type': <class 'web3._utils.datatypes.Tr...  \n",
       "2  {'web3_type': <class 'web3._utils.datatypes.Tr...  \n",
       "3  {'web3_type': <class 'web3._utils.datatypes.Tr...  \n",
       "4  {'web3_type': <class 'web3._utils.datatypes.Tr...  \n",
       "5  {'web3_type': <class 'web3._utils.datatypes.Tr...  \n",
       "6  {'web3_type': <class 'web3._utils.datatypes.Tr...  \n",
       "7  {'web3_type': <class 'web3._utils.datatypes.Tr...  "
      ]
     },
     "execution_count": 15,
     "metadata": {},
     "output_type": "execute_result"
    }
   ],
   "source": [
    "df_events = rEvents.to_dataframe(dict_events)\n",
    "df_events"
   ]
  }
 ],
 "metadata": {
  "kernelspec": {
   "display_name": "Python 3 (ipykernel)",
   "language": "python",
   "name": "python3"
  },
  "language_info": {
   "codemirror_mode": {
    "name": "ipython",
    "version": 3
   },
   "file_extension": ".py",
   "mimetype": "text/x-python",
   "name": "python",
   "nbconvert_exporter": "python",
   "pygments_lexer": "ipython3",
   "version": "3.10.0rc2"
  }
 },
 "nbformat": 4,
 "nbformat_minor": 5
}
