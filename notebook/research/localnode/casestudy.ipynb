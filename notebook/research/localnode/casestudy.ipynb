{
 "cells": [
  {
   "cell_type": "markdown",
   "id": "c4173a7d-5b84-4585-b9d9-7f5d28061e8e",
   "metadata": {},
   "source": [
    "* https://web3py.readthedocs.io/en/stable/quickstart.html#local-providers\n",
    "* https://web3py.readthedocs.io/en/stable/examples.html#getting-the-latest-block\n",
    "* https://stackoverflow.com/questions/77149484/how-can-i-generate-the-abi-of-my-smart-contract-locally-with-foundry-forge\n",
    "* https://book.getfoundry.sh/reference/forge/forge-inspect"
   ]
  },
  {
   "cell_type": "markdown",
   "id": "2afa8a40-554d-4b78-85b6-0ab77d868922",
   "metadata": {},
   "source": [
    "### Build\n",
    "$ forge build\n",
    "\n",
    "### Local Deployment\n",
    "##### 1. Start local node\n",
    "$ anvil\n",
    "\n",
    "##### 2. Deploy testnet\n",
    "$ forge script script/testnet/TestnetStage1Deploy.s.sol --rpc-url http://127.0.0.1:8545 --broadcast\n",
    "\n",
    "##### 3. Mint\n",
    "$ forge script script/testnet/TestnetStage1Deposit.s.sol --rpc-url http://127.0.0.1:8545 --broadcast \n",
    "\n",
    "##### 4. Capture ABI\n",
    "$ forge inspect --pretty script/AddLiquidity.s.sol:AddLiquidityScript abi \n",
    "\n",
    "$ forge inspect script/AddLiquidity.s.sol:AddLiquidityScript abi > configs/AddLiquidityScript.json\n",
    "\n",
    "$ forge inspect script/MintableRCStudy.s.sol:MintableRCStudyScript abi > configs/MintableRCStudyScript.json"
   ]
  },
  {
   "cell_type": "code",
   "execution_count": 1,
   "id": "385ba944-3543-41d7-98ee-687cfe78266c",
   "metadata": {},
   "outputs": [],
   "source": [
    "def concat_str(str0, max_len = None):\n",
    "    max_len = 40 if max_len == None else max_len\n",
    "    str0 = \"\".join([str0, \" \"])\n",
    "    str_len = len(str0)\n",
    "    return str0.ljust(max_len, ' ')\n",
    "\n",
    "def str_output(in0, in1, max_len = None):    \n",
    "    print_str_list = [concat_str(in0, max_len), str(in1)]    \n",
    "    return ''.join(print_str_list)\n",
    "\n",
    "def call_fn(contract, str_fn):\n",
    "    attr = getattr(contract.functions, str_fn)\n",
    "    return attr().call()"
   ]
  },
  {
   "cell_type": "code",
   "execution_count": 2,
   "id": "c89ad002-22b9-4a5c-972b-e84d7873e5f5",
   "metadata": {},
   "outputs": [],
   "source": [
    "from web3 import Web3\n",
    "import json\n",
    "from pachira import *"
   ]
  },
  {
   "cell_type": "code",
   "execution_count": 3,
   "id": "f27cf63c-9433-4b1d-bd36-b7903e76a3f1",
   "metadata": {},
   "outputs": [],
   "source": [
    "addr_non_owner = '0xf39Fd6e51aad88F6F4ce6aB8827279cffFb92266'\n",
    "addr_sponsor = '0x70997970C51812dc3A010C7d01b50e0d17dc79C8'\n",
    "addr_deft = '0x948B3c65b89DF0B4894ABE91E6D02FE579834F8F'"
   ]
  },
  {
   "cell_type": "markdown",
   "id": "bbf1447c-4101-44e1-8f26-97edd34f6b84",
   "metadata": {},
   "source": [
    "#### Connect locally"
   ]
  },
  {
   "cell_type": "code",
   "execution_count": 4,
   "id": "8e129eae-7108-42dc-a6ed-c1d9eb426ce7",
   "metadata": {},
   "outputs": [
    {
     "data": {
      "text/plain": [
       "True"
      ]
     },
     "execution_count": 4,
     "metadata": {},
     "output_type": "execute_result"
    }
   ],
   "source": [
    "w3 = Web3(Web3.HTTPProvider('http://127.0.0.1:8545'))\n",
    "w3.is_connected()"
   ]
  },
  {
   "cell_type": "markdown",
   "id": "c8029809-804a-4bf2-9eac-e1c9b96c370c",
   "metadata": {},
   "source": [
    "#### Test: get arbitrary block"
   ]
  },
  {
   "cell_type": "code",
   "execution_count": 5,
   "id": "5b37b5df-a0a1-4981-8077-0072e2f90bbf",
   "metadata": {},
   "outputs": [
    {
     "data": {
      "text/plain": [
       "AttributeDict({'hash': HexBytes('0xb769f7be5f31d5a5fe825a7493230c4a0bc028fbf76840b32907efd4821ba4ef'),\n",
       " 'parentHash': HexBytes('0x76bc4ddbbb4cd5bf26248b420f7dc7e5063f900bee948933a74d5e32634a075b'),\n",
       " 'sha3Uncles': HexBytes('0x1dcc4de8dec75d7aab85b567b6ccd41ad312451b948a7413f0a142fd40d49347'),\n",
       " 'miner': '0x0000000000000000000000000000000000000000',\n",
       " 'stateRoot': HexBytes('0xa82613cb233bb043ab07508e82d4b2fa4ce7553654ee5211e6cb0ffecd5db724'),\n",
       " 'transactionsRoot': HexBytes('0x25a094ec2473b97874cb401e58e626e75687b8ecf83ad85383c3b0a20e905c07'),\n",
       " 'receiptsRoot': HexBytes('0x1a16fbd70b2660c2a0a41de0fcb2109d361d40971c5271edb07f825b977c45c3'),\n",
       " 'logsBloom': HexBytes('0x042000000000000000000000800000000000000000000000400001000000010000000000000000000000000000000000400000000000c0200400000000200000001000000000000000000008000000200000000000000000000000000000000000000000020000000000000900000800000000000008000000000410000000040000000000000000000000000000000000000000000000080000004000000000120000000000000000000100000000000000000000000100000000000000000000000006000000200000000000020000000200002000001000000000000020000010000000000000000040004000000000000000008000404000000000000000'),\n",
       " 'difficulty': 0,\n",
       " 'number': 6,\n",
       " 'gasLimit': 30000000,\n",
       " 'gasUsed': 558070,\n",
       " 'timestamp': 1725384132,\n",
       " 'totalDifficulty': 0,\n",
       " 'extraData': HexBytes('0x'),\n",
       " 'mixHash': HexBytes('0x0000000000000000000000000000000000000000000000000000000000000000'),\n",
       " 'nonce': HexBytes('0x0000000000000000'),\n",
       " 'baseFeePerGas': 594800871,\n",
       " 'blobGasUsed': '0x0',\n",
       " 'excessBlobGas': '0x0',\n",
       " 'uncles': [],\n",
       " 'transactions': [HexBytes('0xcd394a390bd2f1d5fce86d583a7bdaa54a74647642e89e7bb8a65a63eb904b2c')],\n",
       " 'size': 667})"
      ]
     },
     "execution_count": 5,
     "metadata": {},
     "output_type": "execute_result"
    }
   ],
   "source": [
    "block = w3.eth.get_block(6)\n",
    "block"
   ]
  },
  {
   "cell_type": "markdown",
   "id": "9ca4aa77-753f-446d-a636-21cbee177ce0",
   "metadata": {},
   "source": [
    "#### Test: pull tx data from block"
   ]
  },
  {
   "cell_type": "code",
   "execution_count": 6,
   "id": "5e4faf5d-d983-47b9-8047-350872a8e6c9",
   "metadata": {},
   "outputs": [
    {
     "data": {
      "text/plain": [
       "AttributeDict({'hash': HexBytes('0xcd394a390bd2f1d5fce86d583a7bdaa54a74647642e89e7bb8a65a63eb904b2c'),\n",
       " 'nonce': 12,\n",
       " 'blockHash': HexBytes('0xb769f7be5f31d5a5fe825a7493230c4a0bc028fbf76840b32907efd4821ba4ef'),\n",
       " 'blockNumber': 6,\n",
       " 'transactionIndex': 0,\n",
       " 'from': '0xf39Fd6e51aad88F6F4ce6aB8827279cffFb92266',\n",
       " 'to': '0x0165878A594ca255338adfa4d48449f69242Eb8F',\n",
       " 'value': 0,\n",
       " 'gasPrice': 594800872,\n",
       " 'gas': 770833,\n",
       " 'maxFeePerGas': 1358876409,\n",
       " 'maxPriorityFeePerGas': 1,\n",
       " 'input': HexBytes('0xb6b55f250000000000000000000000000000000000000000000000000000000000000064'),\n",
       " 'r': HexBytes('0x646fc0ec4d1fe38e6211f9dead9f3673bd5824a485e13fec2331b32634bb11aa'),\n",
       " 's': HexBytes('0x2ef77638aa8cf1f5a3bbd48c6b2aaa9aa76c298976d2345270ba9394383ac314'),\n",
       " 'v': 0,\n",
       " 'yParity': 0,\n",
       " 'chainId': 31337,\n",
       " 'accessList': [],\n",
       " 'type': 2})"
      ]
     },
     "execution_count": 6,
     "metadata": {},
     "output_type": "execute_result"
    }
   ],
   "source": [
    "tx_hash = block.transactions[0]\n",
    "tx = w3.eth.get_transaction(tx_hash)\n",
    "tx"
   ]
  },
  {
   "cell_type": "code",
   "execution_count": 7,
   "id": "fd0d3198-4233-4e7f-857c-e6c7a33cacda",
   "metadata": {},
   "outputs": [
    {
     "data": {
      "text/plain": [
       "9999985619946969229499"
      ]
     },
     "execution_count": 7,
     "metadata": {},
     "output_type": "execute_result"
    }
   ],
   "source": [
    "w3.eth.get_balance(tx['from'])"
   ]
  },
  {
   "cell_type": "markdown",
   "id": "79dac268-0b3e-4540-a6a4-a602d618da81",
   "metadata": {},
   "source": [
    "#### Test: pull tx receipt "
   ]
  },
  {
   "cell_type": "code",
   "execution_count": 8,
   "id": "f00449e2-2061-47f3-bd77-834debea571b",
   "metadata": {},
   "outputs": [
    {
     "data": {
      "text/plain": [
       "AttributeDict({'type': 2,\n",
       " 'status': 1,\n",
       " 'cumulativeGasUsed': 558070,\n",
       " 'logs': [AttributeDict({'address': '0x387E3656De052275554f8D8B78C4B1a9B088345C',\n",
       "   'topics': [HexBytes('0x1c411e9a96e071241c2f21f7726b17ae89e3cab4c78be50e062b03a9fffbbad1')],\n",
       "   'data': HexBytes('0x00000000000000000000000000000000000000000000152d02c7e14af680000000000000000000000000000000000000000000000000152d02c7e14af6800031'),\n",
       "   'blockHash': HexBytes('0xb769f7be5f31d5a5fe825a7493230c4a0bc028fbf76840b32907efd4821ba4ef'),\n",
       "   'blockNumber': 6,\n",
       "   'blockTimestamp': '0x66d745c4',\n",
       "   'transactionHash': HexBytes('0xcd394a390bd2f1d5fce86d583a7bdaa54a74647642e89e7bb8a65a63eb904b2c'),\n",
       "   'transactionIndex': 0,\n",
       "   'logIndex': 0,\n",
       "   'removed': False}),\n",
       "  AttributeDict({'address': '0x9fE46736679d2D9a65F0992F2272dE9f3c7fa6e0',\n",
       "   'topics': [HexBytes('0xddf252ad1be2c89b69c2b068fc378daa952ba7f163c4a11628f55a4df523b3ef'),\n",
       "    HexBytes('0x0000000000000000000000000165878a594ca255338adfa4d48449f69242eb8f'),\n",
       "    HexBytes('0x000000000000000000000000387e3656de052275554f8d8b78c4b1a9b088345c')],\n",
       "   'data': HexBytes('0x0000000000000000000000000000000000000000000000000000000000000019'),\n",
       "   'blockHash': HexBytes('0xb769f7be5f31d5a5fe825a7493230c4a0bc028fbf76840b32907efd4821ba4ef'),\n",
       "   'blockNumber': 6,\n",
       "   'blockTimestamp': '0x66d745c4',\n",
       "   'transactionHash': HexBytes('0xcd394a390bd2f1d5fce86d583a7bdaa54a74647642e89e7bb8a65a63eb904b2c'),\n",
       "   'transactionIndex': 0,\n",
       "   'logIndex': 1,\n",
       "   'removed': False}),\n",
       "  AttributeDict({'address': '0xfAEFac1C9e8AF3a030857C4e61066f0a510253AF',\n",
       "   'topics': [HexBytes('0xddf252ad1be2c89b69c2b068fc378daa952ba7f163c4a11628f55a4df523b3ef'),\n",
       "    HexBytes('0x000000000000000000000000387e3656de052275554f8d8b78c4b1a9b088345c'),\n",
       "    HexBytes('0x0000000000000000000000000165878a594ca255338adfa4d48449f69242eb8f')],\n",
       "   'data': HexBytes('0x0000000000000000000000000000000000000000000000000000000000000018'),\n",
       "   'blockHash': HexBytes('0xb769f7be5f31d5a5fe825a7493230c4a0bc028fbf76840b32907efd4821ba4ef'),\n",
       "   'blockNumber': 6,\n",
       "   'blockTimestamp': '0x66d745c4',\n",
       "   'transactionHash': HexBytes('0xcd394a390bd2f1d5fce86d583a7bdaa54a74647642e89e7bb8a65a63eb904b2c'),\n",
       "   'transactionIndex': 0,\n",
       "   'logIndex': 2,\n",
       "   'removed': False}),\n",
       "  AttributeDict({'address': '0x387E3656De052275554f8D8B78C4B1a9B088345C',\n",
       "   'topics': [HexBytes('0x1c411e9a96e071241c2f21f7726b17ae89e3cab4c78be50e062b03a9fffbbad1')],\n",
       "   'data': HexBytes('0x00000000000000000000000000000000000000000000152d02c7e14af680001900000000000000000000000000000000000000000000152d02c7e14af6800019'),\n",
       "   'blockHash': HexBytes('0xb769f7be5f31d5a5fe825a7493230c4a0bc028fbf76840b32907efd4821ba4ef'),\n",
       "   'blockNumber': 6,\n",
       "   'blockTimestamp': '0x66d745c4',\n",
       "   'transactionHash': HexBytes('0xcd394a390bd2f1d5fce86d583a7bdaa54a74647642e89e7bb8a65a63eb904b2c'),\n",
       "   'transactionIndex': 0,\n",
       "   'logIndex': 3,\n",
       "   'removed': False}),\n",
       "  AttributeDict({'address': '0x387E3656De052275554f8D8B78C4B1a9B088345C',\n",
       "   'topics': [HexBytes('0xd78ad95fa46c994b6551d0da85fc275fe613ce37657fb8d5e3d130840159d822'),\n",
       "    HexBytes('0x0000000000000000000000000165878a594ca255338adfa4d48449f69242eb8f'),\n",
       "    HexBytes('0x0000000000000000000000000165878a594ca255338adfa4d48449f69242eb8f')],\n",
       "   'data': HexBytes('0x0000000000000000000000000000000000000000000000000000000000000019000000000000000000000000000000000000000000000000000000000000000000000000000000000000000000000000000000000000000000000000000000000000000000000000000000000000000000000000000000000000000000000018'),\n",
       "   'blockHash': HexBytes('0xb769f7be5f31d5a5fe825a7493230c4a0bc028fbf76840b32907efd4821ba4ef'),\n",
       "   'blockNumber': 6,\n",
       "   'blockTimestamp': '0x66d745c4',\n",
       "   'transactionHash': HexBytes('0xcd394a390bd2f1d5fce86d583a7bdaa54a74647642e89e7bb8a65a63eb904b2c'),\n",
       "   'transactionIndex': 0,\n",
       "   'logIndex': 4,\n",
       "   'removed': False}),\n",
       "  AttributeDict({'address': '0x9fE46736679d2D9a65F0992F2272dE9f3c7fa6e0',\n",
       "   'topics': [HexBytes('0xddf252ad1be2c89b69c2b068fc378daa952ba7f163c4a11628f55a4df523b3ef'),\n",
       "    HexBytes('0x0000000000000000000000000165878a594ca255338adfa4d48449f69242eb8f'),\n",
       "    HexBytes('0x000000000000000000000000387e3656de052275554f8d8b78c4b1a9b088345c')],\n",
       "   'data': HexBytes('0x0000000000000000000000000000000000000000000000000000000000000019'),\n",
       "   'blockHash': HexBytes('0xb769f7be5f31d5a5fe825a7493230c4a0bc028fbf76840b32907efd4821ba4ef'),\n",
       "   'blockNumber': 6,\n",
       "   'blockTimestamp': '0x66d745c4',\n",
       "   'transactionHash': HexBytes('0xcd394a390bd2f1d5fce86d583a7bdaa54a74647642e89e7bb8a65a63eb904b2c'),\n",
       "   'transactionIndex': 0,\n",
       "   'logIndex': 5,\n",
       "   'removed': False}),\n",
       "  AttributeDict({'address': '0xfAEFac1C9e8AF3a030857C4e61066f0a510253AF',\n",
       "   'topics': [HexBytes('0xddf252ad1be2c89b69c2b068fc378daa952ba7f163c4a11628f55a4df523b3ef'),\n",
       "    HexBytes('0x0000000000000000000000000165878a594ca255338adfa4d48449f69242eb8f'),\n",
       "    HexBytes('0x000000000000000000000000387e3656de052275554f8d8b78c4b1a9b088345c')],\n",
       "   'data': HexBytes('0x0000000000000000000000000000000000000000000000000000000000000018'),\n",
       "   'blockHash': HexBytes('0xb769f7be5f31d5a5fe825a7493230c4a0bc028fbf76840b32907efd4821ba4ef'),\n",
       "   'blockNumber': 6,\n",
       "   'blockTimestamp': '0x66d745c4',\n",
       "   'transactionHash': HexBytes('0xcd394a390bd2f1d5fce86d583a7bdaa54a74647642e89e7bb8a65a63eb904b2c'),\n",
       "   'transactionIndex': 0,\n",
       "   'logIndex': 6,\n",
       "   'removed': False}),\n",
       "  AttributeDict({'address': '0x387E3656De052275554f8D8B78C4B1a9B088345C',\n",
       "   'topics': [HexBytes('0x1c411e9a96e071241c2f21f7726b17ae89e3cab4c78be50e062b03a9fffbbad1')],\n",
       "   'data': HexBytes('0x00000000000000000000000000000000000000000000152d02c7e14af680003200000000000000000000000000000000000000000000152d02c7e14af6800031'),\n",
       "   'blockHash': HexBytes('0xb769f7be5f31d5a5fe825a7493230c4a0bc028fbf76840b32907efd4821ba4ef'),\n",
       "   'blockNumber': 6,\n",
       "   'blockTimestamp': '0x66d745c4',\n",
       "   'transactionHash': HexBytes('0xcd394a390bd2f1d5fce86d583a7bdaa54a74647642e89e7bb8a65a63eb904b2c'),\n",
       "   'transactionIndex': 0,\n",
       "   'logIndex': 7,\n",
       "   'removed': False}),\n",
       "  AttributeDict({'address': '0x387E3656De052275554f8D8B78C4B1a9B088345C',\n",
       "   'topics': [HexBytes('0x4c209b5fc8ad50758f13e2e1088ba56a560dff690a1c6fef26394f4c03821c4f'),\n",
       "    HexBytes('0x0000000000000000000000000165878a594ca255338adfa4d48449f69242eb8f')],\n",
       "   'data': HexBytes('0x00000000000000000000000000000000000000000000000000000000000000190000000000000000000000000000000000000000000000000000000000000018'),\n",
       "   'blockHash': HexBytes('0xb769f7be5f31d5a5fe825a7493230c4a0bc028fbf76840b32907efd4821ba4ef'),\n",
       "   'blockNumber': 6,\n",
       "   'blockTimestamp': '0x66d745c4',\n",
       "   'transactionHash': HexBytes('0xcd394a390bd2f1d5fce86d583a7bdaa54a74647642e89e7bb8a65a63eb904b2c'),\n",
       "   'transactionIndex': 0,\n",
       "   'logIndex': 8,\n",
       "   'removed': False}),\n",
       "  AttributeDict({'address': '0x387E3656De052275554f8D8B78C4B1a9B088345C',\n",
       "   'topics': [HexBytes('0x8c5be1e5ebec7d5bd14f71427d1e84f3dd0314c0f7b2291e5b200ac8c7c3b925'),\n",
       "    HexBytes('0x0000000000000000000000000165878a594ca255338adfa4d48449f69242eb8f'),\n",
       "    HexBytes('0x0000000000000000000000005fc8d32690cc91d4c39d9d3abcbd16989f875707')],\n",
       "   'data': HexBytes('0xffffffffffffffffffffffffffffffffffffffffffffffffffffffffffffffff'),\n",
       "   'blockHash': HexBytes('0xb769f7be5f31d5a5fe825a7493230c4a0bc028fbf76840b32907efd4821ba4ef'),\n",
       "   'blockNumber': 6,\n",
       "   'blockTimestamp': '0x66d745c4',\n",
       "   'transactionHash': HexBytes('0xcd394a390bd2f1d5fce86d583a7bdaa54a74647642e89e7bb8a65a63eb904b2c'),\n",
       "   'transactionIndex': 0,\n",
       "   'logIndex': 9,\n",
       "   'removed': False}),\n",
       "  AttributeDict({'address': '0x387E3656De052275554f8D8B78C4B1a9B088345C',\n",
       "   'topics': [HexBytes('0xddf252ad1be2c89b69c2b068fc378daa952ba7f163c4a11628f55a4df523b3ef'),\n",
       "    HexBytes('0x0000000000000000000000000165878a594ca255338adfa4d48449f69242eb8f'),\n",
       "    HexBytes('0x0000000000000000000000005fc8d32690cc91d4c39d9d3abcbd16989f875707')],\n",
       "   'data': HexBytes('0x0000000000000000000000000000000000000000000000000000000000000017'),\n",
       "   'blockHash': HexBytes('0xb769f7be5f31d5a5fe825a7493230c4a0bc028fbf76840b32907efd4821ba4ef'),\n",
       "   'blockNumber': 6,\n",
       "   'blockTimestamp': '0x66d745c4',\n",
       "   'transactionHash': HexBytes('0xcd394a390bd2f1d5fce86d583a7bdaa54a74647642e89e7bb8a65a63eb904b2c'),\n",
       "   'transactionIndex': 0,\n",
       "   'logIndex': 10,\n",
       "   'removed': False}),\n",
       "  AttributeDict({'address': '0x0165878A594ca255338adfa4d48449f69242Eb8F',\n",
       "   'topics': [HexBytes('0xddf252ad1be2c89b69c2b068fc378daa952ba7f163c4a11628f55a4df523b3ef'),\n",
       "    HexBytes('0x0000000000000000000000000000000000000000000000000000000000000000'),\n",
       "    HexBytes('0x000000000000000000000000f39fd6e51aad88f6f4ce6ab8827279cfffb92266'),\n",
       "    HexBytes('0x0000000000000000000000000000000000000000000000000000000000000002')],\n",
       "   'data': HexBytes('0x'),\n",
       "   'blockHash': HexBytes('0xb769f7be5f31d5a5fe825a7493230c4a0bc028fbf76840b32907efd4821ba4ef'),\n",
       "   'blockNumber': 6,\n",
       "   'blockTimestamp': '0x66d745c4',\n",
       "   'transactionHash': HexBytes('0xcd394a390bd2f1d5fce86d583a7bdaa54a74647642e89e7bb8a65a63eb904b2c'),\n",
       "   'transactionIndex': 0,\n",
       "   'logIndex': 11,\n",
       "   'removed': False}),\n",
       "  AttributeDict({'address': '0x387E3656De052275554f8D8B78C4B1a9B088345C',\n",
       "   'topics': [HexBytes('0x8c5be1e5ebec7d5bd14f71427d1e84f3dd0314c0f7b2291e5b200ac8c7c3b925'),\n",
       "    HexBytes('0x0000000000000000000000000165878a594ca255338adfa4d48449f69242eb8f'),\n",
       "    HexBytes('0x0000000000000000000000005fc8d32690cc91d4c39d9d3abcbd16989f875707')],\n",
       "   'data': HexBytes('0x0000000000000000000000000000000000000000000000000000000000000000'),\n",
       "   'blockHash': HexBytes('0xb769f7be5f31d5a5fe825a7493230c4a0bc028fbf76840b32907efd4821ba4ef'),\n",
       "   'blockNumber': 6,\n",
       "   'blockTimestamp': '0x66d745c4',\n",
       "   'transactionHash': HexBytes('0xcd394a390bd2f1d5fce86d583a7bdaa54a74647642e89e7bb8a65a63eb904b2c'),\n",
       "   'transactionIndex': 0,\n",
       "   'logIndex': 12,\n",
       "   'removed': False})],\n",
       " 'logsBloom': HexBytes('0x042000000000000000000000800000000000000000000000400001000000010000000000000000000000000000000000400000000000c0200400000000200000001000000000000000000008000000200000000000000000000000000000000000000000020000000000000900000800000000000008000000000410000000040000000000000000000000000000000000000000000000080000004000000000120000000000000000000100000000000000000000000100000000000000000000000006000000200000000000020000000200002000001000000000000020000010000000000000000040004000000000000000008000404000000000000000'),\n",
       " 'transactionHash': HexBytes('0xcd394a390bd2f1d5fce86d583a7bdaa54a74647642e89e7bb8a65a63eb904b2c'),\n",
       " 'transactionIndex': 0,\n",
       " 'blockHash': HexBytes('0xb769f7be5f31d5a5fe825a7493230c4a0bc028fbf76840b32907efd4821ba4ef'),\n",
       " 'blockNumber': 6,\n",
       " 'gasUsed': 558070,\n",
       " 'effectiveGasPrice': 594800872,\n",
       " 'blobGasPrice': '0x1',\n",
       " 'from': '0xf39Fd6e51aad88F6F4ce6aB8827279cffFb92266',\n",
       " 'to': '0x0165878A594ca255338adfa4d48449f69242Eb8F',\n",
       " 'contractAddress': None,\n",
       " 'root': '0xa82613cb233bb043ab07508e82d4b2fa4ce7553654ee5211e6cb0ffecd5db724'})"
      ]
     },
     "execution_count": 8,
     "metadata": {},
     "output_type": "execute_result"
    }
   ],
   "source": [
    "receipt = w3.eth.get_transaction_receipt(tx['hash'])\n",
    "receipt"
   ]
  },
  {
   "cell_type": "markdown",
   "id": "05912d90-297c-40f2-96f5-49eb9da9d0a6",
   "metadata": {},
   "source": [
    "#### Test: decode log data"
   ]
  },
  {
   "cell_type": "code",
   "execution_count": 9,
   "id": "e9d7ad5c-172b-46d1-a44b-0d1773a63474",
   "metadata": {},
   "outputs": [],
   "source": [
    "log_data = receipt['logsBloom']\n",
    "args = Conversion().decode_data(log_data.hex())\n",
    "topics = receipt['logs']"
   ]
  },
  {
   "cell_type": "markdown",
   "id": "6f37fc87-995d-4ec3-b133-7a5bd828815b",
   "metadata": {},
   "source": [
    "## Study event data"
   ]
  },
  {
   "cell_type": "code",
   "execution_count": 10,
   "id": "261b5bf0-7357-4a61-9cc2-e7ea641befe4",
   "metadata": {},
   "outputs": [],
   "source": [
    "tx_path1 = '/Users/ian_moore/repos/indexeddefi/broadcast/AddLiquidity.s.sol/31337/run-latest.json'\n",
    "tx_path2 = '/Users/ian_moore/repos/indexeddefi/broadcast/MintableRCStudy.s.sol/31337/run-latest.json'\n",
    "#f = open(tx_path2)\n",
    "#tx_data = json.load(f)"
   ]
  },
  {
   "cell_type": "markdown",
   "id": "10c8ad3b-8be1-4d7b-918f-2a8f658909f0",
   "metadata": {},
   "source": [
    "#### Get study ABI data"
   ]
  },
  {
   "cell_type": "code",
   "execution_count": 11,
   "id": "80c94de7-151c-4d41-b7bc-5c434feeafac",
   "metadata": {},
   "outputs": [],
   "source": [
    "study_abi_path = '/Users/ian_moore/repos/indexeddefi/out/MintableRCStudy.sol/MintableRCStudy.json'\n",
    "abi_path1 = '/Users/ian_moore/repos/indexeddefi/configs/AddLiquidityScript.json'\n",
    "abi_path2 = '/Users/ian_moore/repos/indexeddefi/configs/MintableRCStudyScript.json'\n",
    "f = open(study_abi_path)\n",
    "study_abi_data = json.load(f)"
   ]
  },
  {
   "cell_type": "markdown",
   "id": "5ded1f4f-104d-458a-9c4b-4d1c345668ff",
   "metadata": {},
   "source": [
    "#### Pull all view functions"
   ]
  },
  {
   "cell_type": "code",
   "execution_count": 12,
   "id": "0860f3bd-31f2-4236-853a-c6e74115e549",
   "metadata": {},
   "outputs": [
    {
     "name": "stdout",
     "output_type": "stream",
     "text": [
      "[1] View function: DETF(), inputs: []\n",
      "[2] View function: allAccounts(), inputs: []\n",
      "[3] View function: allScores(), inputs: []\n",
      "[4] View function: basePoolPriceQuote(), inputs: []\n",
      "[5] View function: getIndexedReserves(), inputs: []\n",
      "[6] View function: indexedPriceQuote(), inputs: []\n",
      "[7] View function: isInited(), inputs: []\n",
      "[8] View function: isTerminated(), inputs: []\n",
      "[9] View function: owner(), inputs: []\n",
      "[10] View function: proposedOwner(), inputs: []\n",
      "[11] View function: rcIndexLpReserve(), inputs: []\n",
      "[12] View function: rcIndexedVirtReserve(), inputs: []\n",
      "[13] View function: rcYieldReserve(), inputs: []\n",
      "[14] View function: studyEnd(), inputs: []\n",
      "[15] View function: subjectIndexLpReserve(), inputs: []\n",
      "[16] View function: subjectIndexedVirtReserve(), inputs: []\n",
      "[17] View function: subjectToken(), inputs: []\n",
      "[18] View function: subjectYieldReserve(), inputs: []\n",
      "[19] View function: totalDeposits(), inputs: []\n",
      "[20] View function: totalScore(), inputs: []\n",
      "[21] View function: totalVirtLP(), inputs: []\n"
     ]
    }
   ],
   "source": [
    "view_fns = []; c = 0\n",
    "for k, record in enumerate(study_abi_data['abi']):\n",
    "    if(record['type'] == 'function' and len(record['inputs']) == 0 and record['stateMutability'] == 'view'):\n",
    "        c+=1\n",
    "        print(f\"[{c}] View function: {record['name']}(), inputs: {record['inputs']}\")\n",
    "        view_fns.append(record['name'])"
   ]
  },
  {
   "cell_type": "markdown",
   "id": "d0f9b48b-94df-4e6e-8362-61ddfc368b5d",
   "metadata": {},
   "source": [
    "#### Connect to study"
   ]
  },
  {
   "cell_type": "code",
   "execution_count": 13,
   "id": "d7ed3d07-704d-4f80-b527-c32fdc94e1d3",
   "metadata": {},
   "outputs": [],
   "source": [
    "abi_deft = json.dumps(study_abi_data['abi'])\n",
    "deft_contract = w3.eth.contract(address=addr_deft, abi=abi_deft)"
   ]
  },
  {
   "cell_type": "markdown",
   "id": "56ea9480-b841-42c6-a103-efa0b2be3e13",
   "metadata": {},
   "source": [
    "#### Test: view function calls"
   ]
  },
  {
   "cell_type": "code",
   "execution_count": 14,
   "id": "dad9715b-89e0-40e2-a4fc-acbb87713dd6",
   "metadata": {},
   "outputs": [
    {
     "name": "stdout",
     "output_type": "stream",
     "text": [
      "--------------------------------------------\n",
      "--- View functions: MintableRCStudy.sol  ---\n",
      "--------------------------------------------\n"
     ]
    },
    {
     "ename": "BadFunctionCallOutput",
     "evalue": "Could not transact with/call contract function, is contract deployed correctly and chain synced?",
     "output_type": "error",
     "traceback": [
      "\u001b[0;31m---------------------------------------------------------------------------\u001b[0m",
      "\u001b[0;31mInsufficientDataBytes\u001b[0m                     Traceback (most recent call last)",
      "File \u001b[0;32m/Library/Frameworks/Python.framework/Versions/3.10/lib/python3.10/site-packages/web3/contract/utils.py:111\u001b[0m, in \u001b[0;36mcall_contract_function\u001b[0;34m(w3, address, normalizers, function_identifier, transaction, block_id, contract_abi, fn_abi, state_override, ccip_read_enabled, decode_tuples, *args, **kwargs)\u001b[0m\n\u001b[1;32m    110\u001b[0m \u001b[38;5;28;01mtry\u001b[39;00m:\n\u001b[0;32m--> 111\u001b[0m     output_data \u001b[38;5;241m=\u001b[39m \u001b[43mw3\u001b[49m\u001b[38;5;241;43m.\u001b[39;49m\u001b[43mcodec\u001b[49m\u001b[38;5;241;43m.\u001b[39;49m\u001b[43mdecode\u001b[49m\u001b[43m(\u001b[49m\u001b[43moutput_types\u001b[49m\u001b[43m,\u001b[49m\u001b[43m \u001b[49m\u001b[43mreturn_data\u001b[49m\u001b[43m)\u001b[49m\n\u001b[1;32m    112\u001b[0m \u001b[38;5;28;01mexcept\u001b[39;00m DecodingError \u001b[38;5;28;01mas\u001b[39;00m e:\n\u001b[1;32m    113\u001b[0m     \u001b[38;5;66;03m# Provide a more helpful error message than the one provided by\u001b[39;00m\n\u001b[1;32m    114\u001b[0m     \u001b[38;5;66;03m# eth-abi-utils\u001b[39;00m\n",
      "File \u001b[0;32m/Library/Frameworks/Python.framework/Versions/3.10/lib/python3.10/site-packages/eth_abi/codec.py:161\u001b[0m, in \u001b[0;36mABIDecoder.decode\u001b[0;34m(self, types, data, strict)\u001b[0m\n\u001b[1;32m    159\u001b[0m stream \u001b[38;5;241m=\u001b[39m \u001b[38;5;28mself\u001b[39m\u001b[38;5;241m.\u001b[39mstream_class(data)\n\u001b[0;32m--> 161\u001b[0m \u001b[38;5;28;01mreturn\u001b[39;00m \u001b[43mdecoder\u001b[49m\u001b[43m(\u001b[49m\u001b[43mstream\u001b[49m\u001b[43m)\u001b[49m\n",
      "File \u001b[0;32m/Library/Frameworks/Python.framework/Versions/3.10/lib/python3.10/site-packages/eth_abi/decoding.py:129\u001b[0m, in \u001b[0;36mBaseDecoder.__call__\u001b[0;34m(self, stream)\u001b[0m\n\u001b[1;32m    128\u001b[0m \u001b[38;5;28;01mdef\u001b[39;00m \u001b[38;5;21m__call__\u001b[39m(\u001b[38;5;28mself\u001b[39m, stream: ContextFramesBytesIO) \u001b[38;5;241m-\u001b[39m\u001b[38;5;241m>\u001b[39m Any:\n\u001b[0;32m--> 129\u001b[0m     \u001b[38;5;28;01mreturn\u001b[39;00m \u001b[38;5;28;43mself\u001b[39;49m\u001b[38;5;241;43m.\u001b[39;49m\u001b[43mdecode\u001b[49m\u001b[43m(\u001b[49m\u001b[43mstream\u001b[49m\u001b[43m)\u001b[49m\n",
      "File \u001b[0;32m/Library/Frameworks/Python.framework/Versions/3.10/lib/python3.10/site-packages/eth_utils/functional.py:45\u001b[0m, in \u001b[0;36mapply_to_return_value.<locals>.outer.<locals>.inner\u001b[0;34m(*args, **kwargs)\u001b[0m\n\u001b[1;32m     43\u001b[0m \u001b[38;5;129m@functools\u001b[39m\u001b[38;5;241m.\u001b[39mwraps(fn)\n\u001b[1;32m     44\u001b[0m \u001b[38;5;28;01mdef\u001b[39;00m \u001b[38;5;21minner\u001b[39m(\u001b[38;5;241m*\u001b[39margs, \u001b[38;5;241m*\u001b[39m\u001b[38;5;241m*\u001b[39mkwargs) \u001b[38;5;241m-\u001b[39m\u001b[38;5;241m>\u001b[39m T:  \u001b[38;5;66;03m# type: ignore\u001b[39;00m\n\u001b[0;32m---> 45\u001b[0m     \u001b[38;5;28;01mreturn\u001b[39;00m \u001b[43mcallback\u001b[49m\u001b[43m(\u001b[49m\u001b[43mfn\u001b[49m\u001b[43m(\u001b[49m\u001b[38;5;241;43m*\u001b[39;49m\u001b[43margs\u001b[49m\u001b[43m,\u001b[49m\u001b[43m \u001b[49m\u001b[38;5;241;43m*\u001b[39;49m\u001b[38;5;241;43m*\u001b[39;49m\u001b[43mkwargs\u001b[49m\u001b[43m)\u001b[49m\u001b[43m)\u001b[49m\n",
      "File \u001b[0;32m/Library/Frameworks/Python.framework/Versions/3.10/lib/python3.10/site-packages/eth_abi/decoding.py:175\u001b[0m, in \u001b[0;36mTupleDecoder.decode\u001b[0;34m(self, stream)\u001b[0m\n\u001b[1;32m    174\u001b[0m \u001b[38;5;28;01mfor\u001b[39;00m decoder \u001b[38;5;129;01min\u001b[39;00m \u001b[38;5;28mself\u001b[39m\u001b[38;5;241m.\u001b[39mdecoders:\n\u001b[0;32m--> 175\u001b[0m     \u001b[38;5;28;01myield\u001b[39;00m \u001b[43mdecoder\u001b[49m\u001b[43m(\u001b[49m\u001b[43mstream\u001b[49m\u001b[43m)\u001b[49m\n",
      "File \u001b[0;32m/Library/Frameworks/Python.framework/Versions/3.10/lib/python3.10/site-packages/eth_abi/decoding.py:129\u001b[0m, in \u001b[0;36mBaseDecoder.__call__\u001b[0;34m(self, stream)\u001b[0m\n\u001b[1;32m    128\u001b[0m \u001b[38;5;28;01mdef\u001b[39;00m \u001b[38;5;21m__call__\u001b[39m(\u001b[38;5;28mself\u001b[39m, stream: ContextFramesBytesIO) \u001b[38;5;241m-\u001b[39m\u001b[38;5;241m>\u001b[39m Any:\n\u001b[0;32m--> 129\u001b[0m     \u001b[38;5;28;01mreturn\u001b[39;00m \u001b[38;5;28;43mself\u001b[39;49m\u001b[38;5;241;43m.\u001b[39;49m\u001b[43mdecode\u001b[49m\u001b[43m(\u001b[49m\u001b[43mstream\u001b[49m\u001b[43m)\u001b[49m\n",
      "File \u001b[0;32m/Library/Frameworks/Python.framework/Versions/3.10/lib/python3.10/site-packages/eth_abi/decoding.py:199\u001b[0m, in \u001b[0;36mSingleDecoder.decode\u001b[0;34m(self, stream)\u001b[0m\n\u001b[1;32m    198\u001b[0m \u001b[38;5;28;01mdef\u001b[39;00m \u001b[38;5;21mdecode\u001b[39m(\u001b[38;5;28mself\u001b[39m, stream):\n\u001b[0;32m--> 199\u001b[0m     raw_data \u001b[38;5;241m=\u001b[39m \u001b[38;5;28;43mself\u001b[39;49m\u001b[38;5;241;43m.\u001b[39;49m\u001b[43mread_data_from_stream\u001b[49m\u001b[43m(\u001b[49m\u001b[43mstream\u001b[49m\u001b[43m)\u001b[49m\n\u001b[1;32m    200\u001b[0m     data, padding_bytes \u001b[38;5;241m=\u001b[39m \u001b[38;5;28mself\u001b[39m\u001b[38;5;241m.\u001b[39msplit_data_and_padding(raw_data)\n",
      "File \u001b[0;32m/Library/Frameworks/Python.framework/Versions/3.10/lib/python3.10/site-packages/eth_abi/decoding.py:304\u001b[0m, in \u001b[0;36mFixedByteSizeDecoder.read_data_from_stream\u001b[0;34m(self, stream)\u001b[0m\n\u001b[1;32m    303\u001b[0m \u001b[38;5;28;01mif\u001b[39;00m \u001b[38;5;28mlen\u001b[39m(data) \u001b[38;5;241m!=\u001b[39m \u001b[38;5;28mself\u001b[39m\u001b[38;5;241m.\u001b[39mdata_byte_size:\n\u001b[0;32m--> 304\u001b[0m     \u001b[38;5;28;01mraise\u001b[39;00m InsufficientDataBytes(\n\u001b[1;32m    305\u001b[0m         \u001b[38;5;124mf\u001b[39m\u001b[38;5;124m\"\u001b[39m\u001b[38;5;124mTried to read \u001b[39m\u001b[38;5;132;01m{\u001b[39;00m\u001b[38;5;28mself\u001b[39m\u001b[38;5;241m.\u001b[39mdata_byte_size\u001b[38;5;132;01m}\u001b[39;00m\u001b[38;5;124m bytes, \u001b[39m\u001b[38;5;124m\"\u001b[39m\n\u001b[1;32m    306\u001b[0m         \u001b[38;5;124mf\u001b[39m\u001b[38;5;124m\"\u001b[39m\u001b[38;5;124monly got \u001b[39m\u001b[38;5;132;01m{\u001b[39;00m\u001b[38;5;28mlen\u001b[39m(data)\u001b[38;5;132;01m}\u001b[39;00m\u001b[38;5;124m bytes.\u001b[39m\u001b[38;5;124m\"\u001b[39m\n\u001b[1;32m    307\u001b[0m     )\n\u001b[1;32m    309\u001b[0m \u001b[38;5;28;01mreturn\u001b[39;00m data\n",
      "\u001b[0;31mInsufficientDataBytes\u001b[0m: Tried to read 32 bytes, only got 0 bytes.",
      "\nThe above exception was the direct cause of the following exception:\n",
      "\u001b[0;31mBadFunctionCallOutput\u001b[0m                     Traceback (most recent call last)",
      "Cell \u001b[0;32mIn[14], line 6\u001b[0m\n\u001b[1;32m      4\u001b[0m \u001b[38;5;28;01mfor\u001b[39;00m k, fn_str \u001b[38;5;129;01min\u001b[39;00m \u001b[38;5;28menumerate\u001b[39m(view_fns) :\n\u001b[1;32m      5\u001b[0m     \u001b[38;5;28;01mtry\u001b[39;00m:\n\u001b[0;32m----> 6\u001b[0m         fn_res \u001b[38;5;241m=\u001b[39m \u001b[43mcall_fn\u001b[49m\u001b[43m(\u001b[49m\u001b[43mdeft_contract\u001b[49m\u001b[43m,\u001b[49m\u001b[43m \u001b[49m\u001b[43mfn_str\u001b[49m\u001b[43m)\u001b[49m\n\u001b[1;32m      7\u001b[0m         fn_str \u001b[38;5;241m=\u001b[39m str_output(\u001b[38;5;124mf\u001b[39m\u001b[38;5;124m'\u001b[39m\u001b[38;5;124m[\u001b[39m\u001b[38;5;132;01m{\u001b[39;00mk\u001b[38;5;132;01m}\u001b[39;00m\u001b[38;5;124m]\u001b[39m\u001b[38;5;124m'\u001b[39m, fn_str\u001b[38;5;241m+\u001b[39m\u001b[38;5;124m'\u001b[39m\u001b[38;5;124m()\u001b[39m\u001b[38;5;124m'\u001b[39m, max_len \u001b[38;5;241m=\u001b[39m \u001b[38;5;241m5\u001b[39m)\n\u001b[1;32m      8\u001b[0m         \u001b[38;5;28mprint\u001b[39m(str_output(fn_str, fn_res))\n",
      "Cell \u001b[0;32mIn[1], line 13\u001b[0m, in \u001b[0;36mcall_fn\u001b[0;34m(contract, str_fn)\u001b[0m\n\u001b[1;32m     11\u001b[0m \u001b[38;5;28;01mdef\u001b[39;00m \u001b[38;5;21mcall_fn\u001b[39m(contract, str_fn):\n\u001b[1;32m     12\u001b[0m     attr \u001b[38;5;241m=\u001b[39m \u001b[38;5;28mgetattr\u001b[39m(contract\u001b[38;5;241m.\u001b[39mfunctions, str_fn)\n\u001b[0;32m---> 13\u001b[0m     \u001b[38;5;28;01mreturn\u001b[39;00m \u001b[43mattr\u001b[49m\u001b[43m(\u001b[49m\u001b[43m)\u001b[49m\u001b[38;5;241;43m.\u001b[39;49m\u001b[43mcall\u001b[49m\u001b[43m(\u001b[49m\u001b[43m)\u001b[49m\n",
      "File \u001b[0;32m/Library/Frameworks/Python.framework/Versions/3.10/lib/python3.10/site-packages/web3/contract/contract.py:305\u001b[0m, in \u001b[0;36mContractFunction.call\u001b[0;34m(self, transaction, block_identifier, state_override, ccip_read_enabled)\u001b[0m\n\u001b[1;32m    301\u001b[0m call_transaction \u001b[38;5;241m=\u001b[39m \u001b[38;5;28mself\u001b[39m\u001b[38;5;241m.\u001b[39m_get_call_txparams(transaction)\n\u001b[1;32m    303\u001b[0m block_id \u001b[38;5;241m=\u001b[39m parse_block_identifier(\u001b[38;5;28mself\u001b[39m\u001b[38;5;241m.\u001b[39mw3, block_identifier)\n\u001b[0;32m--> 305\u001b[0m \u001b[38;5;28;01mreturn\u001b[39;00m \u001b[43mcall_contract_function\u001b[49m\u001b[43m(\u001b[49m\n\u001b[1;32m    306\u001b[0m \u001b[43m    \u001b[49m\u001b[38;5;28;43mself\u001b[39;49m\u001b[38;5;241;43m.\u001b[39;49m\u001b[43mw3\u001b[49m\u001b[43m,\u001b[49m\n\u001b[1;32m    307\u001b[0m \u001b[43m    \u001b[49m\u001b[38;5;28;43mself\u001b[39;49m\u001b[38;5;241;43m.\u001b[39;49m\u001b[43maddress\u001b[49m\u001b[43m,\u001b[49m\n\u001b[1;32m    308\u001b[0m \u001b[43m    \u001b[49m\u001b[38;5;28;43mself\u001b[39;49m\u001b[38;5;241;43m.\u001b[39;49m\u001b[43m_return_data_normalizers\u001b[49m\u001b[43m,\u001b[49m\n\u001b[1;32m    309\u001b[0m \u001b[43m    \u001b[49m\u001b[38;5;28;43mself\u001b[39;49m\u001b[38;5;241;43m.\u001b[39;49m\u001b[43mfunction_identifier\u001b[49m\u001b[43m,\u001b[49m\n\u001b[1;32m    310\u001b[0m \u001b[43m    \u001b[49m\u001b[43mcall_transaction\u001b[49m\u001b[43m,\u001b[49m\n\u001b[1;32m    311\u001b[0m \u001b[43m    \u001b[49m\u001b[43mblock_id\u001b[49m\u001b[43m,\u001b[49m\n\u001b[1;32m    312\u001b[0m \u001b[43m    \u001b[49m\u001b[38;5;28;43mself\u001b[39;49m\u001b[38;5;241;43m.\u001b[39;49m\u001b[43mcontract_abi\u001b[49m\u001b[43m,\u001b[49m\n\u001b[1;32m    313\u001b[0m \u001b[43m    \u001b[49m\u001b[38;5;28;43mself\u001b[39;49m\u001b[38;5;241;43m.\u001b[39;49m\u001b[43mabi\u001b[49m\u001b[43m,\u001b[49m\n\u001b[1;32m    314\u001b[0m \u001b[43m    \u001b[49m\u001b[43mstate_override\u001b[49m\u001b[43m,\u001b[49m\n\u001b[1;32m    315\u001b[0m \u001b[43m    \u001b[49m\u001b[43mccip_read_enabled\u001b[49m\u001b[43m,\u001b[49m\n\u001b[1;32m    316\u001b[0m \u001b[43m    \u001b[49m\u001b[38;5;28;43mself\u001b[39;49m\u001b[38;5;241;43m.\u001b[39;49m\u001b[43mdecode_tuples\u001b[49m\u001b[43m,\u001b[49m\n\u001b[1;32m    317\u001b[0m \u001b[43m    \u001b[49m\u001b[38;5;241;43m*\u001b[39;49m\u001b[38;5;28;43mself\u001b[39;49m\u001b[38;5;241;43m.\u001b[39;49m\u001b[43margs\u001b[49m\u001b[43m,\u001b[49m\n\u001b[1;32m    318\u001b[0m \u001b[43m    \u001b[49m\u001b[38;5;241;43m*\u001b[39;49m\u001b[38;5;241;43m*\u001b[39;49m\u001b[38;5;28;43mself\u001b[39;49m\u001b[38;5;241;43m.\u001b[39;49m\u001b[43mkwargs\u001b[49m\u001b[43m,\u001b[49m\n\u001b[1;32m    319\u001b[0m \u001b[43m\u001b[49m\u001b[43m)\u001b[49m\n",
      "File \u001b[0;32m/Library/Frameworks/Python.framework/Versions/3.10/lib/python3.10/site-packages/web3/contract/utils.py:129\u001b[0m, in \u001b[0;36mcall_contract_function\u001b[0;34m(w3, address, normalizers, function_identifier, transaction, block_id, contract_abi, fn_abi, state_override, ccip_read_enabled, decode_tuples, *args, **kwargs)\u001b[0m\n\u001b[1;32m    124\u001b[0m     \u001b[38;5;28;01melse\u001b[39;00m:\n\u001b[1;32m    125\u001b[0m         msg \u001b[38;5;241m=\u001b[39m (\n\u001b[1;32m    126\u001b[0m             \u001b[38;5;124mf\u001b[39m\u001b[38;5;124m\"\u001b[39m\u001b[38;5;124mCould not decode contract function call to \u001b[39m\u001b[38;5;132;01m{\u001b[39;00mfunction_identifier\u001b[38;5;132;01m}\u001b[39;00m\u001b[38;5;124m \u001b[39m\u001b[38;5;124m\"\u001b[39m\n\u001b[1;32m    127\u001b[0m             \u001b[38;5;124mf\u001b[39m\u001b[38;5;124m\"\u001b[39m\u001b[38;5;124mwith return data: \u001b[39m\u001b[38;5;132;01m{\u001b[39;00m\u001b[38;5;28mstr\u001b[39m(return_data)\u001b[38;5;132;01m}\u001b[39;00m\u001b[38;5;124m, output_types: \u001b[39m\u001b[38;5;132;01m{\u001b[39;00moutput_types\u001b[38;5;132;01m}\u001b[39;00m\u001b[38;5;124m\"\u001b[39m\n\u001b[1;32m    128\u001b[0m         )\n\u001b[0;32m--> 129\u001b[0m     \u001b[38;5;28;01mraise\u001b[39;00m BadFunctionCallOutput(msg) \u001b[38;5;28;01mfrom\u001b[39;00m \u001b[38;5;21;01me\u001b[39;00m\n\u001b[1;32m    131\u001b[0m _normalizers \u001b[38;5;241m=\u001b[39m itertools\u001b[38;5;241m.\u001b[39mchain(\n\u001b[1;32m    132\u001b[0m     BASE_RETURN_NORMALIZERS,\n\u001b[1;32m    133\u001b[0m     normalizers,\n\u001b[1;32m    134\u001b[0m )\n\u001b[1;32m    135\u001b[0m normalized_data \u001b[38;5;241m=\u001b[39m map_abi_data(_normalizers, output_types, output_data)\n",
      "\u001b[0;31mBadFunctionCallOutput\u001b[0m: Could not transact with/call contract function, is contract deployed correctly and chain synced?"
     ]
    }
   ],
   "source": [
    "print('--------------------------------------------')\n",
    "print('--- View functions: MintableRCStudy.sol  ---')\n",
    "print('--------------------------------------------')\n",
    "for k, fn_str in enumerate(view_fns) :\n",
    "    try:\n",
    "        fn_res = call_fn(deft_contract, fn_str)\n",
    "        fn_str = str_output(f'[{k}]', fn_str+'()', max_len = 5)\n",
    "        print(str_output(fn_str, fn_res))\n",
    "    except ValueError:\n",
    "        print('function call error')"
   ]
  }
 ],
 "metadata": {
  "kernelspec": {
   "display_name": "Python 3 (ipykernel)",
   "language": "python",
   "name": "python3"
  },
  "language_info": {
   "codemirror_mode": {
    "name": "ipython",
    "version": 3
   },
   "file_extension": ".py",
   "mimetype": "text/x-python",
   "name": "python",
   "nbconvert_exporter": "python",
   "pygments_lexer": "ipython3",
   "version": "3.10.0rc2"
  }
 },
 "nbformat": 4,
 "nbformat_minor": 5
}
