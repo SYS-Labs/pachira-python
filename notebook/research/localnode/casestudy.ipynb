{
 "cells": [
  {
   "cell_type": "markdown",
   "id": "c4173a7d-5b84-4585-b9d9-7f5d28061e8e",
   "metadata": {},
   "source": [
    "* https://web3py.readthedocs.io/en/stable/quickstart.html#local-providers\n",
    "* https://web3py.readthedocs.io/en/stable/examples.html#getting-the-latest-block\n",
    "* https://stackoverflow.com/questions/77149484/how-can-i-generate-the-abi-of-my-smart-contract-locally-with-foundry-forge\n",
    "* https://book.getfoundry.sh/reference/forge/forge-inspect"
   ]
  },
  {
   "cell_type": "markdown",
   "id": "2afa8a40-554d-4b78-85b6-0ab77d868922",
   "metadata": {},
   "source": [
    "### Build\n",
    "$ forge build\n",
    "\n",
    "### Local Deployment\n",
    "##### 1. Start local node\n",
    "$ anvil\n",
    "\n",
    "##### 2. Deploy testnet\n",
    "$ forge script script/testnet/TestnetStage1Deploy.s.sol --rpc-url http://127.0.0.1:8545 --broadcast\n",
    "\n",
    "##### 3. Mint\n",
    "$ forge script script/testnet/TestnetStage1Deposit.s.sol --rpc-url http://127.0.0.1:8545 --broadcast \n",
    "\n",
    "##### 4. Capture ABI\n",
    "$ forge inspect --pretty script/AddLiquidity.s.sol:AddLiquidityScript abi \n",
    "\n",
    "$ forge inspect script/AddLiquidity.s.sol:AddLiquidityScript abi > configs/AddLiquidityScript.json\n",
    "\n",
    "$ forge inspect script/MintableRCStudy.s.sol:MintableRCStudyScript abi > configs/MintableRCStudyScript.json"
   ]
  },
  {
   "cell_type": "code",
   "execution_count": null,
   "id": "385ba944-3543-41d7-98ee-687cfe78266c",
   "metadata": {},
   "outputs": [],
   "source": [
    "def concat_str(str0, max_len = None):\n",
    "    max_len = 40 if max_len == None else max_len\n",
    "    str0 = \"\".join([str0, \" \"])\n",
    "    str_len = len(str0)\n",
    "    return str0.ljust(max_len, ' ')\n",
    "\n",
    "def str_output(in0, in1, max_len = None):    \n",
    "    print_str_list = [concat_str(in0, max_len), str(in1)]    \n",
    "    return ''.join(print_str_list)\n",
    "\n",
    "def call_fn(contract, str_fn):\n",
    "    attr = getattr(contract.functions, str_fn)\n",
    "    return attr().call()"
   ]
  },
  {
   "cell_type": "code",
   "execution_count": null,
   "id": "c89ad002-22b9-4a5c-972b-e84d7873e5f5",
   "metadata": {},
   "outputs": [],
   "source": [
    "from web3 import Web3\n",
    "import json\n",
    "from pachira import *"
   ]
  },
  {
   "cell_type": "code",
   "execution_count": null,
   "id": "f27cf63c-9433-4b1d-bd36-b7903e76a3f1",
   "metadata": {},
   "outputs": [],
   "source": [
    "addr_non_owner = '0xf39Fd6e51aad88F6F4ce6aB8827279cffFb92266'\n",
    "addr_sponsor = '0x70997970C51812dc3A010C7d01b50e0d17dc79C8'\n",
    "addr_deft = '0x948B3c65b89DF0B4894ABE91E6D02FE579834F8F'"
   ]
  },
  {
   "cell_type": "markdown",
   "id": "bbf1447c-4101-44e1-8f26-97edd34f6b84",
   "metadata": {},
   "source": [
    "#### Connect locally"
   ]
  },
  {
   "cell_type": "code",
   "execution_count": null,
   "id": "8e129eae-7108-42dc-a6ed-c1d9eb426ce7",
   "metadata": {},
   "outputs": [],
   "source": [
    "w3 = Web3(Web3.HTTPProvider('http://127.0.0.1:8545'))\n",
    "w3.is_connected()"
   ]
  },
  {
   "cell_type": "markdown",
   "id": "c8029809-804a-4bf2-9eac-e1c9b96c370c",
   "metadata": {},
   "source": [
    "#### Test: get arbitrary block"
   ]
  },
  {
   "cell_type": "code",
   "execution_count": null,
   "id": "5b37b5df-a0a1-4981-8077-0072e2f90bbf",
   "metadata": {},
   "outputs": [],
   "source": [
    "block = w3.eth.get_block(6)\n",
    "block"
   ]
  },
  {
   "cell_type": "markdown",
   "id": "9ca4aa77-753f-446d-a636-21cbee177ce0",
   "metadata": {},
   "source": [
    "#### Test: pull tx data from block"
   ]
  },
  {
   "cell_type": "code",
   "execution_count": null,
   "id": "5e4faf5d-d983-47b9-8047-350872a8e6c9",
   "metadata": {},
   "outputs": [],
   "source": [
    "tx_hash = block.transactions[0]\n",
    "tx = w3.eth.get_transaction(tx_hash)\n",
    "tx"
   ]
  },
  {
   "cell_type": "code",
   "execution_count": null,
   "id": "fd0d3198-4233-4e7f-857c-e6c7a33cacda",
   "metadata": {},
   "outputs": [],
   "source": [
    "w3.eth.get_balance(tx['from'])"
   ]
  },
  {
   "cell_type": "markdown",
   "id": "79dac268-0b3e-4540-a6a4-a602d618da81",
   "metadata": {},
   "source": [
    "#### Test: pull tx receipt "
   ]
  },
  {
   "cell_type": "code",
   "execution_count": null,
   "id": "f00449e2-2061-47f3-bd77-834debea571b",
   "metadata": {},
   "outputs": [],
   "source": [
    "receipt = w3.eth.get_transaction_receipt(tx['hash'])\n",
    "receipt"
   ]
  },
  {
   "cell_type": "markdown",
   "id": "05912d90-297c-40f2-96f5-49eb9da9d0a6",
   "metadata": {},
   "source": [
    "#### Test: decode log data"
   ]
  },
  {
   "cell_type": "code",
   "execution_count": null,
   "id": "e9d7ad5c-172b-46d1-a44b-0d1773a63474",
   "metadata": {},
   "outputs": [],
   "source": [
    "log_data = receipt['logsBloom']\n",
    "args = Conversion().decode_data(log_data.hex())\n",
    "topics = receipt['logs']"
   ]
  },
  {
   "cell_type": "markdown",
   "id": "6f37fc87-995d-4ec3-b133-7a5bd828815b",
   "metadata": {},
   "source": [
    "## Study event data"
   ]
  },
  {
   "cell_type": "code",
   "execution_count": null,
   "id": "261b5bf0-7357-4a61-9cc2-e7ea641befe4",
   "metadata": {},
   "outputs": [],
   "source": [
    "tx_path1 = '/Users/ian_moore/repos/indexeddefi/broadcast/AddLiquidity.s.sol/31337/run-latest.json'\n",
    "tx_path2 = '/Users/ian_moore/repos/indexeddefi/broadcast/MintableRCStudy.s.sol/31337/run-latest.json'\n",
    "#f = open(tx_path2)\n",
    "#tx_data = json.load(f)"
   ]
  },
  {
   "cell_type": "markdown",
   "id": "10c8ad3b-8be1-4d7b-918f-2a8f658909f0",
   "metadata": {},
   "source": [
    "#### Get study ABI data"
   ]
  },
  {
   "cell_type": "code",
   "execution_count": null,
   "id": "80c94de7-151c-4d41-b7bc-5c434feeafac",
   "metadata": {},
   "outputs": [],
   "source": [
    "study_abi_path = '/Users/ian_moore/repos/indexeddefi/out/MintableRCStudy.sol/MintableRCStudy.json'\n",
    "abi_path1 = '/Users/ian_moore/repos/indexeddefi/configs/AddLiquidityScript.json'\n",
    "abi_path2 = '/Users/ian_moore/repos/indexeddefi/configs/MintableRCStudyScript.json'\n",
    "f = open(study_abi_path)\n",
    "study_abi_data = json.load(f)"
   ]
  },
  {
   "cell_type": "markdown",
   "id": "5ded1f4f-104d-458a-9c4b-4d1c345668ff",
   "metadata": {},
   "source": [
    "#### Pull all view functions"
   ]
  },
  {
   "cell_type": "code",
   "execution_count": null,
   "id": "0860f3bd-31f2-4236-853a-c6e74115e549",
   "metadata": {},
   "outputs": [],
   "source": [
    "view_fns = []; c = 0\n",
    "for k, record in enumerate(study_abi_data['abi']):\n",
    "    if(record['type'] == 'function' and len(record['inputs']) == 0 and record['stateMutability'] == 'view'):\n",
    "        c+=1\n",
    "        print(f\"[{c}] View function: {record['name']}(), inputs: {record['inputs']}\")\n",
    "        view_fns.append(record['name'])"
   ]
  },
  {
   "cell_type": "markdown",
   "id": "d0f9b48b-94df-4e6e-8362-61ddfc368b5d",
   "metadata": {},
   "source": [
    "#### Connect to study"
   ]
  },
  {
   "cell_type": "code",
   "execution_count": null,
   "id": "d7ed3d07-704d-4f80-b527-c32fdc94e1d3",
   "metadata": {},
   "outputs": [],
   "source": [
    "abi_deft = json.dumps(study_abi_data['abi'])\n",
    "deft_contract = w3.eth.contract(address=addr_deft, abi=abi_deft)"
   ]
  },
  {
   "cell_type": "markdown",
   "id": "56ea9480-b841-42c6-a103-efa0b2be3e13",
   "metadata": {},
   "source": [
    "#### Test: view function calls"
   ]
  },
  {
   "cell_type": "code",
   "execution_count": null,
   "id": "dad9715b-89e0-40e2-a4fc-acbb87713dd6",
   "metadata": {},
   "outputs": [],
   "source": [
    "print('--------------------------------------------')\n",
    "print('--- View functions: MintableRCStudy.sol  ---')\n",
    "print('--------------------------------------------')\n",
    "for k, fn_str in enumerate(view_fns) :\n",
    "    try:\n",
    "        fn_res = call_fn(deft_contract, fn_str)\n",
    "        fn_str = str_output(f'[{k}]', fn_str+'()', max_len = 5)\n",
    "        print(str_output(fn_str, fn_res))\n",
    "    except ValueError:\n",
    "        print('function call error')"
   ]
  }
 ],
 "metadata": {
  "kernelspec": {
   "display_name": "Python 3 (ipykernel)",
   "language": "python",
   "name": "python3"
  },
  "language_info": {
   "codemirror_mode": {
    "name": "ipython",
    "version": 3
   },
   "file_extension": ".py",
   "mimetype": "text/x-python",
   "name": "python",
   "nbconvert_exporter": "python",
   "pygments_lexer": "ipython3",
   "version": "3.10.0rc2"
  }
 },
 "nbformat": 4,
 "nbformat_minor": 5
}
