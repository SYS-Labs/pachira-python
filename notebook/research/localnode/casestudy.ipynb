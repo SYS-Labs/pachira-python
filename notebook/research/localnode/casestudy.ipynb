{
 "cells": [
  {
   "cell_type": "markdown",
   "id": "c4173a7d-5b84-4585-b9d9-7f5d28061e8e",
   "metadata": {},
   "source": [
    "* https://web3py.readthedocs.io/en/stable/quickstart.html#local-providers\n",
    "* https://web3py.readthedocs.io/en/stable/examples.html#getting-the-latest-block\n",
    "* https://stackoverflow.com/questions/77149484/how-can-i-generate-the-abi-of-my-smart-contract-locally-with-foundry-forge\n",
    "* https://book.getfoundry.sh/reference/forge/forge-inspect"
   ]
  },
  {
   "cell_type": "markdown",
   "id": "2afa8a40-554d-4b78-85b6-0ab77d868922",
   "metadata": {},
   "source": [
    "### Build\n",
    "$ forge build\n",
    "\n",
    "### Local Deployment\n",
    "##### 1. Start local node\n",
    "$ anvil\n",
    "\n",
    "##### 2. Deploy testnet\n",
    "$ forge script script/testnet/TestnetStage1Deploy.s.sol --rpc-url http://127.0.0.1:8545 --broadcast\n",
    "\n",
    "##### 3. Mint\n",
    "$ forge script script/testnet/TestnetStage1Deposit.s.sol --rpc-url http://127.0.0.1:8545 --broadcast \n",
    "\n",
    "##### 4. Capture ABI\n",
    "$ forge inspect --pretty script/AddLiquidity.s.sol:AddLiquidityScript abi \n",
    "\n",
    "$ forge inspect script/AddLiquidity.s.sol:AddLiquidityScript abi > configs/AddLiquidityScript.json\n",
    "\n",
    "$ forge inspect script/MintableRCStudy.s.sol:MintableRCStudyScript abi > configs/MintableRCStudyScript.json"
   ]
  },
  {
   "cell_type": "code",
   "execution_count": 1,
   "id": "385ba944-3543-41d7-98ee-687cfe78266c",
   "metadata": {},
   "outputs": [],
   "source": [
    "def concat_str(str0, max_len = None):\n",
    "    max_len = 40 if max_len == None else max_len\n",
    "    str0 = \"\".join([str0, \" \"])\n",
    "    str_len = len(str0)\n",
    "    return str0.ljust(max_len, ' ')\n",
    "\n",
    "def str_output(in0, in1, max_len = None):    \n",
    "    print_str_list = [concat_str(in0, max_len), str(in1)]    \n",
    "    return ''.join(print_str_list)\n",
    "\n",
    "def call_fn(contract, str_fn):\n",
    "    attr = getattr(contract.functions, str_fn)\n",
    "    return attr().call()"
   ]
  },
  {
   "cell_type": "code",
   "execution_count": 2,
   "id": "c89ad002-22b9-4a5c-972b-e84d7873e5f5",
   "metadata": {},
   "outputs": [],
   "source": [
    "from web3 import Web3\n",
    "import json\n",
    "from pachira import *"
   ]
  },
  {
   "cell_type": "code",
   "execution_count": 15,
   "id": "f27cf63c-9433-4b1d-bd36-b7903e76a3f1",
   "metadata": {},
   "outputs": [],
   "source": [
    "addr_non_owner = '0xf39Fd6e51aad88F6F4ce6aB8827279cffFb92266'\n",
    "addr_sponsor = '0x70997970C51812dc3A010C7d01b50e0d17dc79C8'\n",
    "addr_deft = '0x948B3c65b89DF0B4894ABE91E6D02FE579834F8F'"
   ]
  },
  {
   "cell_type": "markdown",
   "id": "bbf1447c-4101-44e1-8f26-97edd34f6b84",
   "metadata": {},
   "source": [
    "#### Connect locally"
   ]
  },
  {
   "cell_type": "code",
   "execution_count": 3,
   "id": "8e129eae-7108-42dc-a6ed-c1d9eb426ce7",
   "metadata": {},
   "outputs": [
    {
     "data": {
      "text/plain": [
       "True"
      ]
     },
     "execution_count": 3,
     "metadata": {},
     "output_type": "execute_result"
    }
   ],
   "source": [
    "w3 = Web3(Web3.HTTPProvider('http://127.0.0.1:8545'))\n",
    "w3.is_connected()"
   ]
  },
  {
   "cell_type": "markdown",
   "id": "c8029809-804a-4bf2-9eac-e1c9b96c370c",
   "metadata": {},
   "source": [
    "#### Test: get arbitrary block"
   ]
  },
  {
   "cell_type": "code",
   "execution_count": 4,
   "id": "5b37b5df-a0a1-4981-8077-0072e2f90bbf",
   "metadata": {},
   "outputs": [
    {
     "data": {
      "text/plain": [
       "AttributeDict({'hash': HexBytes('0x6fd650262e98e5b47b3f2c8d312b4fb69c26b2a38e2b71dc11440293d137e85d'),\n",
       " 'parentHash': HexBytes('0xd399b699daf27a3b160a42af3bcc997ee517611cbe7ccc3e3f923f07a101649b'),\n",
       " 'sha3Uncles': HexBytes('0x1dcc4de8dec75d7aab85b567b6ccd41ad312451b948a7413f0a142fd40d49347'),\n",
       " 'miner': '0x0000000000000000000000000000000000000000',\n",
       " 'stateRoot': HexBytes('0xf2dc897b16a5bd7d081a13de146e3e04fea733e2eea88b1e2599b3423b47024f'),\n",
       " 'transactionsRoot': HexBytes('0xa273c13caebd73721922f37a2e9756d3692a59b7d218f8bc1d4dde3459ec3874'),\n",
       " 'receiptsRoot': HexBytes('0xd3143262c6cf3f827d7a1bec63e8a4a85760a79d9e59f6678d0645c32d7e7706'),\n",
       " 'logsBloom': HexBytes('0x00000000000000000002000000000000000000000000000000040000000000000000000000000000000000000000000000000000000000000000000000000000000000000000000000000008000000000000000000002000000000000000000000000800000000000010000000000000000000000000000000000010000000000000000000000000000000000000000000000000004000000000000000000000000000000000000000000000000000000000000000000000000000000000000000000002000000000000000000000000000000000000004000000000000000000000000000000000000000000000000001000000000000000000000004000000'),\n",
       " 'difficulty': 0,\n",
       " 'number': 6,\n",
       " 'gasLimit': 30000000,\n",
       " 'gasUsed': 161780,\n",
       " 'timestamp': 1726684634,\n",
       " 'totalDifficulty': 0,\n",
       " 'extraData': HexBytes('0x'),\n",
       " 'mixHash': HexBytes('0x0000000000000000000000000000000000000000000000000000000000000000'),\n",
       " 'nonce': HexBytes('0x0000000000000000'),\n",
       " 'baseFeePerGas': 528804889,\n",
       " 'blobGasUsed': '0x0',\n",
       " 'excessBlobGas': '0x0',\n",
       " 'uncles': [],\n",
       " 'transactions': [HexBytes('0xf9cc059af45b34505ab6ec4a13f33e7de12b000f2faef49a6883b0619aaf4269'),\n",
       "  HexBytes('0xb9c7c5a40870ce88fe9eb5b93a26a8b72c23320c4ea364e6b462c91e8e213b32')],\n",
       " 'size': 847})"
      ]
     },
     "execution_count": 4,
     "metadata": {},
     "output_type": "execute_result"
    }
   ],
   "source": [
    "block = w3.eth.get_block(6)\n",
    "block"
   ]
  },
  {
   "cell_type": "markdown",
   "id": "9ca4aa77-753f-446d-a636-21cbee177ce0",
   "metadata": {},
   "source": [
    "#### Test: pull tx data from block"
   ]
  },
  {
   "cell_type": "code",
   "execution_count": 5,
   "id": "5e4faf5d-d983-47b9-8047-350872a8e6c9",
   "metadata": {},
   "outputs": [
    {
     "data": {
      "text/plain": [
       "AttributeDict({'hash': HexBytes('0xf9cc059af45b34505ab6ec4a13f33e7de12b000f2faef49a6883b0619aaf4269'),\n",
       " 'nonce': 6,\n",
       " 'blockHash': HexBytes('0x6fd650262e98e5b47b3f2c8d312b4fb69c26b2a38e2b71dc11440293d137e85d'),\n",
       " 'blockNumber': 6,\n",
       " 'transactionIndex': 0,\n",
       " 'from': '0x70997970C51812dc3A010C7d01b50e0d17dc79C8',\n",
       " 'to': '0x8464135c8F25Da09e49BC8782676a84730C318bC',\n",
       " 'value': 0,\n",
       " 'gasPrice': 528804890,\n",
       " 'gas': 75875,\n",
       " 'maxFeePerGas': 1542854531,\n",
       " 'maxPriorityFeePerGas': 1,\n",
       " 'input': HexBytes('0x94bf804d0000000000000000000000000000000000000000000000000de0b6b3a764000000000000000000000000000070997970c51812dc3a010c7d01b50e0d17dc79c8'),\n",
       " 'r': HexBytes('0x62d48e4e653ec5958f179a2fba7db7e0e9ea98a14b2e3938e131cc3c33636523'),\n",
       " 's': HexBytes('0x14f07da5b3a110ec314e87548885272470566ce10f4695586d62bf8f505c00d9'),\n",
       " 'v': 0,\n",
       " 'yParity': 0,\n",
       " 'chainId': 31337,\n",
       " 'accessList': [],\n",
       " 'type': 2})"
      ]
     },
     "execution_count": 5,
     "metadata": {},
     "output_type": "execute_result"
    }
   ],
   "source": [
    "tx_hash = block.transactions[0]\n",
    "tx = w3.eth.get_transaction(tx_hash)\n",
    "tx"
   ]
  },
  {
   "cell_type": "code",
   "execution_count": 6,
   "id": "fd0d3198-4233-4e7f-857c-e6c7a33cacda",
   "metadata": {},
   "outputs": [
    {
     "data": {
      "text/plain": [
       "9999997319522976975133"
      ]
     },
     "execution_count": 6,
     "metadata": {},
     "output_type": "execute_result"
    }
   ],
   "source": [
    "w3.eth.get_balance(tx['from'])"
   ]
  },
  {
   "cell_type": "markdown",
   "id": "79dac268-0b3e-4540-a6a4-a602d618da81",
   "metadata": {},
   "source": [
    "#### Test: pull tx receipt "
   ]
  },
  {
   "cell_type": "code",
   "execution_count": 7,
   "id": "f00449e2-2061-47f3-bd77-834debea571b",
   "metadata": {},
   "outputs": [
    {
     "data": {
      "text/plain": [
       "AttributeDict({'type': 2,\n",
       " 'status': 1,\n",
       " 'cumulativeGasUsed': 51881,\n",
       " 'logs': [],\n",
       " 'logsBloom': HexBytes('0x00000000000000000000000000000000000000000000000000000000000000000000000000000000000000000000000000000000000000000000000000000000000000000000000000000000000000000000000000000000000000000000000000000000000000000000000000000000000000000000000000000000000000000000000000000000000000000000000000000000000000000000000000000000000000000000000000000000000000000000000000000000000000000000000000000000000000000000000000000000000000000000000000000000000000000000000000000000000000000000000000000000000000000000000000000000'),\n",
       " 'transactionHash': HexBytes('0xf9cc059af45b34505ab6ec4a13f33e7de12b000f2faef49a6883b0619aaf4269'),\n",
       " 'transactionIndex': 0,\n",
       " 'blockHash': HexBytes('0x6fd650262e98e5b47b3f2c8d312b4fb69c26b2a38e2b71dc11440293d137e85d'),\n",
       " 'blockNumber': 6,\n",
       " 'gasUsed': 51881,\n",
       " 'effectiveGasPrice': 528804890,\n",
       " 'blobGasPrice': '0x1',\n",
       " 'from': '0x70997970C51812dc3A010C7d01b50e0d17dc79C8',\n",
       " 'to': '0x8464135c8F25Da09e49BC8782676a84730C318bC',\n",
       " 'contractAddress': None,\n",
       " 'root': '0xf2dc897b16a5bd7d081a13de146e3e04fea733e2eea88b1e2599b3423b47024f'})"
      ]
     },
     "execution_count": 7,
     "metadata": {},
     "output_type": "execute_result"
    }
   ],
   "source": [
    "receipt = w3.eth.get_transaction_receipt(tx['hash'])\n",
    "receipt"
   ]
  },
  {
   "cell_type": "markdown",
   "id": "05912d90-297c-40f2-96f5-49eb9da9d0a6",
   "metadata": {},
   "source": [
    "#### Test: decode log data"
   ]
  },
  {
   "cell_type": "code",
   "execution_count": 8,
   "id": "e9d7ad5c-172b-46d1-a44b-0d1773a63474",
   "metadata": {},
   "outputs": [],
   "source": [
    "log_data = receipt['logsBloom']\n",
    "args = Conversion().decode_data(log_data.hex())\n",
    "topics = receipt['logs']"
   ]
  },
  {
   "cell_type": "markdown",
   "id": "6f37fc87-995d-4ec3-b133-7a5bd828815b",
   "metadata": {},
   "source": [
    "## Study event data"
   ]
  },
  {
   "cell_type": "code",
   "execution_count": 9,
   "id": "261b5bf0-7357-4a61-9cc2-e7ea641befe4",
   "metadata": {},
   "outputs": [],
   "source": [
    "tx_path1 = '/Users/ian_moore/repos/indexeddefi/broadcast/AddLiquidity.s.sol/31337/run-latest.json'\n",
    "tx_path2 = '/Users/ian_moore/repos/indexeddefi/broadcast/MintableRCStudy.s.sol/31337/run-latest.json'\n",
    "#f = open(tx_path2)\n",
    "#tx_data = json.load(f)"
   ]
  },
  {
   "cell_type": "markdown",
   "id": "10c8ad3b-8be1-4d7b-918f-2a8f658909f0",
   "metadata": {},
   "source": [
    "#### Get study ABI data"
   ]
  },
  {
   "cell_type": "code",
   "execution_count": 10,
   "id": "80c94de7-151c-4d41-b7bc-5c434feeafac",
   "metadata": {},
   "outputs": [],
   "source": [
    "study_abi_path = '/Users/ian_moore/repos/indexeddefi/out/MintableRCStudy.sol/MintableRCStudy.json'\n",
    "abi_path1 = '/Users/ian_moore/repos/indexeddefi/configs/AddLiquidityScript.json'\n",
    "abi_path2 = '/Users/ian_moore/repos/indexeddefi/configs/MintableRCStudyScript.json'\n",
    "f = open(study_abi_path)\n",
    "study_abi_data = json.load(f)"
   ]
  },
  {
   "cell_type": "markdown",
   "id": "5ded1f4f-104d-458a-9c4b-4d1c345668ff",
   "metadata": {},
   "source": [
    "#### Pull all view functions"
   ]
  },
  {
   "cell_type": "code",
   "execution_count": 11,
   "id": "0860f3bd-31f2-4236-853a-c6e74115e549",
   "metadata": {},
   "outputs": [
    {
     "name": "stdout",
     "output_type": "stream",
     "text": [
      "[1] View function: DETF(), inputs: []\n",
      "[2] View function: allAccounts(), inputs: []\n",
      "[3] View function: allScores(), inputs: []\n",
      "[4] View function: basePoolPriceQuote(), inputs: []\n",
      "[5] View function: getIndexedReserves(), inputs: []\n",
      "[6] View function: indexedPriceQuote(), inputs: []\n",
      "[7] View function: isInited(), inputs: []\n",
      "[8] View function: isTerminated(), inputs: []\n",
      "[9] View function: owner(), inputs: []\n",
      "[10] View function: proposedOwner(), inputs: []\n",
      "[11] View function: rcIndexLpReserve(), inputs: []\n",
      "[12] View function: rcIndexedVirtReserve(), inputs: []\n",
      "[13] View function: rcYieldReserve(), inputs: []\n",
      "[14] View function: studyEnd(), inputs: []\n",
      "[15] View function: subjectIndexLpReserve(), inputs: []\n",
      "[16] View function: subjectIndexedVirtReserve(), inputs: []\n",
      "[17] View function: subjectToken(), inputs: []\n",
      "[18] View function: subjectYieldReserve(), inputs: []\n",
      "[19] View function: totalDeposits(), inputs: []\n",
      "[20] View function: totalScore(), inputs: []\n",
      "[21] View function: totalVirtLP(), inputs: []\n"
     ]
    }
   ],
   "source": [
    "view_fns = []; c = 0\n",
    "for k, record in enumerate(study_abi_data['abi']):\n",
    "    if(record['type'] == 'function' and len(record['inputs']) == 0 and record['stateMutability'] == 'view'):\n",
    "        c+=1\n",
    "        print(f\"[{c}] View function: {record['name']}(), inputs: {record['inputs']}\")\n",
    "        view_fns.append(record['name'])"
   ]
  },
  {
   "cell_type": "markdown",
   "id": "d0f9b48b-94df-4e6e-8362-61ddfc368b5d",
   "metadata": {},
   "source": [
    "#### Connect to study"
   ]
  },
  {
   "cell_type": "code",
   "execution_count": 16,
   "id": "07130f5f-63b0-4846-99cd-d514ff2b2fd9",
   "metadata": {},
   "outputs": [
    {
     "data": {
      "text/plain": [
       "'0x948B3c65b89DF0B4894ABE91E6D02FE579834F8F'"
      ]
     },
     "execution_count": 16,
     "metadata": {},
     "output_type": "execute_result"
    }
   ],
   "source": [
    "addr_deft"
   ]
  },
  {
   "cell_type": "code",
   "execution_count": 17,
   "id": "d7ed3d07-704d-4f80-b527-c32fdc94e1d3",
   "metadata": {},
   "outputs": [],
   "source": [
    "abi_deft = json.dumps(study_abi_data['abi'])\n",
    "deft_contract = w3.eth.contract(address=addr_deft, abi=abi_deft)"
   ]
  },
  {
   "cell_type": "markdown",
   "id": "56ea9480-b841-42c6-a103-efa0b2be3e13",
   "metadata": {},
   "source": [
    "#### Test: view function calls"
   ]
  },
  {
   "cell_type": "code",
   "execution_count": 18,
   "id": "dad9715b-89e0-40e2-a4fc-acbb87713dd6",
   "metadata": {},
   "outputs": [
    {
     "name": "stdout",
     "output_type": "stream",
     "text": [
      "--------------------------------------------\n",
      "--- View functions: MintableRCStudy.sol  ---\n",
      "--------------------------------------------\n",
      "[0]  DETF()                             0x3C44CdDdB6a900fa2b585dd299e03d12FA4293BC\n",
      "[1]  allAccounts()                      ['0x70997970C51812dc3A010C7d01b50e0d17dc79C8']\n",
      "[2]  allScores()                        [('0x70997970C51812dc3A010C7d01b50e0d17dc79C8', 1300692942842711364)]\n",
      "[3]  basePoolPriceQuote()               1261699067699555023\n",
      "[4]  getIndexedReserves()               [1499248873309964238, 1188277705589124130]\n",
      "[5]  indexedPriceQuote()                1261699067699555023\n",
      "[6]  isInited()                         True\n",
      "[7]  isTerminated()                     False\n",
      "[8]  owner()                            0x70997970C51812dc3A010C7d01b50e0d17dc79C8\n",
      "[9]  proposedOwner()                    0x0000000000000000000000000000000000000000\n",
      "[10] rcIndexLpReserve()                 706795722669572790\n",
      "[11] rcIndexedVirtReserve()             1188277705589124130\n",
      "[12] rcYieldReserve()                   1585164046801257188\n",
      "[13] studyEnd()                         1729276614\n",
      "[14] subjectIndexLpReserve()            706795722669572790\n",
      "[15] subjectIndexedVirtReserve()        1499248873309964238\n",
      "[16] subjectToken()                     0x8464135c8F25Da09e49BC8782676a84730C318bC\n",
      "[17] subjectYieldReserve()              2000000000000000000\n",
      "[18] totalDeposits()                    2000000000000000000\n",
      "[19] totalScore()                       1369150466150222487\n",
      "[20] totalVirtLP()                      1413591445339146580\n"
     ]
    }
   ],
   "source": [
    "print('--------------------------------------------')\n",
    "print('--- View functions: MintableRCStudy.sol  ---')\n",
    "print('--------------------------------------------')\n",
    "for k, fn_str in enumerate(view_fns) :\n",
    "    try:\n",
    "        fn_res = call_fn(deft_contract, fn_str)\n",
    "        fn_str = str_output(f'[{k}]', fn_str+'()', max_len = 5)\n",
    "        print(str_output(fn_str, fn_res))\n",
    "    except ValueError:\n",
    "        print('function call error')"
   ]
  }
 ],
 "metadata": {
  "kernelspec": {
   "display_name": "Python 3 (ipykernel)",
   "language": "python",
   "name": "python3"
  },
  "language_info": {
   "codemirror_mode": {
    "name": "ipython",
    "version": 3
   },
   "file_extension": ".py",
   "mimetype": "text/x-python",
   "name": "python",
   "nbconvert_exporter": "python",
   "pygments_lexer": "ipython3",
   "version": "3.10.0rc2"
  }
 },
 "nbformat": 4,
 "nbformat_minor": 5
}
