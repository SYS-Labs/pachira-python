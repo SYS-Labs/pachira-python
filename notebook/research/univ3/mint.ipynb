{
 "cells": [
  {
   "cell_type": "code",
   "execution_count": 1,
   "id": "44b62425-ab67-4ee7-92d0-164f73403fb9",
   "metadata": {},
   "outputs": [],
   "source": [
    "import os\n",
    "import time\n",
    "import pandas as pd\n",
    "from web3 import HTTPProvider, Web3\n",
    "from pachira import *"
   ]
  },
  {
   "cell_type": "code",
   "execution_count": 2,
   "id": "6189529d-59c5-4eda-9077-b3b19838c4b7",
   "metadata": {},
   "outputs": [],
   "source": [
    "def direction(val):\n",
    "    val1 = Conversion().convert_int256_bytes_to_int(val, signed=False) \n",
    "    val2 = Conversion().convert_int256_bytes_to_int(val, signed=True)\n",
    "    return val1 != val2"
   ]
  },
  {
   "cell_type": "code",
   "execution_count": 3,
   "id": "abf50091-b943-4a71-9e0d-a3f60e0a6a03",
   "metadata": {},
   "outputs": [],
   "source": [
    "chain = Net.POLYGON\n",
    "platform = Platform.UNIV3\n",
    "contract = JSONContract.UniswapV3Pool\n",
    "\n",
    "json_rpc_url = os.environ.get(RPC.get_key(chain), RPC.get_rpc(chain))\n",
    "web3 = Web3(HTTPProvider(json_rpc_url))\n",
    "web3.middleware_onion.clear()"
   ]
  },
  {
   "cell_type": "code",
   "execution_count": 4,
   "id": "c061726b-c060-4a73-8842-ccf7bdaff170",
   "metadata": {},
   "outputs": [],
   "source": [
    "# Get contracts\n",
    "abi_path = platform + '/' + contract + '.json'\n",
    "Pair = ABILoad().get_contract(web3, abi_path)\n",
    "mint_filt = Filter.create_filter(address=None, event_types=[Pair.events.Mint])  # Listen events from any smart contract"
   ]
  },
  {
   "cell_type": "code",
   "execution_count": 5,
   "id": "ca261079-3b76-41b3-8e76-35e7147e20bf",
   "metadata": {},
   "outputs": [],
   "source": [
    "reorg_mon = JSONRPCReorganizationMonitor(web3, check_depth=3)\n",
    "reorg_mon.load_initial_block_headers(block_count=5)\n",
    "processed_events = set()\n",
    "latest_block = reorg_mon.get_last_block_live()\n",
    "chain_reorg_resolution = reorg_mon.update_chain()\n",
    "start, end = chain_reorg_resolution.get_read_range()"
   ]
  },
  {
   "cell_type": "code",
   "execution_count": 6,
   "id": "24a43955-e4c3-4f5b-b932-6f2461c1c746",
   "metadata": {},
   "outputs": [],
   "source": [
    "start = start - 10"
   ]
  },
  {
   "cell_type": "code",
   "execution_count": 7,
   "id": "3f785d0f-c3e3-4e09-84ad-8d80a137b484",
   "metadata": {},
   "outputs": [],
   "source": [
    "rEvents = ReadEvents().apply(web3, start_block=start, end_block=end, filter=mint_filt)"
   ]
  },
  {
   "cell_type": "code",
   "execution_count": 8,
   "id": "e7fc539a-7482-4285-98d2-aa9fda72517c",
   "metadata": {},
   "outputs": [
    {
     "name": "stdout",
     "output_type": "stream",
     "text": [
      "Swap at block:61,383,598 tx:0x112313d7cc43667cf8b0bc4d9f93d97c9218e2b697744d8fb9e8585a903e9a51\n",
      "Swap at block:61,383,604 tx:0x88de1e20ec367599ffffb2a13cbc00b9c826c3bb86ef0f786e7870ba58d0fcc0\n",
      "Swap at block:61,383,604 tx:0xd6eb9f6f4ecbc8e9b8afd635662c4348edaca2fb9ec425be69043ea567a5a6e2\n",
      ".\n"
     ]
    }
   ],
   "source": [
    "events = {}\n",
    "evt: LogResult\n",
    "for k, evt in enumerate(rEvents):\n",
    "    # How to uniquely identify EVM logs\n",
    "    key = evt[\"blockHash\"] + evt[\"transactionHash\"] + evt[\"logIndex\"]\n",
    "    event_signature, owner, tick_lower, tick_upper = evt[\"topics\"]\n",
    "    sender, liquidity_amount, amount0, amount1  = Conversion().decode_data(evt[\"data\"])\n",
    "    args = Conversion().decode_data(evt[\"data\"])\n",
    "\n",
    "    event = {}\n",
    "    event['chain'] = chain\n",
    "    event['contract'] = contract.lower()\n",
    "    event['type'] = evt[\"event\"].event_name.lower()\n",
    "    event['platform'] = platform\n",
    "    event['pool_address'] = evt[\"address\"]\n",
    "    event['tx_hash'] = evt[\"transactionHash\"]\n",
    "    event['blk_num'] = evt[\"blockNumber\"]\n",
    "    event['timestamp'] = evt[\"timestamp\"]\n",
    "    event['details'] = {}\n",
    "    event['details']['web3_type'] = evt[\"event\"]\n",
    "    event['details']['owner'] = Conversion().convert_uint256_hex_string_to_address(owner)\n",
    "    event['details']['tick_lower'] = Conversion().convert_uint256_string_to_int(tick_lower, signed=True)\n",
    "    event['details']['tick_upper'] = Conversion().convert_uint256_string_to_int(tick_upper, signed=True)  \n",
    "    if(len(args) == 4):\n",
    "        event['details']['liquidity_amount'] = Conversion().convert_int256_bytes_to_int(args[1])\n",
    "        event['details']['amount0'] = Conversion().convert_int256_bytes_to_int(args[2])\n",
    "        event['details']['amount1'] = Conversion().convert_int256_bytes_to_int(args[3])\n",
    "    events[k] = event\n",
    "    if key not in processed_events:\n",
    "        print(f\"Swap at block:{evt['blockNumber']:,} tx:{evt['transactionHash']}\")\n",
    "        processed_events.add(key)\n",
    "else:\n",
    "    print(\".\")"
   ]
  },
  {
   "cell_type": "code",
   "execution_count": 9,
   "id": "5d039a5b-9e17-4795-ac10-808d1fc32cbb",
   "metadata": {},
   "outputs": [
    {
     "data": {
      "text/html": [
       "<div>\n",
       "<style scoped>\n",
       "    .dataframe tbody tr th:only-of-type {\n",
       "        vertical-align: middle;\n",
       "    }\n",
       "\n",
       "    .dataframe tbody tr th {\n",
       "        vertical-align: top;\n",
       "    }\n",
       "\n",
       "    .dataframe thead th {\n",
       "        text-align: right;\n",
       "    }\n",
       "</style>\n",
       "<table border=\"1\" class=\"dataframe\">\n",
       "  <thead>\n",
       "    <tr style=\"text-align: right;\">\n",
       "      <th></th>\n",
       "      <th>chain</th>\n",
       "      <th>contract</th>\n",
       "      <th>type</th>\n",
       "      <th>platform</th>\n",
       "      <th>pool_address</th>\n",
       "      <th>tx_hash</th>\n",
       "      <th>blk_num</th>\n",
       "      <th>timestamp</th>\n",
       "      <th>details</th>\n",
       "    </tr>\n",
       "  </thead>\n",
       "  <tbody>\n",
       "    <tr>\n",
       "      <th>0</th>\n",
       "      <td>polygon</td>\n",
       "      <td>uniswapv3pool</td>\n",
       "      <td>mint</td>\n",
       "      <td>uniswap_v3</td>\n",
       "      <td>0x00a59c2d0f0f4837028d47a391decbffc1e10608</td>\n",
       "      <td>0x112313d7cc43667cf8b0bc4d9f93d97c9218e2b69774...</td>\n",
       "      <td>61383598</td>\n",
       "      <td>1725384641</td>\n",
       "      <td>{'web3_type': &lt;class 'web3._utils.datatypes.Mi...</td>\n",
       "    </tr>\n",
       "    <tr>\n",
       "      <th>1</th>\n",
       "      <td>polygon</td>\n",
       "      <td>uniswapv3pool</td>\n",
       "      <td>mint</td>\n",
       "      <td>uniswap_v3</td>\n",
       "      <td>0x50eaedb835021e4a108b7290636d62e9765cc6d7</td>\n",
       "      <td>0x88de1e20ec367599ffffb2a13cbc00b9c826c3bb86ef...</td>\n",
       "      <td>61383604</td>\n",
       "      <td>1725384655</td>\n",
       "      <td>{'web3_type': &lt;class 'web3._utils.datatypes.Mi...</td>\n",
       "    </tr>\n",
       "    <tr>\n",
       "      <th>2</th>\n",
       "      <td>polygon</td>\n",
       "      <td>uniswapv3pool</td>\n",
       "      <td>mint</td>\n",
       "      <td>uniswap_v3</td>\n",
       "      <td>0x9bcef8ddd75817e66e01a5af313c776c74319394</td>\n",
       "      <td>0xd6eb9f6f4ecbc8e9b8afd635662c4348edaca2fb9ec4...</td>\n",
       "      <td>61383604</td>\n",
       "      <td>1725384655</td>\n",
       "      <td>{'web3_type': &lt;class 'web3._utils.datatypes.Mi...</td>\n",
       "    </tr>\n",
       "  </tbody>\n",
       "</table>\n",
       "</div>"
      ],
      "text/plain": [
       "     chain       contract  type    platform  \\\n",
       "0  polygon  uniswapv3pool  mint  uniswap_v3   \n",
       "1  polygon  uniswapv3pool  mint  uniswap_v3   \n",
       "2  polygon  uniswapv3pool  mint  uniswap_v3   \n",
       "\n",
       "                                 pool_address  \\\n",
       "0  0x00a59c2d0f0f4837028d47a391decbffc1e10608   \n",
       "1  0x50eaedb835021e4a108b7290636d62e9765cc6d7   \n",
       "2  0x9bcef8ddd75817e66e01a5af313c776c74319394   \n",
       "\n",
       "                                             tx_hash   blk_num   timestamp  \\\n",
       "0  0x112313d7cc43667cf8b0bc4d9f93d97c9218e2b69774...  61383598  1725384641   \n",
       "1  0x88de1e20ec367599ffffb2a13cbc00b9c826c3bb86ef...  61383604  1725384655   \n",
       "2  0xd6eb9f6f4ecbc8e9b8afd635662c4348edaca2fb9ec4...  61383604  1725384655   \n",
       "\n",
       "                                             details  \n",
       "0  {'web3_type': <class 'web3._utils.datatypes.Mi...  \n",
       "1  {'web3_type': <class 'web3._utils.datatypes.Mi...  \n",
       "2  {'web3_type': <class 'web3._utils.datatypes.Mi...  "
      ]
     },
     "execution_count": 9,
     "metadata": {},
     "output_type": "execute_result"
    }
   ],
   "source": [
    "df_events = pd.DataFrame.from_dict(events, orient='index') \n",
    "df_events"
   ]
  },
  {
   "cell_type": "code",
   "execution_count": 10,
   "id": "422ce20b-6cc5-41fc-b7ca-dae83a995096",
   "metadata": {},
   "outputs": [
    {
     "data": {
      "text/plain": [
       "{0: {'chain': 'polygon',\n",
       "  'contract': 'uniswapv3pool',\n",
       "  'type': 'mint',\n",
       "  'platform': 'uniswap_v3',\n",
       "  'pool_address': '0x00a59c2d0f0f4837028d47a391decbffc1e10608',\n",
       "  'tx_hash': '0x112313d7cc43667cf8b0bc4d9f93d97c9218e2b697744d8fb9e8585a903e9a51',\n",
       "  'blk_num': 61383598,\n",
       "  'timestamp': 1725384641,\n",
       "  'details': {'web3_type': web3._utils.datatypes.Mint,\n",
       "   'owner': '0xC36442b4a4522E871399CD717aBDD847Ab11FE88',\n",
       "   'tick_lower': 119823,\n",
       "   'tick_upper': 119835,\n",
       "   'liquidity_amount': 1766981643878008002682911410,\n",
       "   'amount0': 1430000000000000000000,\n",
       "   'amount1': 195201721961990686052086760}},\n",
       " 1: {'chain': 'polygon',\n",
       "  'contract': 'uniswapv3pool',\n",
       "  'type': 'mint',\n",
       "  'platform': 'uniswap_v3',\n",
       "  'pool_address': '0x50eaedb835021e4a108b7290636d62e9765cc6d7',\n",
       "  'tx_hash': '0x88de1e20ec367599ffffb2a13cbc00b9c826c3bb86ef0f786e7870ba58d0fcc0',\n",
       "  'blk_num': 61383604,\n",
       "  'timestamp': 1725384655,\n",
       "  'details': {'web3_type': web3._utils.datatypes.Mint,\n",
       "   'owner': '0xC36442b4a4522E871399CD717aBDD847Ab11FE88',\n",
       "   'tick_lower': 260820,\n",
       "   'tick_upper': 262850,\n",
       "   'liquidity_amount': 814148886656,\n",
       "   'amount0': 79349,\n",
       "   'amount1': 20412314800371707}},\n",
       " 2: {'chain': 'polygon',\n",
       "  'contract': 'uniswapv3pool',\n",
       "  'type': 'mint',\n",
       "  'platform': 'uniswap_v3',\n",
       "  'pool_address': '0x9bcef8ddd75817e66e01a5af313c776c74319394',\n",
       "  'tx_hash': '0xd6eb9f6f4ecbc8e9b8afd635662c4348edaca2fb9ec425be69043ea567a5a6e2',\n",
       "  'blk_num': 61383604,\n",
       "  'timestamp': 1725384655,\n",
       "  'details': {'web3_type': web3._utils.datatypes.Mint,\n",
       "   'owner': '0xC36442b4a4522E871399CD717aBDD847Ab11FE88',\n",
       "   'tick_lower': 2600,\n",
       "   'tick_upper': 2740,\n",
       "   'liquidity_amount': 148430600,\n",
       "   'amount0': 287811,\n",
       "   'amount1': 809655}}}"
      ]
     },
     "execution_count": 10,
     "metadata": {},
     "output_type": "execute_result"
    }
   ],
   "source": [
    "events"
   ]
  }
 ],
 "metadata": {
  "kernelspec": {
   "display_name": "Python 3 (ipykernel)",
   "language": "python",
   "name": "python3"
  },
  "language_info": {
   "codemirror_mode": {
    "name": "ipython",
    "version": 3
   },
   "file_extension": ".py",
   "mimetype": "text/x-python",
   "name": "python",
   "nbconvert_exporter": "python",
   "pygments_lexer": "ipython3",
   "version": "3.10.0rc2"
  }
 },
 "nbformat": 4,
 "nbformat_minor": 5
}
