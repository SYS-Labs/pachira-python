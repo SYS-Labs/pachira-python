{
 "cells": [
  {
   "cell_type": "markdown",
   "id": "85aef0bf-001c-48b9-9024-598cffaa7afe",
   "metadata": {},
   "source": [
    "### Web3 Research\n",
    "* https://web3py.readthedocs.io/en/stable/quickstart.html\n",
    "* https://blog.logrocket.com/web3-py-tutorial-guide-ethereum-blockchain-development-with-python/\n",
    "* https://www.synacktiv.com/en/publications/evm-unravelled-recovering-abi-from-bytecode"
   ]
  },
  {
   "cell_type": "code",
   "execution_count": 14,
   "id": "f9bf32c5-4e5d-4f77-a27e-d700c4ec0218",
   "metadata": {},
   "outputs": [],
   "source": [
    "from web3 import Web3\n",
    "import json"
   ]
  },
  {
   "cell_type": "code",
   "execution_count": 15,
   "id": "6b40fa8c-3f74-43af-996a-f7b9a9f82ae3",
   "metadata": {},
   "outputs": [],
   "source": [
    "infura_url='https://mainnet.infura.io/v3/29547b52f77647b68da777e3ecc06811'\n",
    "w3 = Web3(Web3.HTTPProvider(infura_url))"
   ]
  },
  {
   "cell_type": "code",
   "execution_count": 16,
   "id": "c4efc9a0-a9f0-4fa3-836d-2208664abf6b",
   "metadata": {},
   "outputs": [
    {
     "data": {
      "text/plain": [
       "AttributeDict({'difficulty': 735512610763,\n",
       " 'extraData': HexBytes('0x476574682f76312e302e302f6c696e75782f676f312e342e32'),\n",
       " 'gasLimit': 5000,\n",
       " 'gasUsed': 0,\n",
       " 'hash': HexBytes('0x767c2bfb3bdee3f78676c1285cd757bcd5d8c272cef2eb30d9733800a78c0b6d'),\n",
       " 'logsBloom': HexBytes('0x00000000000000000000000000000000000000000000000000000000000000000000000000000000000000000000000000000000000000000000000000000000000000000000000000000000000000000000000000000000000000000000000000000000000000000000000000000000000000000000000000000000000000000000000000000000000000000000000000000000000000000000000000000000000000000000000000000000000000000000000000000000000000000000000000000000000000000000000000000000000000000000000000000000000000000000000000000000000000000000000000000000000000000000000000000000'),\n",
       " 'miner': '0xad5C1768e5974C231b2148169da064e61910f31a',\n",
       " 'mixHash': HexBytes('0x31d9ec7e3855aeba37fd92aa1639845e70b360a60f77f12eff530429ef8cfcba'),\n",
       " 'nonce': HexBytes('0x549f882c5f356f85'),\n",
       " 'number': 12345,\n",
       " 'parentHash': HexBytes('0x4b3c1d7e65a507b62734feca1ee9f27a5379e318bd52ae62de7ba67dbeac66a3'),\n",
       " 'receiptsRoot': HexBytes('0x56e81f171bcc55a6ff8345e692c0f86e5b48e01b996cadc001622fb5e363b421'),\n",
       " 'sha3Uncles': HexBytes('0x1dcc4de8dec75d7aab85b567b6ccd41ad312451b948a7413f0a142fd40d49347'),\n",
       " 'size': 539,\n",
       " 'stateRoot': HexBytes('0xca495e22ed6b88c61714d129dbc8c94f5bf966ac581c09a57c0a72d0e55e7286'),\n",
       " 'timestamp': 1438367030,\n",
       " 'totalDifficulty': 3862140487204603,\n",
       " 'transactions': [],\n",
       " 'transactionsRoot': HexBytes('0x56e81f171bcc55a6ff8345e692c0f86e5b48e01b996cadc001622fb5e363b421'),\n",
       " 'uncles': []})"
      ]
     },
     "execution_count": 16,
     "metadata": {},
     "output_type": "execute_result"
    }
   ],
   "source": [
    "w3.eth.get_block(12345)"
   ]
  },
  {
   "cell_type": "code",
   "execution_count": 17,
   "id": "d9d38b9e-9dbe-4558-b831-cf6499752abe",
   "metadata": {},
   "outputs": [
    {
     "data": {
      "text/plain": [
       "AttributeDict({'baseFeePerGas': 2025247750,\n",
       " 'blobGasUsed': '0x0',\n",
       " 'difficulty': 0,\n",
       " 'excessBlobGas': '0xe0000',\n",
       " 'extraData': HexBytes('0x407273796e636275696c646572'),\n",
       " 'gasLimit': 30000000,\n",
       " 'gasUsed': 10843022,\n",
       " 'hash': HexBytes('0xf4dd0b641b5f250cdaa308a76dcf8263e100680554af1e999a51aeecb8067b33'),\n",
       " 'logsBloom': HexBytes('0x1423956739400b8a60212170b9309c12495901604444e18c260dd45a1c18830404935348ca8b822145e0f990157ab531834b59b8cc09241945d64440032a85a2f40694e810d81a096a4f7f89852091ab00c11cb117e42984335291448af086da18e93e400b7202650052fac289500d90236b0c29894084361755599d501e1e1c28e98c7810c0c0e800c85b61a2a052e004472015677ac0eb046945422b924aca47a485648b096a140a6210868895ac910cb69e24885e081783208787241a00f4840e0063030a3bc3304c860245399a1c02082706842010d44c05903660a8290721d9a462834240f003b57f04cd6d00420d245002122c06d86728f39116d2c481'),\n",
       " 'miner': '0x1f9090aaE28b8a3dCeaDf281B0F12828e676c326',\n",
       " 'mixHash': HexBytes('0xa5d20b56d1e4ccbb1dcd00b83d353c905ccb097b2ecc64a6cc8bc82f86d3df7b'),\n",
       " 'nonce': HexBytes('0x0000000000000000'),\n",
       " 'number': 20443442,\n",
       " 'parentBeaconBlockRoot': '0x4e2f36e195306abd9115c4d5e3722249808110e43d8f6814c1f6eadca9d4947e',\n",
       " 'parentHash': HexBytes('0xc4ba673ff4b6241a0327d48b1d4c556c57b3a1ead142b6a1563f75aafdd3f4f1'),\n",
       " 'receiptsRoot': HexBytes('0x654c0c7ad61b48c441d0e835f254fbd4a65d4babc3ef5644f87b92282df4cfb2'),\n",
       " 'sha3Uncles': HexBytes('0x1dcc4de8dec75d7aab85b567b6ccd41ad312451b948a7413f0a142fd40d49347'),\n",
       " 'size': 47207,\n",
       " 'stateRoot': HexBytes('0x5e7f8102bf83e16773256a752f10231120e216c0d3ad018c33986ad374aacafc'),\n",
       " 'timestamp': 1722632915,\n",
       " 'totalDifficulty': 58750003716598352816469,\n",
       " 'transactions': [HexBytes('0x4abb9faf0af7e2b670095f1bbe7cf8043e13f0afc3f5a6fb1f3ca33a4091d3a0'),\n",
       "  HexBytes('0xafdb12a75af8b22e5f4a7d7f6c8a24a56e1a7340dec9b422803b0936b92b77a3'),\n",
       "  HexBytes('0xd180a0f71a20245c31d21bc779820e44fd011b8620588fa720761f964698c066'),\n",
       "  HexBytes('0x8b1be93bc4d1c81d4f5ebf3397eb01119ccae54941a29713c83a73b33fc0f1b6'),\n",
       "  HexBytes('0x3621b0eef78c005f2fa3aa1bb4aec38b461ef113df2c582cf84f1a9d53c00ff6'),\n",
       "  HexBytes('0x0bbba02e7d7bd3df63ad758cdc949c0c40faa4ef77f94963450d4aa66853b369'),\n",
       "  HexBytes('0xd53b5a296d8dbc18f70e91c26a24063adf4652446f5e3a4a16e90082843881ea'),\n",
       "  HexBytes('0xaf33b4e581e72fb7c353f5f935583a1e648f5120c3433b277b1b72f93731364c'),\n",
       "  HexBytes('0x11b76f23c446df8e8a649a9d54ab62231cbba9077484cbf443f5f7c0ba8cfd18'),\n",
       "  HexBytes('0xe63dcfc07f9096dde16285266861cea662a2ee506fc1c1d9420b39b94c9f7ee8'),\n",
       "  HexBytes('0x96a90415a6b46370771d10a0dba9c09f12b1d5200d459542fea5c9d49d0c773a'),\n",
       "  HexBytes('0x1cea5d0539e6f6bb39da389c2b361d3d04abca4aa9264f22023a7cba56df820d'),\n",
       "  HexBytes('0xe2e16bcee46b90a20ba905e44056487d53da088a36cbef2b40e8f71a2f08d4e0'),\n",
       "  HexBytes('0x05641f4d64bf9b8bf8e1bb120581cbce6f338003584ee657efaf43844455a948'),\n",
       "  HexBytes('0x98538921bd73042e3e27b7d8667c576db417e6f11944254e0f78a1872685a9f7'),\n",
       "  HexBytes('0xba6c08a2e7847db4f30949d8d0d33ed8630d79028391c90fc86e14af851bbcb5'),\n",
       "  HexBytes('0x5215f1a755b63d6736ebf55ce18f00ba379eaef7b4dded5ae082feff90927843'),\n",
       "  HexBytes('0x24f9cd1e9402ae8ce141760ef03288fba53b90d33ef04e3e4a635d21b5832454'),\n",
       "  HexBytes('0x34314e37b7153254235ff609eae3adb7f22481a5e72101942845cb4f71928222'),\n",
       "  HexBytes('0xb0ce1dd32d134b8bfe0e0acd764dcb34c39143ca941a7e6e356a4cf0847bfaf7'),\n",
       "  HexBytes('0x377ff57d653fc41451c32e8a354ff36aa757cfd37443a59fb3b235001bef3fdf'),\n",
       "  HexBytes('0x0a482727f14efbe92e8a9fdcc307ac07aa0e8b8735730badac2c620efec58f79'),\n",
       "  HexBytes('0xfc3743330618401c5182a2cd4f70a241b58c0703721910f31e48026d1fe7aa98'),\n",
       "  HexBytes('0x11929a4b0fafa50cd4e77c31298060913459d986842241568e2935acc6234296'),\n",
       "  HexBytes('0xc5cb41aba264f7f178909c262b6da5804b520524a368201652170279e3802a27'),\n",
       "  HexBytes('0x1c1752489dfed739ce2eb61aacc985ac8145bebe55e146e8dbe71594961e080c'),\n",
       "  HexBytes('0x34bc6c0aa2be9bcfb34c51e81d6cac36025e53a61372110f8c7138a98c496b80'),\n",
       "  HexBytes('0xec86bea2e84be173185a21147918bd1bcb9c82041b2eb04c126ccf849a45f46d'),\n",
       "  HexBytes('0x271f778fdfd7e3a382371956994ccd411eda36e560a89c3ac377d3ed87d69d65'),\n",
       "  HexBytes('0x38ff69b5e00ef9ae2b8e6d2adb23c5f7a54be84d0a5aed7581f7eb43437ba503'),\n",
       "  HexBytes('0x9e06dc5441e4cbfd30c97318d256bb21d360f41fee82767262fbef8d27b67b22'),\n",
       "  HexBytes('0xa565a547b92e12dd0e77828de935cb62d1f3791c837bcecb44d10e2d1908dacc'),\n",
       "  HexBytes('0x5ff3a8c3d210b901899c3b5a3e794f548c5ef54166f33c5d051ea67d330fc335'),\n",
       "  HexBytes('0x15c70310574cdc17c2b860f8e444f2e830a3f4de3a6bd76c50b265e9db42ac8c'),\n",
       "  HexBytes('0xe4c715e952b3d2a902833c480c1095aaa41c432113a2995163dfcad9ac12aec5'),\n",
       "  HexBytes('0xb8f580c0358bd8f705ddd6dcb7448894169244455d2d8fe8cc1f7502ae219606'),\n",
       "  HexBytes('0xd35af828b11ef141ce63afe15eb593dced4ddc726e8da57c3c04df461f2f9f43'),\n",
       "  HexBytes('0xe1f16057877005d6ea4ffb28d59f2149ecfa56fac4ec972fa32003a515d55be3'),\n",
       "  HexBytes('0x936981938306750bb13ed839fa55b66067f38cc9df30ab15a8fad95218d33639'),\n",
       "  HexBytes('0x813c0a4f29b2148652f3960c96232cafdc091c8ced12176e2e8476a3c0f8f122'),\n",
       "  HexBytes('0xe9432b8c6eec6556b582a5496ca939042ce9ef0fe5e7998b256f67fc25f7e9bc'),\n",
       "  HexBytes('0x05df1eec7736912eb247a008fb1c605590914b9a8567392a3833f6c9bd85d3d4'),\n",
       "  HexBytes('0xc02ab4eff8c427a993329d6137cdacb62821aa3331e765b6739e6c23279d7cc5'),\n",
       "  HexBytes('0xee65ada0355dbaface1be8c2802367239e9b7b5140f58e14fcf50cbf96f452b9'),\n",
       "  HexBytes('0x4f1f88b7997b04c9c84eee510f5847bc49f32f813c6fc21ddb4e3565cc07e5ae'),\n",
       "  HexBytes('0x25b898ce65d25796214241fbd4d539cbe710721026e3487cf6adfc2e23426a48'),\n",
       "  HexBytes('0xc62d3f3880500a5d2de94e90ccbd86b2f10f5f2c0cf45c3fc32b729a3998ac32'),\n",
       "  HexBytes('0x1eebfe586a5c28d5390d17684bdd69200fdb27b64acfb069ddc75302b3badcf7'),\n",
       "  HexBytes('0xd1d2f112742b4faad24815f9bbe00377f44620039c1b33139bef12532952ba9d'),\n",
       "  HexBytes('0x97d55e8ce2d67851d992ddff5bfdc763996a1f79b90492591a1fe75b1a79c432'),\n",
       "  HexBytes('0x4fbaf681aa08254bbacea24e5c495f5fa59045fb5d09d04f47b8824daa019a0e'),\n",
       "  HexBytes('0xe9443a774daadbf379e10621436cba19983bb7f8b480b3176f26f7cbcd248c48'),\n",
       "  HexBytes('0x828d5190ce30c20bc0c59af8dd19acda847fc1339a4c1dc81dc1ca8127068eb9'),\n",
       "  HexBytes('0xdf969cacfa0317f1e36745bc406a3c01365e7934d0e2f4d9b93066c4702b74d1'),\n",
       "  HexBytes('0xa1b879589357f9535b1057cc4189a21c9cdd82008d6f13d08cd0aef75679a1ba'),\n",
       "  HexBytes('0xe107eaf90f9f340351e12c6cf09179eeaa12fd7a5c659930882ec9e53ea8e52b'),\n",
       "  HexBytes('0xd57ef39ddedebe368329b935e2c61a612a3e16517bc61870305734ac5b11e9a7'),\n",
       "  HexBytes('0xee50cc3bea6ee28f3ac6cb436fd46ace483b7c2a77381416b01c09b626ef5ed1'),\n",
       "  HexBytes('0xb0423f2c0616e894a895ed4c180d1953b67a2ab918bbd5dc6ddfbb94fedc31ff'),\n",
       "  HexBytes('0x67eefcc193c67588095b668ce5e12cdc5f386e8d098e268b48b111c3bbcf15d5'),\n",
       "  HexBytes('0x4b2352f08415d78c8d2f9b3a6361e97f8346d05c825e2e1d6245d5d86cea770b'),\n",
       "  HexBytes('0x7bfd106a1beed575f06f27a91ffcbbd5d0b41fd0e6e7ffd75934e132a4fa4f7d'),\n",
       "  HexBytes('0x08d337957a8242e5e38bd098bab6f3d97e97ca69bfcb9201d29510ddcb242373'),\n",
       "  HexBytes('0xd44286021dfca4a8e4a0a9411a64754bdc33fe13b998a7c219c7c234dcf5deb3'),\n",
       "  HexBytes('0xed465b3d166cd89668f22dabcab136ef4e44c809e5bee4150cc5c8125938bd4f'),\n",
       "  HexBytes('0xcdc4467185ab28d2269c9b1716684fda6a5dbf4ae1c052aa5eecd94a20ad0561'),\n",
       "  HexBytes('0xa689cbda48a138623ac15fa98d851b3aae655a40ee39248b6385f983f6c7a327'),\n",
       "  HexBytes('0xfb1bf64d009c4336886c1b031da6de9f29e64bfc0ddf99b77d979f533d62e14b'),\n",
       "  HexBytes('0x0680b106fcca5a6048a40feb845915415360c8b21b1a6e005724736d13239964'),\n",
       "  HexBytes('0xd15d884c716d9b06abf29a6dbbe6ec4821d8fed6f2698ad0cc0bfea67d58c29a'),\n",
       "  HexBytes('0x9fec97835c38d40d214fc9ae512017a90cd77566cd71f725e9fd6735e2d5c38b'),\n",
       "  HexBytes('0x2392dbd22904e06cb905c309c090c7621b5b8e1586af90b699f95451c08de0cc'),\n",
       "  HexBytes('0xc2ce2660e40b4140440eb42ae2fe0ba56ea04be74f3aca32978f11b5bf8ec2c8'),\n",
       "  HexBytes('0xed5ed7a0b056ce4e8fd244644c3ad67ecf9d771f532b1050838d0c4f766823e0'),\n",
       "  HexBytes('0xdcd30365a0253b92f167b4d701ef21ee02897059dbda6fc763485ff3de811f6c'),\n",
       "  HexBytes('0x1ca87ed977ed24f7065abe26c96b5cb0286c71c4c3663bfcd365d69c2bd72198'),\n",
       "  HexBytes('0x2498308d553dda0137e3a9457bb0fc811f916b8490faeb08267b5e98b195d96c'),\n",
       "  HexBytes('0xa19ba6999b67aca40730a18f2be2d260ca22b271696f8ef4693766ac17a269bd'),\n",
       "  HexBytes('0xc3afe4588f1cabecc4f123530121fa186f2cf65803ba0294a78931b0e1767bf7'),\n",
       "  HexBytes('0xe9480b70e9c6f19d603e0d279b4e562146578e47ccadcc3009241d6ff950a22d'),\n",
       "  HexBytes('0x09ee61821b7499352451f9efaf6a9b493609c01dbab4f06ed2b725c1420460f1'),\n",
       "  HexBytes('0x61842de7b502409f576e66fcd4d90bec7b7876fcf005505e88284395e6665f29'),\n",
       "  HexBytes('0xd33169f17830550cfc3893529f495d9bec0738c6d9e99d2d6362fe066562de67'),\n",
       "  HexBytes('0x8ac54a299e25ca8dc0d64a2e6d4c428be7bb4a611607fed1686431cd68d87287'),\n",
       "  HexBytes('0x737d749eb3599c4ca8870f7e8e477e7804958558d791c7418cbc17a054aa30c5'),\n",
       "  HexBytes('0x91c9e4fab3ca14f88cc27e89555b790b2b028488b86c88c71835ef1d837c07c6'),\n",
       "  HexBytes('0x92ef698ec7746bb1a2cae1781d02a8ce3a24c009cf031b78bde3430967950f46'),\n",
       "  HexBytes('0xeb921875bea44d0fa583dd633adeb333573128ff3ce65fa93e5aec0875310ae5'),\n",
       "  HexBytes('0xd23a3c4d4d4bf9632dd8d13186c82047be073b549b06ec462158c8b5bfc62236'),\n",
       "  HexBytes('0x6184a48aaf03f083972fa17faa03bd72be12ec4615a50fa6fac186faf05fa8e7'),\n",
       "  HexBytes('0x8a2f6155895678d20b0657b286f682675df36f1c5196410cddbab3fcce872b37'),\n",
       "  HexBytes('0x91c1e178457fceb95b6143b028f05b07eebacac94cbb03e813b54a913e5a2550'),\n",
       "  HexBytes('0x9c47f8da2cb48564ec2dfde03ce4b5645db09434b95209d38c489b5043366dee'),\n",
       "  HexBytes('0x27267d4b175e12eba3d389e9b523106a5446d26c59340349ea121b6bb05f7e18'),\n",
       "  HexBytes('0x0c2a6d231fc4f65170c9d1166988c8f829cc6ae61f99b494cf1c9a2a34788131'),\n",
       "  HexBytes('0x64e00dc70fcec4073a0489970a717f14f0fc31784890c37996d1ca7ebff432d9'),\n",
       "  HexBytes('0x68108d5b9b3ee7d7272c20ba6f834aec1c1297349176907272d169e656d72f09'),\n",
       "  HexBytes('0x2bff730f6b260782a42b5189ee49d2082261eab8977579651c57bc287e765b1e'),\n",
       "  HexBytes('0xb0af70f956eab50fc1ae20ab82b3dd4ab1b71c8aaf060d0eb5640fb932cf89a7'),\n",
       "  HexBytes('0x003e2c22c845dd7b82da9ffde9717a762f82563a83b37fb2f50a978ebf92e60e'),\n",
       "  HexBytes('0x83ea7cfce97f6135fb7439cdd39dd3e74af75953f6250a9a32cd96ac6c3d51b7'),\n",
       "  HexBytes('0xa66e177b3905dd4afcc452aad4d7d35612e86038c1f0b3319a7c7239ae549378'),\n",
       "  HexBytes('0xd28458be790782638db5c07c6b2af59e31fa61434f594a95e5255b49f0c69b4f'),\n",
       "  HexBytes('0xc2cf2fe6b1e72c180497f407673371f536a1c06e24ac231364590bb4fd31c00b'),\n",
       "  HexBytes('0x20523afdaa1ec05bcf7c4bbe16ec166cf88ba771492ef2b11e94d9ab8bbd66c7'),\n",
       "  HexBytes('0x8bc477f1c386032f3e9707acc15e2f22f9ea26aa0a4cdcfa2ad1f06c8302a743'),\n",
       "  HexBytes('0x0204485766ea8cb2a62518ffc4a5563661aafb07a5743ef5d622ea3c804c4044'),\n",
       "  HexBytes('0x3db830003b181f0e12b0e8b7e01ae164fdf658bad7fdb956bc6c37f7d7b4ea97'),\n",
       "  HexBytes('0xb4ea2b78e07870d1035c74282a6b34e9df1019d5cad6d40e20618d6b7cedd83e'),\n",
       "  HexBytes('0x6b88dd2b4116181787a41004c3ff9119a96458fef5ef3c800f2ea064d7ec91e3'),\n",
       "  HexBytes('0x39fc4fa8ffe1f9d3f619f17388bb2fa6d8718bd929e69b54c172bc6c4aca80a2'),\n",
       "  HexBytes('0xc8e8e4af17499956fc4074493862f3d3dd9c7fe351c7fe56524651ccd420dd7b'),\n",
       "  HexBytes('0x24ffac3dea21f13faa2fcd7bc1cc41596a1207ca9b5f012956f75cbac924d932'),\n",
       "  HexBytes('0x17f2d47e8069d3d36767a150be4d222d5741e0301c60dc013a32fef5445a1bf9'),\n",
       "  HexBytes('0x0a4e19718c08e6507498bf8b0364a618e07ee2943105a12f3091c7b51a74c69e'),\n",
       "  HexBytes('0x7d9eaa790df1b7d06636fd60811b96377f26b48892b469937b078c56d6f6b027'),\n",
       "  HexBytes('0xac5187103e89d1ec3a046569e0825eb5f55330b1f741306923c19bb27fbe3130'),\n",
       "  HexBytes('0x218fbb905e1a96e58781abc50a420835ce2929262bfacdfd9dd5412358a6a9e8'),\n",
       "  HexBytes('0x5d47b1271cba116a4a630e1fa3f868f55fda3af8bfa62b2aee78964dc2dd2341'),\n",
       "  HexBytes('0x32b1c5cb08c12bf28f156e8114a4c714fc90f0019fdfdf2fde9641cc4f508f63'),\n",
       "  HexBytes('0xeb3629fcf4b8e6033e894e967c0d48fc4b27cd9c7039a14395b223bf3f875c11'),\n",
       "  HexBytes('0x6881b6a640345071b0ac8564935477320d6a4b871f1f321617d670735a3e9879')],\n",
       " 'transactionsRoot': HexBytes('0xe9d301434ff03ec2c1eb4d51164ae76ad844aff5a32af80ddb598aa611559185'),\n",
       " 'uncles': [],\n",
       " 'withdrawals': [AttributeDict({'address': '0xB9D7934878B5FB9610B3fE8A5e441e8fad7E293f',\n",
       "   'amount': 19070459,\n",
       "   'index': 54535691,\n",
       "   'validatorIndex': 187933}),\n",
       "  AttributeDict({'address': '0xB9D7934878B5FB9610B3fE8A5e441e8fad7E293f',\n",
       "   'amount': 19121897,\n",
       "   'index': 54535692,\n",
       "   'validatorIndex': 187934}),\n",
       "  AttributeDict({'address': '0xB9D7934878B5FB9610B3fE8A5e441e8fad7E293f',\n",
       "   'amount': 19113442,\n",
       "   'index': 54535693,\n",
       "   'validatorIndex': 187935}),\n",
       "  AttributeDict({'address': '0xB9D7934878B5FB9610B3fE8A5e441e8fad7E293f',\n",
       "   'amount': 19104586,\n",
       "   'index': 54535694,\n",
       "   'validatorIndex': 187936}),\n",
       "  AttributeDict({'address': '0xB9D7934878B5FB9610B3fE8A5e441e8fad7E293f',\n",
       "   'amount': 19094102,\n",
       "   'index': 54535695,\n",
       "   'validatorIndex': 187937}),\n",
       "  AttributeDict({'address': '0xB9D7934878B5FB9610B3fE8A5e441e8fad7E293f',\n",
       "   'amount': 65779504,\n",
       "   'index': 54535696,\n",
       "   'validatorIndex': 187938}),\n",
       "  AttributeDict({'address': '0xB9D7934878B5FB9610B3fE8A5e441e8fad7E293f',\n",
       "   'amount': 19096188,\n",
       "   'index': 54535697,\n",
       "   'validatorIndex': 187939}),\n",
       "  AttributeDict({'address': '0xB9D7934878B5FB9610B3fE8A5e441e8fad7E293f',\n",
       "   'amount': 19121306,\n",
       "   'index': 54535698,\n",
       "   'validatorIndex': 187940}),\n",
       "  AttributeDict({'address': '0xB9D7934878B5FB9610B3fE8A5e441e8fad7E293f',\n",
       "   'amount': 19114443,\n",
       "   'index': 54535699,\n",
       "   'validatorIndex': 187941}),\n",
       "  AttributeDict({'address': '0xB9D7934878B5FB9610B3fE8A5e441e8fad7E293f',\n",
       "   'amount': 19124210,\n",
       "   'index': 54535700,\n",
       "   'validatorIndex': 187942}),\n",
       "  AttributeDict({'address': '0xB9D7934878B5FB9610B3fE8A5e441e8fad7E293f',\n",
       "   'amount': 19139330,\n",
       "   'index': 54535701,\n",
       "   'validatorIndex': 187943}),\n",
       "  AttributeDict({'address': '0xB9D7934878B5FB9610B3fE8A5e441e8fad7E293f',\n",
       "   'amount': 19062595,\n",
       "   'index': 54535702,\n",
       "   'validatorIndex': 187944}),\n",
       "  AttributeDict({'address': '0xB9D7934878B5FB9610B3fE8A5e441e8fad7E293f',\n",
       "   'amount': 19082149,\n",
       "   'index': 54535703,\n",
       "   'validatorIndex': 187945}),\n",
       "  AttributeDict({'address': '0xB9D7934878B5FB9610B3fE8A5e441e8fad7E293f',\n",
       "   'amount': 19111955,\n",
       "   'index': 54535704,\n",
       "   'validatorIndex': 187946}),\n",
       "  AttributeDict({'address': '0xB9D7934878B5FB9610B3fE8A5e441e8fad7E293f',\n",
       "   'amount': 19096004,\n",
       "   'index': 54535705,\n",
       "   'validatorIndex': 187947}),\n",
       "  AttributeDict({'address': '0xB9D7934878B5FB9610B3fE8A5e441e8fad7E293f',\n",
       "   'amount': 19100737,\n",
       "   'index': 54535706,\n",
       "   'validatorIndex': 187948})],\n",
       " 'withdrawalsRoot': HexBytes('0xfed5dfeac588e4ddc5fbc0046023b5d7aaa0d468ade46b61dfffc8d30b0cff17')})"
      ]
     },
     "execution_count": 17,
     "metadata": {},
     "output_type": "execute_result"
    }
   ],
   "source": [
    "w3.eth.get_block('latest')"
   ]
  },
  {
   "cell_type": "code",
   "execution_count": 5,
   "id": "c28556a9-0cff-4114-a2b7-161f08bea151",
   "metadata": {},
   "outputs": [
    {
     "data": {
      "text/plain": [
       "58976245287997571"
      ]
     },
     "execution_count": 5,
     "metadata": {},
     "output_type": "execute_result"
    }
   ],
   "source": [
    "eth_address='0x7F4482619D5113388D61766e77D62b7D096D9bbE'\n",
    "w3.eth.get_balance(eth_address)"
   ]
  },
  {
   "cell_type": "code",
   "execution_count": null,
   "id": "54af64e8-12dc-4233-b868-6a114b417869",
   "metadata": {},
   "outputs": [],
   "source": []
  },
  {
   "cell_type": "markdown",
   "id": "7093402e-7613-45f7-abcf-4df79bbe9b7e",
   "metadata": {},
   "source": [
    "Retrieve contract ABI\n",
    "* https://etherscan.io/address/0xd665ce6Ef8AdA72B1CF946A6a71508bDD6D2EE04#code"
   ]
  },
  {
   "cell_type": "code",
   "execution_count": 6,
   "id": "d2626f84-15c3-4d9b-9e30-6b17d0c497e9",
   "metadata": {},
   "outputs": [
    {
     "name": "stdout",
     "output_type": "stream",
     "text": [
      "1000000000000000000000\n"
     ]
    }
   ],
   "source": [
    "address = '0xd665ce6Ef8AdA72B1CF946A6a71508bDD6D2EE04'\n",
    "abi = '[{\"inputs\":[],\"stateMutability\":\"nonpayable\",\"type\":\"constructor\"},{\"anonymous\":false,\"inputs\":[{\"indexed\":true,\"internalType\":\"address\",\"name\":\"owner\",\"type\":\"address\"},{\"indexed\":true,\"internalType\":\"address\",\"name\":\"spender\",\"type\":\"address\"},{\"indexed\":false,\"internalType\":\"uint256\",\"name\":\"value\",\"type\":\"uint256\"}],\"name\":\"Approval\",\"type\":\"event\"},{\"anonymous\":false,\"inputs\":[{\"indexed\":false,\"internalType\":\"uint256\",\"name\":\"_maxTxAmount\",\"type\":\"uint256\"}],\"name\":\"MaxTxAmountUpdated\",\"type\":\"event\"},{\"anonymous\":false,\"inputs\":[{\"indexed\":true,\"internalType\":\"address\",\"name\":\"previousOwner\",\"type\":\"address\"},{\"indexed\":true,\"internalType\":\"address\",\"name\":\"newOwner\",\"type\":\"address\"}],\"name\":\"OwnershipTransferred\",\"type\":\"event\"},{\"anonymous\":false,\"inputs\":[{\"indexed\":true,\"internalType\":\"address\",\"name\":\"from\",\"type\":\"address\"},{\"indexed\":true,\"internalType\":\"address\",\"name\":\"to\",\"type\":\"address\"},{\"indexed\":false,\"internalType\":\"uint256\",\"name\":\"value\",\"type\":\"uint256\"}],\"name\":\"Transfer\",\"type\":\"event\"},{\"inputs\":[{\"internalType\":\"address\",\"name\":\"owner\",\"type\":\"address\"},{\"internalType\":\"address\",\"name\":\"spender\",\"type\":\"address\"}],\"name\":\"allowance\",\"outputs\":[{\"internalType\":\"uint256\",\"name\":\"\",\"type\":\"uint256\"}],\"stateMutability\":\"view\",\"type\":\"function\"},{\"inputs\":[{\"internalType\":\"address\",\"name\":\"spender\",\"type\":\"address\"},{\"internalType\":\"uint256\",\"name\":\"amount\",\"type\":\"uint256\"}],\"name\":\"approve\",\"outputs\":[{\"internalType\":\"bool\",\"name\":\"\",\"type\":\"bool\"}],\"stateMutability\":\"nonpayable\",\"type\":\"function\"},{\"inputs\":[{\"internalType\":\"address\",\"name\":\"account\",\"type\":\"address\"}],\"name\":\"balanceOf\",\"outputs\":[{\"internalType\":\"uint256\",\"name\":\"\",\"type\":\"uint256\"}],\"stateMutability\":\"view\",\"type\":\"function\"},{\"inputs\":[],\"name\":\"decimals\",\"outputs\":[{\"internalType\":\"uint8\",\"name\":\"\",\"type\":\"uint8\"}],\"stateMutability\":\"pure\",\"type\":\"function\"},{\"inputs\":[{\"internalType\":\"address\",\"name\":\"notbot\",\"type\":\"address\"}],\"name\":\"delBot\",\"outputs\":[],\"stateMutability\":\"nonpayable\",\"type\":\"function\"},{\"inputs\":[],\"name\":\"manualsend\",\"outputs\":[],\"stateMutability\":\"nonpayable\",\"type\":\"function\"},{\"inputs\":[],\"name\":\"manualswap\",\"outputs\":[],\"stateMutability\":\"nonpayable\",\"type\":\"function\"},{\"inputs\":[],\"name\":\"name\",\"outputs\":[{\"internalType\":\"string\",\"name\":\"\",\"type\":\"string\"}],\"stateMutability\":\"pure\",\"type\":\"function\"},{\"inputs\":[],\"name\":\"openTrading\",\"outputs\":[],\"stateMutability\":\"nonpayable\",\"type\":\"function\"},{\"inputs\":[],\"name\":\"owner\",\"outputs\":[{\"internalType\":\"address\",\"name\":\"\",\"type\":\"address\"}],\"stateMutability\":\"view\",\"type\":\"function\"},{\"inputs\":[],\"name\":\"removeStrictTxLimit\",\"outputs\":[],\"stateMutability\":\"nonpayable\",\"type\":\"function\"},{\"inputs\":[],\"name\":\"renounceOwnership\",\"outputs\":[],\"stateMutability\":\"nonpayable\",\"type\":\"function\"},{\"inputs\":[{\"internalType\":\"address[]\",\"name\":\"bots_\",\"type\":\"address[]\"}],\"name\":\"setBots\",\"outputs\":[],\"stateMutability\":\"nonpayable\",\"type\":\"function\"},{\"inputs\":[{\"internalType\":\"bool\",\"name\":\"onoff\",\"type\":\"bool\"}],\"name\":\"setCooldownEnabled\",\"outputs\":[],\"stateMutability\":\"nonpayable\",\"type\":\"function\"},{\"inputs\":[],\"name\":\"symbol\",\"outputs\":[{\"internalType\":\"string\",\"name\":\"\",\"type\":\"string\"}],\"stateMutability\":\"pure\",\"type\":\"function\"},{\"inputs\":[],\"name\":\"totalSupply\",\"outputs\":[{\"internalType\":\"uint256\",\"name\":\"\",\"type\":\"uint256\"}],\"stateMutability\":\"pure\",\"type\":\"function\"},{\"inputs\":[{\"internalType\":\"address\",\"name\":\"recipient\",\"type\":\"address\"},{\"internalType\":\"uint256\",\"name\":\"amount\",\"type\":\"uint256\"}],\"name\":\"transfer\",\"outputs\":[{\"internalType\":\"bool\",\"name\":\"\",\"type\":\"bool\"}],\"stateMutability\":\"nonpayable\",\"type\":\"function\"},{\"inputs\":[{\"internalType\":\"address\",\"name\":\"sender\",\"type\":\"address\"},{\"internalType\":\"address\",\"name\":\"recipient\",\"type\":\"address\"},{\"internalType\":\"uint256\",\"name\":\"amount\",\"type\":\"uint256\"}],\"name\":\"transferFrom\",\"outputs\":[{\"internalType\":\"bool\",\"name\":\"\",\"type\":\"bool\"}],\"stateMutability\":\"nonpayable\",\"type\":\"function\"},{\"stateMutability\":\"payable\",\"type\":\"receive\"}]'\n",
    "\n",
    "contract_instance = w3.eth.contract(address=address, abi=abi)\n",
    "res = contract_instance.functions.totalSupply().call()\n",
    "print(res)"
   ]
  },
  {
   "cell_type": "code",
   "execution_count": 7,
   "id": "57d15375-4559-4633-b026-2ad87185c94c",
   "metadata": {},
   "outputs": [
    {
     "name": "stdout",
     "output_type": "stream",
     "text": [
      "SHIBACHU\n"
     ]
    }
   ],
   "source": [
    "symbol = contract_instance.functions.symbol().call()\n",
    "print(symbol)"
   ]
  },
  {
   "cell_type": "code",
   "execution_count": 8,
   "id": "2562dbd5-a248-44c7-89c8-a0ac1b39481e",
   "metadata": {},
   "outputs": [
    {
     "data": {
      "text/plain": [
       "(AttributeDict({'args': AttributeDict({'from': '0xd665ce6Ef8AdA72B1CF946A6a71508bDD6D2EE04',\n",
       "   'to': '0x7067D17B75852acACff051C7046767333683cbc5',\n",
       "   'value': 37902872436093283037}),\n",
       "  'event': 'Transfer',\n",
       "  'logIndex': 104,\n",
       "  'transactionIndex': 74,\n",
       "  'transactionHash': HexBytes('0x734fe59647b938ffdd5edde1e8f48b818ea563ae5e04953bcf1681a9e1e0d862'),\n",
       "  'address': '0xd665ce6Ef8AdA72B1CF946A6a71508bDD6D2EE04',\n",
       "  'blockHash': HexBytes('0xbd1ab7b6ce6b2549216bf4a40e7ee51f273ea05ad96822a0de090740b285f708'),\n",
       "  'blockNumber': 16283690}),\n",
       " AttributeDict({'args': AttributeDict({'from': '0x568b47030B2Bff3e49fBfc7F1ec5e270DE0A28a6',\n",
       "   'to': '0x000000000000000000000000000000000000dEaD',\n",
       "   'value': 5944013264247833020}),\n",
       "  'event': 'Transfer',\n",
       "  'logIndex': 110,\n",
       "  'transactionIndex': 74,\n",
       "  'transactionHash': HexBytes('0x734fe59647b938ffdd5edde1e8f48b818ea563ae5e04953bcf1681a9e1e0d862'),\n",
       "  'address': '0xd665ce6Ef8AdA72B1CF946A6a71508bDD6D2EE04',\n",
       "  'blockHash': HexBytes('0xbd1ab7b6ce6b2549216bf4a40e7ee51f273ea05ad96822a0de090740b285f708'),\n",
       "  'blockNumber': 16283690}))"
      ]
     },
     "execution_count": 8,
     "metadata": {},
     "output_type": "execute_result"
    }
   ],
   "source": [
    "blk_num = 16283690\n",
    "contract_instance.events.Transfer().get_logs(fromBlock=blk_num)"
   ]
  },
  {
   "cell_type": "code",
   "execution_count": null,
   "id": "fee4dbc1-ab25-44be-b10a-f22508093b84",
   "metadata": {},
   "outputs": [],
   "source": [
    "#dir(contract_instance.events)"
   ]
  },
  {
   "cell_type": "code",
   "execution_count": 9,
   "id": "6a9d03fa-7919-4f50-9ea4-9bce89819662",
   "metadata": {},
   "outputs": [
    {
     "ename": "NameError",
     "evalue": "name 'last_blk_number' is not defined",
     "output_type": "error",
     "traceback": [
      "\u001b[0;31m---------------------------------------------------------------------------\u001b[0m",
      "\u001b[0;31mNameError\u001b[0m                                 Traceback (most recent call last)",
      "Cell \u001b[0;32mIn[9], line 2\u001b[0m\n\u001b[1;32m      1\u001b[0m n_blocks \u001b[38;5;241m=\u001b[39m \u001b[38;5;241m100\u001b[39m\n\u001b[0;32m----> 2\u001b[0m \u001b[38;5;28;01mfor\u001b[39;00m blk_num \u001b[38;5;129;01min\u001b[39;00m \u001b[38;5;28mrange\u001b[39m(\u001b[43mlast_blk_number\u001b[49m,last_blk_number\u001b[38;5;241m-\u001b[39mn_blocks,\u001b[38;5;241m-\u001b[39m\u001b[38;5;241m1\u001b[39m):\n\u001b[1;32m      3\u001b[0m     logs \u001b[38;5;241m=\u001b[39m contract_instance\u001b[38;5;241m.\u001b[39mevents\u001b[38;5;241m.\u001b[39mTransfer()\u001b[38;5;241m.\u001b[39mget_logs(fromBlock\u001b[38;5;241m=\u001b[39mblk_num)\n\u001b[1;32m      4\u001b[0m     \u001b[38;5;28mprint\u001b[39m(\u001b[38;5;124mf\u001b[39m\u001b[38;5;124m'\u001b[39m\u001b[38;5;124mBlock number: \u001b[39m\u001b[38;5;132;01m{\u001b[39;00mblk_num\u001b[38;5;132;01m}\u001b[39;00m\u001b[38;5;124m, log: \u001b[39m\u001b[38;5;132;01m{\u001b[39;00mlogs\u001b[38;5;132;01m}\u001b[39;00m\u001b[38;5;124m'\u001b[39m)\n",
      "\u001b[0;31mNameError\u001b[0m: name 'last_blk_number' is not defined"
     ]
    }
   ],
   "source": [
    "n_blocks = 100\n",
    "for blk_num in range(last_blk_number,last_blk_number-n_blocks,-1):\n",
    "    logs = contract_instance.events.Transfer().get_logs(fromBlock=blk_num)\n",
    "    print(f'Block number: {blk_num}, log: {logs}')"
   ]
  },
  {
   "cell_type": "code",
   "execution_count": null,
   "id": "7aedb4cb-9518-46fe-8108-0440d7c98710",
   "metadata": {},
   "outputs": [],
   "source": [
    "events = contract_instance.events.Transfer"
   ]
  },
  {
   "cell_type": "code",
   "execution_count": null,
   "id": "93165414-18da-4f97-bc6f-231c8fcdbc5f",
   "metadata": {},
   "outputs": [],
   "source": [
    "events"
   ]
  },
  {
   "cell_type": "code",
   "execution_count": null,
   "id": "58fed57c-fe42-4560-97fd-c7b254a9b91b",
   "metadata": {},
   "outputs": [],
   "source": [
    "WETH_ADDRESS = '0xC02aaA39b223FE8D0A0e5C4F27eAD9083C756Cc2'\n",
    "\n",
    "block = w3.eth.get_block('latest')\n",
    "for tx_hash in block.transactions:\n",
    "    tx = w3.eth.get_transaction(tx_hash)\n",
    "    if tx['to'] == WETH_ADDRESS:\n",
    "        print(f'Found interaction with WETH contract! {tx}')"
   ]
  },
  {
   "cell_type": "code",
   "execution_count": null,
   "id": "f24a1f08-90e0-4be2-9ec8-f47b6b07e469",
   "metadata": {},
   "outputs": [],
   "source": [
    "tx_hash = block.transactions[1]\n",
    "tx = w3.eth.get_transaction(tx_hash)\n",
    "tx"
   ]
  }
 ],
 "metadata": {
  "kernelspec": {
   "display_name": "Python 3 (ipykernel)",
   "language": "python",
   "name": "python3"
  },
  "language_info": {
   "codemirror_mode": {
    "name": "ipython",
    "version": 3
   },
   "file_extension": ".py",
   "mimetype": "text/x-python",
   "name": "python",
   "nbconvert_exporter": "python",
   "pygments_lexer": "ipython3",
   "version": "3.10.0rc2"
  }
 },
 "nbformat": 4,
 "nbformat_minor": 5
}
