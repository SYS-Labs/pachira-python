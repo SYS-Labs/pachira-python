{
 "cells": [
  {
   "cell_type": "markdown",
   "id": "696b8c09-86c3-486e-a3e6-52e4d997a3bc",
   "metadata": {},
   "source": [
    "* https://web3-ethereum-defi.readthedocs.io/tutorials/uniswap-v3-historical-price-impact.html"
   ]
  },
  {
   "cell_type": "code",
   "execution_count": 9,
   "id": "eb24a782-eff1-402f-ba38-2d78b091346c",
   "metadata": {},
   "outputs": [],
   "source": [
    "import os\n",
    "from decimal import Decimal\n",
    "\n",
    "from web3 import Web3, HTTPProvider\n",
    "\n",
    "from eth_defi.token import fetch_erc20_details\n",
    "from eth_defi.uniswap_v3.deployment import fetch_deployment\n",
    "from eth_defi.uniswap_v3.pool import fetch_pool_details\n",
    "from eth_defi.uniswap_v3.price import get_onchain_price, estimate_sell_received_amount\n",
    "from eth_defi.uniswap_v3.tvl import fetch_uniswap_v3_pool_tvl\n",
    "\n",
    "# The test amount of WMATIC for which selling\n",
    "# we calculate price impact and slippage numbers\n",
    "wmatic_amount = Decimal(\"14.975601230579683413\")\n",
    "\n",
    "# WMATIC-USDC 5 BPS pool address\n",
    "# https://tradingstrategy.ai/trading-view/polygon/uniswap-v3/matic-usdc-fee-5\n",
    "pool_address = \"0xa374094527e1673a86de625aa59517c5de346d32\"\n",
    "block_estimated = 45_583_631  # Assume this was when the trade was deciced\n",
    "block_executed = 45_583_635  # Assume this was then the trade was executed\n",
    "wmatic_address = \"0x0d500b1d8e8ef31e21c99d1db9a6444d3adf1270\"\n",
    "usdc_address = \"0x2791Bca1f2de4661ED88A30C99A7a9449Aa84174\"\n",
    "fee_tier = 0.0005  # BPS\n",
    "\n",
    "# Give Polygon archive node JSON-RPC access\n",
    "json_rpc_url = os.environ.get(\"JSON_RPC_POLYGON\", \"https://polygon-rpc.com\")\n",
    "web3 = Web3(HTTPProvider(json_rpc_url))"
   ]
  },
  {
   "cell_type": "code",
   "execution_count": 10,
   "id": "2637c996-5987-415a-8f5a-b9695a3450a6",
   "metadata": {},
   "outputs": [],
   "source": [
    "wmatic = fetch_erc20_details(web3, wmatic_address)\n",
    "usdc = fetch_erc20_details(web3, usdc_address)\n",
    "\n",
    "pool = fetch_pool_details(web3, pool_address)\n",
    "\n",
    "wmatic_amount_raw = wmatic.convert_to_raw(wmatic_amount)\n",
    "\n",
    "mid_price_estimated = get_onchain_price(web3, pool_address, block_identifier=block_estimated)\n",
    "mid_price_executed = get_onchain_price(web3, pool_address, block_identifier=block_executed)\n",
    "\n",
    "tvl_estimated = fetch_uniswap_v3_pool_tvl(\n",
    "    pool,\n",
    "    quote_token=usdc,\n",
    "    block_identifier=block_estimated,\n",
    ")\n",
    "\n",
    "tvl_executed = fetch_uniswap_v3_pool_tvl(\n",
    "    pool,\n",
    "    quote_token=usdc,\n",
    "    block_identifier=block_executed,\n",
    ")"
   ]
  },
  {
   "cell_type": "code",
   "execution_count": 11,
   "id": "e02063b6-9cfb-4009-8c07-de458d6f3009",
   "metadata": {},
   "outputs": [
    {
     "name": "stdout",
     "output_type": "stream",
     "text": [
      "WMATIC sold 14.975601230579683413\n",
      "TVL during estimation: 1,374,295.809959 USDC at block 45,583,631\n",
      "TVL during execution: 1,355,838.72488 USDC\n",
      "Mid price when estimate at block 45,583,631 USDC/MATIC: 0.7216023581735985287177816387\n",
      "Mid price at the time of execution at block 45,583,635 USDC/MATIC: 0.7207369979310647947262107823\n",
      "Mid price movement -0.12%\n"
     ]
    }
   ],
   "source": [
    "print(f\"WMATIC sold {wmatic_amount}\")\n",
    "print(f\"TVL during estimation: {tvl_estimated:,} USDC at block {block_estimated:,}\")\n",
    "print(f\"TVL during execution: {tvl_executed:,} USDC\")\n",
    "print(f\"Mid price when estimate at block {block_estimated:,} USDC/MATIC:\", mid_price_estimated)\n",
    "print(f\"Mid price at the time of execution at block {block_executed:,} USDC/MATIC:\", mid_price_executed)\n",
    "print(f\"Mid price movement {(mid_price_executed - mid_price_estimated) / mid_price_estimated * 100:.2f}%\")"
   ]
  },
  {
   "cell_type": "code",
   "execution_count": 12,
   "id": "e26ea800-ee27-439d-a1c5-76707ef07fd6",
   "metadata": {},
   "outputs": [
    {
     "name": "stdout",
     "output_type": "stream",
     "text": [
      "Estimated received quantity: 10.801033 USDC\n",
      "Executed received quantity: 10.788466 USDC\n",
      "Executed sell price: 0.7204028628894250017169619222 USDC/MATIC\n",
      "Executed price impact (includes fees) -0.05%\n",
      "Slippage -0.12%\n"
     ]
    }
   ],
   "source": [
    "# Uniswap v3 deployment addresses are the same across the chains\n",
    "# https://docs.uniswap.org/contracts/v3/reference/deployments\n",
    "uniswap = fetch_deployment(\n",
    "    web3,\n",
    "    \"0x1F98431c8aD98523631AE4a59f267346ea31F984\",\n",
    "    \"0xE592427A0AEce92De3Edee1F18E0157C05861564\",\n",
    "    \"0xC36442b4a4522E871399CD717aBDD847Ab11FE88\",\n",
    "    \"0xb27308f9F90D607463bb33eA1BeBb41C27CE5AB6\",\n",
    ")\n",
    "\n",
    "# Get the amount of price impact\n",
    "estimated_sell_raw = estimate_sell_received_amount(\n",
    "    uniswap,\n",
    "    base_token_address=wmatic_address,\n",
    "    quote_token_address=usdc_address,\n",
    "    quantity=wmatic_amount_raw,\n",
    "    target_pair_fee=int(fee_tier * 1_000_000),\n",
    "    block_identifier=block_estimated,\n",
    "    slippage=0,\n",
    ")\n",
    "estimated_sell = usdc.convert_to_decimals(estimated_sell_raw)\n",
    "\n",
    "print(f\"Estimated received quantity: {estimated_sell} USDC\")\n",
    "\n",
    "executed_sell_raw = estimate_sell_received_amount(\n",
    "    uniswap,\n",
    "    base_token_address=wmatic_address,\n",
    "    quote_token_address=usdc_address,\n",
    "    quantity=wmatic_amount_raw,\n",
    "    target_pair_fee=int(fee_tier * 1_000_000),\n",
    "    block_identifier=block_executed,\n",
    "    slippage=0,\n",
    ")\n",
    "executed_sell = usdc.convert_to_decimals(executed_sell_raw)\n",
    "\n",
    "executed_sell_price = executed_sell / wmatic_amount\n",
    "\n",
    "print(f\"Executed received quantity: {executed_sell} USDC\")\n",
    "print(f\"Executed sell price: {executed_sell_price} USDC/MATIC\")\n",
    "print(f\"Executed price impact (includes fees) {(executed_sell_price - mid_price_executed) / mid_price_executed * 100:.2f}%\")\n",
    "print(f\"Slippage {(executed_sell - estimated_sell) / estimated_sell * 100:.2f}%\")"
   ]
  }
 ],
 "metadata": {
  "kernelspec": {
   "display_name": "Python 3 (ipykernel)",
   "language": "python",
   "name": "python3"
  },
  "language_info": {
   "codemirror_mode": {
    "name": "ipython",
    "version": 3
   },
   "file_extension": ".py",
   "mimetype": "text/x-python",
   "name": "python",
   "nbconvert_exporter": "python",
   "pygments_lexer": "ipython3",
   "version": "3.10.0rc2"
  }
 },
 "nbformat": 4,
 "nbformat_minor": 5
}
