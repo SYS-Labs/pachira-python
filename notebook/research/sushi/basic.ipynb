{
 "cells": [
  {
   "cell_type": "code",
   "execution_count": 1,
   "id": "a148351b-799c-4ed4-a599-a3d58b02368d",
   "metadata": {},
   "outputs": [],
   "source": [
    "import os\n",
    "import time\n",
    "\n",
    "from web3 import HTTPProvider, Web3\n",
    "\n",
    "from eth_defi.abi import get_contract\n",
    "from eth_defi.chain import install_chain_middleware\n",
    "from eth_defi.event_reader.filter import Filter\n",
    "from eth_defi.event_reader.reader import read_events, LogResult\n",
    "from eth_defi.event_reader.reorganisation_monitor import JSONRPCReorganisationMonitor"
   ]
  },
  {
   "cell_type": "code",
   "execution_count": 2,
   "id": "7d19f260-8c5e-48d9-9f4d-b4042a077351",
   "metadata": {},
   "outputs": [],
   "source": [
    "from eth_defi.abi import get_contract"
   ]
  },
  {
   "cell_type": "code",
   "execution_count": 3,
   "id": "180933f3-ff43-408e-9923-dbae1dbad49c",
   "metadata": {},
   "outputs": [],
   "source": [
    "json_rpc_url = os.environ.get(\"JSON_RPC_POLYGON\", \"https://polygon-rpc.com\")\n",
    "web3 = Web3(HTTPProvider(json_rpc_url))\n",
    "web3.middleware_onion.clear()\n",
    "install_chain_middleware(web3)\n",
    "\n",
    "# Get contracts\n",
    "Pair = get_contract(web3, \"sushi/UniswapV2Pair.json\")\n",
    "filter = Filter.create_filter(address=None, event_types=[Pair.events.Swap])  # Listen events from any smart contract"
   ]
  },
  {
   "cell_type": "code",
   "execution_count": 4,
   "id": "1587f11b-1491-4360-94e1-47c76bc91516",
   "metadata": {},
   "outputs": [],
   "source": [
    "reorg_mon = JSONRPCReorganisationMonitor(web3, check_depth=3)\n",
    "# Get the headers of last 5 blocks before starting\n",
    "reorg_mon.load_initial_block_headers(block_count=5)\n",
    "processed_events = set()\n",
    "latest_block = reorg_mon.get_last_block_live()\n",
    "chain_reorg_resolution = reorg_mon.update_chain()\n",
    "start, end = chain_reorg_resolution.get_read_range()"
   ]
  },
  {
   "cell_type": "code",
   "execution_count": 5,
   "id": "3a65b330-0bb9-4b2a-82a5-9976ac48d1e3",
   "metadata": {},
   "outputs": [],
   "source": [
    "start = start - 10"
   ]
  },
  {
   "cell_type": "code",
   "execution_count": 6,
   "id": "d7ff28ff-f764-4525-ad66-0c05b8e57a16",
   "metadata": {},
   "outputs": [],
   "source": [
    "from eth_defi.event_reader.conversion import decode_data, convert_uint256_hex_string_to_address, convert_uint256_bytes_to_address, convert_int256_bytes_to_int"
   ]
  },
  {
   "cell_type": "code",
   "execution_count": 7,
   "id": "757f7ca1-2e4f-427d-a497-7d9dd42d8838",
   "metadata": {},
   "outputs": [
    {
     "name": "stdout",
     "output_type": "stream",
     "text": [
      "Swap at block:61,383,667 tx:0x7d8330927dc69a447078feaa25a2ad55a04e4464eb4786dd4b8cad7be20b972a pair:0x0000000000000000000000000000000000000000\n",
      "Swap at block:61,383,667 tx:0xfab70289f933b4d988e55e3a503908d81c37019942b702d0ff7a8ee3bdbc6af4 pair:0x0000000000000000000000000000000000000000\n",
      "Swap at block:61,383,668 tx:0xf17a345fd5e62c89bd3f60aa47c65c9fea92eced6c26b30d0760fe5a93be0ecc pair:0x0000000000000000000000000000000000000000\n",
      "Swap at block:61,383,673 tx:0x555c3f41edc0d952c73dfa1612d302a173b9e07fd57dd5e05353f796de52c245 pair:0x0000000000000000000000002eAb5efAcD603714\n",
      "Swap at block:61,383,674 tx:0xda487c1b7d30be6a691f8b01ecbd04f7a2f8baad51b401062a5df5310fcd88f6 pair:0x00000000000000000000000089f5358C4d088700\n",
      "Swap at block:61,383,675 tx:0x45733703a2834a6ec232415560ce2a4aa130633d3193e4b92e2b202ceb1eb8b4 pair:0x000000000000000000000000000000000004ff1b\n",
      ".\n"
     ]
    }
   ],
   "source": [
    "events = []\n",
    "\n",
    "evt: LogResult\n",
    "for evt in read_events(\n",
    "            web3,\n",
    "            start_block=start,\n",
    "            end_block=end,\n",
    "            filter=filter,\n",
    "):\n",
    "    events.append(evt)\n",
    "    # How to uniquely identify EVM logs\n",
    "    key = evt[\"blockHash\"] + evt[\"transactionHash\"] + evt[\"logIndex\"]\n",
    "\n",
    "    arguments = decode_data(evt[\"data\"])\n",
    "    topics = evt[\"topics\"]\n",
    "    token0 = convert_uint256_hex_string_to_address(topics[1])\n",
    "    token1 = convert_uint256_hex_string_to_address(topics[2])\n",
    "    pair_address = convert_uint256_bytes_to_address(arguments[0])\n",
    "    pair_id = convert_int256_bytes_to_int(arguments[1])\n",
    "    \n",
    "    # The reader may cause duplicate events as the chain tip reorganises\n",
    "    if key not in processed_events:\n",
    "        print(f\"Swap at block:{evt['blockNumber']:,} tx:{evt['transactionHash']} pair:{pair_address}\")\n",
    "        processed_events.add(key)\n",
    "else:\n",
    "    print(\".\")"
   ]
  },
  {
   "cell_type": "code",
   "execution_count": 8,
   "id": "e0790f66-caf4-47ef-a309-8e4f20a85660",
   "metadata": {},
   "outputs": [
    {
     "data": {
      "text/plain": [
       "{'chain': 'polygon',\n",
       " 'address': '0x032d86f50ee9c0c361f268bd7c08013465e29968',\n",
       " 'tx_hash': '0xf17a345fd5e62c89bd3f60aa47c65c9fea92eced6c26b30d0760fe5a93be0ecc',\n",
       " 'blk_num': 61383668,\n",
       " 'timestamp': 1725384791,\n",
       " 'event_type': web3._utils.datatypes.Swap,\n",
       " 'event_details': {'token0': '0xa5E0829CaCEd8fFDD4De3c43696c57F7D7A678ff',\n",
       "  'token1': '0x8E1c68Ba7f6737E42f9f7CB39a20DF284EC58cf8',\n",
       "  'amount0In': 0,\n",
       "  'amount1Out': 0}}"
      ]
     },
     "execution_count": 8,
     "metadata": {},
     "output_type": "execute_result"
    }
   ],
   "source": [
    "evt = events[2]\n",
    "\n",
    "arguments = decode_data(evt[\"data\"])\n",
    "topics = evt[\"topics\"]\n",
    "\n",
    "event = {}\n",
    "event['chain'] = 'polygon'\n",
    "event['address'] = evt[\"address\"]\n",
    "event['tx_hash'] = evt[\"transactionHash\"]\n",
    "event['blk_num'] = evt[\"blockNumber\"]\n",
    "event['timestamp'] = evt[\"timestamp\"]\n",
    "event['event_type'] = evt[\"event\"]\n",
    "event['event_details'] = {}\n",
    "event['event_details']['token0'] = convert_uint256_hex_string_to_address(topics[1])\n",
    "event['event_details']['token1'] = convert_uint256_hex_string_to_address(topics[2])\n",
    "event['event_details']['amount0In'] = convert_int256_bytes_to_int(arguments[0]) \n",
    "event['event_details']['amount1Out'] = convert_int256_bytes_to_int(arguments[3]) \n",
    "\n",
    "event"
   ]
  }
 ],
 "metadata": {
  "kernelspec": {
   "display_name": "Python 3 (ipykernel)",
   "language": "python",
   "name": "python3"
  },
  "language_info": {
   "codemirror_mode": {
    "name": "ipython",
    "version": 3
   },
   "file_extension": ".py",
   "mimetype": "text/x-python",
   "name": "python",
   "nbconvert_exporter": "python",
   "pygments_lexer": "ipython3",
   "version": "3.10.0rc2"
  }
 },
 "nbformat": 4,
 "nbformat_minor": 5
}
