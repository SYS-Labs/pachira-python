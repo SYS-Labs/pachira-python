{
 "cells": [
  {
   "cell_type": "markdown",
   "id": "b2051578-46b2-4ff6-94e1-8824c3024955",
   "metadata": {},
   "source": [
    "* https://web3-ethereum-defi.readthedocs.io/tutorials/uniswap-v3-liquidity-analysis.html\n",
    "* https://web3-ethereum-defi.readthedocs.io/tutorials/index.html"
   ]
  },
  {
   "cell_type": "code",
   "execution_count": 7,
   "id": "7af0be6d-e318-4ec6-a1b6-02a359aca404",
   "metadata": {},
   "outputs": [],
   "source": [
    "import os\n",
    "import time\n",
    "\n",
    "from web3 import HTTPProvider, Web3\n",
    "\n",
    "from eth_defi.abi import get_contract\n",
    "from eth_defi.chain import install_chain_middleware\n",
    "from eth_defi.event_reader.filter import Filter\n",
    "from eth_defi.event_reader.reader import read_events, LogResult\n",
    "from eth_defi.event_reader.reorganisation_monitor import JSONRPCReorganisationMonitor"
   ]
  },
  {
   "cell_type": "code",
   "execution_count": 9,
   "id": "00be283c-6693-486b-8093-395916bc1623",
   "metadata": {},
   "outputs": [],
   "source": [
    "json_rpc_url = os.environ.get(\"JSON_RPC_POLYGON\", \"https://polygon-rpc.com\")\n",
    "web3 = Web3(HTTPProvider(json_rpc_url))\n",
    "web3.middleware_onion.clear()\n",
    "install_chain_middleware(web3)\n",
    "\n",
    "# Get contracts\n",
    "Pair = get_contract(web3, \"sushi/UniswapV2Pair.json\")\n",
    "\n",
    "filter = Filter.create_filter(address=None, event_types=[Pair.events.Swap])  # Listen events from any smart contract\n",
    "\n",
    "reorg_mon = JSONRPCReorganisationMonitor(web3, check_depth=3)\n",
    "\n",
    "reorg_mon.load_initial_block_headers(block_count=5)\n",
    "\n",
    "processed_events = set()\n",
    "\n",
    "latest_block = reorg_mon.get_last_block_live()"
   ]
  },
  {
   "cell_type": "code",
   "execution_count": 10,
   "id": "b5c2eb08-257e-4a17-a19e-6a9de9188acb",
   "metadata": {},
   "outputs": [
    {
     "name": "stderr",
     "output_type": "stream",
     "text": [
      "2024-08-01 13:33:51 eth_defi.event_reader.reorganisation_monitor figure_reorganisation_and_new_blocks(), range 60,079,539 - 60,079,581, last block we have is 60,079,542, check depth is 3\n"
     ]
    },
    {
     "name": "stdout",
     "output_type": "stream",
     "text": [
      "Swap at block:60,079,543 tx:0x8ccb0eb0d43830dbbc593fbf7ac896c0342d2e709201fe45aaec921a1dd5afde\n",
      "Swap at block:60,079,543 tx:0x6411a6396b72fca44bb7ce1a6ba03a010b2c2e69ad10e82e5b8b173b2589e446\n",
      "Swap at block:60,079,544 tx:0xd149a5600821fb25f82e262f942ebfcbb1ea1b832b1aaa6c9fea4ac6b41a690e\n",
      "Swap at block:60,079,546 tx:0x41043aedb069a8045d098fbd7ac32450785921bae15bfa3a1321d0d7aec26d42\n",
      "Swap at block:60,079,548 tx:0x9cb25eaa325bc80d31dc5cdc4f4c2b9859a2ac0b37d4dc9432a5b1c265efa438\n",
      "Swap at block:60,079,548 tx:0x6ce59822854d1933a8f42b4d277eedc7137402e3c2e866a85f711c4f05cc65fc\n",
      "Swap at block:60,079,549 tx:0x466698e1f18c32d38a5d9269fc014a68b078b90095c01dd5d56bbbcea08d8aab\n",
      "Swap at block:60,079,549 tx:0x89f715a681e7eb496dd9a894d0559a65891ae73f8b076d9e875925aecd3003e5\n",
      "Swap at block:60,079,549 tx:0xd3753c11ae1fb02ec731b250fbe8ca7115e4142d6934267e40e2e122c4ba5495\n",
      "Swap at block:60,079,550 tx:0x19d5d7aa45604204705875271b4c4b54a269eb561e5be90cdbd72cd4870489ef\n",
      "Swap at block:60,079,551 tx:0x423752a99ef04f87bcec3c68eb63d5fffb0b37c34acad32cc39653deaa256364\n",
      "Swap at block:60,079,551 tx:0x9b47b26e521d4f8c1c403d5277a2b68944d5ba6533cd2c6f4d251bd833a101fb\n",
      "Swap at block:60,079,553 tx:0x704ad364c44a2466ed908c9d622fdb9ac5003f76f87d686f86512b50d8288c1f\n",
      "Swap at block:60,079,555 tx:0x015f792552cc1bb0c633cfa25fb4651721882730312daee200568dcafaf10384\n",
      "Swap at block:60,079,555 tx:0x684da83ec9de4d2042bf4035f9468edfab5186eb456144459ad021b17f7fbd0c\n",
      "Swap at block:60,079,555 tx:0x8cc756ea1d3f59b1604a6517c10af3ecc047ac7d7c0d555ab541cc8ffb369a38\n",
      "Swap at block:60,079,555 tx:0x8cc756ea1d3f59b1604a6517c10af3ecc047ac7d7c0d555ab541cc8ffb369a38\n",
      "Swap at block:60,079,555 tx:0x76af49f9fd237f5acd9ae121161ab7d0d93390202979b1ba5b298d8bff6bf571\n",
      "Swap at block:60,079,557 tx:0x0843bb48501bc6d0fae3f1eb75d682b009f163394fe490610055dd5cf034e0c4\n",
      "Swap at block:60,079,557 tx:0x078925962f1cf4609be2206d49322edd8fda407c38f86f2784339f430b830549\n",
      "Swap at block:60,079,559 tx:0x35313a0ab5d1a5cdb5e08006500c9f02b60b255d62fee5be402dc2075df98185\n",
      "Swap at block:60,079,560 tx:0xfaff1f579f360640269a79e6422837ffc78a13ac62765ad5183a67a584c395ce\n",
      "Swap at block:60,079,562 tx:0x673c826dacd4e384b7efdce2a4a47cffbc4ed0ab62c02be8de1f6b14c0998b34\n",
      "Swap at block:60,079,563 tx:0x16b22fc14e159b2ccf6751905dca1416d268ce943a14a79d4ceb2d9e9ccb9c53\n",
      "Swap at block:60,079,565 tx:0xe89a537e40a78d5576cac52de64c1f18f7af5322ed1c714ef2507c1d02008f2c\n",
      "Swap at block:60,079,565 tx:0xe89a537e40a78d5576cac52de64c1f18f7af5322ed1c714ef2507c1d02008f2c\n",
      "Swap at block:60,079,565 tx:0xe89a537e40a78d5576cac52de64c1f18f7af5322ed1c714ef2507c1d02008f2c\n",
      "Swap at block:60,079,565 tx:0xca2059d9e777d1c73be6486aa51427abd7b3b2e67193e6f7076d0af48bd411fe\n",
      "Swap at block:60,079,566 tx:0x28ec9d1d84154561fa72cf0cc0f59694167624bc9c8a7b5a8c6e0ca702d7d027\n",
      "Swap at block:60,079,567 tx:0xc987bf1e770211e74dd926f179120b8717c950d532513d8ea05b3a3b097e32b2\n",
      "Swap at block:60,079,570 tx:0xe562833905413279b6d5d8a4117203688667a5d5109c483852212549c64c436e\n",
      "Swap at block:60,079,571 tx:0xc7959ca90ee926b230bb339881ab88d575cfde14b743940d10c0eba9fb337a6e\n",
      "Swap at block:60,079,575 tx:0x01163878eef49e61a210dbd12ad9a1f2cc7dbae5f9f0a09b6f92bb2b2d94257e\n",
      "Swap at block:60,079,576 tx:0xae4540bc89a502b48dbbaec3d32117dd4571e4896d78f6cc5118fc0aeaabc8db\n",
      "Swap at block:60,079,576 tx:0x6fccf3515369e324f55a165f29559145cc6eae6d86c6ce8fd317ce18530613cb\n",
      "Swap at block:60,079,578 tx:0xe4d95c29046939ee29d9b0d1ab0ee8988481337178a17ed9ed83181e3cfc60b3\n",
      "Swap at block:60,079,578 tx:0xe4d95c29046939ee29d9b0d1ab0ee8988481337178a17ed9ed83181e3cfc60b3\n",
      "Swap at block:60,079,578 tx:0xe4d95c29046939ee29d9b0d1ab0ee8988481337178a17ed9ed83181e3cfc60b3\n",
      "Swap at block:60,079,578 tx:0xe4d95c29046939ee29d9b0d1ab0ee8988481337178a17ed9ed83181e3cfc60b3\n",
      "Swap at block:60,079,578 tx:0xe4d95c29046939ee29d9b0d1ab0ee8988481337178a17ed9ed83181e3cfc60b3\n",
      "Swap at block:60,079,578 tx:0xe4d95c29046939ee29d9b0d1ab0ee8988481337178a17ed9ed83181e3cfc60b3\n",
      "Swap at block:60,079,578 tx:0x8ce11b4321c162addd57952fc0041c989f2b3d1e0734724149f25f3441f5dacc\n",
      "Swap at block:60,079,578 tx:0x8ce11b4321c162addd57952fc0041c989f2b3d1e0734724149f25f3441f5dacc\n",
      "Swap at block:60,079,578 tx:0xa7b9de22f59e95f39ed97df5621ab0568ae437d64402910684d36450008857c4\n",
      "Swap at block:60,079,578 tx:0xa7b9de22f59e95f39ed97df5621ab0568ae437d64402910684d36450008857c4\n",
      "Swap at block:60,079,578 tx:0xa7b9de22f59e95f39ed97df5621ab0568ae437d64402910684d36450008857c4\n",
      "Swap at block:60,079,578 tx:0x907aae788d9d9c79f39274f960880ca45ada7a4169100a9cf6080fe68cfff423\n",
      "Swap at block:60,079,578 tx:0x907aae788d9d9c79f39274f960880ca45ada7a4169100a9cf6080fe68cfff423\n",
      "Swap at block:60,079,578 tx:0xe585f018ff65532bba458b7ee8b90202e57801e486ed033c73d99c312d0c06e9\n",
      "Swap at block:60,079,578 tx:0xe585f018ff65532bba458b7ee8b90202e57801e486ed033c73d99c312d0c06e9\n",
      "Swap at block:60,079,579 tx:0x45f9302fc8765cd497888af983dfa5b976bdad5d93e705d17d9781b8e8a4650d\n",
      "Swap at block:60,079,579 tx:0x26f718f81c7b9566522639c71339874afd7a4086bdacf919baead8d546c2e114\n",
      "Swap at block:60,079,579 tx:0x26f718f81c7b9566522639c71339874afd7a4086bdacf919baead8d546c2e114\n",
      "Swap at block:60,079,579 tx:0x26f718f81c7b9566522639c71339874afd7a4086bdacf919baead8d546c2e114\n",
      "Swap at block:60,079,581 tx:0x7b62e32c3598494a80739afa4d842aac4dd05bbe5eba04e9179d6323812ebb80\n",
      ".\n",
      "Block 60,079,544 is 0xb8ea88d7a970f62c69b0c4395a3342e1901a698eb4a956d2224e1a87129eb973\n",
      "Block 60,079,545 is 0x793ba6028823ba5c30816aa0eb000c57feb8959fb79ee55cea6f1dfa9549739f\n",
      "Block 60,079,546 is 0x344f779bce6e6cca83110603a1ab5838e86a8c992f72be586cee4c0450197c5d\n",
      "Block 60,079,547 is 0xdc68d40ca9f52401bdce2508fb67f4c6d9fa737582f943c046c88b94f1029e9c\n",
      "Block 60,079,548 is 0x6f7f70acdc26e6e5162f25cd30b894b85e6459335a30338408058cf28e2f961d\n",
      "Block 60,079,549 is 0x9379bef779cd49ae5afa699cf8874ae4cd5c313f26b80f1f9067370f81122321\n",
      "Block 60,079,550 is 0x81a9a219750b97f006fd98f0d957dd8fbff6027d8488254ab40672389fe2d8af\n",
      "Block 60,079,551 is 0x14bd48366f5406803952d935fe1e5ae4e053602c4b5891cbf34155afd0e11b92\n",
      "Block 60,079,552 is 0x309cbd5fd16b3835b721686699c4d76c667f9521b0c20e1ae70fc0d5a2411bb5\n",
      "Block 60,079,553 is 0x003f002f0fdc9ff12474e590e8cf000655e3ac3566ddd953c44fb42860afec6a\n",
      "Block 60,079,554 is 0x1ff4d8c3e6c4859a2c6abe5e8868a40fcabd558c7e2e579e3984d13f6c389d9b\n",
      "Block 60,079,555 is 0x81cd8b715efc5dbdf2d5b3532ae915c35b32cf84cc417138824d1b535f78d759\n",
      "Block 60,079,556 is 0x5efebb675adc102f1fca5cb516f71a7c9e9e11c2d7878de0409b5869f7102765\n",
      "Block 60,079,557 is 0x4abbfef968fe7c04d09b5d59709807826326681465052507828c16e542f53a56\n",
      "Block 60,079,558 is 0xb79b04826ed57d0721bd34e3c0b34c965354c7c8f477a0c33e17e18e7da7e967\n",
      "Block 60,079,559 is 0x3aef69f877083e51c323f8cb40b84758c4a572ca3c961e4e80c8d9f475d9480f\n",
      "Block 60,079,560 is 0xd73c500d36be8790d5fca8c64c63d84ff2eea34f28cbce9ec3cb0cac97d2d6ed\n",
      "Block 60,079,561 is 0xa5b7c1940903e5a4bed33f0be15c566a85ecf3f807013cb9d485728f12257f91\n",
      "Block 60,079,562 is 0x8514562dc9d7dc0e153a81346274d8b78b3c36dc3c0059e5791583c72421a070\n",
      "Block 60,079,563 is 0x63cf75256e683b32c487b5818376f3e84ecf8aeda9d2165d521f267a0744dee8\n",
      "Block 60,079,564 is 0xc8daf5189d1cc656c133504f10b4881a5a971b15376f24318bb26246a095b50f\n",
      "Block 60,079,565 is 0x11a07c2b836d1af6f1add8d426e45949c056255aee57e5945d50fcb854ad258c\n",
      "Block 60,079,566 is 0x6d3d7af9738952d072efa5281e257106ed6cd820b297a14bc22346ca71158781\n",
      "Block 60,079,567 is 0x33704f4325aab2ffe4b3f06ac6dc73f1a1cb2d2d9b2ae9c1359c4e6563e4b703\n",
      "Block 60,079,568 is 0x900c4605bb360d5263ffac3973db0a144a13937c3440e314693252092af43425\n",
      "Block 60,079,569 is 0xb9632ebea0c33c346c2702b78e1b6e1b7f1797d0d92b34feecc781b97d9aee0e\n",
      "Block 60,079,570 is 0x58f3c7fa0e46eeb19c72e53f9c4f54765d96f1cdcac0b526236e4e7c93e3b157\n",
      "Block 60,079,571 is 0x0db8b84c57af2c4f9f6e91ede255b2a3fff0afaf1d5e53d0d8309cf4477bb13f\n",
      "Block 60,079,572 is 0xe7b6160ec5f531873c6cbee2c48507007af6b32ec3ffa250a36b0b444de49818\n",
      "Block 60,079,573 is 0x4720df2d744dbc9bd428a0dc1463a8a79cc742145afcd33c2671bddcd0b82e8c\n",
      "Block 60,079,574 is 0x3756c33d5ab1ea332e1ab424469a46c607e5fe0c66c06b2ed728bbd87ba69cdf\n",
      "Block 60,079,575 is 0x053fa505738d9f8d21e0cfb66c3152da2e2cb746a334eaf8885d77d8e3c02e48\n",
      "Block 60,079,576 is 0xb3861593f22ef295f5d71ae83870ba2f6bb29b4d36a7d5d60f7827c2b6fc3c1a\n",
      "Block 60,079,577 is 0xe123e11d765b96aa10935120fa23f67bfc34e82fe824ae8e943a6028bd738cf5\n",
      "Block 60,079,578 is 0x5ceae6ba83eb839502f0938afea1dc553d624dc908702aa5c01b534c3af8f753\n",
      "Block 60,079,579 is 0xbaeb7a795a13678b8f11ba112eabf7c102b42ac859867b90bb94ed3316fa811e\n",
      "Block 60,079,580 is 0x7beab9311442f2b0ec530105558897d427504ef54319cbdb58b96bdfe38e5c00\n",
      "Block 60,079,581 is 0x2f307591bf8cb620142ca72690658463c8554a53eb4414a661752c1b45a9d4c2\n"
     ]
    },
    {
     "name": "stderr",
     "output_type": "stream",
     "text": [
      "2024-08-01 13:34:20 eth_defi.event_reader.reorganisation_monitor figure_reorganisation_and_new_blocks(), range 60,079,578 - 60,079,594, last block we have is 60,079,581, check depth is 3\n"
     ]
    },
    {
     "name": "stdout",
     "output_type": "stream",
     "text": [
      "Swap at block:60,079,582 tx:0x91dbcb6bad0be5622587328920f40e83f99bf0eb4b3e34d8206ea1360a9ea26f\n",
      "Swap at block:60,079,583 tx:0xd43c5e056595db71699af9cbb9e8f80920804ef918c588c176bff13638784f45\n",
      "Swap at block:60,079,583 tx:0xd43c5e056595db71699af9cbb9e8f80920804ef918c588c176bff13638784f45\n",
      "Swap at block:60,079,588 tx:0x5858d6b0362159d46c6cabf1b667b8083c8ccff87ad73de45a98ff9fcaa4c91f\n",
      "Swap at block:60,079,588 tx:0x5bf1c4570417f4e0bc88e251415da14aeed23763ec9c16ec319d668b11241f2b\n",
      "Swap at block:60,079,588 tx:0x5bf1c4570417f4e0bc88e251415da14aeed23763ec9c16ec319d668b11241f2b\n",
      "Swap at block:60,079,588 tx:0x5bf1c4570417f4e0bc88e251415da14aeed23763ec9c16ec319d668b11241f2b\n",
      "Swap at block:60,079,589 tx:0xb4b8e886ac8fb38f10b12c3063fd834bf59d709dc71dc5919c8055d77910f507\n",
      "Swap at block:60,079,589 tx:0xb4b8e886ac8fb38f10b12c3063fd834bf59d709dc71dc5919c8055d77910f507\n",
      "Swap at block:60,079,589 tx:0xb4b8e886ac8fb38f10b12c3063fd834bf59d709dc71dc5919c8055d77910f507\n",
      "Swap at block:60,079,590 tx:0xc6448326e94e4c1b7316ebc2df4dfb0c7f0acb3fbf55ec91cd6d53e3a0100c8f\n",
      "Swap at block:60,079,590 tx:0x501c67ae9c80bfe19f40242390be6e90403968ccdf480e5f00152fca598eb524\n",
      "Swap at block:60,079,590 tx:0x5dc595e7203e9fb70a269d5c956d4fccaad1a8b112dceaf4a4bebea71fab8d1a\n",
      "Swap at block:60,079,590 tx:0xdabcb5b2037f4acddb9add0d38a25e7e9a607e282da1a0976bbf2a272b65d7d0\n",
      "Swap at block:60,079,590 tx:0xdabcb5b2037f4acddb9add0d38a25e7e9a607e282da1a0976bbf2a272b65d7d0\n",
      "Swap at block:60,079,590 tx:0x3982745978468696a47aead56797a929197f529f49d92b1196fa45824bdcdef0\n",
      "Swap at block:60,079,590 tx:0xee97ca4c81e21ce136e6a21d3799e7028b0ce6182f212f21d94ef989e1d4d752\n",
      "Swap at block:60,079,590 tx:0xee97ca4c81e21ce136e6a21d3799e7028b0ce6182f212f21d94ef989e1d4d752\n",
      "Swap at block:60,079,590 tx:0x7bba1ec6fd1e7d86aafdcd9ca7ae082f78017aa0af3fa01f1006bd82e4c64246\n",
      "Swap at block:60,079,590 tx:0x7bba1ec6fd1e7d86aafdcd9ca7ae082f78017aa0af3fa01f1006bd82e4c64246\n",
      "Swap at block:60,079,590 tx:0xc43ef89f6bc8db64e6dcb6f82bbdcd5a095012dd47f2ef7493da4e24ffd6c784\n",
      "Swap at block:60,079,590 tx:0xc43ef89f6bc8db64e6dcb6f82bbdcd5a095012dd47f2ef7493da4e24ffd6c784\n",
      "Swap at block:60,079,590 tx:0xc43ef89f6bc8db64e6dcb6f82bbdcd5a095012dd47f2ef7493da4e24ffd6c784\n",
      "Swap at block:60,079,591 tx:0x4ef9bd75807b4beb3e4468bac66599b34e50d47e762849685fffa1252ab6bf31\n",
      "Swap at block:60,079,591 tx:0x4ef9bd75807b4beb3e4468bac66599b34e50d47e762849685fffa1252ab6bf31\n",
      "Swap at block:60,079,591 tx:0x4ef9bd75807b4beb3e4468bac66599b34e50d47e762849685fffa1252ab6bf31\n",
      "Swap at block:60,079,592 tx:0x794e197a9526271d070f6d8ea3943a9ce35e33955abb45461c5479ca27ed141b\n",
      "Swap at block:60,079,592 tx:0xd3be1f995b91b471508d9c373dc8221d5dd02f11159e277789c37c055cff7cbf\n",
      "Swap at block:60,079,592 tx:0xd3be1f995b91b471508d9c373dc8221d5dd02f11159e277789c37c055cff7cbf\n",
      "Swap at block:60,079,592 tx:0xa6830f776bb06e932bf871d520e7c77e4420d2c40e99497df3ced5e34ea259a2\n",
      "Swap at block:60,079,592 tx:0x7214efe36d3c72b8553e9918b70cd97ea5e80d617544855d375ee213d7912ce6\n",
      "Swap at block:60,079,592 tx:0xe3ba7bc4eef175ddfeb01af9b7fcca713ac06ccf43ef3418c50e99f02cd0cb6a\n",
      "Swap at block:60,079,592 tx:0xe3ba7bc4eef175ddfeb01af9b7fcca713ac06ccf43ef3418c50e99f02cd0cb6a\n",
      "Swap at block:60,079,594 tx:0xa14064d26c59e2a4df782ecce81b4cef0318d179f736f7c847d1bad034f6e21b\n",
      "Swap at block:60,079,594 tx:0x8376dc47e3d546aeb69c5766ab7d8a8cc4d0b3de26ccdd8562550d20f1f02f3b\n",
      ".\n",
      "Block 60,079,582 is 0xf0a5bb9b751367579cbf7d6adeafdc4b4b35ce2bfb4a240c81f700b06112edd2\n",
      "Block 60,079,583 is 0xc3755464fe3862fe1b7c00988c9a25416245c05c668344fe2a148f2b1781424d\n",
      "Block 60,079,584 is 0xb9e3ab9fb5fe07dc8b3d5b54f25c793a50fa4d88c90a61ef3dfa1f73ae56f429\n",
      "Block 60,079,585 is 0xc3788b7b978fa68bf4a344d1b123408253c4ac845a414f35bbc9fb3d4e252163\n",
      "Block 60,079,586 is 0xce2f9b0756798fdebfd6c8c04cc07fb655b383c1057bcd8063a5e91742a2fe5f\n",
      "Block 60,079,587 is 0xc28ea81b7d4a3210e9762eb501428e1151c4f89bf5ef3d3d8cdd68fd1b44ebdf\n",
      "Block 60,079,588 is 0xf4a4973e093981d2cd4e2e6ee979fb192405a5c102e96a9b701a9300878b962b\n",
      "Block 60,079,589 is 0xf9eabe8fe27d34f4b5f501a03c2ff620fe35ba4fa4f691fc8390656b26516330\n",
      "Block 60,079,590 is 0x0905d84933750d06f071cf776b7d59119ff3c2891f51e4c512050306b5925f8f\n",
      "Block 60,079,591 is 0x6e33dcda8d6f9dfcb5ab7dab36c117c5c325c5debb9a7f15ae1777f3b72958a2\n",
      "Block 60,079,592 is 0x73932e649b730a2064472f833cf169db89a3bdf20a1d4ae761e222176890a256\n",
      "Block 60,079,593 is 0x20b818253914fee0b46f68ad14942a851702b5428fcb1c5b607575ef9d032816\n",
      "Block 60,079,594 is 0xa123a1ffce346f6f7f7553f22a7cd647bafa15dca133c1088d9473a46e584e2a\n"
     ]
    },
    {
     "name": "stderr",
     "output_type": "stream",
     "text": [
      "2024-08-01 13:34:26 eth_defi.event_reader.reorganisation_monitor figure_reorganisation_and_new_blocks(), range 60,079,591 - 60,079,596, last block we have is 60,079,594, check depth is 3\n"
     ]
    },
    {
     "name": "stdout",
     "output_type": "stream",
     "text": [
      "Swap at block:60,079,596 tx:0x177e90c9f93e10c4bc6c8c31f144934c2aad207f1996e5e68b813c1bb6533b03\n",
      "Swap at block:60,079,596 tx:0x8bef3d92cd56635a47e03f9014edf21d4bf6d92d616ad5de92f04b4c198dd755\n",
      "Swap at block:60,079,596 tx:0x8bef3d92cd56635a47e03f9014edf21d4bf6d92d616ad5de92f04b4c198dd755\n",
      "Swap at block:60,079,596 tx:0xad8e731778e2e66aa0f157e8971950ac1833817c9c5beaad61ec2fd417c86c7e\n",
      "Swap at block:60,079,596 tx:0xad8e731778e2e66aa0f157e8971950ac1833817c9c5beaad61ec2fd417c86c7e\n",
      ".\n",
      "Block 60,079,595 is 0x4e82e24ad48099ffb7aacab519cd9a0d55078cc2a92408831677d549db7597ed\n",
      "Block 60,079,596 is 0xbeb8f4eaed779af7c5a8137097f85345467c64249379f09370034cca85e2650c\n"
     ]
    },
    {
     "name": "stderr",
     "output_type": "stream",
     "text": [
      "2024-08-01 13:34:27 eth_defi.event_reader.reorganisation_monitor figure_reorganisation_and_new_blocks(), range 60,079,593 - 60,079,596, last block we have is 60,079,596, check depth is 3\n"
     ]
    },
    {
     "name": "stdout",
     "output_type": "stream",
     "text": [
      ".\n"
     ]
    },
    {
     "name": "stderr",
     "output_type": "stream",
     "text": [
      "2024-08-01 13:34:34 eth_defi.event_reader.reorganisation_monitor figure_reorganisation_and_new_blocks(), range 60,079,593 - 60,079,596, last block we have is 60,079,596, check depth is 3\n"
     ]
    },
    {
     "name": "stdout",
     "output_type": "stream",
     "text": [
      ".\n"
     ]
    },
    {
     "name": "stderr",
     "output_type": "stream",
     "text": [
      "2024-08-01 13:34:35 eth_defi.event_reader.reorganisation_monitor figure_reorganisation_and_new_blocks(), range 60,079,593 - 60,079,596, last block we have is 60,079,596, check depth is 3\n"
     ]
    },
    {
     "name": "stdout",
     "output_type": "stream",
     "text": [
      ".\n"
     ]
    },
    {
     "name": "stderr",
     "output_type": "stream",
     "text": [
      "2024-08-01 13:34:35 eth_defi.event_reader.reorganisation_monitor figure_reorganisation_and_new_blocks(), range 60,079,593 - 60,079,596, last block we have is 60,079,596, check depth is 3\n"
     ]
    },
    {
     "name": "stdout",
     "output_type": "stream",
     "text": [
      ".\n"
     ]
    },
    {
     "name": "stderr",
     "output_type": "stream",
     "text": [
      "2024-08-01 13:34:36 eth_defi.event_reader.reorganisation_monitor figure_reorganisation_and_new_blocks(), range 60,079,593 - 60,079,596, last block we have is 60,079,596, check depth is 3\n"
     ]
    },
    {
     "name": "stdout",
     "output_type": "stream",
     "text": [
      ".\n"
     ]
    },
    {
     "name": "stderr",
     "output_type": "stream",
     "text": [
      "2024-08-01 13:34:37 eth_defi.event_reader.reorganisation_monitor figure_reorganisation_and_new_blocks(), range 60,079,593 - 60,079,600, last block we have is 60,079,596, check depth is 3\n"
     ]
    },
    {
     "name": "stdout",
     "output_type": "stream",
     "text": [
      "Swap at block:60,079,597 tx:0x5291d0d11c2a35451e3c4f26ef71ea57102b57e1a40afb419442365f98677e73\n",
      "Swap at block:60,079,597 tx:0x5291d0d11c2a35451e3c4f26ef71ea57102b57e1a40afb419442365f98677e73\n",
      "Swap at block:60,079,597 tx:0xc0106f44eed3b3811eb887a250f45d2dc4fb57237471d09c68ff17f0d215390e\n",
      "Swap at block:60,079,597 tx:0xc0106f44eed3b3811eb887a250f45d2dc4fb57237471d09c68ff17f0d215390e\n",
      "Swap at block:60,079,598 tx:0x65f4442d61fd2f0187988dc3e2a77c02905be62734c4f2e2fe8b75eb9ac67d7c\n",
      "Swap at block:60,079,599 tx:0x64ad1e8853e2e22540bd43efa2d8642e5e85eb3ff99b4862348534281a8f43a4\n",
      "Swap at block:60,079,599 tx:0x50961e029f8aa0affef1c5dd264c59c90fdff3d9ae2dfa9051cde2911c168e76\n",
      ".\n",
      "Block 60,079,597 is 0x93cc3dc2f32dc859c40e22424a1a88e54a55a8508858c28c24d7b4e3ca083e0b\n",
      "Block 60,079,598 is 0xe66ea1f73baa000f2b3c81026e0c1da9b1bb9bbfdcda6c368fdef9b7ff9aff16\n",
      "Block 60,079,599 is 0xb90ec049993faeb78325351d4d51309f34e877fa7583da10d06d8f8c591b7edf\n",
      "Block 60,079,600 is 0x3130b1fefd13b3798cd2b7086553b9e055855da14ca8061952bf518258e118ab\n"
     ]
    },
    {
     "name": "stderr",
     "output_type": "stream",
     "text": [
      "2024-08-01 13:34:38 eth_defi.event_reader.reorganisation_monitor figure_reorganisation_and_new_blocks(), range 60,079,597 - 60,079,600, last block we have is 60,079,600, check depth is 3\n"
     ]
    },
    {
     "name": "stdout",
     "output_type": "stream",
     "text": [
      ".\n"
     ]
    },
    {
     "name": "stderr",
     "output_type": "stream",
     "text": [
      "2024-08-01 13:34:39 eth_defi.event_reader.reorganisation_monitor figure_reorganisation_and_new_blocks(), range 60,079,597 - 60,079,602, last block we have is 60,079,600, check depth is 3\n"
     ]
    },
    {
     "name": "stdout",
     "output_type": "stream",
     "text": [
      "Swap at block:60,079,601 tx:0x50a07770e65140fb02638d1ffb568ec9729a886569f3f019f7e5df1357963bf8\n",
      "Swap at block:60,079,601 tx:0x4554cc44bbd4750c8d7d2a5e0ae9162dbce5aab3a86850a82e6a3e832879351d\n",
      "Swap at block:60,079,601 tx:0x0645220f0055c37e7edd34e7ecda1a6ff6890f5341c0242af8a2bc2c1644fcaa\n",
      "Swap at block:60,079,601 tx:0x0645220f0055c37e7edd34e7ecda1a6ff6890f5341c0242af8a2bc2c1644fcaa\n",
      "Swap at block:60,079,601 tx:0xf6d98ee705c29d4ee6730e7a9ce19d39ea5738af012179f852dcc0eb741651c3\n",
      "Swap at block:60,079,601 tx:0x843a5a80707bb1d040d8a3157f064c4876e058fad23df71e1642e37aea4d4d56\n",
      "Swap at block:60,079,601 tx:0x843a5a80707bb1d040d8a3157f064c4876e058fad23df71e1642e37aea4d4d56\n",
      "Swap at block:60,079,601 tx:0x843a5a80707bb1d040d8a3157f064c4876e058fad23df71e1642e37aea4d4d56\n",
      "Swap at block:60,079,601 tx:0x81128ac85e940bbee15dbd99f3e99277f1c264c8830bf7ba40148553bc3e8173\n",
      "Swap at block:60,079,601 tx:0xf083651b866e321d489b2696a22972b3692550161f36b5b3c427db0c363f20a1\n",
      "Swap at block:60,079,601 tx:0x34f5ec750dd5b198ccc55a72be7842187e5e2b901e819d5cae21c68d0439c10b\n",
      "Swap at block:60,079,602 tx:0x32e462e30824675d3036ab07830533cc36fd74d1327c35e5c1be60649afe0c30\n",
      ".\n",
      "Block 60,079,601 is 0xdba61ae2f653c303e479569c2cca2031fd7dfe5a54468a6a57db715196be9f3f\n",
      "Block 60,079,602 is 0x932389769aa59601c50a2ebb41a3e534e9f4016b4ac4947fe767c70ecc9e8960\n"
     ]
    },
    {
     "name": "stderr",
     "output_type": "stream",
     "text": [
      "2024-08-01 13:34:40 eth_defi.event_reader.reorganisation_monitor figure_reorganisation_and_new_blocks(), range 60,079,599 - 60,079,602, last block we have is 60,079,602, check depth is 3\n"
     ]
    },
    {
     "name": "stdout",
     "output_type": "stream",
     "text": [
      ".\n"
     ]
    },
    {
     "name": "stderr",
     "output_type": "stream",
     "text": [
      "2024-08-01 13:34:41 eth_defi.event_reader.reorganisation_monitor figure_reorganisation_and_new_blocks(), range 60,079,599 - 60,079,603, last block we have is 60,079,602, check depth is 3\n"
     ]
    },
    {
     "name": "stdout",
     "output_type": "stream",
     "text": [
      "Swap at block:60,079,603 tx:0x9cb52bc8ed6808221e44e9b664c220e4ad2bf840bf2d1b25c708bef7530e5a64\n",
      ".\n",
      "Block 60,079,603 is 0x3b310843ca0b7a85cf29fc00a58d4498389cb0625f69e34bd6225c4a74bf018e\n"
     ]
    },
    {
     "name": "stderr",
     "output_type": "stream",
     "text": [
      "2024-08-01 13:34:41 eth_defi.event_reader.reorganisation_monitor figure_reorganisation_and_new_blocks(), range 60,079,600 - 60,079,603, last block we have is 60,079,603, check depth is 3\n"
     ]
    },
    {
     "name": "stdout",
     "output_type": "stream",
     "text": [
      ".\n"
     ]
    },
    {
     "name": "stderr",
     "output_type": "stream",
     "text": [
      "2024-08-01 13:34:42 eth_defi.event_reader.reorganisation_monitor figure_reorganisation_and_new_blocks(), range 60,079,600 - 60,079,603, last block we have is 60,079,603, check depth is 3\n"
     ]
    },
    {
     "name": "stdout",
     "output_type": "stream",
     "text": [
      ".\n"
     ]
    },
    {
     "name": "stderr",
     "output_type": "stream",
     "text": [
      "2024-08-01 13:34:43 eth_defi.event_reader.reorganisation_monitor figure_reorganisation_and_new_blocks(), range 60,079,600 - 60,079,604, last block we have is 60,079,603, check depth is 3\n"
     ]
    },
    {
     "name": "stdout",
     "output_type": "stream",
     "text": [
      "Swap at block:60,079,604 tx:0x1201a6bd26ae2a76c3702acdc2daceb582f5de2ec8406453b0199fb83a2f61ea\n",
      "Swap at block:60,079,604 tx:0x1201a6bd26ae2a76c3702acdc2daceb582f5de2ec8406453b0199fb83a2f61ea\n",
      "Swap at block:60,079,604 tx:0x1201a6bd26ae2a76c3702acdc2daceb582f5de2ec8406453b0199fb83a2f61ea\n",
      ".\n",
      "Block 60,079,604 is 0x6980a04aea1bc53e0a7d3c207301c88168d0c23d68c7bb5d95a1010368f04780\n"
     ]
    },
    {
     "name": "stderr",
     "output_type": "stream",
     "text": [
      "2024-08-01 13:34:44 eth_defi.event_reader.reorganisation_monitor figure_reorganisation_and_new_blocks(), range 60,079,601 - 60,079,604, last block we have is 60,079,604, check depth is 3\n"
     ]
    },
    {
     "name": "stdout",
     "output_type": "stream",
     "text": [
      ".\n"
     ]
    },
    {
     "name": "stderr",
     "output_type": "stream",
     "text": [
      "2024-08-01 13:34:44 eth_defi.event_reader.reorganisation_monitor figure_reorganisation_and_new_blocks(), range 60,079,601 - 60,079,605, last block we have is 60,079,604, check depth is 3\n"
     ]
    },
    {
     "name": "stdout",
     "output_type": "stream",
     "text": [
      "Swap at block:60,079,605 tx:0x3fb1f5b0edf837af1c07f9759ae2bbb85f8d65f64826d37dcdd910a91f456655\n",
      "Swap at block:60,079,605 tx:0x3fb1f5b0edf837af1c07f9759ae2bbb85f8d65f64826d37dcdd910a91f456655\n",
      ".\n",
      "Block 60,079,605 is 0xe1bfbf2782e72448ce994bde594fcc86c2d84e999e86a1711bcbef0f5a7d9873\n"
     ]
    },
    {
     "name": "stderr",
     "output_type": "stream",
     "text": [
      "2024-08-01 13:34:45 eth_defi.event_reader.reorganisation_monitor figure_reorganisation_and_new_blocks(), range 60,079,602 - 60,079,605, last block we have is 60,079,605, check depth is 3\n"
     ]
    },
    {
     "name": "stdout",
     "output_type": "stream",
     "text": [
      ".\n"
     ]
    },
    {
     "name": "stderr",
     "output_type": "stream",
     "text": [
      "2024-08-01 13:34:46 eth_defi.event_reader.reorganisation_monitor figure_reorganisation_and_new_blocks(), range 60,079,602 - 60,079,605, last block we have is 60,079,605, check depth is 3\n"
     ]
    },
    {
     "name": "stdout",
     "output_type": "stream",
     "text": [
      ".\n"
     ]
    },
    {
     "name": "stderr",
     "output_type": "stream",
     "text": [
      "2024-08-01 13:34:47 eth_defi.event_reader.reorganisation_monitor figure_reorganisation_and_new_blocks(), range 60,079,602 - 60,079,606, last block we have is 60,079,605, check depth is 3\n"
     ]
    },
    {
     "name": "stdout",
     "output_type": "stream",
     "text": [
      "Swap at block:60,079,606 tx:0xb56adf7c22cee6c7d2e2a7327baa9da75bd350105747fa3187f57cd7e066d260\n",
      "Swap at block:60,079,606 tx:0xc837c3e9f3055db74f3db118a7a19abb2211a73cc3dcb90728d9c8b93cb77758\n",
      "Swap at block:60,079,606 tx:0x29b5c2678dc883141e5c00ee8c8c0b882a3221abac344ad9f37aacafecc7e6e1\n",
      "Swap at block:60,079,606 tx:0x7880eecf6755c7e42f59cc2124f1372f2e42f150e8a17dec11cae364975f7534\n",
      ".\n",
      "Block 60,079,606 is 0x596e259557056fdd4c620e1895c94a4d5fbcac7f532c0e62a8f57e680eafb079\n"
     ]
    },
    {
     "name": "stderr",
     "output_type": "stream",
     "text": [
      "2024-08-01 13:34:48 eth_defi.event_reader.reorganisation_monitor figure_reorganisation_and_new_blocks(), range 60,079,603 - 60,079,606, last block we have is 60,079,606, check depth is 3\n"
     ]
    },
    {
     "name": "stdout",
     "output_type": "stream",
     "text": [
      ".\n"
     ]
    },
    {
     "name": "stderr",
     "output_type": "stream",
     "text": [
      "2024-08-01 13:34:49 eth_defi.event_reader.reorganisation_monitor figure_reorganisation_and_new_blocks(), range 60,079,603 - 60,079,607, last block we have is 60,079,606, check depth is 3\n"
     ]
    },
    {
     "name": "stdout",
     "output_type": "stream",
     "text": [
      "Swap at block:60,079,607 tx:0x6653e8af9a938d22c017112df41895fb6df02ac89998ff8bf8326cc811200474\n",
      "Swap at block:60,079,607 tx:0x6653e8af9a938d22c017112df41895fb6df02ac89998ff8bf8326cc811200474\n",
      "Swap at block:60,079,607 tx:0x5123422215f0c9d7c6973c213ff99161b2e81cf5e68c5c98eeab2314c70f901c\n",
      "Swap at block:60,079,607 tx:0x6f16dfb79c2a6a37882bdacddcb36f650f7c03ab6d65c528db30876cc9990822\n",
      "Swap at block:60,079,607 tx:0x6f16dfb79c2a6a37882bdacddcb36f650f7c03ab6d65c528db30876cc9990822\n",
      ".\n",
      "Block 60,079,607 is 0xb937013bbd0469a9c2ceb8be67e2ff590a03e1332ff84b467edff44f50e1bc3a\n"
     ]
    },
    {
     "name": "stderr",
     "output_type": "stream",
     "text": [
      "2024-08-01 13:34:51 eth_defi.event_reader.reorganisation_monitor figure_reorganisation_and_new_blocks(), range 60,079,604 - 60,079,608, last block we have is 60,079,607, check depth is 3\n"
     ]
    },
    {
     "name": "stdout",
     "output_type": "stream",
     "text": [
      ".\n",
      "Block 60,079,608 is 0x9b4b6e235bb9ebf156ffe5a73e09d291906e8caea9cd66fc45f18be9519c8e72\n"
     ]
    },
    {
     "name": "stderr",
     "output_type": "stream",
     "text": [
      "2024-08-01 13:34:52 eth_defi.event_reader.reorganisation_monitor figure_reorganisation_and_new_blocks(), range 60,079,605 - 60,079,608, last block we have is 60,079,608, check depth is 3\n"
     ]
    },
    {
     "name": "stdout",
     "output_type": "stream",
     "text": [
      ".\n"
     ]
    },
    {
     "name": "stderr",
     "output_type": "stream",
     "text": [
      "2024-08-01 13:34:53 eth_defi.event_reader.reorganisation_monitor figure_reorganisation_and_new_blocks(), range 60,079,605 - 60,079,608, last block we have is 60,079,608, check depth is 3\n"
     ]
    },
    {
     "name": "stdout",
     "output_type": "stream",
     "text": [
      ".\n"
     ]
    },
    {
     "name": "stderr",
     "output_type": "stream",
     "text": [
      "2024-08-01 13:34:53 eth_defi.event_reader.reorganisation_monitor figure_reorganisation_and_new_blocks(), range 60,079,605 - 60,079,608, last block we have is 60,079,608, check depth is 3\n"
     ]
    },
    {
     "name": "stdout",
     "output_type": "stream",
     "text": [
      ".\n"
     ]
    },
    {
     "name": "stderr",
     "output_type": "stream",
     "text": [
      "2024-08-01 13:34:54 eth_defi.event_reader.reorganisation_monitor figure_reorganisation_and_new_blocks(), range 60,079,605 - 60,079,608, last block we have is 60,079,608, check depth is 3\n"
     ]
    },
    {
     "name": "stdout",
     "output_type": "stream",
     "text": [
      ".\n"
     ]
    },
    {
     "name": "stderr",
     "output_type": "stream",
     "text": [
      "2024-08-01 13:34:55 eth_defi.event_reader.reorganisation_monitor figure_reorganisation_and_new_blocks(), range 60,079,605 - 60,079,608, last block we have is 60,079,608, check depth is 3\n"
     ]
    },
    {
     "name": "stdout",
     "output_type": "stream",
     "text": [
      ".\n"
     ]
    },
    {
     "name": "stderr",
     "output_type": "stream",
     "text": [
      "2024-08-01 13:34:55 eth_defi.event_reader.reorganisation_monitor figure_reorganisation_and_new_blocks(), range 60,079,605 - 60,079,610, last block we have is 60,079,608, check depth is 3\n"
     ]
    },
    {
     "name": "stdout",
     "output_type": "stream",
     "text": [
      ".\n",
      "Block 60,079,609 is 0xc39d65d026be08d955d23e3c2a9755b306dffe83e54a2ada37ebfde009d36e99\n",
      "Block 60,079,610 is 0xe5d45cf7dfe2646d6469c4b972ceb322bc1725b0af32375a11dd40df6ab1834f\n"
     ]
    },
    {
     "name": "stderr",
     "output_type": "stream",
     "text": [
      "2024-08-01 13:34:57 eth_defi.event_reader.reorganisation_monitor figure_reorganisation_and_new_blocks(), range 60,079,607 - 60,079,610, last block we have is 60,079,610, check depth is 3\n"
     ]
    },
    {
     "name": "stdout",
     "output_type": "stream",
     "text": [
      ".\n"
     ]
    },
    {
     "name": "stderr",
     "output_type": "stream",
     "text": [
      "2024-08-01 13:34:58 eth_defi.event_reader.reorganisation_monitor figure_reorganisation_and_new_blocks(), range 60,079,607 - 60,079,611, last block we have is 60,079,610, check depth is 3\n"
     ]
    },
    {
     "name": "stdout",
     "output_type": "stream",
     "text": [
      ".\n",
      "Block 60,079,611 is 0x23455ead6ca4222a747ca0acb60364f9cb94eb39bf4793cddc921a2ce3091ca7\n"
     ]
    },
    {
     "name": "stderr",
     "output_type": "stream",
     "text": [
      "2024-08-01 13:34:59 eth_defi.event_reader.reorganisation_monitor figure_reorganisation_and_new_blocks(), range 60,079,608 - 60,079,611, last block we have is 60,079,611, check depth is 3\n"
     ]
    },
    {
     "name": "stdout",
     "output_type": "stream",
     "text": [
      ".\n"
     ]
    },
    {
     "name": "stderr",
     "output_type": "stream",
     "text": [
      "2024-08-01 13:35:00 eth_defi.event_reader.reorganisation_monitor figure_reorganisation_and_new_blocks(), range 60,079,608 - 60,079,612, last block we have is 60,079,611, check depth is 3\n"
     ]
    },
    {
     "name": "stdout",
     "output_type": "stream",
     "text": [
      "Swap at block:60,079,612 tx:0xdb267863b688ec029254cb080fea2ffa015484ff8031b4421af1cccaea35bd2a\n",
      ".\n",
      "Block 60,079,612 is 0xc171007bd85bb109ba0630032d9fab0650b6c5fba1e093727842d3f209b351ae\n"
     ]
    },
    {
     "name": "stderr",
     "output_type": "stream",
     "text": [
      "2024-08-01 13:35:01 eth_defi.event_reader.reorganisation_monitor figure_reorganisation_and_new_blocks(), range 60,079,609 - 60,079,613, last block we have is 60,079,612, check depth is 3\n"
     ]
    },
    {
     "name": "stdout",
     "output_type": "stream",
     "text": [
      ".\n",
      "Block 60,079,613 is 0x7e4de248dcbf8bbf7b013e9c7f925c6a09d61777096e6f731683d3e41a1c1888\n"
     ]
    },
    {
     "name": "stderr",
     "output_type": "stream",
     "text": [
      "2024-08-01 13:35:02 eth_defi.event_reader.reorganisation_monitor figure_reorganisation_and_new_blocks(), range 60,079,610 - 60,079,613, last block we have is 60,079,613, check depth is 3\n"
     ]
    },
    {
     "name": "stdout",
     "output_type": "stream",
     "text": [
      ".\n"
     ]
    },
    {
     "name": "stderr",
     "output_type": "stream",
     "text": [
      "2024-08-01 13:35:04 eth_defi.event_reader.reorganisation_monitor figure_reorganisation_and_new_blocks(), range 60,079,610 - 60,079,615, last block we have is 60,079,613, check depth is 3\n"
     ]
    },
    {
     "name": "stdout",
     "output_type": "stream",
     "text": [
      ".\n",
      "Block 60,079,614 is 0x4552e898688bb04a7f6411be9a9014012d61bf727540f9823fdaf58d70661650\n",
      "Block 60,079,615 is 0x9b3d0afbc97efff203ace2b86a2787b434a998691399aab4da4dfd708212bb16\n"
     ]
    },
    {
     "name": "stderr",
     "output_type": "stream",
     "text": [
      "2024-08-01 13:35:05 eth_defi.event_reader.reorganisation_monitor figure_reorganisation_and_new_blocks(), range 60,079,612 - 60,079,615, last block we have is 60,079,615, check depth is 3\n"
     ]
    },
    {
     "name": "stdout",
     "output_type": "stream",
     "text": [
      ".\n"
     ]
    },
    {
     "name": "stderr",
     "output_type": "stream",
     "text": [
      "2024-08-01 13:35:06 eth_defi.event_reader.reorganisation_monitor figure_reorganisation_and_new_blocks(), range 60,079,612 - 60,079,615, last block we have is 60,079,615, check depth is 3\n"
     ]
    },
    {
     "name": "stdout",
     "output_type": "stream",
     "text": [
      ".\n"
     ]
    },
    {
     "name": "stderr",
     "output_type": "stream",
     "text": [
      "2024-08-01 13:35:06 eth_defi.event_reader.reorganisation_monitor figure_reorganisation_and_new_blocks(), range 60,079,612 - 60,079,615, last block we have is 60,079,615, check depth is 3\n"
     ]
    },
    {
     "name": "stdout",
     "output_type": "stream",
     "text": [
      ".\n"
     ]
    },
    {
     "name": "stderr",
     "output_type": "stream",
     "text": [
      "2024-08-01 13:35:07 eth_defi.event_reader.reorganisation_monitor figure_reorganisation_and_new_blocks(), range 60,079,612 - 60,079,615, last block we have is 60,079,615, check depth is 3\n"
     ]
    },
    {
     "name": "stdout",
     "output_type": "stream",
     "text": [
      ".\n"
     ]
    },
    {
     "name": "stderr",
     "output_type": "stream",
     "text": [
      "2024-08-01 13:35:08 eth_defi.event_reader.reorganisation_monitor figure_reorganisation_and_new_blocks(), range 60,079,612 - 60,079,616, last block we have is 60,079,615, check depth is 3\n"
     ]
    },
    {
     "name": "stdout",
     "output_type": "stream",
     "text": [
      ".\n",
      "Block 60,079,616 is 0x197173571434e66112afe2acd44dace9e50a3f593facb478c9cb35be35295601\n"
     ]
    },
    {
     "name": "stderr",
     "output_type": "stream",
     "text": [
      "2024-08-01 13:35:09 eth_defi.event_reader.reorganisation_monitor figure_reorganisation_and_new_blocks(), range 60,079,613 - 60,079,616, last block we have is 60,079,616, check depth is 3\n"
     ]
    },
    {
     "name": "stdout",
     "output_type": "stream",
     "text": [
      ".\n"
     ]
    },
    {
     "name": "stderr",
     "output_type": "stream",
     "text": [
      "2024-08-01 13:35:10 eth_defi.event_reader.reorganisation_monitor figure_reorganisation_and_new_blocks(), range 60,079,613 - 60,079,616, last block we have is 60,079,616, check depth is 3\n"
     ]
    },
    {
     "name": "stdout",
     "output_type": "stream",
     "text": [
      ".\n"
     ]
    },
    {
     "name": "stderr",
     "output_type": "stream",
     "text": [
      "2024-08-01 13:35:11 eth_defi.event_reader.reorganisation_monitor figure_reorganisation_and_new_blocks(), range 60,079,613 - 60,079,617, last block we have is 60,079,616, check depth is 3\n"
     ]
    },
    {
     "name": "stdout",
     "output_type": "stream",
     "text": [
      ".\n"
     ]
    },
    {
     "name": "stderr",
     "output_type": "stream",
     "text": [
      "2024-08-01 13:35:13 eth_defi.event_reader.reorganisation_monitor figure_reorganisation_and_new_blocks(), range 60,079,613 - 60,079,619, last block we have is 60,079,616, check depth is 3\n"
     ]
    },
    {
     "name": "stdout",
     "output_type": "stream",
     "text": [
      ".\n"
     ]
    },
    {
     "name": "stderr",
     "output_type": "stream",
     "text": [
      "2024-08-01 13:35:15 eth_defi.event_reader.reorganisation_monitor figure_reorganisation_and_new_blocks(), range 60,079,613 - 60,079,619, last block we have is 60,079,616, check depth is 3\n"
     ]
    },
    {
     "name": "stdout",
     "output_type": "stream",
     "text": [
      ".\n"
     ]
    },
    {
     "name": "stderr",
     "output_type": "stream",
     "text": [
      "2024-08-01 13:35:17 eth_defi.event_reader.reorganisation_monitor figure_reorganisation_and_new_blocks(), range 60,079,613 - 60,079,620, last block we have is 60,079,616, check depth is 3\n"
     ]
    },
    {
     "name": "stdout",
     "output_type": "stream",
     "text": [
      ".\n"
     ]
    },
    {
     "name": "stderr",
     "output_type": "stream",
     "text": [
      "2024-08-01 13:35:19 eth_defi.event_reader.reorganisation_monitor figure_reorganisation_and_new_blocks(), range 60,079,613 - 60,079,621, last block we have is 60,079,616, check depth is 3\n"
     ]
    },
    {
     "name": "stdout",
     "output_type": "stream",
     "text": [
      ".\n",
      "Block 60,079,617 is 0xd8fe0d55ac8f902a1ecb0889c68f93cfc09794b0fa191bfabc96136acd621505\n"
     ]
    },
    {
     "name": "stderr",
     "output_type": "stream",
     "text": [
      "2024-08-01 13:35:21 eth_defi.event_reader.reorganisation_monitor figure_reorganisation_and_new_blocks(), range 60,079,614 - 60,079,622, last block we have is 60,079,617, check depth is 3\n"
     ]
    },
    {
     "name": "stdout",
     "output_type": "stream",
     "text": [
      ".\n"
     ]
    },
    {
     "name": "stderr",
     "output_type": "stream",
     "text": [
      "2024-08-01 13:35:23 eth_defi.event_reader.reorganisation_monitor figure_reorganisation_and_new_blocks(), range 60,079,614 - 60,079,623, last block we have is 60,079,617, check depth is 3\n"
     ]
    },
    {
     "name": "stdout",
     "output_type": "stream",
     "text": [
      ".\n"
     ]
    },
    {
     "name": "stderr",
     "output_type": "stream",
     "text": [
      "2024-08-01 13:35:25 eth_defi.event_reader.reorganisation_monitor figure_reorganisation_and_new_blocks(), range 60,079,614 - 60,079,623, last block we have is 60,079,617, check depth is 3\n"
     ]
    },
    {
     "name": "stdout",
     "output_type": "stream",
     "text": [
      ".\n"
     ]
    },
    {
     "name": "stderr",
     "output_type": "stream",
     "text": [
      "2024-08-01 13:35:27 eth_defi.event_reader.reorganisation_monitor figure_reorganisation_and_new_blocks(), range 60,079,614 - 60,079,625, last block we have is 60,079,617, check depth is 3\n"
     ]
    },
    {
     "name": "stdout",
     "output_type": "stream",
     "text": [
      ".\n"
     ]
    },
    {
     "name": "stderr",
     "output_type": "stream",
     "text": [
      "2024-08-01 13:35:29 eth_defi.event_reader.reorganisation_monitor figure_reorganisation_and_new_blocks(), range 60,079,614 - 60,079,626, last block we have is 60,079,617, check depth is 3\n"
     ]
    },
    {
     "name": "stdout",
     "output_type": "stream",
     "text": [
      ".\n"
     ]
    },
    {
     "name": "stderr",
     "output_type": "stream",
     "text": [
      "2024-08-01 13:35:31 eth_defi.event_reader.reorganisation_monitor figure_reorganisation_and_new_blocks(), range 60,079,614 - 60,079,627, last block we have is 60,079,617, check depth is 3\n"
     ]
    },
    {
     "name": "stdout",
     "output_type": "stream",
     "text": [
      ".\n"
     ]
    },
    {
     "name": "stderr",
     "output_type": "stream",
     "text": [
      "2024-08-01 13:35:33 eth_defi.event_reader.reorganisation_monitor figure_reorganisation_and_new_blocks(), range 60,079,614 - 60,079,628, last block we have is 60,079,617, check depth is 3\n"
     ]
    },
    {
     "name": "stdout",
     "output_type": "stream",
     "text": [
      ".\n"
     ]
    },
    {
     "name": "stderr",
     "output_type": "stream",
     "text": [
      "2024-08-01 13:35:35 eth_defi.event_reader.reorganisation_monitor figure_reorganisation_and_new_blocks(), range 60,079,614 - 60,079,630, last block we have is 60,079,617, check depth is 3\n"
     ]
    },
    {
     "name": "stdout",
     "output_type": "stream",
     "text": [
      "Swap at block:60,079,618 tx:0x5d816c9b2fbed69b278f02bd40b6a89df634801fd82f1135178cbaea250f8118\n",
      "Swap at block:60,079,618 tx:0x978be4b6753bde4b28fe3f517a443ee1b1b7196c27a599595e2243c4be20f3f3\n",
      "Swap at block:60,079,618 tx:0x978be4b6753bde4b28fe3f517a443ee1b1b7196c27a599595e2243c4be20f3f3\n",
      ".\n",
      "Block 60,079,618 is 0x166c26068b0a9049c2b2ee549e26b0d91cdafbed131839469e940500a5fc2e9b\n",
      "Block 60,079,619 is 0x484cb0d66492abf9592c9e56e26cb63494d3eeef95e76c1f55d062a7ae17b50f\n"
     ]
    },
    {
     "name": "stderr",
     "output_type": "stream",
     "text": [
      "2024-08-01 13:35:39 eth_defi.event_reader.reorganisation_monitor figure_reorganisation_and_new_blocks(), range 60,079,616 - 60,079,631, last block we have is 60,079,619, check depth is 3\n"
     ]
    },
    {
     "name": "stdout",
     "output_type": "stream",
     "text": [
      "Swap at block:60,079,620 tx:0xc74dae59f97dff71b1950474ee089f74207605c0dabdf661463e05e1f32e93db\n",
      "Swap at block:60,079,624 tx:0x9aeebf938c24b060f8d1647c0a2d6059ac9cd6f6322eb5ab7359a8e0fd1a4598\n",
      "Swap at block:60,079,624 tx:0xa361d349e1ad31514f45c2d49eb983d7fff141f1ae020f3438350a8f6c7f27b0\n",
      "Swap at block:60,079,624 tx:0xc9ab373d94253b6647fa23165afcc79dd3f28cbb50b8e9b6ad2501c24a68e9e9\n",
      "Swap at block:60,079,625 tx:0x943f2955243feec4c0b6e2b99d2413ea404dc92d6f11c9fb6038c01d8e31b212\n",
      "Swap at block:60,079,627 tx:0x273c2ffc2ae3e91edb2de4f6df09d6d04fb12a9455e3bc12abf004cbb2dff572\n",
      "Swap at block:60,079,627 tx:0xdf08b79300193f53ed64272b077138f76b1c1dc65430d450e9d9346cbfade5b9\n",
      "Swap at block:60,079,628 tx:0x687d49887350a225f5a47d1a6a15ef95f533d5bbb3047d3e6c07fe61d1ac1644\n",
      "Swap at block:60,079,628 tx:0x1b0686e5a4f56e2cf3b625cb08aecc6c477608fa027c9163d0c82f7a59808e83\n",
      "Swap at block:60,079,628 tx:0xbbbbc0fc02ba172c7c27a14b2a31f107bd61cc41cc5059f0ccc167e5ff85ef54\n",
      "Swap at block:60,079,630 tx:0x7cebce64a784e6da67a75736b0cc2a87866913c11f742f823d1304f9c55a5bd3\n",
      "Swap at block:60,079,630 tx:0x61c5800de2c95139799ee29623e97d08a029b93d9b0918cd49aca03a06c09c8a\n",
      "Swap at block:60,079,630 tx:0xbe1b11a4bddf4ec575b03b749def68976bc89942563e031777d94888e9b27a96\n",
      ".\n",
      "Block 60,079,620 is 0x6ecca056bd783f444fca64d1229664a40f2c1a7850d655f14da7d66f3b31661c\n",
      "Block 60,079,621 is 0x575961321a7b0f60a740f28b8d4987005378efeb5148ac6b2375a2d2d60eac22\n",
      "Block 60,079,622 is 0x954288803def6631679e69d0720dae9c7210b53d78edf136b2127657f9c1299d\n",
      "Block 60,079,623 is 0xa16d72c922551f6942259573cd3a2a50c8113b42a756e1981bd7397bfcb69be8\n",
      "Block 60,079,624 is 0x7b69eb293edf759051a870043c9698097da8c702cdbcd07c844d2fa6eb35b875\n",
      "Block 60,079,625 is 0xb6c12bed822e010b22d4e362765d2a520fae5cfa3c6b94e26f941d9b66aa9406\n",
      "Block 60,079,626 is 0x6b6ea19b8e2c6e59ba3d8531fe45cf7420f7580cc4dd1a181782d5ef0d2b8f47\n",
      "Block 60,079,627 is 0x3c8daa41b85efdd441779d27e5d948fd842ae89fd2e641001daba26e9ed53764\n",
      "Block 60,079,628 is 0x4c41154bca2ef4699e950447a511742b90f0894c0a321b23203b98b7ac7ca62c\n",
      "Block 60,079,629 is 0xf6ff57e25931c05544f8df72327b4566949457f750265ab88009ef72c87b63bb\n",
      "Block 60,079,630 is 0x434be2279b15acc046ee75976bb283a73d02b08e2ca791f834c0a6d0b35a3b61\n",
      "Block 60,079,631 is 0x8659ef65dcc8f19ad0f6aa8da17de1021f37b61b071454d0582178d240d42527\n"
     ]
    },
    {
     "name": "stderr",
     "output_type": "stream",
     "text": [
      "2024-08-01 13:35:49 eth_defi.event_reader.reorganisation_monitor figure_reorganisation_and_new_blocks(), range 60,079,628 - 60,079,635, last block we have is 60,079,631, check depth is 3\n"
     ]
    },
    {
     "name": "stdout",
     "output_type": "stream",
     "text": [
      "Swap at block:60,079,634 tx:0x03cb9b7f6637772b3627446b0f050cccb237a2e4ebbfb9e0f5af7c29c26d675a\n",
      "Swap at block:60,079,634 tx:0x5aca231ba0da543b55abe66924a59b68d278b76df862be34ca5696a863f4ed47\n",
      "Swap at block:60,079,634 tx:0x5aca231ba0da543b55abe66924a59b68d278b76df862be34ca5696a863f4ed47\n",
      "Swap at block:60,079,635 tx:0x475d29422c03b5ea0436cc795f0dbcab842b9f95e68ef857bd934aaf4e23c5ec\n",
      ".\n",
      "Block 60,079,632 is 0xbd2ca0ff3ceca2e96a8222b5c91034f354f2a8c43d01f647af89535d58582e81\n",
      "Block 60,079,633 is 0xc9303244bb84a6dfb83db5ceaf95772461e79604b811957ca5dc048b6348c768\n",
      "Block 60,079,634 is 0x0739e900ddc11fef3fb4c7f2e9ef16e0df2094998dea9bf931c5eb0ed4715654\n",
      "Block 60,079,635 is 0x7a48f1558265104c43ae9aa8c62b42ed6d4d3d705643fb62d59241746eede6b6\n"
     ]
    },
    {
     "name": "stderr",
     "output_type": "stream",
     "text": [
      "2024-08-01 13:35:54 eth_defi.event_reader.reorganisation_monitor figure_reorganisation_and_new_blocks(), range 60,079,632 - 60,079,638, last block we have is 60,079,635, check depth is 3\n"
     ]
    },
    {
     "name": "stdout",
     "output_type": "stream",
     "text": [
      "Swap at block:60,079,638 tx:0x40829c30161c74582f329543768a183625fe7543621250d738328b15c48568b4\n",
      ".\n",
      "Block 60,079,636 is 0x25e36a8e4b87833a5c5f096336f10ad4b49d94fc66c54462132040f9bbb4c853\n",
      "Block 60,079,637 is 0x306f14fd03723ca4b3128219c17329277157d0f43cdb5a63e3264704921ee6f3\n",
      "Block 60,079,638 is 0x4d0884a82c0da94e4919c19e2c63f15b6386bf69935d9ec82d7caac270d690e6\n"
     ]
    },
    {
     "name": "stderr",
     "output_type": "stream",
     "text": [
      "2024-08-01 13:35:57 eth_defi.event_reader.reorganisation_monitor figure_reorganisation_and_new_blocks(), range 60,079,635 - 60,079,639, last block we have is 60,079,638, check depth is 3\n"
     ]
    },
    {
     "name": "stdout",
     "output_type": "stream",
     "text": [
      "Swap at block:60,079,639 tx:0xa881e2b7144d0fbc045fcf94d23941fd66f8786b0923cb696fedc384741beec6\n",
      "Swap at block:60,079,639 tx:0x466ee32b3bb06a55d0029aa837c93d53756ede7c057a2d1c60a50bf63be8e466\n",
      "Swap at block:60,079,639 tx:0x466ee32b3bb06a55d0029aa837c93d53756ede7c057a2d1c60a50bf63be8e466\n",
      "Swap at block:60,079,639 tx:0x466ee32b3bb06a55d0029aa837c93d53756ede7c057a2d1c60a50bf63be8e466\n",
      "Swap at block:60,079,639 tx:0x5940a39b33e00869a7f0ad7b823db2d8eb852c6e748257b213ad6e591c891380\n",
      ".\n",
      "Block 60,079,639 is 0x3981b02fb59ed5b027a4f8eee2c32e39623003f5f8e537b3897b049b0d8db474\n"
     ]
    },
    {
     "name": "stderr",
     "output_type": "stream",
     "text": [
      "2024-08-01 13:36:00 eth_defi.event_reader.reorganisation_monitor figure_reorganisation_and_new_blocks(), range 60,079,636 - 60,079,641, last block we have is 60,079,639, check depth is 3\n"
     ]
    },
    {
     "name": "stdout",
     "output_type": "stream",
     "text": [
      ".\n"
     ]
    },
    {
     "name": "stderr",
     "output_type": "stream",
     "text": [
      "2024-08-01 13:36:03 eth_defi.event_reader.reorganisation_monitor figure_reorganisation_and_new_blocks(), range 60,079,636 - 60,079,642, last block we have is 60,079,639, check depth is 3\n"
     ]
    },
    {
     "name": "stdout",
     "output_type": "stream",
     "text": [
      "Swap at block:60,079,640 tx:0xd94e9d2919cc736e08191c6ac9bb2075a34581849f892387f21b2be4d22b64b6\n",
      "Swap at block:60,079,640 tx:0xd94e9d2919cc736e08191c6ac9bb2075a34581849f892387f21b2be4d22b64b6\n",
      "Swap at block:60,079,640 tx:0xf66af8e2073c9736c4e4f4da174496b80d07c5398c270082a9d610a69fd7f8ef\n",
      "Swap at block:60,079,641 tx:0xbd172fcdfcd240a9e2267d4a48e5d3b9d9906cb2d79ec6c465e4dbf4026ee88a\n",
      "Swap at block:60,079,641 tx:0x176380b8be68761431f96963df6698ae2e243e582753f3d438a5ac5d4a39fd07\n",
      "Swap at block:60,079,641 tx:0xa369f14ad8cdf266ea37c4cc9ecdfc2e8a5cf8ad87465dc4f31f84fb74d59d08\n",
      "Swap at block:60,079,641 tx:0xf3dc38ea737e9cd6fe7e0e3a001592bcb65324df69f95d2ae9615d85b73922a6\n",
      "Swap at block:60,079,642 tx:0x21f110d275869b64e0f6adefbd2ccc9f9d8632e584386ec5e78acbcfb208ddbc\n",
      ".\n",
      "Block 60,079,640 is 0xff0fee9a263bc4a569a853601ca99db99536dd5d0807fb426c5a8fb90791359a\n",
      "Block 60,079,641 is 0x021d4d195da548415452317fb69280b4efbe30a0d94754229ee13862917ddd98\n",
      "Block 60,079,642 is 0x089c3d7e3993309863ff66f06044215e354d6f4c400624c4b6087f7e18e45fde\n"
     ]
    },
    {
     "name": "stderr",
     "output_type": "stream",
     "text": [
      "2024-08-01 13:36:07 eth_defi.event_reader.reorganisation_monitor figure_reorganisation_and_new_blocks(), range 60,079,639 - 60,079,644, last block we have is 60,079,642, check depth is 3\n"
     ]
    },
    {
     "name": "stdout",
     "output_type": "stream",
     "text": [
      "Swap at block:60,079,643 tx:0xc5c0f973e2983ce4ae8a86f70d7a0cb3bcab0121f0a9007fbbe821d6176bf81c\n",
      "Swap at block:60,079,643 tx:0x4a550b79f8b25035a21e011198966d2f001598219ac9c6107cac0495c935c290\n",
      "Swap at block:60,079,643 tx:0x0bf83a9a5205a1c39f16de49e15dfbaa521ba11ba6e254bbdac0e8a617a7844a\n",
      "Swap at block:60,079,643 tx:0x6fd05eb8de16b374bc181fc03e5638c8a1c228cbb41bf1de2d24dc92b0d77bf0\n",
      "Swap at block:60,079,643 tx:0x676db9dcc4ffd9aab7a775b61f44412578bbd1ccd0e3c6831a32f1da3ed7ebc8\n",
      "Swap at block:60,079,643 tx:0x3a0f5eb57d37d2bf686976463f85d0713444f480d00163827dd5beca108464f6\n",
      "Swap at block:60,079,643 tx:0x3a0f5eb57d37d2bf686976463f85d0713444f480d00163827dd5beca108464f6\n",
      ".\n",
      "Block 60,079,643 is 0xcf0e38f6a13045e5411737c79f3ade659807b4c60464954f0e9a0eb178cdbf4c\n",
      "Block 60,079,644 is 0x8a977cf0b8ba0a40f971ae6b1a23ede3b7ed0b4af97bf7e788fc4c0b2b908313\n"
     ]
    },
    {
     "name": "stderr",
     "output_type": "stream",
     "text": [
      "2024-08-01 13:36:11 eth_defi.event_reader.reorganisation_monitor figure_reorganisation_and_new_blocks(), range 60,079,641 - 60,079,646, last block we have is 60,079,644, check depth is 3\n"
     ]
    },
    {
     "name": "stdout",
     "output_type": "stream",
     "text": [
      ".\n"
     ]
    },
    {
     "name": "stderr",
     "output_type": "stream",
     "text": [
      "2024-08-01 13:36:12 eth_defi.event_reader.reorganisation_monitor figure_reorganisation_and_new_blocks(), range 60,079,641 - 60,079,647, last block we have is 60,079,644, check depth is 3\n"
     ]
    },
    {
     "name": "stdout",
     "output_type": "stream",
     "text": [
      ".\n"
     ]
    },
    {
     "name": "stderr",
     "output_type": "stream",
     "text": [
      "2024-08-01 13:36:14 eth_defi.event_reader.reorganisation_monitor figure_reorganisation_and_new_blocks(), range 60,079,641 - 60,079,647, last block we have is 60,079,644, check depth is 3\n"
     ]
    },
    {
     "name": "stdout",
     "output_type": "stream",
     "text": [
      "Swap at block:60,079,645 tx:0x4cd549cad0c81b3a6e09c0e7299ab01be25461e6658df4348fe57c4f11ceccbf\n",
      "Swap at block:60,079,645 tx:0xedfa2f758871c49914287fceb8cf1be102daf202cd743462bfbcf117e8bfa8d7\n",
      "Swap at block:60,079,647 tx:0x421bb8f5735fb4399dfab1bd312a64fa099af76e47266ecb43d15b67cdbd90c9\n",
      "Swap at block:60,079,647 tx:0x5fc501cc0a17c1f661e1e7ad453000964377f368005890111acbbc24888b9b68\n",
      "Swap at block:60,079,647 tx:0x2de0c8406a8fa31b38019876d6acf1ca6a7ec40a5efce30fd947baea99504274\n",
      "Swap at block:60,079,647 tx:0xab09ad7c047c12f3c28ff1352eda5bcd6f3b1f61f59cb43fa40d98e29b3ed0dc\n",
      "Swap at block:60,079,647 tx:0x21bf345421d0afd9f9346aae881300502db99aeb5ff36e18eac4381c5f83a9ec\n",
      "Swap at block:60,079,647 tx:0x8eae84107645147588db20e503836dd419931b27d71c6a999bf88cf741db0ca1\n",
      ".\n",
      "Block 60,079,645 is 0xf973c1002bc16b5ea8f850914fa091246e0b04227c468b0fd14209571de3d58d\n",
      "Block 60,079,646 is 0x455d41d616317e711fdf92cbc76113ba20c47a7035c17ba297d950253b448a63\n",
      "Block 60,079,647 is 0xdbc0d52435271c380494ffbeb5a32ff17082d28a212b8898f3ad4fdeb4b49af9\n"
     ]
    },
    {
     "name": "stderr",
     "output_type": "stream",
     "text": [
      "2024-08-01 13:36:17 eth_defi.event_reader.reorganisation_monitor figure_reorganisation_and_new_blocks(), range 60,079,644 - 60,079,648, last block we have is 60,079,647, check depth is 3\n"
     ]
    },
    {
     "name": "stdout",
     "output_type": "stream",
     "text": [
      ".\n",
      "Block 60,079,648 is 0xb7741c3f977ab7048f30a957046458612fc3f4311c2669a686e21cb58d2359b9\n"
     ]
    },
    {
     "name": "stderr",
     "output_type": "stream",
     "text": [
      "2024-08-01 13:36:19 eth_defi.event_reader.reorganisation_monitor figure_reorganisation_and_new_blocks(), range 60,079,645 - 60,079,650, last block we have is 60,079,648, check depth is 3\n"
     ]
    },
    {
     "name": "stdout",
     "output_type": "stream",
     "text": [
      "Swap at block:60,079,649 tx:0x22bc1125d8548de1d5d5bd59c80b21fda1670cfba01e37a44ae58b7acc38b760\n",
      "Swap at block:60,079,649 tx:0x38ade2b42419904b5db00833ff0fbc0de0a47d8909b8280029696a7ef0a7ce94\n",
      "Swap at block:60,079,650 tx:0x11f3303ab8f6b09bb13e0e1e7f7e2ea4d5cd3f3f0bb3ce1a9cce5e7f45360d93\n",
      "Swap at block:60,079,650 tx:0x11f3303ab8f6b09bb13e0e1e7f7e2ea4d5cd3f3f0bb3ce1a9cce5e7f45360d93\n",
      "Swap at block:60,079,650 tx:0xb84484ca8f11ff788a526fdad38b9f134f8ed3951db673dfdc2346f5beb05824\n",
      "Swap at block:60,079,650 tx:0xf79400e71382a60935cd34cd295c795bba2ea837d398cc6c3d28fdd123157c05\n",
      "Swap at block:60,079,650 tx:0xd773485bda1e20f045db6d6a2ac7d0071e090bd472410f0619123259c8142c67\n",
      "Swap at block:60,079,650 tx:0x041a9e8c3797194c7e2624290d3d8f8012b6d064490dc24c4241162b097200a7\n",
      ".\n",
      "Block 60,079,649 is 0xfa16f4cc7ee551f433678526d6848f0130fc247801d5b194ad16aba6ec07499d\n",
      "Block 60,079,650 is 0xc0cdadeed5a3dc4bd9c9088a773fd1dc9b064d3510baabb84101f77693bf7463\n"
     ]
    },
    {
     "name": "stderr",
     "output_type": "stream",
     "text": [
      "2024-08-01 13:36:22 eth_defi.event_reader.reorganisation_monitor figure_reorganisation_and_new_blocks(), range 60,079,647 - 60,079,651, last block we have is 60,079,650, check depth is 3\n"
     ]
    },
    {
     "name": "stdout",
     "output_type": "stream",
     "text": [
      "Swap at block:60,079,651 tx:0x83824aafb42ff5d22c46e7d38c59fe6a3accd6e6b2df8664f29645178b628f02\n",
      "Swap at block:60,079,651 tx:0x8aeec5d889cdef49798cde70d71fae3cd211efd23bd98f6c657697a099971bed\n",
      "Swap at block:60,079,651 tx:0x05ab3bb1f05d5c045df7ddd928e7697311e1ccf56d1c1d2153c44b181b67aad4\n",
      "Swap at block:60,079,651 tx:0x9e79d45c136b656304cac3d400227d415375dbabb285bcce9ee2600afdccb5d2\n",
      "Swap at block:60,079,651 tx:0x3691fae442935721fe1c173a91a26c61ddc53235052461e40fb8c55235c8eab0\n",
      "Swap at block:60,079,651 tx:0x89f09dd59689ef120d9df7e1c06e27019b00829c7fd360d20d1ef0dc8c64a846\n",
      "Swap at block:60,079,651 tx:0xcd071dbe5b36530dd016d9186602259d01b69c3142fb6cd0e893b2d2efd419e8\n",
      "Swap at block:60,079,651 tx:0xcd071dbe5b36530dd016d9186602259d01b69c3142fb6cd0e893b2d2efd419e8\n",
      ".\n",
      "Block 60,079,651 is 0xb2d662e5c214e323e8526978db4cd1a48c8c1450a1b059ea8ab88945899725cb\n"
     ]
    },
    {
     "name": "stderr",
     "output_type": "stream",
     "text": [
      "2024-08-01 13:36:25 eth_defi.event_reader.reorganisation_monitor figure_reorganisation_and_new_blocks(), range 60,079,648 - 60,079,652, last block we have is 60,079,651, check depth is 3\n"
     ]
    },
    {
     "name": "stdout",
     "output_type": "stream",
     "text": [
      "Swap at block:60,079,652 tx:0x7ba0c4f06ac94f311f81620670973716226eda45373123cb1bbc4313f86a68d3\n",
      "Swap at block:60,079,652 tx:0x762a50df157d8f223b0277fb273692b6093f0e31be648611b3784d68b8c68b73\n",
      "Swap at block:60,079,652 tx:0x7a1ecbaa79ebe05232ce35f08c18726a725bc7defd388c8d18480041ea72b29c\n",
      "Swap at block:60,079,652 tx:0x2d9fc75e1585629a45e2d180a1f9049075294de93591b09495218025bac03a46\n",
      "Swap at block:60,079,652 tx:0x952fd51e545c44e3fe3f9ebe5b891c1a1055f5c8a0379f3811f40d083771e3e6\n",
      ".\n",
      "Block 60,079,652 is 0x9d4e66c32cac85b288545d17773174c7184660bb5c363e0c735e7ddb0bab849c\n"
     ]
    },
    {
     "name": "stderr",
     "output_type": "stream",
     "text": [
      "2024-08-01 13:36:27 eth_defi.event_reader.reorganisation_monitor figure_reorganisation_and_new_blocks(), range 60,079,649 - 60,079,653, last block we have is 60,079,652, check depth is 3\n"
     ]
    },
    {
     "name": "stdout",
     "output_type": "stream",
     "text": [
      "Swap at block:60,079,653 tx:0x1d53cc19daf7ca5d83364051f1dc10665e37e676dc2a79e21a3ea896c979cce9\n",
      "Swap at block:60,079,653 tx:0x1c8754ebc5ea1e3115203c965f4fe1cd2b23d5fee11dc274cc8cf3f27a8fbc48\n",
      "Swap at block:60,079,653 tx:0x1c8754ebc5ea1e3115203c965f4fe1cd2b23d5fee11dc274cc8cf3f27a8fbc48\n",
      "Swap at block:60,079,653 tx:0x2be82bea35553deda26987176e07051db021f08d8c65d49eb2c73600cfdd4ede\n",
      "Swap at block:60,079,653 tx:0xb0de0c31b37eac27ea99929f4e307210fe9a2f08a1b6e28afc116e574016e523\n",
      "Swap at block:60,079,653 tx:0xba21dbe79d03349cd7b4ae7b8ed0f1771738b717b2da5b87e30fcc660cc6855c\n",
      "Swap at block:60,079,653 tx:0x73ddfbc8e06beeac4a05ce4cce525fe3288be4642ce257ef7a282f1b4108d7f2\n",
      "Swap at block:60,079,653 tx:0x619663f0a526a423edda53d729438819a11b99596c25351ae8e4c0d7484b7637\n",
      "Swap at block:60,079,653 tx:0x10e8aa62ee6996c791f3315427b6a87ac4d9896cfe9b8d3f5cc133c6ee11745e\n",
      "Swap at block:60,079,653 tx:0x76746a30ed51045ecf900c64b8469d1921748b6c8690fd9c9319ebcfb4e78f77\n",
      "Swap at block:60,079,653 tx:0xe4b5803acf01b32ff5838f80d5f659a672dc8a289d6d068465a6a0a0be4b1112\n",
      "Swap at block:60,079,653 tx:0x82a1eb29ca9e5463f5c53dff26b4722a7acdb1563fa53c9479881363b14b631c\n",
      ".\n",
      "Block 60,079,653 is 0x820fcb13378db7c74c0dbf71c49b6e694641ae7e838caa50c16d6b7e7a339f83\n"
     ]
    },
    {
     "name": "stderr",
     "output_type": "stream",
     "text": [
      "2024-08-01 13:36:30 eth_defi.event_reader.reorganisation_monitor figure_reorganisation_and_new_blocks(), range 60,079,650 - 60,079,655, last block we have is 60,079,653, check depth is 3\n"
     ]
    },
    {
     "name": "stdout",
     "output_type": "stream",
     "text": [
      "Swap at block:60,079,654 tx:0xcc3bf54dd1020d9d181fcf472177d4128157af3cc7cbb6facf10ec337dd02893\n",
      "Swap at block:60,079,654 tx:0xc76732162ed50990718d6a6b8146442f71d3ae0462951d72241fbe8f068d5161\n",
      "Swap at block:60,079,654 tx:0x04396174ed409486eab65ae5230f9b3af4f17fe5ddc7ada28710119eadec911c\n",
      "Swap at block:60,079,654 tx:0x04396174ed409486eab65ae5230f9b3af4f17fe5ddc7ada28710119eadec911c\n",
      "Swap at block:60,079,654 tx:0x3f0d57c8dcd06928f7e62669b8056f88e8e772c3ab6c36f9c16c3189a841c1d0\n",
      "Swap at block:60,079,654 tx:0x3d7018f758fa0584423f4354c7dfc1a4988f02bf6904d1f40801fa305faa76b6\n",
      "Swap at block:60,079,654 tx:0xb79579ff30b76d8bd7622109dd5fa506528ffdfdbefc498ce5c7402df7a5bac5\n",
      "Swap at block:60,079,655 tx:0xe5f9f1ba0e51271c8f0885ef21c89cf4d66dffe68f95a9481071d438559d6530\n",
      "Swap at block:60,079,655 tx:0xa4c23d42e4dffdf543b4a87defc3c26ed323e293a6608f746c1e6fc2ad1635b5\n",
      "Swap at block:60,079,655 tx:0x26de9095ea550eb53247200f940cc600cf28cf975eef6712e6436b269906f8ee\n",
      "Swap at block:60,079,655 tx:0x26de9095ea550eb53247200f940cc600cf28cf975eef6712e6436b269906f8ee\n",
      "Swap at block:60,079,655 tx:0x425af278b0851208e6b3568ef400d8a3f71871bce0847cba4e76cbee27fc4dee\n",
      "Swap at block:60,079,655 tx:0x0087704d009fa81ce5e78db53eaeef49cb163b84770bd2e8fc09da2fb360bf5a\n",
      "Swap at block:60,079,655 tx:0x0087704d009fa81ce5e78db53eaeef49cb163b84770bd2e8fc09da2fb360bf5a\n",
      "Swap at block:60,079,655 tx:0x0087704d009fa81ce5e78db53eaeef49cb163b84770bd2e8fc09da2fb360bf5a\n",
      "Swap at block:60,079,655 tx:0x0087704d009fa81ce5e78db53eaeef49cb163b84770bd2e8fc09da2fb360bf5a\n",
      "Swap at block:60,079,655 tx:0x0087704d009fa81ce5e78db53eaeef49cb163b84770bd2e8fc09da2fb360bf5a\n",
      "Swap at block:60,079,655 tx:0xf6da7c5302319f5a1dc69b4f6a6cae8506f7307fd01fbf17e85c95b7e84207a4\n",
      ".\n",
      "Block 60,079,654 is 0x7d3e23286a453ffe10034872fc2e453e70171c1325234343cb38b8b80a49dfc2\n",
      "Block 60,079,655 is 0xf6902855acb8f0d457e8cea07a39bca7b13684437bd1cc7839323ecbd41cc0f3\n"
     ]
    },
    {
     "name": "stderr",
     "output_type": "stream",
     "text": [
      "2024-08-01 13:36:34 eth_defi.event_reader.reorganisation_monitor figure_reorganisation_and_new_blocks(), range 60,079,652 - 60,079,657, last block we have is 60,079,655, check depth is 3\n"
     ]
    },
    {
     "name": "stdout",
     "output_type": "stream",
     "text": [
      "Swap at block:60,079,656 tx:0xe35527f18523a1c3a0e99b8cfeb25fb83c0e287c12aae87b89abae7e706ea1bc\n",
      "Swap at block:60,079,656 tx:0xe35527f18523a1c3a0e99b8cfeb25fb83c0e287c12aae87b89abae7e706ea1bc\n",
      "Swap at block:60,079,656 tx:0x0607f7d7b856db939b0ad48abae3e3871689d494e918d51ad120245e3c5fdbaf\n",
      "Swap at block:60,079,657 tx:0x888fa0d62b0abcf8a0c7cd9c18649910d0346f4b8d3d8fa11edee98ca06e06af\n",
      "Swap at block:60,079,657 tx:0x7b5483368cd04941da6da2aefc142a97f96549eeaad61e467641ee026a4257bf\n",
      "Swap at block:60,079,657 tx:0xafc658941bdaab70682e5f959118262b4012f7b016c1ab30fc784cbb6f277220\n",
      "Swap at block:60,079,657 tx:0x3233b953722aa91bb37e6dd95cda869fb3b91c9f3d1664452054001b57086236\n",
      "Swap at block:60,079,657 tx:0x9d7aca93800620edb77b6241168c55b94cb24cbd90e3570a7f375951b1b4f0b5\n",
      "Swap at block:60,079,657 tx:0x3d2078ec3b0e8c04f707377fe1046de062b70230751d18e0d0bb25ac3e9d2d0e\n",
      "Swap at block:60,079,657 tx:0x3d2078ec3b0e8c04f707377fe1046de062b70230751d18e0d0bb25ac3e9d2d0e\n",
      "Swap at block:60,079,657 tx:0x3d2078ec3b0e8c04f707377fe1046de062b70230751d18e0d0bb25ac3e9d2d0e\n",
      "Swap at block:60,079,657 tx:0xefba975d709a9f4a3f15a283f26407795eda2dbd5ec6d47c686e5478e5c6cae4\n",
      "Swap at block:60,079,657 tx:0x152ed57bb1bdf10e92e59b16c4c5b7fedf09ed121cc2f6a8c312a4c47527c25c\n",
      ".\n",
      "Block 60,079,656 is 0x3a594d3845092c89ebf84f61e4a320c8de10149a69f90b187a7ef3aa994472ca\n",
      "Block 60,079,657 is 0xbbb3508fbe2399279ec85868153457259bc1008ec817abfb6cae86f87dbdd315\n"
     ]
    },
    {
     "name": "stderr",
     "output_type": "stream",
     "text": [
      "2024-08-01 13:36:37 eth_defi.event_reader.reorganisation_monitor figure_reorganisation_and_new_blocks(), range 60,079,654 - 60,079,658, last block we have is 60,079,657, check depth is 3\n"
     ]
    },
    {
     "name": "stdout",
     "output_type": "stream",
     "text": [
      "Swap at block:60,079,658 tx:0x79179033e2d61406802511b09f1b492d3d80d300099907b554ee822430f7bfb5\n",
      "Swap at block:60,079,658 tx:0x089c45718ac3c7497c0601668afe4db9d2e70c20903579fd4566fc283469edf8\n",
      "Swap at block:60,079,658 tx:0xe873836a86cd46648602dba8aaaef4524b8126fc45130275ec3852de3bd6e2af\n",
      "Swap at block:60,079,658 tx:0x6e49203553da9aa078c429e1dccbf9fec7e363940d68ad5b3beadc3d4b7b2304\n",
      "Swap at block:60,079,658 tx:0x19ea005a666ccbae29455bc0ea3adca18e5b1f2025308b41fa6a03a85d2c84f3\n",
      "Swap at block:60,079,658 tx:0x19ea005a666ccbae29455bc0ea3adca18e5b1f2025308b41fa6a03a85d2c84f3\n",
      "Swap at block:60,079,658 tx:0x78d2276b0108a8449e8e1c104f6fde5be91f0c5d2453b1d50060f845e6f9f02f\n",
      "Swap at block:60,079,658 tx:0x78d2276b0108a8449e8e1c104f6fde5be91f0c5d2453b1d50060f845e6f9f02f\n",
      "Swap at block:60,079,658 tx:0x78d2276b0108a8449e8e1c104f6fde5be91f0c5d2453b1d50060f845e6f9f02f\n",
      "Swap at block:60,079,658 tx:0x24422f50ae9d08c875d1dee45a648f2ab043b1ca906d4bbd9bf9536ba8ded11d\n",
      "Swap at block:60,079,658 tx:0x1ad2ed6bf38149e5cdfa28f98534427a9de97dcb5367f4f71a77865d6e040f57\n",
      "Swap at block:60,079,658 tx:0x6c1989f511422b503fabd1c13ff036d9caf649890a3592b9fa7a12d0002599a8\n",
      "Swap at block:60,079,658 tx:0x6c1989f511422b503fabd1c13ff036d9caf649890a3592b9fa7a12d0002599a8\n",
      ".\n",
      "Block 60,079,658 is 0x7b823f73bc5a4996a07bd1619f9b1faea4d2f78b2d6cc5fe9fbad79b56141602\n"
     ]
    },
    {
     "name": "stderr",
     "output_type": "stream",
     "text": [
      "2024-08-01 13:36:41 eth_defi.event_reader.reorganisation_monitor figure_reorganisation_and_new_blocks(), range 60,079,655 - 60,079,660, last block we have is 60,079,658, check depth is 3\n"
     ]
    },
    {
     "name": "stdout",
     "output_type": "stream",
     "text": [
      "Swap at block:60,079,659 tx:0x2740d32cd9c333503ca88a1ed9944082eb5a09d0e0e757373a9aa83d22119db7\n",
      "Swap at block:60,079,659 tx:0x5be0d7c0a5d626ef3397eed513791b6f884df15ae60f5fe896a0d94d50ef5eb9\n",
      "Swap at block:60,079,659 tx:0x65b4686a4ef112e686fe47feb2b76826fd84d21572c56ab94c13f2f90bc3f889\n",
      "Swap at block:60,079,659 tx:0xa48a705125f53a9bf0c14a27592aae24b2965c18f305e3603a56e43cd950cb15\n",
      "Swap at block:60,079,659 tx:0x9c9cb7fac81b9f700fa0574cb7ee656b64f5932adf91c349c20f152eee02bf52\n",
      "Swap at block:60,079,659 tx:0x5771e04d47dbe48c6597835382fd5cd66bba87ff8ff6349ee27f666e3982cb8e\n",
      "Swap at block:60,079,659 tx:0xa6aa2c0436299d268bb19dc8a92a20e208efdbe21a04fd66c4c137282365fa28\n",
      "Swap at block:60,079,659 tx:0x0b88cc469bcc080fa08903c59535504af3dfc27c8adfffb2d8d563f6539b24af\n",
      "Swap at block:60,079,659 tx:0x80b233306f2244a0d3ca674a008a3e8ea0c45494455aeb0a4b4053423b269143\n",
      "Swap at block:60,079,659 tx:0xb9f910a777ff38bbcb6aab43f94c851ba2e2e2186e38f530e1bbee24c046dddb\n",
      "Swap at block:60,079,659 tx:0xbcd53365ac156235c0d9f5221c9bea0cbdea563334a9218c786c7511b7a920e7\n",
      "Swap at block:60,079,659 tx:0x798f3f2a8578761f1299748a555e7546bd8a7224a931b574f7ee4f1fa1516cfc\n",
      "Swap at block:60,079,659 tx:0x16d99433d40ae3c5616103bd1fc4f0bee1022acd0b53821df9179cf7942574ec\n",
      "Swap at block:60,079,659 tx:0x3d35ce46ca55a8517ab7a02406a3c33769a5b221d85ca7b64177bc9c3cb80672\n",
      "Swap at block:60,079,659 tx:0xd7a24b156bc5fcbc2f1d8d1c1521a3d30508f3a7ab873be484819efb2aeed342\n",
      "Swap at block:60,079,659 tx:0x3917bf47cd1bf1eaad9e524312cebfcb6f2a2523569e9a07e348b4b36f6381ca\n",
      "Swap at block:60,079,660 tx:0x6631f3d5c2412638146a166e4a883f32e4199f43fea39ee2ed09fe18fb4aa049\n",
      "Swap at block:60,079,660 tx:0x580855a16b8d2a33bcef6a20a56bdf3376fb9a1f4aa8e1a4ecbe9ea82d6917b7\n",
      "Swap at block:60,079,660 tx:0x79399f246bb2c4ff17d2fb9bf7c9338c75d56aa9afed0933459cb53a35b8d9c2\n",
      ".\n",
      "Block 60,079,659 is 0x4db22cc2c650c0a3b153eecb4140df1243136124d104253297dbfcd9cc2226f1\n",
      "Block 60,079,660 is 0xceb49cb7923c38bdd70a29d312ed0bf5ffa2c38f8b30445b983387c0b8d662f1\n"
     ]
    },
    {
     "name": "stderr",
     "output_type": "stream",
     "text": [
      "2024-08-01 13:36:44 eth_defi.event_reader.reorganisation_monitor figure_reorganisation_and_new_blocks(), range 60,079,657 - 60,079,662, last block we have is 60,079,660, check depth is 3\n"
     ]
    },
    {
     "name": "stdout",
     "output_type": "stream",
     "text": [
      ".\n"
     ]
    },
    {
     "name": "stderr",
     "output_type": "stream",
     "text": [
      "2024-08-01 13:36:46 eth_defi.event_reader.reorganisation_monitor figure_reorganisation_and_new_blocks(), range 60,079,657 - 60,079,663, last block we have is 60,079,660, check depth is 3\n"
     ]
    },
    {
     "ename": "TypeError",
     "evalue": "'NoneType' object is not subscriptable",
     "output_type": "error",
     "traceback": [
      "\u001b[0;31m---------------------------------------------------------------------------\u001b[0m",
      "\u001b[0;31mTypeError\u001b[0m                                 Traceback (most recent call last)",
      "Cell \u001b[0;32mIn[10], line 9\u001b[0m\n\u001b[1;32m      6\u001b[0m     \u001b[38;5;28mprint\u001b[39m(\u001b[38;5;124m\"\u001b[39m\u001b[38;5;124mChain reorg warning\u001b[39m\u001b[38;5;124m\"\u001b[39m)\n\u001b[1;32m      8\u001b[0m evt: LogResult\n\u001b[0;32m----> 9\u001b[0m \u001b[38;5;28;01mfor\u001b[39;00m evt \u001b[38;5;129;01min\u001b[39;00m read_events(\n\u001b[1;32m     10\u001b[0m         web3,\n\u001b[1;32m     11\u001b[0m         start_block\u001b[38;5;241m=\u001b[39mstart,\n\u001b[1;32m     12\u001b[0m         end_block\u001b[38;5;241m=\u001b[39mend,\n\u001b[1;32m     13\u001b[0m         \u001b[38;5;28mfilter\u001b[39m\u001b[38;5;241m=\u001b[39m\u001b[38;5;28mfilter\u001b[39m,\n\u001b[1;32m     14\u001b[0m ):\n\u001b[1;32m     15\u001b[0m     \u001b[38;5;66;03m# How to uniquely identify EVM logs\u001b[39;00m\n\u001b[1;32m     16\u001b[0m     key \u001b[38;5;241m=\u001b[39m evt[\u001b[38;5;124m\"\u001b[39m\u001b[38;5;124mblockHash\u001b[39m\u001b[38;5;124m\"\u001b[39m] \u001b[38;5;241m+\u001b[39m evt[\u001b[38;5;124m\"\u001b[39m\u001b[38;5;124mtransactionHash\u001b[39m\u001b[38;5;124m\"\u001b[39m] \u001b[38;5;241m+\u001b[39m evt[\u001b[38;5;124m\"\u001b[39m\u001b[38;5;124mlogIndex\u001b[39m\u001b[38;5;124m\"\u001b[39m]\n\u001b[1;32m     18\u001b[0m     \u001b[38;5;66;03m# The reader may cause duplicate events as the chain tip reorganises\u001b[39;00m\n",
      "File \u001b[0;32m/Library/Frameworks/Python.framework/Versions/3.10/lib/python3.10/site-packages/eth_defi/event_reader/reader.py:530\u001b[0m, in \u001b[0;36mread_events\u001b[0;34m(web3, start_block, end_block, events, notify, chunk_size, context, extract_timestamps, filter, reorg_mon)\u001b[0m\n\u001b[1;32m    527\u001b[0m batch_events \u001b[38;5;241m=\u001b[39m \u001b[38;5;241m0\u001b[39m\n\u001b[1;32m    529\u001b[0m \u001b[38;5;66;03m# Stream the events\u001b[39;00m\n\u001b[0;32m--> 530\u001b[0m \u001b[38;5;28;01mfor\u001b[39;00m event \u001b[38;5;129;01min\u001b[39;00m extract_events(\n\u001b[1;32m    531\u001b[0m     web3,\n\u001b[1;32m    532\u001b[0m     block_num,\n\u001b[1;32m    533\u001b[0m     last_of_chunk,\n\u001b[1;32m    534\u001b[0m     \u001b[38;5;28mfilter\u001b[39m,\n\u001b[1;32m    535\u001b[0m     context,\n\u001b[1;32m    536\u001b[0m     extract_timestamps,\n\u001b[1;32m    537\u001b[0m     reorg_mon,\n\u001b[1;32m    538\u001b[0m ):\n\u001b[1;32m    539\u001b[0m     last_timestamp \u001b[38;5;241m=\u001b[39m event\u001b[38;5;241m.\u001b[39mget(\u001b[38;5;124m\"\u001b[39m\u001b[38;5;124mtimestamp\u001b[39m\u001b[38;5;124m\"\u001b[39m)\n\u001b[1;32m    540\u001b[0m     total_events \u001b[38;5;241m+\u001b[39m\u001b[38;5;241m=\u001b[39m \u001b[38;5;241m1\u001b[39m\n",
      "File \u001b[0;32m/Library/Frameworks/Python.framework/Versions/3.10/lib/python3.10/site-packages/eth_defi/event_reader/reader.py:263\u001b[0m, in \u001b[0;36mextract_events\u001b[0;34m(web3, start_block, end_block, filter, context, extract_timestamps, reorg_mon)\u001b[0m\n\u001b[1;32m    261\u001b[0m \u001b[38;5;28;01mif\u001b[39;00m logs:\n\u001b[1;32m    262\u001b[0m     \u001b[38;5;28;01mif\u001b[39;00m extract_timestamps \u001b[38;5;129;01mis\u001b[39;00m \u001b[38;5;129;01mnot\u001b[39;00m \u001b[38;5;28;01mNone\u001b[39;00m:\n\u001b[0;32m--> 263\u001b[0m         timestamps \u001b[38;5;241m=\u001b[39m \u001b[43mextract_timestamps\u001b[49m\u001b[43m(\u001b[49m\u001b[43mweb3\u001b[49m\u001b[43m,\u001b[49m\u001b[43m \u001b[49m\u001b[43mstart_block\u001b[49m\u001b[43m,\u001b[49m\u001b[43m \u001b[49m\u001b[43mend_block\u001b[49m\u001b[43m)\u001b[49m\n\u001b[1;32m    264\u001b[0m         \u001b[38;5;28;01mif\u001b[39;00m timestamps \u001b[38;5;129;01mis\u001b[39;00m \u001b[38;5;28;01mNone\u001b[39;00m:\n\u001b[1;32m    265\u001b[0m             \u001b[38;5;28;01mraise\u001b[39;00m BadTimestampValueReturned(\u001b[38;5;124m\"\u001b[39m\u001b[38;5;124mextract_timestamps returned None\u001b[39m\u001b[38;5;124m\"\u001b[39m)\n",
      "File \u001b[0;32m/Library/Frameworks/Python.framework/Versions/3.10/lib/python3.10/site-packages/eth_defi/event_reader/reader.py:186\u001b[0m, in \u001b[0;36mextract_timestamps_json_rpc\u001b[0;34m(web3, start_block, end_block)\u001b[0m\n\u001b[1;32m    184\u001b[0m \u001b[38;5;28;01mfor\u001b[39;00m block_num \u001b[38;5;129;01min\u001b[39;00m \u001b[38;5;28mrange\u001b[39m(start_block, end_block \u001b[38;5;241m+\u001b[39m \u001b[38;5;241m1\u001b[39m):\n\u001b[1;32m    185\u001b[0m     raw_result \u001b[38;5;241m=\u001b[39m web3\u001b[38;5;241m.\u001b[39mmanager\u001b[38;5;241m.\u001b[39mrequest_blocking(\u001b[38;5;124m\"\u001b[39m\u001b[38;5;124meth_getBlockByNumber\u001b[39m\u001b[38;5;124m\"\u001b[39m, (\u001b[38;5;28mhex\u001b[39m(block_num), \u001b[38;5;28;01mFalse\u001b[39;00m))\n\u001b[0;32m--> 186\u001b[0m     data_block_number \u001b[38;5;241m=\u001b[39m convert_jsonrpc_value_to_int(\u001b[43mraw_result\u001b[49m\u001b[43m[\u001b[49m\u001b[38;5;124;43m\"\u001b[39;49m\u001b[38;5;124;43mnumber\u001b[39;49m\u001b[38;5;124;43m\"\u001b[39;49m\u001b[43m]\u001b[49m)\n\u001b[1;32m    187\u001b[0m     \u001b[38;5;28;01massert\u001b[39;00m data_block_number \u001b[38;5;241m==\u001b[39m block_num, \u001b[38;5;124m\"\u001b[39m\u001b[38;5;124mBlockchain node did not give us the block we want\u001b[39m\u001b[38;5;124m\"\u001b[39m\n\u001b[1;32m    188\u001b[0m     timestamps[raw_result[\u001b[38;5;124m\"\u001b[39m\u001b[38;5;124mhash\u001b[39m\u001b[38;5;124m\"\u001b[39m]] \u001b[38;5;241m=\u001b[39m convert_jsonrpc_value_to_int(raw_result[\u001b[38;5;124m\"\u001b[39m\u001b[38;5;124mtimestamp\u001b[39m\u001b[38;5;124m\"\u001b[39m])\n",
      "\u001b[0;31mTypeError\u001b[0m: 'NoneType' object is not subscriptable"
     ]
    }
   ],
   "source": [
    "while True:\n",
    "    chain_reorg_resolution = reorg_mon.update_chain()\n",
    "    start, end = chain_reorg_resolution.get_read_range()\n",
    "\n",
    "    if chain_reorg_resolution.reorg_detected:\n",
    "        print(\"Chain reorg warning\")\n",
    "\n",
    "    evt: LogResult\n",
    "    for evt in read_events(\n",
    "            web3,\n",
    "            start_block=start,\n",
    "            end_block=end,\n",
    "            filter=filter,\n",
    "    ):\n",
    "        # How to uniquely identify EVM logs\n",
    "        key = evt[\"blockHash\"] + evt[\"transactionHash\"] + evt[\"logIndex\"]\n",
    "\n",
    "        # The reader may cause duplicate events as the chain tip reorganises\n",
    "        if key not in processed_events:\n",
    "            print(f\"Swap at block:{evt['blockNumber']:,} tx:{evt['transactionHash']}\")\n",
    "            processed_events.add(key)\n",
    "    else:\n",
    "        print(\".\")\n",
    "\n",
    "    if end != latest_block:\n",
    "        for block_num in range(latest_block + 1, end + 1):\n",
    "            block_data = reorg_mon.get_block_by_number(block_num)\n",
    "            print(f\"Block {block_num:,} is {block_data.block_hash}\")\n",
    "\n",
    "        latest_block = end\n",
    "\n",
    "    time.sleep(0.5)"
   ]
  }
 ],
 "metadata": {
  "kernelspec": {
   "display_name": "Python 3 (ipykernel)",
   "language": "python",
   "name": "python3"
  },
  "language_info": {
   "codemirror_mode": {
    "name": "ipython",
    "version": 3
   },
   "file_extension": ".py",
   "mimetype": "text/x-python",
   "name": "python",
   "nbconvert_exporter": "python",
   "pygments_lexer": "ipython3",
   "version": "3.10.0rc2"
  }
 },
 "nbformat": 4,
 "nbformat_minor": 5
}
