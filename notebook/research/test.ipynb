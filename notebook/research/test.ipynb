{
 "cells": [
  {
   "cell_type": "code",
   "execution_count": 10,
   "id": "8121cbb7-e62d-4f94-8605-18452fd738be",
   "metadata": {},
   "outputs": [],
   "source": [
    "\"\"\"Minimal example of a chain reader with chain reorganisation detection.\n",
    "\n",
    ".. code-block:: shell\n",
    "\n",
    "    python scripts/read-uniswap-v2-pairs-and-swaps-live.py\n",
    "\n",
    "\"\"\"\n",
    "\n",
    "import os\n",
    "import time\n",
    "\n",
    "from web3 import HTTPProvider, Web3\n",
    "\n",
    "from eth_defi.abi import get_contract\n",
    "from eth_defi.chain import install_chain_middleware\n",
    "from eth_defi.event_reader.filter import Filter\n",
    "from eth_defi.event_reader.reader import read_events, LogResult\n",
    "from eth_defi.event_reader.reorganisation_monitor import JSONRPCReorganisationMonitor"
   ]
  },
  {
   "cell_type": "code",
   "execution_count": 11,
   "id": "2c772b89-689c-4f3a-af5d-2d765615c79d",
   "metadata": {},
   "outputs": [],
   "source": [
    "json_rpc_url = os.environ.get(\"JSON_RPC_POLYGON\", \"https://polygon-rpc.com\")\n",
    "web3 = Web3(HTTPProvider(json_rpc_url))\n",
    "web3.middleware_onion.clear()\n",
    "install_chain_middleware(web3)\n",
    "\n",
    "# Get contracts\n",
    "Pair = get_contract(web3, \"sushi/UniswapV2Pair.json\")\n",
    "\n",
    "filter = Filter.create_filter(address=None, event_types=[Pair.events.Swap])  # Listen events from any smart contract\n",
    "\n",
    "reorg_mon = JSONRPCReorganisationMonitor(web3, check_depth=3)\n",
    "\n",
    "# Get the headers of last 5 blocks before starting\n",
    "reorg_mon.load_initial_block_headers(block_count=5)\n",
    "\n",
    "processed_events = set()\n",
    "\n",
    "latest_block = reorg_mon.get_last_block_live()"
   ]
  },
  {
   "cell_type": "code",
   "execution_count": 3,
   "id": "2c733b44-5f27-4018-b61d-1c98ba282903",
   "metadata": {},
   "outputs": [],
   "source": [
    "chain_reorg_resolution = reorg_mon.update_chain()\n",
    "start, end = chain_reorg_resolution.get_read_range()"
   ]
  },
  {
   "cell_type": "code",
   "execution_count": 5,
   "id": "956fa1b9-78ba-4292-b187-8d24e42a9199",
   "metadata": {},
   "outputs": [],
   "source": [
    "start = start - 10"
   ]
  },
  {
   "cell_type": "code",
   "execution_count": 6,
   "id": "8ac07b06-b77a-45d6-8483-71ba4ed7625b",
   "metadata": {},
   "outputs": [
    {
     "name": "stdout",
     "output_type": "stream",
     "text": [
      "Swap at block:60,120,663 tx:0x43c3908fff8dccce8e3c2b0e773fcd932bccc0fe694a0c4d1947f7a9ce3961b0\n",
      "Swap at block:60,120,664 tx:0x0c7b3795bc2297367e082a2c4e5d69c2e12ef6af54892747a73c005c861e5e65\n",
      "Swap at block:60,120,667 tx:0xe5ca8851389377cfe7272e56185c967afd5856bf10ffd4159ede34d88bb02c35\n",
      "Swap at block:60,120,668 tx:0xbacac2fbd34e955a76bcdfb88a89cc28c723d65eafbf54c59c47ca4b5ee64643\n",
      "Swap at block:60,120,669 tx:0x5a50da5dbacacbdd8e3f20d1a3195f477d0c311fd49a6c584988215ac296e9bf\n",
      "Swap at block:60,120,669 tx:0x32543763a4005e8c332dbd691029cb9b704f15a05cc105c65d348176c238a376\n",
      "Swap at block:60,120,669 tx:0x967a3f4cee9c2cdadb7b61bdf762768837b2f06aa4d8e5a62642864709309f6a\n",
      "Swap at block:60,120,669 tx:0x967a3f4cee9c2cdadb7b61bdf762768837b2f06aa4d8e5a62642864709309f6a\n",
      "Swap at block:60,120,670 tx:0xd1a0aa4bfa3f60350bd81c9b1f927a433e930932bfb155964efbb1f58bba05d0\n",
      "Swap at block:60,120,670 tx:0x743ff69b6e67ff75697a45da7374895aa6b1b48e7bd76434a6f16c1e0dfd5086\n",
      "Swap at block:60,120,670 tx:0x743ff69b6e67ff75697a45da7374895aa6b1b48e7bd76434a6f16c1e0dfd5086\n",
      "Swap at block:60,120,670 tx:0x743ff69b6e67ff75697a45da7374895aa6b1b48e7bd76434a6f16c1e0dfd5086\n",
      "Swap at block:60,120,670 tx:0x743ff69b6e67ff75697a45da7374895aa6b1b48e7bd76434a6f16c1e0dfd5086\n",
      "Swap at block:60,120,671 tx:0xed075ca2561d3a93c6487ded5e08458560818cf475a18f0753af9806a4f956c0\n",
      "Swap at block:60,120,671 tx:0xaff07733ef087b0df76a0eaabe3586659bab249eb59f4ea3b028d7d12eb2cb74\n",
      ".\n"
     ]
    }
   ],
   "source": [
    "if chain_reorg_resolution.reorg_detected:\n",
    "    print(\"Chain reorg warning\")\n",
    "\n",
    "evt: LogResult\n",
    "for evt in read_events(\n",
    "            web3,\n",
    "            start_block=start,\n",
    "            end_block=end,\n",
    "            filter=filter,\n",
    "):\n",
    "    # How to uniquely identify EVM logs\n",
    "    key = evt[\"blockHash\"] + evt[\"transactionHash\"] + evt[\"logIndex\"]\n",
    "\n",
    "    # The reader may cause duplicate events as the chain tip reorganises\n",
    "    if key not in processed_events:\n",
    "        print(f\"Swap at block:{evt['blockNumber']:,} tx:{evt['transactionHash']}\")\n",
    "        processed_events.add(key)\n",
    "else:\n",
    "    print(\".\")"
   ]
  },
  {
   "cell_type": "code",
   "execution_count": 7,
   "id": "c5e479e0-6192-4aaf-bc02-4a50979d3e7c",
   "metadata": {},
   "outputs": [
    {
     "data": {
      "text/plain": [
       "{'address': '0x2470e01e59a044184c8e4957827f79b1a051bfa4',\n",
       " 'topics': ['0xd78ad95fa46c994b6551d0da85fc275fe613ce37657fb8d5e3d130840159d822',\n",
       "  '0x0000000000000000000000008308a7d7655c2ae21632ed3dd6f55f509e7dfdb9',\n",
       "  '0x000000000000000000000000a0006e2f7973678e60a2e445ab8353abad6854d5'],\n",
       " 'data': '0x0000000000000000000000000000000000000000000000039d1142b784754b470000000000000000000000000000000000000000000000000000000000000000000000000000000000000000000000000000000000000000000000000000000000000000000000000000000000000000000000000000005e0cd9ec92bc6c6440',\n",
       " 'blockNumber': 60120671,\n",
       " 'transactionHash': '0xaff07733ef087b0df76a0eaabe3586659bab249eb59f4ea3b028d7d12eb2cb74',\n",
       " 'transactionIndex': '0x1f',\n",
       " 'blockHash': '0x5295458f412b034845d025214b61a7703f93cf48c47983bb88a24aa839f8cb2d',\n",
       " 'logIndex': '0x90',\n",
       " 'removed': False,\n",
       " 'context': None,\n",
       " 'event': web3._utils.datatypes.Swap,\n",
       " 'chunk_id': 60120662,\n",
       " 'timestamp': 1722634926}"
      ]
     },
     "execution_count": 7,
     "metadata": {},
     "output_type": "execute_result"
    }
   ],
   "source": [
    "evt"
   ]
  },
  {
   "cell_type": "code",
   "execution_count": null,
   "id": "c5ceab01-7f3d-44ca-b005-80afc60e6603",
   "metadata": {},
   "outputs": [],
   "source": [
    "# Keep reading events as they land\n",
    "while True:\n",
    "    chain_reorg_resolution = reorg_mon.update_chain()\n",
    "    start, end = chain_reorg_resolution.get_read_range()\n",
    "\n",
    "    if chain_reorg_resolution.reorg_detected:\n",
    "        print(\"Chain reorg warning\")\n",
    "\n",
    "    evt: LogResult\n",
    "    for evt in read_events(\n",
    "            web3,\n",
    "            start_block=start,\n",
    "            end_block=end,\n",
    "            filter=filter,\n",
    "    ):\n",
    "        # How to uniquely identify EVM logs\n",
    "        key = evt[\"blockHash\"] + evt[\"transactionHash\"] + evt[\"logIndex\"]\n",
    "\n",
    "        # The reader may cause duplicate events as the chain tip reorganises\n",
    "        if key not in processed_events:\n",
    "            print(f\"Swap at block:{evt['blockNumber']:,} tx:{evt['transactionHash']}\")\n",
    "            processed_events.add(key)\n",
    "    else:\n",
    "        print(\".\")\n",
    "\n",
    "\n",
    "\n",
    "    time.sleep(0.5)"
   ]
  },
  {
   "cell_type": "code",
   "execution_count": null,
   "id": "f3315cbc-a783-4ddf-b5a3-3b72ca9f859c",
   "metadata": {},
   "outputs": [],
   "source": [
    "logging.basicConfig(level=os.environ.get(\"LOG_LEVEL\", \"info\").upper(), handlers=[logging.StreamHandler()])\n",
    "\n",
    "# Mute noise\n",
    "logging.getLogger(\"web3.providers.HTTPProvider\").setLevel(logging.WARNING)\n",
    "logging.getLogger(\"web3.RequestManager\").setLevel(logging.WARNING)\n",
    "logging.getLogger(\"urllib3.connectionpool\").setLevel(logging.WARNING)\n",
    "\n",
    "# HTTP 1.1 keep-alive\n",
    "session = requests.Session()\n",
    "\n",
    "json_rpc_url='https://mainnet.infura.io/v3/29547b52f77647b68da777e3ecc06811'\n",
    "web3 = Web3(HTTPProvider(json_rpc_url, session=session))\n",
    "\n",
    "# Enable faster ujson reads\n",
    "patch_web3(web3)\n",
    "\n",
    "web3.middleware_onion.clear()\n",
    "\n",
    "install_chain_middleware(web3)\n",
    "\n",
    "# Get contracts\n",
    "Factory = get_contract(web3, \"UniswapV2Factory.json\")\n",
    "Pair = get_contract(web3, \"UniswapV2Pair.json\")"
   ]
  },
  {
   "cell_type": "code",
   "execution_count": null,
   "id": "d9dec69a-04c0-477f-b414-8623f00e6a1a",
   "metadata": {},
   "outputs": [],
   "source": [
    "evt = read_events(\n",
    "        web3,\n",
    "        start_block=start,\n",
    "        end_block=end,\n",
    "        filter=filter, \n",
    ")"
   ]
  },
  {
   "cell_type": "code",
   "execution_count": null,
   "id": "7202f298-3bf9-45d8-b41b-a2fba5dc4d19",
   "metadata": {},
   "outputs": [],
   "source": [
    "decoded = decode_log(evt)"
   ]
  },
  {
   "cell_type": "code",
   "execution_count": null,
   "id": "899d9438-d122-4bc6-bf08-ca15d7d0ef8a",
   "metadata": {},
   "outputs": [],
   "source": [
    "decoded = decode_log(evt)\n",
    "pair = fetch_pair_details_cached(web3, decoded[\"address\"])\n",
    "token0 = pair.token0\n",
    "token1 = pair.token1\n",
    "block_number = evt[\"blockNumber\"]\n",
    "print(block_number)"
   ]
  },
  {
   "cell_type": "code",
   "execution_count": null,
   "id": "e333f7e8-64dd-4ed4-a25e-d5ebdd41af55",
   "metadata": {},
   "outputs": [],
   "source": [
    "evt: LogResult\n",
    "for evt in read_events(\n",
    "        web3,\n",
    "        start_block=start,\n",
    "        end_block=end,\n",
    "        filter=filter, \n",
    "):\n",
    "    decoded = decode_log(evt)\n",
    "    pair = fetch_pair_details_cached(web3, decoded[\"address\"])\n",
    "    token0 = pair.token0\n",
    "    token1 = pair.token1\n",
    "    block_number = evt[\"blockNumber\"]\n",
    "    print(block_number)"
   ]
  },
  {
   "cell_type": "code",
   "execution_count": null,
   "id": "e456c28f-8854-4fee-9334-6d09582a2549",
   "metadata": {},
   "outputs": [],
   "source": [
    "# Keep reading events as they land\n",
    "while True:\n",
    "\n",
    "    start = latest_block\n",
    "    end = web3.eth.block_number\n",
    "\n",
    "    evt: LogResult\n",
    "    for evt in read_events(\n",
    "        web3,\n",
    "        start_block=start,\n",
    "        end_block=end,\n",
    "        filter=filter,\n",
    "    ):\n",
    "\n",
    "        decoded = decode_log(evt)\n",
    "\n",
    "        # Swap() events are generated by UniswapV2Pool contracts\n",
    "        pair = fetch_pair_details_cached(web3, decoded[\"address\"])\n",
    "        token0 = pair.token0\n",
    "        token1 = pair.token1\n",
    "        block_number = evt[\"blockNumber\"]\n",
    "\n",
    "        # Determine the human-readable order of token tickers\n",
    "        if token0.symbol in QUOTE_TOKENS:\n",
    "            base = token1  # token\n",
    "            quote = token0  # stablecoin/BNB\n",
    "            base_amount = decoded[\"args\"][\"amount1Out\"] - decoded[\"args\"][\"amount1In\"]\n",
    "            quote_amount = decoded[\"args\"][\"amount0Out\"] - decoded[\"args\"][\"amount0In\"]\n",
    "        else:\n",
    "            base = token0  # stablecoin/BNB\n",
    "            quote = token1  # token\n",
    "            base_amount = decoded[\"args\"][\"amount0Out\"] - decoded[\"args\"][\"amount0Out\"]\n",
    "            quote_amount = decoded[\"args\"][\"amount1Out\"] - decoded[\"args\"][\"amount1Out\"]\n",
    "\n",
    "            # Calculate the price in Python Decimal class\n",
    "            if base_amount and quote_amount:\n",
    "                human_base_amount = base.convert_to_decimals(base_amount)\n",
    "                human_quote_amount = quote.convert_to_decimals(quote_amount)\n",
    "                price = human_quote_amount / human_base_amount\n",
    "\n",
    "                if human_quote_amount > 0:\n",
    "                    # We define selling when the stablecoin amount increases\n",
    "                    # in the swap\n",
    "                    direction = \"sell\"\n",
    "                else:\n",
    "                    direction = \"buy\"\n",
    "\n",
    "                price = abs(price)\n",
    "\n",
    "                print(f\"Swap block:{block_number:,} tx:{evt['transactionHash']} {direction} price:{price:,.8f} {base.symbol}/{quote.symbol}\")\n",
    "            else:\n",
    "                # Swap() event from DEX that is not Uniswap v2 compatible\n",
    "                # print(f\"Swap block:{block_number:,} tx:{evt['transactionHash']} could not decode\")\n",
    "                pass\n",
    "\n",
    "    else:\n",
    "        # No event detected between these blocks\n",
    "        print(\".\")\n",
    "\n",
    "    latest_block = end\n",
    "    time.sleep(1)"
   ]
  },
  {
   "cell_type": "code",
   "execution_count": null,
   "id": "5c6fafc1-800a-4d9d-99c7-417b02187f1e",
   "metadata": {},
   "outputs": [],
   "source": []
  }
 ],
 "metadata": {
  "kernelspec": {
   "display_name": "Python 3 (ipykernel)",
   "language": "python",
   "name": "python3"
  },
  "language_info": {
   "codemirror_mode": {
    "name": "ipython",
    "version": 3
   },
   "file_extension": ".py",
   "mimetype": "text/x-python",
   "name": "python",
   "nbconvert_exporter": "python",
   "pygments_lexer": "ipython3",
   "version": "3.10.0rc2"
  }
 },
 "nbformat": 4,
 "nbformat_minor": 5
}
